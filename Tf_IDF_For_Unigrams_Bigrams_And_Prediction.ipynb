{
  "cells": [
    {
      "cell_type": "markdown",
      "id": "ded34a41",
      "metadata": {
        "id": "ded34a41"
      },
      "source": [
        "### Question 1"
      ]
    },
    {
      "cell_type": "code",
      "execution_count": null,
      "id": "b0bcd17e",
      "metadata": {
        "id": "b0bcd17e"
      },
      "outputs": [],
      "source": [
        "import nltk\n",
        "from nltk.corpus import movie_reviews\n",
        "from nltk.corpus import stopwords\n",
        "from nltk.tokenize import word_tokenize\n",
        "from sklearn.feature_extraction.text import CountVectorizer\n",
        "import string\n",
        "import pandas as pd"
      ]
    },
    {
      "cell_type": "code",
      "execution_count": null,
      "id": "8980ddbc",
      "metadata": {
        "colab": {
          "base_uri": "https://localhost:8080/"
        },
        "id": "8980ddbc",
        "outputId": "742f47cf-217b-48c7-a503-c3a5413922ae"
      },
      "outputs": [
        {
          "output_type": "stream",
          "name": "stderr",
          "text": [
            "[nltk_data] Downloading package movie_reviews to /root/nltk_data...\n",
            "[nltk_data]   Unzipping corpora/movie_reviews.zip.\n",
            "[nltk_data] Downloading package stopwords to /root/nltk_data...\n",
            "[nltk_data]   Unzipping corpora/stopwords.zip.\n",
            "[nltk_data] Downloading package punkt to /root/nltk_data...\n",
            "[nltk_data]   Unzipping tokenizers/punkt.zip.\n"
          ]
        },
        {
          "output_type": "execute_result",
          "data": {
            "text/plain": [
              "True"
            ]
          },
          "metadata": {},
          "execution_count": 2
        }
      ],
      "source": [
        "# Downloading the movie reviews dataset\n",
        "nltk.download('movie_reviews')\n",
        "nltk.download('stopwords')\n",
        "nltk.download('punkt')\n"
      ]
    },
    {
      "cell_type": "code",
      "execution_count": null,
      "id": "5987eede",
      "metadata": {
        "id": "5987eede"
      },
      "outputs": [],
      "source": [
        "# Loading the movie reviews\n",
        "documents = [(movie_reviews.raw(fileid), category)\n",
        "             for category in movie_reviews.categories()\n",
        "             for fileid in movie_reviews.fileids(category)]"
      ]
    },
    {
      "cell_type": "code",
      "execution_count": null,
      "id": "cb4fb516",
      "metadata": {
        "id": "cb4fb516"
      },
      "outputs": [],
      "source": [
        "# Extracting the reviews and labels\n",
        "reviews = [review for review, label in documents]\n",
        "labels = [1 if label == 'pos' else 0 for review, label in documents]"
      ]
    },
    {
      "cell_type": "code",
      "execution_count": null,
      "id": "a171be03",
      "metadata": {
        "id": "a171be03"
      },
      "outputs": [],
      "source": [
        "# Data preprocessing: convert to lowercase, remove punctuation and stop words\n",
        "stop_words = set(stopwords.words('english'))\n",
        "preprocessed_reviews = []"
      ]
    },
    {
      "cell_type": "code",
      "execution_count": null,
      "id": "29ad03df",
      "metadata": {
        "id": "29ad03df"
      },
      "outputs": [],
      "source": [
        "for review in reviews:\n",
        "    # Convert to lowercase\n",
        "    review = review.lower()\n",
        "\n",
        "    # Remove punctuation\n",
        "    review = ''.join([char for char in review if char not in string.punctuation])\n",
        "\n",
        "    # Tokenize and remove stop words\n",
        "    tokens = word_tokenize(review)\n",
        "    review = ' '.join([word for word in tokens if word not in stop_words])\n",
        "\n",
        "    preprocessed_reviews.append(review)\n"
      ]
    },
    {
      "cell_type": "code",
      "execution_count": null,
      "id": "8bce6d97",
      "metadata": {
        "id": "8bce6d97"
      },
      "outputs": [],
      "source": [
        "# Creating a bag of words representation using unigrams\n",
        "vectorizer_unigrams = CountVectorizer()\n",
        "X_unigrams = vectorizer_unigrams.fit_transform(preprocessed_reviews)\n"
      ]
    },
    {
      "cell_type": "code",
      "execution_count": null,
      "id": "c192cd86",
      "metadata": {
        "id": "c192cd86"
      },
      "outputs": [],
      "source": [
        "# Creating a bag of words representation using bigrams\n",
        "vectorizer_bigrams = CountVectorizer(ngram_range=(2, 2))\n",
        "X_bigrams = vectorizer_bigrams.fit_transform(preprocessed_reviews)"
      ]
    },
    {
      "cell_type": "code",
      "execution_count": null,
      "id": "bff39f0c",
      "metadata": {
        "id": "bff39f0c"
      },
      "outputs": [],
      "source": [
        "# Getting the vocabulary for unigrams and bigrams\n",
        "vocab_unigrams = vectorizer_unigrams.vocabulary_\n",
        "vocab_bigrams = vectorizer_bigrams.vocabulary_"
      ]
    },
    {
      "cell_type": "code",
      "execution_count": null,
      "id": "d623aac2",
      "metadata": {
        "id": "d623aac2"
      },
      "outputs": [],
      "source": [
        "# Getting feature names by iterating over the vocabulary\n",
        "feature_names_unigrams = [word for word, idx in sorted(vocab_unigrams.items(), key=lambda x: x[1])]\n",
        "feature_names_bigrams = [word for word, idx in sorted(vocab_bigrams.items(), key=lambda x: x[1])]\n"
      ]
    },
    {
      "cell_type": "code",
      "execution_count": null,
      "id": "a2089a7a",
      "metadata": {
        "id": "a2089a7a"
      },
      "outputs": [],
      "source": [
        "unigrams_df = pd.DataFrame(X_unigrams.toarray(), columns=vectorizer_unigrams.get_feature_names_out())\n",
        "\n",
        "bigrams_df = pd.DataFrame(X_bigrams.toarray(), columns=vectorizer_bigrams.get_feature_names_out())\n"
      ]
    },
    {
      "cell_type": "code",
      "execution_count": null,
      "id": "515b9ef3",
      "metadata": {
        "colab": {
          "base_uri": "https://localhost:8080/"
        },
        "id": "515b9ef3",
        "outputId": "847621f4-be4b-422e-9d70-31ba0a3e7a01"
      },
      "outputs": [
        {
          "output_type": "stream",
          "name": "stdout",
          "text": [
            "Unigrams DataFrame:\n",
            "\n",
            "Bigrams DataFrame:\n"
          ]
        },
        {
          "output_type": "execute_result",
          "data": {
            "text/plain": [
              "(2000, 534933)"
            ]
          },
          "metadata": {},
          "execution_count": 12
        }
      ],
      "source": [
        "print(\"Unigrams DataFrame:\")\n",
        "unigrams_df.shape\n",
        "\n",
        "print(\"\\nBigrams DataFrame:\")\n",
        "bigrams_df.shape"
      ]
    },
    {
      "cell_type": "code",
      "execution_count": null,
      "id": "9b817474",
      "metadata": {
        "colab": {
          "base_uri": "https://localhost:8080/",
          "height": 236
        },
        "id": "9b817474",
        "outputId": "62354167-f88e-429e-e672-350d88eeee4e"
      },
      "outputs": [
        {
          "output_type": "execute_result",
          "data": {
            "text/plain": [
              "   00  000  0009f  000acre  000aweek  000foot  000paltry  007  007esque  00s  \\\n",
              "0   0    0      0        0         0        0          0    0         0    0   \n",
              "1   0    0      0        0         0        0          0    0         0    0   \n",
              "2   0    0      0        0         0        0          0    0         0    0   \n",
              "3   0    0      0        0         0        0          0    0         0    0   \n",
              "4   0    0      0        0         0        0          0    0         0    0   \n",
              "\n",
              "   ...  zuko  zukovsky  zulu  zundel  zurgs  zweibel  zwick  zwicks  zwigoffs  \\\n",
              "0  ...     0         0     0       0      0        0      0       0         0   \n",
              "1  ...     0         0     0       0      0        0      0       0         0   \n",
              "2  ...     0         0     0       0      0        0      0       0         0   \n",
              "3  ...     0         0     0       0      0        0      0       0         0   \n",
              "4  ...     0         0     0       0      0        0      0       0         0   \n",
              "\n",
              "   zycie  \n",
              "0      0  \n",
              "1      0  \n",
              "2      0  \n",
              "3      0  \n",
              "4      0  \n",
              "\n",
              "[5 rows x 47366 columns]"
            ],
            "text/html": [
              "\n",
              "  <div id=\"df-afdcda0f-63a4-4336-ae1f-c5e8362dc640\" class=\"colab-df-container\">\n",
              "    <div>\n",
              "<style scoped>\n",
              "    .dataframe tbody tr th:only-of-type {\n",
              "        vertical-align: middle;\n",
              "    }\n",
              "\n",
              "    .dataframe tbody tr th {\n",
              "        vertical-align: top;\n",
              "    }\n",
              "\n",
              "    .dataframe thead th {\n",
              "        text-align: right;\n",
              "    }\n",
              "</style>\n",
              "<table border=\"1\" class=\"dataframe\">\n",
              "  <thead>\n",
              "    <tr style=\"text-align: right;\">\n",
              "      <th></th>\n",
              "      <th>00</th>\n",
              "      <th>000</th>\n",
              "      <th>0009f</th>\n",
              "      <th>000acre</th>\n",
              "      <th>000aweek</th>\n",
              "      <th>000foot</th>\n",
              "      <th>000paltry</th>\n",
              "      <th>007</th>\n",
              "      <th>007esque</th>\n",
              "      <th>00s</th>\n",
              "      <th>...</th>\n",
              "      <th>zuko</th>\n",
              "      <th>zukovsky</th>\n",
              "      <th>zulu</th>\n",
              "      <th>zundel</th>\n",
              "      <th>zurgs</th>\n",
              "      <th>zweibel</th>\n",
              "      <th>zwick</th>\n",
              "      <th>zwicks</th>\n",
              "      <th>zwigoffs</th>\n",
              "      <th>zycie</th>\n",
              "    </tr>\n",
              "  </thead>\n",
              "  <tbody>\n",
              "    <tr>\n",
              "      <th>0</th>\n",
              "      <td>0</td>\n",
              "      <td>0</td>\n",
              "      <td>0</td>\n",
              "      <td>0</td>\n",
              "      <td>0</td>\n",
              "      <td>0</td>\n",
              "      <td>0</td>\n",
              "      <td>0</td>\n",
              "      <td>0</td>\n",
              "      <td>0</td>\n",
              "      <td>...</td>\n",
              "      <td>0</td>\n",
              "      <td>0</td>\n",
              "      <td>0</td>\n",
              "      <td>0</td>\n",
              "      <td>0</td>\n",
              "      <td>0</td>\n",
              "      <td>0</td>\n",
              "      <td>0</td>\n",
              "      <td>0</td>\n",
              "      <td>0</td>\n",
              "    </tr>\n",
              "    <tr>\n",
              "      <th>1</th>\n",
              "      <td>0</td>\n",
              "      <td>0</td>\n",
              "      <td>0</td>\n",
              "      <td>0</td>\n",
              "      <td>0</td>\n",
              "      <td>0</td>\n",
              "      <td>0</td>\n",
              "      <td>0</td>\n",
              "      <td>0</td>\n",
              "      <td>0</td>\n",
              "      <td>...</td>\n",
              "      <td>0</td>\n",
              "      <td>0</td>\n",
              "      <td>0</td>\n",
              "      <td>0</td>\n",
              "      <td>0</td>\n",
              "      <td>0</td>\n",
              "      <td>0</td>\n",
              "      <td>0</td>\n",
              "      <td>0</td>\n",
              "      <td>0</td>\n",
              "    </tr>\n",
              "    <tr>\n",
              "      <th>2</th>\n",
              "      <td>0</td>\n",
              "      <td>0</td>\n",
              "      <td>0</td>\n",
              "      <td>0</td>\n",
              "      <td>0</td>\n",
              "      <td>0</td>\n",
              "      <td>0</td>\n",
              "      <td>0</td>\n",
              "      <td>0</td>\n",
              "      <td>0</td>\n",
              "      <td>...</td>\n",
              "      <td>0</td>\n",
              "      <td>0</td>\n",
              "      <td>0</td>\n",
              "      <td>0</td>\n",
              "      <td>0</td>\n",
              "      <td>0</td>\n",
              "      <td>0</td>\n",
              "      <td>0</td>\n",
              "      <td>0</td>\n",
              "      <td>0</td>\n",
              "    </tr>\n",
              "    <tr>\n",
              "      <th>3</th>\n",
              "      <td>0</td>\n",
              "      <td>0</td>\n",
              "      <td>0</td>\n",
              "      <td>0</td>\n",
              "      <td>0</td>\n",
              "      <td>0</td>\n",
              "      <td>0</td>\n",
              "      <td>0</td>\n",
              "      <td>0</td>\n",
              "      <td>0</td>\n",
              "      <td>...</td>\n",
              "      <td>0</td>\n",
              "      <td>0</td>\n",
              "      <td>0</td>\n",
              "      <td>0</td>\n",
              "      <td>0</td>\n",
              "      <td>0</td>\n",
              "      <td>0</td>\n",
              "      <td>0</td>\n",
              "      <td>0</td>\n",
              "      <td>0</td>\n",
              "    </tr>\n",
              "    <tr>\n",
              "      <th>4</th>\n",
              "      <td>0</td>\n",
              "      <td>0</td>\n",
              "      <td>0</td>\n",
              "      <td>0</td>\n",
              "      <td>0</td>\n",
              "      <td>0</td>\n",
              "      <td>0</td>\n",
              "      <td>0</td>\n",
              "      <td>0</td>\n",
              "      <td>0</td>\n",
              "      <td>...</td>\n",
              "      <td>0</td>\n",
              "      <td>0</td>\n",
              "      <td>0</td>\n",
              "      <td>0</td>\n",
              "      <td>0</td>\n",
              "      <td>0</td>\n",
              "      <td>0</td>\n",
              "      <td>0</td>\n",
              "      <td>0</td>\n",
              "      <td>0</td>\n",
              "    </tr>\n",
              "  </tbody>\n",
              "</table>\n",
              "<p>5 rows × 47366 columns</p>\n",
              "</div>\n",
              "    <div class=\"colab-df-buttons\">\n",
              "\n",
              "  <div class=\"colab-df-container\">\n",
              "    <button class=\"colab-df-convert\" onclick=\"convertToInteractive('df-afdcda0f-63a4-4336-ae1f-c5e8362dc640')\"\n",
              "            title=\"Convert this dataframe to an interactive table.\"\n",
              "            style=\"display:none;\">\n",
              "\n",
              "  <svg xmlns=\"http://www.w3.org/2000/svg\" height=\"24px\" viewBox=\"0 -960 960 960\">\n",
              "    <path d=\"M120-120v-720h720v720H120Zm60-500h600v-160H180v160Zm220 220h160v-160H400v160Zm0 220h160v-160H400v160ZM180-400h160v-160H180v160Zm440 0h160v-160H620v160ZM180-180h160v-160H180v160Zm440 0h160v-160H620v160Z\"/>\n",
              "  </svg>\n",
              "    </button>\n",
              "\n",
              "  <style>\n",
              "    .colab-df-container {\n",
              "      display:flex;\n",
              "      gap: 12px;\n",
              "    }\n",
              "\n",
              "    .colab-df-convert {\n",
              "      background-color: #E8F0FE;\n",
              "      border: none;\n",
              "      border-radius: 50%;\n",
              "      cursor: pointer;\n",
              "      display: none;\n",
              "      fill: #1967D2;\n",
              "      height: 32px;\n",
              "      padding: 0 0 0 0;\n",
              "      width: 32px;\n",
              "    }\n",
              "\n",
              "    .colab-df-convert:hover {\n",
              "      background-color: #E2EBFA;\n",
              "      box-shadow: 0px 1px 2px rgba(60, 64, 67, 0.3), 0px 1px 3px 1px rgba(60, 64, 67, 0.15);\n",
              "      fill: #174EA6;\n",
              "    }\n",
              "\n",
              "    .colab-df-buttons div {\n",
              "      margin-bottom: 4px;\n",
              "    }\n",
              "\n",
              "    [theme=dark] .colab-df-convert {\n",
              "      background-color: #3B4455;\n",
              "      fill: #D2E3FC;\n",
              "    }\n",
              "\n",
              "    [theme=dark] .colab-df-convert:hover {\n",
              "      background-color: #434B5C;\n",
              "      box-shadow: 0px 1px 3px 1px rgba(0, 0, 0, 0.15);\n",
              "      filter: drop-shadow(0px 1px 2px rgba(0, 0, 0, 0.3));\n",
              "      fill: #FFFFFF;\n",
              "    }\n",
              "  </style>\n",
              "\n",
              "    <script>\n",
              "      const buttonEl =\n",
              "        document.querySelector('#df-afdcda0f-63a4-4336-ae1f-c5e8362dc640 button.colab-df-convert');\n",
              "      buttonEl.style.display =\n",
              "        google.colab.kernel.accessAllowed ? 'block' : 'none';\n",
              "\n",
              "      async function convertToInteractive(key) {\n",
              "        const element = document.querySelector('#df-afdcda0f-63a4-4336-ae1f-c5e8362dc640');\n",
              "        const dataTable =\n",
              "          await google.colab.kernel.invokeFunction('convertToInteractive',\n",
              "                                                    [key], {});\n",
              "        if (!dataTable) return;\n",
              "\n",
              "        const docLinkHtml = 'Like what you see? Visit the ' +\n",
              "          '<a target=\"_blank\" href=https://colab.research.google.com/notebooks/data_table.ipynb>data table notebook</a>'\n",
              "          + ' to learn more about interactive tables.';\n",
              "        element.innerHTML = '';\n",
              "        dataTable['output_type'] = 'display_data';\n",
              "        await google.colab.output.renderOutput(dataTable, element);\n",
              "        const docLink = document.createElement('div');\n",
              "        docLink.innerHTML = docLinkHtml;\n",
              "        element.appendChild(docLink);\n",
              "      }\n",
              "    </script>\n",
              "  </div>\n",
              "\n",
              "\n",
              "<div id=\"df-cf095293-e54d-4269-ad32-159c397c3b6d\">\n",
              "  <button class=\"colab-df-quickchart\" onclick=\"quickchart('df-cf095293-e54d-4269-ad32-159c397c3b6d')\"\n",
              "            title=\"Suggest charts.\"\n",
              "            style=\"display:none;\">\n",
              "\n",
              "<svg xmlns=\"http://www.w3.org/2000/svg\" height=\"24px\"viewBox=\"0 0 24 24\"\n",
              "     width=\"24px\">\n",
              "    <g>\n",
              "        <path d=\"M19 3H5c-1.1 0-2 .9-2 2v14c0 1.1.9 2 2 2h14c1.1 0 2-.9 2-2V5c0-1.1-.9-2-2-2zM9 17H7v-7h2v7zm4 0h-2V7h2v10zm4 0h-2v-4h2v4z\"/>\n",
              "    </g>\n",
              "</svg>\n",
              "  </button>\n",
              "\n",
              "<style>\n",
              "  .colab-df-quickchart {\n",
              "      --bg-color: #E8F0FE;\n",
              "      --fill-color: #1967D2;\n",
              "      --hover-bg-color: #E2EBFA;\n",
              "      --hover-fill-color: #174EA6;\n",
              "      --disabled-fill-color: #AAA;\n",
              "      --disabled-bg-color: #DDD;\n",
              "  }\n",
              "\n",
              "  [theme=dark] .colab-df-quickchart {\n",
              "      --bg-color: #3B4455;\n",
              "      --fill-color: #D2E3FC;\n",
              "      --hover-bg-color: #434B5C;\n",
              "      --hover-fill-color: #FFFFFF;\n",
              "      --disabled-bg-color: #3B4455;\n",
              "      --disabled-fill-color: #666;\n",
              "  }\n",
              "\n",
              "  .colab-df-quickchart {\n",
              "    background-color: var(--bg-color);\n",
              "    border: none;\n",
              "    border-radius: 50%;\n",
              "    cursor: pointer;\n",
              "    display: none;\n",
              "    fill: var(--fill-color);\n",
              "    height: 32px;\n",
              "    padding: 0;\n",
              "    width: 32px;\n",
              "  }\n",
              "\n",
              "  .colab-df-quickchart:hover {\n",
              "    background-color: var(--hover-bg-color);\n",
              "    box-shadow: 0 1px 2px rgba(60, 64, 67, 0.3), 0 1px 3px 1px rgba(60, 64, 67, 0.15);\n",
              "    fill: var(--button-hover-fill-color);\n",
              "  }\n",
              "\n",
              "  .colab-df-quickchart-complete:disabled,\n",
              "  .colab-df-quickchart-complete:disabled:hover {\n",
              "    background-color: var(--disabled-bg-color);\n",
              "    fill: var(--disabled-fill-color);\n",
              "    box-shadow: none;\n",
              "  }\n",
              "\n",
              "  .colab-df-spinner {\n",
              "    border: 2px solid var(--fill-color);\n",
              "    border-color: transparent;\n",
              "    border-bottom-color: var(--fill-color);\n",
              "    animation:\n",
              "      spin 1s steps(1) infinite;\n",
              "  }\n",
              "\n",
              "  @keyframes spin {\n",
              "    0% {\n",
              "      border-color: transparent;\n",
              "      border-bottom-color: var(--fill-color);\n",
              "      border-left-color: var(--fill-color);\n",
              "    }\n",
              "    20% {\n",
              "      border-color: transparent;\n",
              "      border-left-color: var(--fill-color);\n",
              "      border-top-color: var(--fill-color);\n",
              "    }\n",
              "    30% {\n",
              "      border-color: transparent;\n",
              "      border-left-color: var(--fill-color);\n",
              "      border-top-color: var(--fill-color);\n",
              "      border-right-color: var(--fill-color);\n",
              "    }\n",
              "    40% {\n",
              "      border-color: transparent;\n",
              "      border-right-color: var(--fill-color);\n",
              "      border-top-color: var(--fill-color);\n",
              "    }\n",
              "    60% {\n",
              "      border-color: transparent;\n",
              "      border-right-color: var(--fill-color);\n",
              "    }\n",
              "    80% {\n",
              "      border-color: transparent;\n",
              "      border-right-color: var(--fill-color);\n",
              "      border-bottom-color: var(--fill-color);\n",
              "    }\n",
              "    90% {\n",
              "      border-color: transparent;\n",
              "      border-bottom-color: var(--fill-color);\n",
              "    }\n",
              "  }\n",
              "</style>\n",
              "\n",
              "  <script>\n",
              "    async function quickchart(key) {\n",
              "      const quickchartButtonEl =\n",
              "        document.querySelector('#' + key + ' button');\n",
              "      quickchartButtonEl.disabled = true;  // To prevent multiple clicks.\n",
              "      quickchartButtonEl.classList.add('colab-df-spinner');\n",
              "      try {\n",
              "        const charts = await google.colab.kernel.invokeFunction(\n",
              "            'suggestCharts', [key], {});\n",
              "      } catch (error) {\n",
              "        console.error('Error during call to suggestCharts:', error);\n",
              "      }\n",
              "      quickchartButtonEl.classList.remove('colab-df-spinner');\n",
              "      quickchartButtonEl.classList.add('colab-df-quickchart-complete');\n",
              "    }\n",
              "    (() => {\n",
              "      let quickchartButtonEl =\n",
              "        document.querySelector('#df-cf095293-e54d-4269-ad32-159c397c3b6d button');\n",
              "      quickchartButtonEl.style.display =\n",
              "        google.colab.kernel.accessAllowed ? 'block' : 'none';\n",
              "    })();\n",
              "  </script>\n",
              "</div>\n",
              "    </div>\n",
              "  </div>\n"
            ]
          },
          "metadata": {},
          "execution_count": 13
        }
      ],
      "source": [
        "unigrams_df.head()"
      ]
    },
    {
      "cell_type": "code",
      "execution_count": null,
      "id": "d9fe6214",
      "metadata": {
        "id": "d9fe6214",
        "outputId": "04567782-ab0d-47fe-bad4-818e86d85ab5"
      },
      "outputs": [
        {
          "data": {
            "text/html": [
              "<div>\n",
              "<style scoped>\n",
              "    .dataframe tbody tr th:only-of-type {\n",
              "        vertical-align: middle;\n",
              "    }\n",
              "\n",
              "    .dataframe tbody tr th {\n",
              "        vertical-align: top;\n",
              "    }\n",
              "\n",
              "    .dataframe thead th {\n",
              "        text-align: right;\n",
              "    }\n",
              "</style>\n",
              "<table border=\"1\" class=\"dataframe\">\n",
              "  <thead>\n",
              "    <tr style=\"text-align: right;\">\n",
              "      <th></th>\n",
              "      <th>00 cable</th>\n",
              "      <th>00 feet</th>\n",
              "      <th>00 like</th>\n",
              "      <th>00 showing</th>\n",
              "      <th>00 strong</th>\n",
              "      <th>00 sunday</th>\n",
              "      <th>00 task</th>\n",
              "      <th>00 wasnt</th>\n",
              "      <th>000 000</th>\n",
              "      <th>000 bail</th>\n",
              "      <th>...</th>\n",
              "      <th>zwick thinks</th>\n",
              "      <th>zwicks 1994</th>\n",
              "      <th>zwicks courage</th>\n",
              "      <th>zwicks favorite</th>\n",
              "      <th>zwicks latest</th>\n",
              "      <th>zwicks siege</th>\n",
              "      <th>zwigoffs brilliant</th>\n",
              "      <th>zwigoffs superb</th>\n",
              "      <th>zycie masterfully</th>\n",
              "      <th>zycie za</th>\n",
              "    </tr>\n",
              "  </thead>\n",
              "  <tbody>\n",
              "    <tr>\n",
              "      <th>0</th>\n",
              "      <td>0</td>\n",
              "      <td>0</td>\n",
              "      <td>0</td>\n",
              "      <td>0</td>\n",
              "      <td>0</td>\n",
              "      <td>0</td>\n",
              "      <td>0</td>\n",
              "      <td>0</td>\n",
              "      <td>0</td>\n",
              "      <td>0</td>\n",
              "      <td>...</td>\n",
              "      <td>0</td>\n",
              "      <td>0</td>\n",
              "      <td>0</td>\n",
              "      <td>0</td>\n",
              "      <td>0</td>\n",
              "      <td>0</td>\n",
              "      <td>0</td>\n",
              "      <td>0</td>\n",
              "      <td>0</td>\n",
              "      <td>0</td>\n",
              "    </tr>\n",
              "    <tr>\n",
              "      <th>1</th>\n",
              "      <td>0</td>\n",
              "      <td>0</td>\n",
              "      <td>0</td>\n",
              "      <td>0</td>\n",
              "      <td>0</td>\n",
              "      <td>0</td>\n",
              "      <td>0</td>\n",
              "      <td>0</td>\n",
              "      <td>0</td>\n",
              "      <td>0</td>\n",
              "      <td>...</td>\n",
              "      <td>0</td>\n",
              "      <td>0</td>\n",
              "      <td>0</td>\n",
              "      <td>0</td>\n",
              "      <td>0</td>\n",
              "      <td>0</td>\n",
              "      <td>0</td>\n",
              "      <td>0</td>\n",
              "      <td>0</td>\n",
              "      <td>0</td>\n",
              "    </tr>\n",
              "    <tr>\n",
              "      <th>2</th>\n",
              "      <td>0</td>\n",
              "      <td>0</td>\n",
              "      <td>0</td>\n",
              "      <td>0</td>\n",
              "      <td>0</td>\n",
              "      <td>0</td>\n",
              "      <td>0</td>\n",
              "      <td>0</td>\n",
              "      <td>0</td>\n",
              "      <td>0</td>\n",
              "      <td>...</td>\n",
              "      <td>0</td>\n",
              "      <td>0</td>\n",
              "      <td>0</td>\n",
              "      <td>0</td>\n",
              "      <td>0</td>\n",
              "      <td>0</td>\n",
              "      <td>0</td>\n",
              "      <td>0</td>\n",
              "      <td>0</td>\n",
              "      <td>0</td>\n",
              "    </tr>\n",
              "    <tr>\n",
              "      <th>3</th>\n",
              "      <td>0</td>\n",
              "      <td>0</td>\n",
              "      <td>0</td>\n",
              "      <td>0</td>\n",
              "      <td>0</td>\n",
              "      <td>0</td>\n",
              "      <td>0</td>\n",
              "      <td>0</td>\n",
              "      <td>0</td>\n",
              "      <td>0</td>\n",
              "      <td>...</td>\n",
              "      <td>0</td>\n",
              "      <td>0</td>\n",
              "      <td>0</td>\n",
              "      <td>0</td>\n",
              "      <td>0</td>\n",
              "      <td>0</td>\n",
              "      <td>0</td>\n",
              "      <td>0</td>\n",
              "      <td>0</td>\n",
              "      <td>0</td>\n",
              "    </tr>\n",
              "    <tr>\n",
              "      <th>4</th>\n",
              "      <td>0</td>\n",
              "      <td>0</td>\n",
              "      <td>0</td>\n",
              "      <td>0</td>\n",
              "      <td>0</td>\n",
              "      <td>0</td>\n",
              "      <td>0</td>\n",
              "      <td>0</td>\n",
              "      <td>0</td>\n",
              "      <td>0</td>\n",
              "      <td>...</td>\n",
              "      <td>0</td>\n",
              "      <td>0</td>\n",
              "      <td>0</td>\n",
              "      <td>0</td>\n",
              "      <td>0</td>\n",
              "      <td>0</td>\n",
              "      <td>0</td>\n",
              "      <td>0</td>\n",
              "      <td>0</td>\n",
              "      <td>0</td>\n",
              "    </tr>\n",
              "  </tbody>\n",
              "</table>\n",
              "<p>5 rows × 534933 columns</p>\n",
              "</div>"
            ],
            "text/plain": [
              "   00 cable  00 feet  00 like  00 showing  00 strong  00 sunday  00 task  \\\n",
              "0         0        0        0           0          0          0        0   \n",
              "1         0        0        0           0          0          0        0   \n",
              "2         0        0        0           0          0          0        0   \n",
              "3         0        0        0           0          0          0        0   \n",
              "4         0        0        0           0          0          0        0   \n",
              "\n",
              "   00 wasnt  000 000  000 bail  ...  zwick thinks  zwicks 1994  \\\n",
              "0         0        0         0  ...             0            0   \n",
              "1         0        0         0  ...             0            0   \n",
              "2         0        0         0  ...             0            0   \n",
              "3         0        0         0  ...             0            0   \n",
              "4         0        0         0  ...             0            0   \n",
              "\n",
              "   zwicks courage  zwicks favorite  zwicks latest  zwicks siege  \\\n",
              "0               0                0              0             0   \n",
              "1               0                0              0             0   \n",
              "2               0                0              0             0   \n",
              "3               0                0              0             0   \n",
              "4               0                0              0             0   \n",
              "\n",
              "   zwigoffs brilliant  zwigoffs superb  zycie masterfully  zycie za  \n",
              "0                   0                0                  0         0  \n",
              "1                   0                0                  0         0  \n",
              "2                   0                0                  0         0  \n",
              "3                   0                0                  0         0  \n",
              "4                   0                0                  0         0  \n",
              "\n",
              "[5 rows x 534933 columns]"
            ]
          },
          "execution_count": 19,
          "metadata": {},
          "output_type": "execute_result"
        }
      ],
      "source": [
        "bigrams_df.head()"
      ]
    },
    {
      "cell_type": "markdown",
      "id": "fb8182c8",
      "metadata": {
        "id": "fb8182c8"
      },
      "source": [
        "### Question 2"
      ]
    },
    {
      "cell_type": "code",
      "execution_count": null,
      "id": "33337b88",
      "metadata": {
        "id": "33337b88"
      },
      "outputs": [],
      "source": [
        "from sklearn.feature_extraction.text import TfidfVectorizer"
      ]
    },
    {
      "cell_type": "code",
      "execution_count": null,
      "id": "88aa784b",
      "metadata": {
        "id": "88aa784b"
      },
      "outputs": [],
      "source": [
        "# Creating a TF-IDF representation using unigrams\n",
        "tfidf_vectorizer_unigrams = TfidfVectorizer()\n",
        "X_tfidf_unigrams = tfidf_vectorizer_unigrams.fit_transform(preprocessed_reviews)\n"
      ]
    },
    {
      "cell_type": "code",
      "execution_count": null,
      "id": "c189cc15",
      "metadata": {
        "id": "c189cc15"
      },
      "outputs": [],
      "source": [
        "# Creating a TF-IDF representation using bigrams\n",
        "tfidf_vectorizer_bigrams = TfidfVectorizer(ngram_range=(2, 2))\n",
        "X_tfidf_bigrams = tfidf_vectorizer_bigrams.fit_transform(preprocessed_reviews)\n"
      ]
    },
    {
      "cell_type": "code",
      "execution_count": null,
      "id": "66d2a4ef",
      "metadata": {
        "id": "66d2a4ef"
      },
      "outputs": [],
      "source": [
        "vocab_unigrams = tfidf_vectorizer_unigrams.vocabulary_\n",
        "vocab_bigrams = tfidf_vectorizer_bigrams.vocabulary_"
      ]
    },
    {
      "cell_type": "code",
      "execution_count": null,
      "id": "d191b265",
      "metadata": {
        "id": "d191b265"
      },
      "outputs": [],
      "source": [
        "feature_names_unigrams = [word for word, idx in sorted(vocab_unigrams.items(), key=lambda x: x[1])]\n",
        "feature_names_bigrams = [word for word, idx in sorted(vocab_bigrams.items(), key=lambda x: x[1])]\n"
      ]
    },
    {
      "cell_type": "code",
      "execution_count": null,
      "id": "c8511189",
      "metadata": {
        "id": "c8511189"
      },
      "outputs": [],
      "source": [
        "unigrams_df = pd.DataFrame(X_tfidf_unigrams.toarray(), columns=tfidf_vectorizer_unigrams.get_feature_names_out())"
      ]
    },
    {
      "cell_type": "code",
      "execution_count": null,
      "id": "e9697579",
      "metadata": {
        "id": "e9697579"
      },
      "outputs": [],
      "source": [
        "bigrams_df = pd.DataFrame(X_tfidf_bigrams.toarray(), columns=tfidf_vectorizer_bigrams.get_feature_names_out())"
      ]
    },
    {
      "cell_type": "code",
      "execution_count": null,
      "id": "c90fe923",
      "metadata": {
        "id": "c90fe923",
        "outputId": "cb2befd2-1cbe-4147-e19f-06ccf321a41d"
      },
      "outputs": [
        {
          "name": "stdout",
          "output_type": "stream",
          "text": [
            "Unigrams DataFrame:\n"
          ]
        },
        {
          "data": {
            "text/html": [
              "<div>\n",
              "<style scoped>\n",
              "    .dataframe tbody tr th:only-of-type {\n",
              "        vertical-align: middle;\n",
              "    }\n",
              "\n",
              "    .dataframe tbody tr th {\n",
              "        vertical-align: top;\n",
              "    }\n",
              "\n",
              "    .dataframe thead th {\n",
              "        text-align: right;\n",
              "    }\n",
              "</style>\n",
              "<table border=\"1\" class=\"dataframe\">\n",
              "  <thead>\n",
              "    <tr style=\"text-align: right;\">\n",
              "      <th></th>\n",
              "      <th>00</th>\n",
              "      <th>000</th>\n",
              "      <th>0009f</th>\n",
              "      <th>000acre</th>\n",
              "      <th>000aweek</th>\n",
              "      <th>000foot</th>\n",
              "      <th>000paltry</th>\n",
              "      <th>007</th>\n",
              "      <th>007esque</th>\n",
              "      <th>00s</th>\n",
              "      <th>...</th>\n",
              "      <th>zuko</th>\n",
              "      <th>zukovsky</th>\n",
              "      <th>zulu</th>\n",
              "      <th>zundel</th>\n",
              "      <th>zurgs</th>\n",
              "      <th>zweibel</th>\n",
              "      <th>zwick</th>\n",
              "      <th>zwicks</th>\n",
              "      <th>zwigoffs</th>\n",
              "      <th>zycie</th>\n",
              "    </tr>\n",
              "  </thead>\n",
              "  <tbody>\n",
              "    <tr>\n",
              "      <th>0</th>\n",
              "      <td>0.0</td>\n",
              "      <td>0.0</td>\n",
              "      <td>0.0</td>\n",
              "      <td>0.0</td>\n",
              "      <td>0.0</td>\n",
              "      <td>0.0</td>\n",
              "      <td>0.0</td>\n",
              "      <td>0.0</td>\n",
              "      <td>0.0</td>\n",
              "      <td>0.0</td>\n",
              "      <td>...</td>\n",
              "      <td>0.0</td>\n",
              "      <td>0.0</td>\n",
              "      <td>0.0</td>\n",
              "      <td>0.0</td>\n",
              "      <td>0.0</td>\n",
              "      <td>0.0</td>\n",
              "      <td>0.0</td>\n",
              "      <td>0.0</td>\n",
              "      <td>0.0</td>\n",
              "      <td>0.0</td>\n",
              "    </tr>\n",
              "    <tr>\n",
              "      <th>1</th>\n",
              "      <td>0.0</td>\n",
              "      <td>0.0</td>\n",
              "      <td>0.0</td>\n",
              "      <td>0.0</td>\n",
              "      <td>0.0</td>\n",
              "      <td>0.0</td>\n",
              "      <td>0.0</td>\n",
              "      <td>0.0</td>\n",
              "      <td>0.0</td>\n",
              "      <td>0.0</td>\n",
              "      <td>...</td>\n",
              "      <td>0.0</td>\n",
              "      <td>0.0</td>\n",
              "      <td>0.0</td>\n",
              "      <td>0.0</td>\n",
              "      <td>0.0</td>\n",
              "      <td>0.0</td>\n",
              "      <td>0.0</td>\n",
              "      <td>0.0</td>\n",
              "      <td>0.0</td>\n",
              "      <td>0.0</td>\n",
              "    </tr>\n",
              "    <tr>\n",
              "      <th>2</th>\n",
              "      <td>0.0</td>\n",
              "      <td>0.0</td>\n",
              "      <td>0.0</td>\n",
              "      <td>0.0</td>\n",
              "      <td>0.0</td>\n",
              "      <td>0.0</td>\n",
              "      <td>0.0</td>\n",
              "      <td>0.0</td>\n",
              "      <td>0.0</td>\n",
              "      <td>0.0</td>\n",
              "      <td>...</td>\n",
              "      <td>0.0</td>\n",
              "      <td>0.0</td>\n",
              "      <td>0.0</td>\n",
              "      <td>0.0</td>\n",
              "      <td>0.0</td>\n",
              "      <td>0.0</td>\n",
              "      <td>0.0</td>\n",
              "      <td>0.0</td>\n",
              "      <td>0.0</td>\n",
              "      <td>0.0</td>\n",
              "    </tr>\n",
              "    <tr>\n",
              "      <th>3</th>\n",
              "      <td>0.0</td>\n",
              "      <td>0.0</td>\n",
              "      <td>0.0</td>\n",
              "      <td>0.0</td>\n",
              "      <td>0.0</td>\n",
              "      <td>0.0</td>\n",
              "      <td>0.0</td>\n",
              "      <td>0.0</td>\n",
              "      <td>0.0</td>\n",
              "      <td>0.0</td>\n",
              "      <td>...</td>\n",
              "      <td>0.0</td>\n",
              "      <td>0.0</td>\n",
              "      <td>0.0</td>\n",
              "      <td>0.0</td>\n",
              "      <td>0.0</td>\n",
              "      <td>0.0</td>\n",
              "      <td>0.0</td>\n",
              "      <td>0.0</td>\n",
              "      <td>0.0</td>\n",
              "      <td>0.0</td>\n",
              "    </tr>\n",
              "    <tr>\n",
              "      <th>4</th>\n",
              "      <td>0.0</td>\n",
              "      <td>0.0</td>\n",
              "      <td>0.0</td>\n",
              "      <td>0.0</td>\n",
              "      <td>0.0</td>\n",
              "      <td>0.0</td>\n",
              "      <td>0.0</td>\n",
              "      <td>0.0</td>\n",
              "      <td>0.0</td>\n",
              "      <td>0.0</td>\n",
              "      <td>...</td>\n",
              "      <td>0.0</td>\n",
              "      <td>0.0</td>\n",
              "      <td>0.0</td>\n",
              "      <td>0.0</td>\n",
              "      <td>0.0</td>\n",
              "      <td>0.0</td>\n",
              "      <td>0.0</td>\n",
              "      <td>0.0</td>\n",
              "      <td>0.0</td>\n",
              "      <td>0.0</td>\n",
              "    </tr>\n",
              "  </tbody>\n",
              "</table>\n",
              "<p>5 rows × 47366 columns</p>\n",
              "</div>"
            ],
            "text/plain": [
              "    00  000  0009f  000acre  000aweek  000foot  000paltry  007  007esque  00s  \\\n",
              "0  0.0  0.0    0.0      0.0       0.0      0.0        0.0  0.0       0.0  0.0   \n",
              "1  0.0  0.0    0.0      0.0       0.0      0.0        0.0  0.0       0.0  0.0   \n",
              "2  0.0  0.0    0.0      0.0       0.0      0.0        0.0  0.0       0.0  0.0   \n",
              "3  0.0  0.0    0.0      0.0       0.0      0.0        0.0  0.0       0.0  0.0   \n",
              "4  0.0  0.0    0.0      0.0       0.0      0.0        0.0  0.0       0.0  0.0   \n",
              "\n",
              "   ...  zuko  zukovsky  zulu  zundel  zurgs  zweibel  zwick  zwicks  zwigoffs  \\\n",
              "0  ...   0.0       0.0   0.0     0.0    0.0      0.0    0.0     0.0       0.0   \n",
              "1  ...   0.0       0.0   0.0     0.0    0.0      0.0    0.0     0.0       0.0   \n",
              "2  ...   0.0       0.0   0.0     0.0    0.0      0.0    0.0     0.0       0.0   \n",
              "3  ...   0.0       0.0   0.0     0.0    0.0      0.0    0.0     0.0       0.0   \n",
              "4  ...   0.0       0.0   0.0     0.0    0.0      0.0    0.0     0.0       0.0   \n",
              "\n",
              "   zycie  \n",
              "0    0.0  \n",
              "1    0.0  \n",
              "2    0.0  \n",
              "3    0.0  \n",
              "4    0.0  \n",
              "\n",
              "[5 rows x 47366 columns]"
            ]
          },
          "execution_count": 28,
          "metadata": {},
          "output_type": "execute_result"
        }
      ],
      "source": [
        "print(\"Unigrams DataFrame:\")\n",
        "unigrams_df.head()"
      ]
    },
    {
      "cell_type": "code",
      "execution_count": null,
      "id": "eea2dd34",
      "metadata": {
        "id": "eea2dd34",
        "outputId": "a297e772-38a7-41a5-9e9b-67b1dd7a81f7"
      },
      "outputs": [
        {
          "name": "stdout",
          "output_type": "stream",
          "text": [
            "\n",
            "Bigrams DataFrame:\n"
          ]
        },
        {
          "data": {
            "text/html": [
              "<div>\n",
              "<style scoped>\n",
              "    .dataframe tbody tr th:only-of-type {\n",
              "        vertical-align: middle;\n",
              "    }\n",
              "\n",
              "    .dataframe tbody tr th {\n",
              "        vertical-align: top;\n",
              "    }\n",
              "\n",
              "    .dataframe thead th {\n",
              "        text-align: right;\n",
              "    }\n",
              "</style>\n",
              "<table border=\"1\" class=\"dataframe\">\n",
              "  <thead>\n",
              "    <tr style=\"text-align: right;\">\n",
              "      <th></th>\n",
              "      <th>00 cable</th>\n",
              "      <th>00 feet</th>\n",
              "      <th>00 like</th>\n",
              "      <th>00 showing</th>\n",
              "      <th>00 strong</th>\n",
              "      <th>00 sunday</th>\n",
              "      <th>00 task</th>\n",
              "      <th>00 wasnt</th>\n",
              "      <th>000 000</th>\n",
              "      <th>000 bail</th>\n",
              "      <th>...</th>\n",
              "      <th>zwick thinks</th>\n",
              "      <th>zwicks 1994</th>\n",
              "      <th>zwicks courage</th>\n",
              "      <th>zwicks favorite</th>\n",
              "      <th>zwicks latest</th>\n",
              "      <th>zwicks siege</th>\n",
              "      <th>zwigoffs brilliant</th>\n",
              "      <th>zwigoffs superb</th>\n",
              "      <th>zycie masterfully</th>\n",
              "      <th>zycie za</th>\n",
              "    </tr>\n",
              "  </thead>\n",
              "  <tbody>\n",
              "    <tr>\n",
              "      <th>0</th>\n",
              "      <td>0.0</td>\n",
              "      <td>0.0</td>\n",
              "      <td>0.0</td>\n",
              "      <td>0.0</td>\n",
              "      <td>0.0</td>\n",
              "      <td>0.0</td>\n",
              "      <td>0.0</td>\n",
              "      <td>0.0</td>\n",
              "      <td>0.0</td>\n",
              "      <td>0.0</td>\n",
              "      <td>...</td>\n",
              "      <td>0.0</td>\n",
              "      <td>0.0</td>\n",
              "      <td>0.0</td>\n",
              "      <td>0.0</td>\n",
              "      <td>0.0</td>\n",
              "      <td>0.0</td>\n",
              "      <td>0.0</td>\n",
              "      <td>0.0</td>\n",
              "      <td>0.0</td>\n",
              "      <td>0.0</td>\n",
              "    </tr>\n",
              "    <tr>\n",
              "      <th>1</th>\n",
              "      <td>0.0</td>\n",
              "      <td>0.0</td>\n",
              "      <td>0.0</td>\n",
              "      <td>0.0</td>\n",
              "      <td>0.0</td>\n",
              "      <td>0.0</td>\n",
              "      <td>0.0</td>\n",
              "      <td>0.0</td>\n",
              "      <td>0.0</td>\n",
              "      <td>0.0</td>\n",
              "      <td>...</td>\n",
              "      <td>0.0</td>\n",
              "      <td>0.0</td>\n",
              "      <td>0.0</td>\n",
              "      <td>0.0</td>\n",
              "      <td>0.0</td>\n",
              "      <td>0.0</td>\n",
              "      <td>0.0</td>\n",
              "      <td>0.0</td>\n",
              "      <td>0.0</td>\n",
              "      <td>0.0</td>\n",
              "    </tr>\n",
              "    <tr>\n",
              "      <th>2</th>\n",
              "      <td>0.0</td>\n",
              "      <td>0.0</td>\n",
              "      <td>0.0</td>\n",
              "      <td>0.0</td>\n",
              "      <td>0.0</td>\n",
              "      <td>0.0</td>\n",
              "      <td>0.0</td>\n",
              "      <td>0.0</td>\n",
              "      <td>0.0</td>\n",
              "      <td>0.0</td>\n",
              "      <td>...</td>\n",
              "      <td>0.0</td>\n",
              "      <td>0.0</td>\n",
              "      <td>0.0</td>\n",
              "      <td>0.0</td>\n",
              "      <td>0.0</td>\n",
              "      <td>0.0</td>\n",
              "      <td>0.0</td>\n",
              "      <td>0.0</td>\n",
              "      <td>0.0</td>\n",
              "      <td>0.0</td>\n",
              "    </tr>\n",
              "    <tr>\n",
              "      <th>3</th>\n",
              "      <td>0.0</td>\n",
              "      <td>0.0</td>\n",
              "      <td>0.0</td>\n",
              "      <td>0.0</td>\n",
              "      <td>0.0</td>\n",
              "      <td>0.0</td>\n",
              "      <td>0.0</td>\n",
              "      <td>0.0</td>\n",
              "      <td>0.0</td>\n",
              "      <td>0.0</td>\n",
              "      <td>...</td>\n",
              "      <td>0.0</td>\n",
              "      <td>0.0</td>\n",
              "      <td>0.0</td>\n",
              "      <td>0.0</td>\n",
              "      <td>0.0</td>\n",
              "      <td>0.0</td>\n",
              "      <td>0.0</td>\n",
              "      <td>0.0</td>\n",
              "      <td>0.0</td>\n",
              "      <td>0.0</td>\n",
              "    </tr>\n",
              "    <tr>\n",
              "      <th>4</th>\n",
              "      <td>0.0</td>\n",
              "      <td>0.0</td>\n",
              "      <td>0.0</td>\n",
              "      <td>0.0</td>\n",
              "      <td>0.0</td>\n",
              "      <td>0.0</td>\n",
              "      <td>0.0</td>\n",
              "      <td>0.0</td>\n",
              "      <td>0.0</td>\n",
              "      <td>0.0</td>\n",
              "      <td>...</td>\n",
              "      <td>0.0</td>\n",
              "      <td>0.0</td>\n",
              "      <td>0.0</td>\n",
              "      <td>0.0</td>\n",
              "      <td>0.0</td>\n",
              "      <td>0.0</td>\n",
              "      <td>0.0</td>\n",
              "      <td>0.0</td>\n",
              "      <td>0.0</td>\n",
              "      <td>0.0</td>\n",
              "    </tr>\n",
              "  </tbody>\n",
              "</table>\n",
              "<p>5 rows × 534933 columns</p>\n",
              "</div>"
            ],
            "text/plain": [
              "   00 cable  00 feet  00 like  00 showing  00 strong  00 sunday  00 task  \\\n",
              "0       0.0      0.0      0.0         0.0        0.0        0.0      0.0   \n",
              "1       0.0      0.0      0.0         0.0        0.0        0.0      0.0   \n",
              "2       0.0      0.0      0.0         0.0        0.0        0.0      0.0   \n",
              "3       0.0      0.0      0.0         0.0        0.0        0.0      0.0   \n",
              "4       0.0      0.0      0.0         0.0        0.0        0.0      0.0   \n",
              "\n",
              "   00 wasnt  000 000  000 bail  ...  zwick thinks  zwicks 1994  \\\n",
              "0       0.0      0.0       0.0  ...           0.0          0.0   \n",
              "1       0.0      0.0       0.0  ...           0.0          0.0   \n",
              "2       0.0      0.0       0.0  ...           0.0          0.0   \n",
              "3       0.0      0.0       0.0  ...           0.0          0.0   \n",
              "4       0.0      0.0       0.0  ...           0.0          0.0   \n",
              "\n",
              "   zwicks courage  zwicks favorite  zwicks latest  zwicks siege  \\\n",
              "0             0.0              0.0            0.0           0.0   \n",
              "1             0.0              0.0            0.0           0.0   \n",
              "2             0.0              0.0            0.0           0.0   \n",
              "3             0.0              0.0            0.0           0.0   \n",
              "4             0.0              0.0            0.0           0.0   \n",
              "\n",
              "   zwigoffs brilliant  zwigoffs superb  zycie masterfully  zycie za  \n",
              "0                 0.0              0.0                0.0       0.0  \n",
              "1                 0.0              0.0                0.0       0.0  \n",
              "2                 0.0              0.0                0.0       0.0  \n",
              "3                 0.0              0.0                0.0       0.0  \n",
              "4                 0.0              0.0                0.0       0.0  \n",
              "\n",
              "[5 rows x 534933 columns]"
            ]
          },
          "execution_count": 29,
          "metadata": {},
          "output_type": "execute_result"
        }
      ],
      "source": [
        "print(\"\\nBigrams DataFrame:\")\n",
        "bigrams_df.head()"
      ]
    },
    {
      "cell_type": "markdown",
      "id": "2295ba18",
      "metadata": {
        "id": "2295ba18"
      },
      "source": [
        "### Question 3"
      ]
    },
    {
      "cell_type": "code",
      "execution_count": null,
      "id": "4e19be3f",
      "metadata": {
        "id": "4e19be3f"
      },
      "outputs": [],
      "source": [
        "from sklearn.model_selection import train_test_split\n",
        "from sklearn.naive_bayes import MultinomialNB\n",
        "from sklearn.metrics import accuracy_score, classification_report"
      ]
    },
    {
      "cell_type": "code",
      "execution_count": null,
      "id": "2fbcb941",
      "metadata": {
        "id": "2fbcb941"
      },
      "outputs": [],
      "source": [
        "# Splitting the data into training and testing sets\n",
        "X_train, X_test, y_train, y_test = train_test_split(X_tfidf_unigrams, labels, test_size=0.2, random_state=42)\n"
      ]
    },
    {
      "cell_type": "code",
      "execution_count": null,
      "id": "22769d94",
      "metadata": {
        "id": "22769d94",
        "outputId": "fa7bb882-3997-4f35-a6bb-17c7a983c4c1"
      },
      "outputs": [
        {
          "data": {
            "text/html": [
              "<style>#sk-container-id-1 {color: black;}#sk-container-id-1 pre{padding: 0;}#sk-container-id-1 div.sk-toggleable {background-color: white;}#sk-container-id-1 label.sk-toggleable__label {cursor: pointer;display: block;width: 100%;margin-bottom: 0;padding: 0.3em;box-sizing: border-box;text-align: center;}#sk-container-id-1 label.sk-toggleable__label-arrow:before {content: \"▸\";float: left;margin-right: 0.25em;color: #696969;}#sk-container-id-1 label.sk-toggleable__label-arrow:hover:before {color: black;}#sk-container-id-1 div.sk-estimator:hover label.sk-toggleable__label-arrow:before {color: black;}#sk-container-id-1 div.sk-toggleable__content {max-height: 0;max-width: 0;overflow: hidden;text-align: left;background-color: #f0f8ff;}#sk-container-id-1 div.sk-toggleable__content pre {margin: 0.2em;color: black;border-radius: 0.25em;background-color: #f0f8ff;}#sk-container-id-1 input.sk-toggleable__control:checked~div.sk-toggleable__content {max-height: 200px;max-width: 100%;overflow: auto;}#sk-container-id-1 input.sk-toggleable__control:checked~label.sk-toggleable__label-arrow:before {content: \"▾\";}#sk-container-id-1 div.sk-estimator input.sk-toggleable__control:checked~label.sk-toggleable__label {background-color: #d4ebff;}#sk-container-id-1 div.sk-label input.sk-toggleable__control:checked~label.sk-toggleable__label {background-color: #d4ebff;}#sk-container-id-1 input.sk-hidden--visually {border: 0;clip: rect(1px 1px 1px 1px);clip: rect(1px, 1px, 1px, 1px);height: 1px;margin: -1px;overflow: hidden;padding: 0;position: absolute;width: 1px;}#sk-container-id-1 div.sk-estimator {font-family: monospace;background-color: #f0f8ff;border: 1px dotted black;border-radius: 0.25em;box-sizing: border-box;margin-bottom: 0.5em;}#sk-container-id-1 div.sk-estimator:hover {background-color: #d4ebff;}#sk-container-id-1 div.sk-parallel-item::after {content: \"\";width: 100%;border-bottom: 1px solid gray;flex-grow: 1;}#sk-container-id-1 div.sk-label:hover label.sk-toggleable__label {background-color: #d4ebff;}#sk-container-id-1 div.sk-serial::before {content: \"\";position: absolute;border-left: 1px solid gray;box-sizing: border-box;top: 0;bottom: 0;left: 50%;z-index: 0;}#sk-container-id-1 div.sk-serial {display: flex;flex-direction: column;align-items: center;background-color: white;padding-right: 0.2em;padding-left: 0.2em;position: relative;}#sk-container-id-1 div.sk-item {position: relative;z-index: 1;}#sk-container-id-1 div.sk-parallel {display: flex;align-items: stretch;justify-content: center;background-color: white;position: relative;}#sk-container-id-1 div.sk-item::before, #sk-container-id-1 div.sk-parallel-item::before {content: \"\";position: absolute;border-left: 1px solid gray;box-sizing: border-box;top: 0;bottom: 0;left: 50%;z-index: -1;}#sk-container-id-1 div.sk-parallel-item {display: flex;flex-direction: column;z-index: 1;position: relative;background-color: white;}#sk-container-id-1 div.sk-parallel-item:first-child::after {align-self: flex-end;width: 50%;}#sk-container-id-1 div.sk-parallel-item:last-child::after {align-self: flex-start;width: 50%;}#sk-container-id-1 div.sk-parallel-item:only-child::after {width: 0;}#sk-container-id-1 div.sk-dashed-wrapped {border: 1px dashed gray;margin: 0 0.4em 0.5em 0.4em;box-sizing: border-box;padding-bottom: 0.4em;background-color: white;}#sk-container-id-1 div.sk-label label {font-family: monospace;font-weight: bold;display: inline-block;line-height: 1.2em;}#sk-container-id-1 div.sk-label-container {text-align: center;}#sk-container-id-1 div.sk-container {/* jupyter's `normalize.less` sets `[hidden] { display: none; }` but bootstrap.min.css set `[hidden] { display: none !important; }` so we also need the `!important` here to be able to override the default hidden behavior on the sphinx rendered scikit-learn.org. See: https://github.com/scikit-learn/scikit-learn/issues/21755 */display: inline-block !important;position: relative;}#sk-container-id-1 div.sk-text-repr-fallback {display: none;}</style><div id=\"sk-container-id-1\" class=\"sk-top-container\"><div class=\"sk-text-repr-fallback\"><pre>MultinomialNB()</pre><b>In a Jupyter environment, please rerun this cell to show the HTML representation or trust the notebook. <br />On GitHub, the HTML representation is unable to render, please try loading this page with nbviewer.org.</b></div><div class=\"sk-container\" hidden><div class=\"sk-item\"><div class=\"sk-estimator sk-toggleable\"><input class=\"sk-toggleable__control sk-hidden--visually\" id=\"sk-estimator-id-1\" type=\"checkbox\" checked><label for=\"sk-estimator-id-1\" class=\"sk-toggleable__label sk-toggleable__label-arrow\">MultinomialNB</label><div class=\"sk-toggleable__content\"><pre>MultinomialNB()</pre></div></div></div></div></div>"
            ],
            "text/plain": [
              "MultinomialNB()"
            ]
          },
          "execution_count": 32,
          "metadata": {},
          "output_type": "execute_result"
        }
      ],
      "source": [
        "# Train the Multinomial Naive Bayes classifier using unigrams\n",
        "nb_classifier_unigrams = MultinomialNB()\n",
        "nb_classifier_unigrams.fit(X_train, y_train)\n"
      ]
    },
    {
      "cell_type": "code",
      "execution_count": null,
      "id": "eef59ae4",
      "metadata": {
        "id": "eef59ae4"
      },
      "outputs": [],
      "source": [
        "# Predictions\n",
        "y_pred_unigrams = nb_classifier_unigrams.predict(X_test)\n"
      ]
    },
    {
      "cell_type": "code",
      "execution_count": null,
      "id": "c76a0f2c",
      "metadata": {
        "id": "c76a0f2c",
        "outputId": "2c8a730c-4756-4fa0-d5fc-db315e7bbd68"
      },
      "outputs": [
        {
          "name": "stdout",
          "output_type": "stream",
          "text": [
            "Accuracy (Unigrams - TFIDF): 0.815\n",
            "Classification Report (Unigrams - TFIDF):\n",
            "              precision    recall  f1-score   support\n",
            "\n",
            "           0       0.79      0.85      0.82       199\n",
            "           1       0.84      0.78      0.81       201\n",
            "\n",
            "    accuracy                           0.81       400\n",
            "   macro avg       0.82      0.82      0.81       400\n",
            "weighted avg       0.82      0.81      0.81       400\n",
            "\n"
          ]
        }
      ],
      "source": [
        "# Evaluating the classifier\n",
        "accuracy_unigrams = accuracy_score(y_test, y_pred_unigrams)\n",
        "print(\"Accuracy (Unigrams - TFIDF):\", accuracy_unigrams)\n",
        "print(\"Classification Report (Unigrams - TFIDF):\")\n",
        "print(classification_report(y_test, y_pred_unigrams))\n"
      ]
    },
    {
      "cell_type": "code",
      "execution_count": null,
      "id": "d7e45d68",
      "metadata": {
        "id": "d7e45d68"
      },
      "outputs": [],
      "source": [
        "# Repeating the same steps for bigrams\n",
        "X_train, X_test, y_train, y_test = train_test_split(X_tfidf_bigrams, labels, test_size=0.2, random_state=42)\n"
      ]
    },
    {
      "cell_type": "code",
      "execution_count": null,
      "id": "24b91c0c",
      "metadata": {
        "id": "24b91c0c",
        "outputId": "04f1dffd-c7a0-4864-90b9-60713cb076d3"
      },
      "outputs": [
        {
          "data": {
            "text/html": [
              "<style>#sk-container-id-2 {color: black;}#sk-container-id-2 pre{padding: 0;}#sk-container-id-2 div.sk-toggleable {background-color: white;}#sk-container-id-2 label.sk-toggleable__label {cursor: pointer;display: block;width: 100%;margin-bottom: 0;padding: 0.3em;box-sizing: border-box;text-align: center;}#sk-container-id-2 label.sk-toggleable__label-arrow:before {content: \"▸\";float: left;margin-right: 0.25em;color: #696969;}#sk-container-id-2 label.sk-toggleable__label-arrow:hover:before {color: black;}#sk-container-id-2 div.sk-estimator:hover label.sk-toggleable__label-arrow:before {color: black;}#sk-container-id-2 div.sk-toggleable__content {max-height: 0;max-width: 0;overflow: hidden;text-align: left;background-color: #f0f8ff;}#sk-container-id-2 div.sk-toggleable__content pre {margin: 0.2em;color: black;border-radius: 0.25em;background-color: #f0f8ff;}#sk-container-id-2 input.sk-toggleable__control:checked~div.sk-toggleable__content {max-height: 200px;max-width: 100%;overflow: auto;}#sk-container-id-2 input.sk-toggleable__control:checked~label.sk-toggleable__label-arrow:before {content: \"▾\";}#sk-container-id-2 div.sk-estimator input.sk-toggleable__control:checked~label.sk-toggleable__label {background-color: #d4ebff;}#sk-container-id-2 div.sk-label input.sk-toggleable__control:checked~label.sk-toggleable__label {background-color: #d4ebff;}#sk-container-id-2 input.sk-hidden--visually {border: 0;clip: rect(1px 1px 1px 1px);clip: rect(1px, 1px, 1px, 1px);height: 1px;margin: -1px;overflow: hidden;padding: 0;position: absolute;width: 1px;}#sk-container-id-2 div.sk-estimator {font-family: monospace;background-color: #f0f8ff;border: 1px dotted black;border-radius: 0.25em;box-sizing: border-box;margin-bottom: 0.5em;}#sk-container-id-2 div.sk-estimator:hover {background-color: #d4ebff;}#sk-container-id-2 div.sk-parallel-item::after {content: \"\";width: 100%;border-bottom: 1px solid gray;flex-grow: 1;}#sk-container-id-2 div.sk-label:hover label.sk-toggleable__label {background-color: #d4ebff;}#sk-container-id-2 div.sk-serial::before {content: \"\";position: absolute;border-left: 1px solid gray;box-sizing: border-box;top: 0;bottom: 0;left: 50%;z-index: 0;}#sk-container-id-2 div.sk-serial {display: flex;flex-direction: column;align-items: center;background-color: white;padding-right: 0.2em;padding-left: 0.2em;position: relative;}#sk-container-id-2 div.sk-item {position: relative;z-index: 1;}#sk-container-id-2 div.sk-parallel {display: flex;align-items: stretch;justify-content: center;background-color: white;position: relative;}#sk-container-id-2 div.sk-item::before, #sk-container-id-2 div.sk-parallel-item::before {content: \"\";position: absolute;border-left: 1px solid gray;box-sizing: border-box;top: 0;bottom: 0;left: 50%;z-index: -1;}#sk-container-id-2 div.sk-parallel-item {display: flex;flex-direction: column;z-index: 1;position: relative;background-color: white;}#sk-container-id-2 div.sk-parallel-item:first-child::after {align-self: flex-end;width: 50%;}#sk-container-id-2 div.sk-parallel-item:last-child::after {align-self: flex-start;width: 50%;}#sk-container-id-2 div.sk-parallel-item:only-child::after {width: 0;}#sk-container-id-2 div.sk-dashed-wrapped {border: 1px dashed gray;margin: 0 0.4em 0.5em 0.4em;box-sizing: border-box;padding-bottom: 0.4em;background-color: white;}#sk-container-id-2 div.sk-label label {font-family: monospace;font-weight: bold;display: inline-block;line-height: 1.2em;}#sk-container-id-2 div.sk-label-container {text-align: center;}#sk-container-id-2 div.sk-container {/* jupyter's `normalize.less` sets `[hidden] { display: none; }` but bootstrap.min.css set `[hidden] { display: none !important; }` so we also need the `!important` here to be able to override the default hidden behavior on the sphinx rendered scikit-learn.org. See: https://github.com/scikit-learn/scikit-learn/issues/21755 */display: inline-block !important;position: relative;}#sk-container-id-2 div.sk-text-repr-fallback {display: none;}</style><div id=\"sk-container-id-2\" class=\"sk-top-container\"><div class=\"sk-text-repr-fallback\"><pre>MultinomialNB()</pre><b>In a Jupyter environment, please rerun this cell to show the HTML representation or trust the notebook. <br />On GitHub, the HTML representation is unable to render, please try loading this page with nbviewer.org.</b></div><div class=\"sk-container\" hidden><div class=\"sk-item\"><div class=\"sk-estimator sk-toggleable\"><input class=\"sk-toggleable__control sk-hidden--visually\" id=\"sk-estimator-id-2\" type=\"checkbox\" checked><label for=\"sk-estimator-id-2\" class=\"sk-toggleable__label sk-toggleable__label-arrow\">MultinomialNB</label><div class=\"sk-toggleable__content\"><pre>MultinomialNB()</pre></div></div></div></div></div>"
            ],
            "text/plain": [
              "MultinomialNB()"
            ]
          },
          "execution_count": 36,
          "metadata": {},
          "output_type": "execute_result"
        }
      ],
      "source": [
        "# Train the Multinomial Naive Bayes classifier using bigrams\n",
        "nb_classifier_bigrams = MultinomialNB()\n",
        "nb_classifier_bigrams.fit(X_train, y_train)\n"
      ]
    },
    {
      "cell_type": "code",
      "execution_count": null,
      "id": "a884d40e",
      "metadata": {
        "id": "a884d40e"
      },
      "outputs": [],
      "source": [
        "# Predictions\n",
        "y_pred_bigrams = nb_classifier_bigrams.predict(X_test)\n"
      ]
    },
    {
      "cell_type": "code",
      "execution_count": null,
      "id": "0fc2e490",
      "metadata": {
        "id": "0fc2e490",
        "outputId": "6e2f21a4-8660-4896-bf5b-31439513ac34"
      },
      "outputs": [
        {
          "name": "stdout",
          "output_type": "stream",
          "text": [
            "Accuracy (Bigrams - TFIDF): 0.805\n",
            "Classification Report (Bigrams - TFIDF):\n",
            "              precision    recall  f1-score   support\n",
            "\n",
            "           0       0.76      0.89      0.82       199\n",
            "           1       0.87      0.72      0.79       201\n",
            "\n",
            "    accuracy                           0.81       400\n",
            "   macro avg       0.81      0.81      0.80       400\n",
            "weighted avg       0.81      0.81      0.80       400\n",
            "\n"
          ]
        }
      ],
      "source": [
        "# Evaluating the classifier\n",
        "accuracy_bigrams = accuracy_score(y_test, y_pred_bigrams)\n",
        "print(\"Accuracy (Bigrams - TFIDF):\", accuracy_bigrams)\n",
        "print(\"Classification Report (Bigrams - TFIDF):\")\n",
        "print(classification_report(y_test, y_pred_bigrams))"
      ]
    },
    {
      "cell_type": "code",
      "execution_count": null,
      "id": "d1dcf689",
      "metadata": {
        "id": "d1dcf689"
      },
      "outputs": [],
      "source": [
        "# Splitting the data into training and testing sets (for bag of words)\n",
        "X_train_unigrams, X_test_unigrams, y_train_unigrams, y_test_unigrams = train_test_split(X_unigrams, labels, test_size=0.2, random_state=42)\n",
        "X_train_bigrams, X_test_bigrams, y_train_bigrams, y_test_bigrams = train_test_split(X_bigrams, labels, test_size=0.2, random_state=42)\n"
      ]
    },
    {
      "cell_type": "code",
      "execution_count": null,
      "id": "fa8f1bba",
      "metadata": {
        "id": "fa8f1bba",
        "outputId": "ea90c266-4c1c-4360-de33-b3c88ba0b484"
      },
      "outputs": [
        {
          "data": {
            "text/html": [
              "<style>#sk-container-id-3 {color: black;}#sk-container-id-3 pre{padding: 0;}#sk-container-id-3 div.sk-toggleable {background-color: white;}#sk-container-id-3 label.sk-toggleable__label {cursor: pointer;display: block;width: 100%;margin-bottom: 0;padding: 0.3em;box-sizing: border-box;text-align: center;}#sk-container-id-3 label.sk-toggleable__label-arrow:before {content: \"▸\";float: left;margin-right: 0.25em;color: #696969;}#sk-container-id-3 label.sk-toggleable__label-arrow:hover:before {color: black;}#sk-container-id-3 div.sk-estimator:hover label.sk-toggleable__label-arrow:before {color: black;}#sk-container-id-3 div.sk-toggleable__content {max-height: 0;max-width: 0;overflow: hidden;text-align: left;background-color: #f0f8ff;}#sk-container-id-3 div.sk-toggleable__content pre {margin: 0.2em;color: black;border-radius: 0.25em;background-color: #f0f8ff;}#sk-container-id-3 input.sk-toggleable__control:checked~div.sk-toggleable__content {max-height: 200px;max-width: 100%;overflow: auto;}#sk-container-id-3 input.sk-toggleable__control:checked~label.sk-toggleable__label-arrow:before {content: \"▾\";}#sk-container-id-3 div.sk-estimator input.sk-toggleable__control:checked~label.sk-toggleable__label {background-color: #d4ebff;}#sk-container-id-3 div.sk-label input.sk-toggleable__control:checked~label.sk-toggleable__label {background-color: #d4ebff;}#sk-container-id-3 input.sk-hidden--visually {border: 0;clip: rect(1px 1px 1px 1px);clip: rect(1px, 1px, 1px, 1px);height: 1px;margin: -1px;overflow: hidden;padding: 0;position: absolute;width: 1px;}#sk-container-id-3 div.sk-estimator {font-family: monospace;background-color: #f0f8ff;border: 1px dotted black;border-radius: 0.25em;box-sizing: border-box;margin-bottom: 0.5em;}#sk-container-id-3 div.sk-estimator:hover {background-color: #d4ebff;}#sk-container-id-3 div.sk-parallel-item::after {content: \"\";width: 100%;border-bottom: 1px solid gray;flex-grow: 1;}#sk-container-id-3 div.sk-label:hover label.sk-toggleable__label {background-color: #d4ebff;}#sk-container-id-3 div.sk-serial::before {content: \"\";position: absolute;border-left: 1px solid gray;box-sizing: border-box;top: 0;bottom: 0;left: 50%;z-index: 0;}#sk-container-id-3 div.sk-serial {display: flex;flex-direction: column;align-items: center;background-color: white;padding-right: 0.2em;padding-left: 0.2em;position: relative;}#sk-container-id-3 div.sk-item {position: relative;z-index: 1;}#sk-container-id-3 div.sk-parallel {display: flex;align-items: stretch;justify-content: center;background-color: white;position: relative;}#sk-container-id-3 div.sk-item::before, #sk-container-id-3 div.sk-parallel-item::before {content: \"\";position: absolute;border-left: 1px solid gray;box-sizing: border-box;top: 0;bottom: 0;left: 50%;z-index: -1;}#sk-container-id-3 div.sk-parallel-item {display: flex;flex-direction: column;z-index: 1;position: relative;background-color: white;}#sk-container-id-3 div.sk-parallel-item:first-child::after {align-self: flex-end;width: 50%;}#sk-container-id-3 div.sk-parallel-item:last-child::after {align-self: flex-start;width: 50%;}#sk-container-id-3 div.sk-parallel-item:only-child::after {width: 0;}#sk-container-id-3 div.sk-dashed-wrapped {border: 1px dashed gray;margin: 0 0.4em 0.5em 0.4em;box-sizing: border-box;padding-bottom: 0.4em;background-color: white;}#sk-container-id-3 div.sk-label label {font-family: monospace;font-weight: bold;display: inline-block;line-height: 1.2em;}#sk-container-id-3 div.sk-label-container {text-align: center;}#sk-container-id-3 div.sk-container {/* jupyter's `normalize.less` sets `[hidden] { display: none; }` but bootstrap.min.css set `[hidden] { display: none !important; }` so we also need the `!important` here to be able to override the default hidden behavior on the sphinx rendered scikit-learn.org. See: https://github.com/scikit-learn/scikit-learn/issues/21755 */display: inline-block !important;position: relative;}#sk-container-id-3 div.sk-text-repr-fallback {display: none;}</style><div id=\"sk-container-id-3\" class=\"sk-top-container\"><div class=\"sk-text-repr-fallback\"><pre>MultinomialNB()</pre><b>In a Jupyter environment, please rerun this cell to show the HTML representation or trust the notebook. <br />On GitHub, the HTML representation is unable to render, please try loading this page with nbviewer.org.</b></div><div class=\"sk-container\" hidden><div class=\"sk-item\"><div class=\"sk-estimator sk-toggleable\"><input class=\"sk-toggleable__control sk-hidden--visually\" id=\"sk-estimator-id-3\" type=\"checkbox\" checked><label for=\"sk-estimator-id-3\" class=\"sk-toggleable__label sk-toggleable__label-arrow\">MultinomialNB</label><div class=\"sk-toggleable__content\"><pre>MultinomialNB()</pre></div></div></div></div></div>"
            ],
            "text/plain": [
              "MultinomialNB()"
            ]
          },
          "execution_count": 42,
          "metadata": {},
          "output_type": "execute_result"
        }
      ],
      "source": [
        "# Training the Multinomial Naive Bayes classifier using bag of words (unigrams)\n",
        "nb_classifier_unigrams_bow = MultinomialNB()\n",
        "nb_classifier_unigrams_bow.fit(X_train_unigrams, y_train_unigrams)\n"
      ]
    },
    {
      "cell_type": "code",
      "execution_count": null,
      "id": "fac2d476",
      "metadata": {
        "id": "fac2d476"
      },
      "outputs": [],
      "source": [
        "# Predictions (unigrams)\n",
        "y_pred_unigrams_bow = nb_classifier_unigrams_bow.predict(X_test_unigrams)\n"
      ]
    },
    {
      "cell_type": "code",
      "execution_count": null,
      "id": "115420e3",
      "metadata": {
        "id": "115420e3",
        "outputId": "b795e6d9-88fd-4c86-eaa5-caefd55f3f4e"
      },
      "outputs": [
        {
          "name": "stdout",
          "output_type": "stream",
          "text": [
            "Accuracy (Unigrams - Bag of Words): 0.8175\n",
            "Classification Report (Unigrams - Bag of Words):\n",
            "              precision    recall  f1-score   support\n",
            "\n",
            "           0       0.80      0.84      0.82       199\n",
            "           1       0.84      0.79      0.81       201\n",
            "\n",
            "    accuracy                           0.82       400\n",
            "   macro avg       0.82      0.82      0.82       400\n",
            "weighted avg       0.82      0.82      0.82       400\n",
            "\n"
          ]
        }
      ],
      "source": [
        "# Evaluating the classifier (unigrams)\n",
        "accuracy_unigrams_bow = accuracy_score(y_test_unigrams, y_pred_unigrams_bow)\n",
        "print(\"Accuracy (Unigrams - Bag of Words):\", accuracy_unigrams_bow)\n",
        "print(\"Classification Report (Unigrams - Bag of Words):\")\n",
        "print(classification_report(y_test_unigrams, y_pred_unigrams_bow))\n"
      ]
    },
    {
      "cell_type": "code",
      "execution_count": null,
      "id": "9cb03f5d",
      "metadata": {
        "id": "9cb03f5d",
        "outputId": "9a2c9e62-1b57-4f0f-cf84-0a50c31abb6c"
      },
      "outputs": [
        {
          "data": {
            "text/html": [
              "<style>#sk-container-id-4 {color: black;}#sk-container-id-4 pre{padding: 0;}#sk-container-id-4 div.sk-toggleable {background-color: white;}#sk-container-id-4 label.sk-toggleable__label {cursor: pointer;display: block;width: 100%;margin-bottom: 0;padding: 0.3em;box-sizing: border-box;text-align: center;}#sk-container-id-4 label.sk-toggleable__label-arrow:before {content: \"▸\";float: left;margin-right: 0.25em;color: #696969;}#sk-container-id-4 label.sk-toggleable__label-arrow:hover:before {color: black;}#sk-container-id-4 div.sk-estimator:hover label.sk-toggleable__label-arrow:before {color: black;}#sk-container-id-4 div.sk-toggleable__content {max-height: 0;max-width: 0;overflow: hidden;text-align: left;background-color: #f0f8ff;}#sk-container-id-4 div.sk-toggleable__content pre {margin: 0.2em;color: black;border-radius: 0.25em;background-color: #f0f8ff;}#sk-container-id-4 input.sk-toggleable__control:checked~div.sk-toggleable__content {max-height: 200px;max-width: 100%;overflow: auto;}#sk-container-id-4 input.sk-toggleable__control:checked~label.sk-toggleable__label-arrow:before {content: \"▾\";}#sk-container-id-4 div.sk-estimator input.sk-toggleable__control:checked~label.sk-toggleable__label {background-color: #d4ebff;}#sk-container-id-4 div.sk-label input.sk-toggleable__control:checked~label.sk-toggleable__label {background-color: #d4ebff;}#sk-container-id-4 input.sk-hidden--visually {border: 0;clip: rect(1px 1px 1px 1px);clip: rect(1px, 1px, 1px, 1px);height: 1px;margin: -1px;overflow: hidden;padding: 0;position: absolute;width: 1px;}#sk-container-id-4 div.sk-estimator {font-family: monospace;background-color: #f0f8ff;border: 1px dotted black;border-radius: 0.25em;box-sizing: border-box;margin-bottom: 0.5em;}#sk-container-id-4 div.sk-estimator:hover {background-color: #d4ebff;}#sk-container-id-4 div.sk-parallel-item::after {content: \"\";width: 100%;border-bottom: 1px solid gray;flex-grow: 1;}#sk-container-id-4 div.sk-label:hover label.sk-toggleable__label {background-color: #d4ebff;}#sk-container-id-4 div.sk-serial::before {content: \"\";position: absolute;border-left: 1px solid gray;box-sizing: border-box;top: 0;bottom: 0;left: 50%;z-index: 0;}#sk-container-id-4 div.sk-serial {display: flex;flex-direction: column;align-items: center;background-color: white;padding-right: 0.2em;padding-left: 0.2em;position: relative;}#sk-container-id-4 div.sk-item {position: relative;z-index: 1;}#sk-container-id-4 div.sk-parallel {display: flex;align-items: stretch;justify-content: center;background-color: white;position: relative;}#sk-container-id-4 div.sk-item::before, #sk-container-id-4 div.sk-parallel-item::before {content: \"\";position: absolute;border-left: 1px solid gray;box-sizing: border-box;top: 0;bottom: 0;left: 50%;z-index: -1;}#sk-container-id-4 div.sk-parallel-item {display: flex;flex-direction: column;z-index: 1;position: relative;background-color: white;}#sk-container-id-4 div.sk-parallel-item:first-child::after {align-self: flex-end;width: 50%;}#sk-container-id-4 div.sk-parallel-item:last-child::after {align-self: flex-start;width: 50%;}#sk-container-id-4 div.sk-parallel-item:only-child::after {width: 0;}#sk-container-id-4 div.sk-dashed-wrapped {border: 1px dashed gray;margin: 0 0.4em 0.5em 0.4em;box-sizing: border-box;padding-bottom: 0.4em;background-color: white;}#sk-container-id-4 div.sk-label label {font-family: monospace;font-weight: bold;display: inline-block;line-height: 1.2em;}#sk-container-id-4 div.sk-label-container {text-align: center;}#sk-container-id-4 div.sk-container {/* jupyter's `normalize.less` sets `[hidden] { display: none; }` but bootstrap.min.css set `[hidden] { display: none !important; }` so we also need the `!important` here to be able to override the default hidden behavior on the sphinx rendered scikit-learn.org. See: https://github.com/scikit-learn/scikit-learn/issues/21755 */display: inline-block !important;position: relative;}#sk-container-id-4 div.sk-text-repr-fallback {display: none;}</style><div id=\"sk-container-id-4\" class=\"sk-top-container\"><div class=\"sk-text-repr-fallback\"><pre>MultinomialNB()</pre><b>In a Jupyter environment, please rerun this cell to show the HTML representation or trust the notebook. <br />On GitHub, the HTML representation is unable to render, please try loading this page with nbviewer.org.</b></div><div class=\"sk-container\" hidden><div class=\"sk-item\"><div class=\"sk-estimator sk-toggleable\"><input class=\"sk-toggleable__control sk-hidden--visually\" id=\"sk-estimator-id-4\" type=\"checkbox\" checked><label for=\"sk-estimator-id-4\" class=\"sk-toggleable__label sk-toggleable__label-arrow\">MultinomialNB</label><div class=\"sk-toggleable__content\"><pre>MultinomialNB()</pre></div></div></div></div></div>"
            ],
            "text/plain": [
              "MultinomialNB()"
            ]
          },
          "execution_count": 45,
          "metadata": {},
          "output_type": "execute_result"
        }
      ],
      "source": [
        "# Training the Multinomial Naive Bayes classifier using bag of words (bigrams)\n",
        "nb_classifier_bigrams_bow = MultinomialNB()\n",
        "nb_classifier_bigrams_bow.fit(X_train_bigrams, y_train_bigrams)\n"
      ]
    },
    {
      "cell_type": "code",
      "execution_count": null,
      "id": "b5637a55",
      "metadata": {
        "id": "b5637a55"
      },
      "outputs": [],
      "source": [
        "# Predictions (bigrams)\n",
        "y_pred_bigrams_bow = nb_classifier_bigrams_bow.predict(X_test_bigrams)\n"
      ]
    },
    {
      "cell_type": "code",
      "execution_count": null,
      "id": "9fd83412",
      "metadata": {
        "id": "9fd83412",
        "outputId": "1210b6e9-0f76-422b-bf42-8684b446534f"
      },
      "outputs": [
        {
          "name": "stdout",
          "output_type": "stream",
          "text": [
            "\n",
            "Accuracy (Bigrams - Bag of Words): 0.74\n",
            "Classification Report (Bigrams - Bag of Words):\n",
            "              precision    recall  f1-score   support\n",
            "\n",
            "           0       0.67      0.92      0.78       199\n",
            "           1       0.88      0.56      0.68       201\n",
            "\n",
            "    accuracy                           0.74       400\n",
            "   macro avg       0.78      0.74      0.73       400\n",
            "weighted avg       0.78      0.74      0.73       400\n",
            "\n"
          ]
        }
      ],
      "source": [
        "# Evaluating the classifier (bigrams)\n",
        "accuracy_bigrams_bow = accuracy_score(y_test_bigrams, y_pred_bigrams_bow)\n",
        "print(\"\\nAccuracy (Bigrams - Bag of Words):\", accuracy_bigrams_bow)\n",
        "print(\"Classification Report (Bigrams - Bag of Words):\")\n",
        "print(classification_report(y_test_bigrams, y_pred_bigrams_bow))"
      ]
    },
    {
      "cell_type": "markdown",
      "id": "7ebb2323",
      "metadata": {
        "id": "7ebb2323"
      },
      "source": [
        "### Question 4"
      ]
    },
    {
      "cell_type": "code",
      "execution_count": null,
      "id": "ea0bdf8f",
      "metadata": {
        "id": "ea0bdf8f"
      },
      "outputs": [],
      "source": [
        "from nltk.collocations import BigramCollocationFinder\n",
        "from nltk.metrics import BigramAssocMeasures"
      ]
    },
    {
      "cell_type": "code",
      "execution_count": null,
      "id": "b7379d61",
      "metadata": {
        "id": "b7379d61"
      },
      "outputs": [],
      "source": [
        "# Tokenize the preprocessed reviews into words\n",
        "tokenized_reviews = [word_tokenize(review) for review in preprocessed_reviews]\n"
      ]
    },
    {
      "cell_type": "code",
      "execution_count": null,
      "id": "373aa483",
      "metadata": {
        "id": "373aa483"
      },
      "outputs": [],
      "source": [
        "# Create a BigramCollocationFinder\n",
        "bigram_collocations = BigramCollocationFinder.from_documents(tokenized_reviews)\n"
      ]
    },
    {
      "cell_type": "code",
      "execution_count": null,
      "id": "7b069e87",
      "metadata": {
        "id": "7b069e87"
      },
      "outputs": [],
      "source": [
        "# Calculate PPMI for each bigram\n",
        "ppmi_scores = bigram_collocations.score_ngrams(BigramAssocMeasures.pmi)\n"
      ]
    },
    {
      "cell_type": "code",
      "execution_count": null,
      "id": "b9c0a6d3",
      "metadata": {
        "id": "b9c0a6d3"
      },
      "outputs": [],
      "source": [
        "# Sort the bigrams by PPMI score in descending order and get the top 10\n",
        "top_10_bigrams_ppmi = sorted(ppmi_scores, key=lambda x: -x[1])[:10]\n"
      ]
    },
    {
      "cell_type": "code",
      "execution_count": null,
      "id": "6bee7718",
      "metadata": {
        "id": "6bee7718",
        "outputId": "7130a39d-9284-4eb4-a413-62850768f4ad"
      },
      "outputs": [
        {
          "name": "stdout",
          "output_type": "stream",
          "text": [
            "Top 10 Bigram Collocations based on PPMI:\n",
            "05425 keywords (PPMI Score: 19.43783)\n",
            "122 braxtons (PPMI Score: 19.43783)\n",
            "1272 1305 (PPMI Score: 19.43783)\n",
            "165 mph (PPMI Score: 19.43783)\n",
            "1812 overture (PPMI Score: 19.43783)\n",
            "18foothigh 43footlong (PPMI Score: 19.43783)\n",
            "1926 novella (PPMI Score: 19.43783)\n",
            "1972s shaftsbigscore (PPMI Score: 19.43783)\n",
            "1973s shaftinafrica (PPMI Score: 19.43783)\n",
            "1hr 40mins (PPMI Score: 19.43783)\n"
          ]
        }
      ],
      "source": [
        "# Display the top 10 bigrams and their PPMI scores\n",
        "print(\"Top 10 Bigram Collocations based on PPMI:\")\n",
        "for bigram, pmi_score in top_10_bigrams_ppmi:\n",
        "    print(' '.join(bigram), f'(PPMI Score: {pmi_score:.5f})')"
      ]
    },
    {
      "cell_type": "markdown",
      "id": "679fadc8",
      "metadata": {
        "id": "679fadc8"
      },
      "source": [
        "### Question 5"
      ]
    },
    {
      "cell_type": "code",
      "execution_count": null,
      "id": "f4a8f7b0",
      "metadata": {
        "id": "f4a8f7b0"
      },
      "outputs": [],
      "source": [
        "from __future__ import print_function\n",
        "import pyLDAvis\n"
      ]
    },
    {
      "cell_type": "code",
      "execution_count": null,
      "id": "71dc345f",
      "metadata": {
        "id": "71dc345f"
      },
      "outputs": [],
      "source": [
        "import pyLDAvis.lda_model\n",
        "pyLDAvis.enable_notebook()\n",
        "from sklearn.datasets import fetch_20newsgroups\n",
        "from sklearn.feature_extraction.text import CountVectorizer, TfidfVectorizer\n",
        "from sklearn.decomposition import LatentDirichletAllocation"
      ]
    },
    {
      "cell_type": "code",
      "execution_count": null,
      "id": "10d30f78",
      "metadata": {
        "id": "10d30f78",
        "outputId": "7e273550-d3c6-4748-9fb2-d9a8bd841920"
      },
      "outputs": [
        {
          "name": "stdout",
          "output_type": "stream",
          "text": [
            "1733\n"
          ]
        }
      ],
      "source": [
        "# Load 20 newsgroups dataset and filter by specified categories\n",
        "categories = ['sci.med', 'sci.space', 'talk.politics.guns']\n",
        "newsgroups = fetch_20newsgroups(remove=('headers', 'footers', 'quotes'), categories=categories)\n",
        "docs_raw = newsgroups.data\n",
        "print(len(docs_raw))"
      ]
    },
    {
      "cell_type": "code",
      "execution_count": null,
      "id": "ed27f776",
      "metadata": {
        "id": "ed27f776",
        "outputId": "454e3a03-1347-4f0e-8bbb-caeb02eaf882"
      },
      "outputs": [
        {
          "name": "stdout",
          "output_type": "stream",
          "text": [
            "['sci.med', 'sci.space', 'talk.politics.guns']\n"
          ]
        }
      ],
      "source": [
        "# Print target names\n",
        "from pprint import pprint\n",
        "pprint(list(newsgroups.target_names))"
      ]
    },
    {
      "cell_type": "code",
      "execution_count": null,
      "id": "2ddf0275",
      "metadata": {
        "id": "2ddf0275",
        "outputId": "21801de8-c51d-438c-da02-cec1f807a43c"
      },
      "outputs": [
        {
          "name": "stdout",
          "output_type": "stream",
          "text": [
            "(1733, 2589)\n"
          ]
        }
      ],
      "source": [
        "# Convert to document-term matrix\n",
        "tf_vectorizer = CountVectorizer(strip_accents='unicode',\n",
        "                                stop_words='english',\n",
        "                                lowercase=True,\n",
        "                                token_pattern=r'\\b[a-zA-Z]{3,}\\b',\n",
        "                                max_df=0.5,\n",
        "                                min_df=10)\n",
        "dtm_tf = tf_vectorizer.fit_transform(docs_raw)\n",
        "print(dtm_tf.shape)"
      ]
    },
    {
      "cell_type": "code",
      "execution_count": null,
      "id": "cd65b9c3",
      "metadata": {
        "id": "cd65b9c3",
        "outputId": "f28e2157-d74b-4f6d-d2a2-0895f7b0aa86"
      },
      "outputs": [
        {
          "name": "stdout",
          "output_type": "stream",
          "text": [
            "(1733, 2589)\n"
          ]
        },
        {
          "name": "stderr",
          "output_type": "stream",
          "text": [
            "/Users/sumanthmungi/anaconda3/lib/python3.11/site-packages/sklearn/feature_extraction/text.py:2065: UserWarning: Only (<class 'numpy.float64'>, <class 'numpy.float32'>, <class 'numpy.float16'>) 'dtype' should be used. <class 'numpy.int64'> 'dtype' will be converted to np.float64.\n",
            "  warnings.warn(\n"
          ]
        }
      ],
      "source": [
        "tfidf_vectorizer = TfidfVectorizer(**tf_vectorizer.get_params())\n",
        "dtm_tfidf = tfidf_vectorizer.fit_transform(docs_raw)\n",
        "print(dtm_tfidf.shape)"
      ]
    },
    {
      "cell_type": "code",
      "execution_count": null,
      "id": "79845cf7",
      "metadata": {
        "id": "79845cf7",
        "outputId": "29517ec2-48df-4c95-a11f-2f1b8cc114dc"
      },
      "outputs": [
        {
          "data": {
            "text/html": [
              "<style>#sk-container-id-7 {color: black;}#sk-container-id-7 pre{padding: 0;}#sk-container-id-7 div.sk-toggleable {background-color: white;}#sk-container-id-7 label.sk-toggleable__label {cursor: pointer;display: block;width: 100%;margin-bottom: 0;padding: 0.3em;box-sizing: border-box;text-align: center;}#sk-container-id-7 label.sk-toggleable__label-arrow:before {content: \"▸\";float: left;margin-right: 0.25em;color: #696969;}#sk-container-id-7 label.sk-toggleable__label-arrow:hover:before {color: black;}#sk-container-id-7 div.sk-estimator:hover label.sk-toggleable__label-arrow:before {color: black;}#sk-container-id-7 div.sk-toggleable__content {max-height: 0;max-width: 0;overflow: hidden;text-align: left;background-color: #f0f8ff;}#sk-container-id-7 div.sk-toggleable__content pre {margin: 0.2em;color: black;border-radius: 0.25em;background-color: #f0f8ff;}#sk-container-id-7 input.sk-toggleable__control:checked~div.sk-toggleable__content {max-height: 200px;max-width: 100%;overflow: auto;}#sk-container-id-7 input.sk-toggleable__control:checked~label.sk-toggleable__label-arrow:before {content: \"▾\";}#sk-container-id-7 div.sk-estimator input.sk-toggleable__control:checked~label.sk-toggleable__label {background-color: #d4ebff;}#sk-container-id-7 div.sk-label input.sk-toggleable__control:checked~label.sk-toggleable__label {background-color: #d4ebff;}#sk-container-id-7 input.sk-hidden--visually {border: 0;clip: rect(1px 1px 1px 1px);clip: rect(1px, 1px, 1px, 1px);height: 1px;margin: -1px;overflow: hidden;padding: 0;position: absolute;width: 1px;}#sk-container-id-7 div.sk-estimator {font-family: monospace;background-color: #f0f8ff;border: 1px dotted black;border-radius: 0.25em;box-sizing: border-box;margin-bottom: 0.5em;}#sk-container-id-7 div.sk-estimator:hover {background-color: #d4ebff;}#sk-container-id-7 div.sk-parallel-item::after {content: \"\";width: 100%;border-bottom: 1px solid gray;flex-grow: 1;}#sk-container-id-7 div.sk-label:hover label.sk-toggleable__label {background-color: #d4ebff;}#sk-container-id-7 div.sk-serial::before {content: \"\";position: absolute;border-left: 1px solid gray;box-sizing: border-box;top: 0;bottom: 0;left: 50%;z-index: 0;}#sk-container-id-7 div.sk-serial {display: flex;flex-direction: column;align-items: center;background-color: white;padding-right: 0.2em;padding-left: 0.2em;position: relative;}#sk-container-id-7 div.sk-item {position: relative;z-index: 1;}#sk-container-id-7 div.sk-parallel {display: flex;align-items: stretch;justify-content: center;background-color: white;position: relative;}#sk-container-id-7 div.sk-item::before, #sk-container-id-7 div.sk-parallel-item::before {content: \"\";position: absolute;border-left: 1px solid gray;box-sizing: border-box;top: 0;bottom: 0;left: 50%;z-index: -1;}#sk-container-id-7 div.sk-parallel-item {display: flex;flex-direction: column;z-index: 1;position: relative;background-color: white;}#sk-container-id-7 div.sk-parallel-item:first-child::after {align-self: flex-end;width: 50%;}#sk-container-id-7 div.sk-parallel-item:last-child::after {align-self: flex-start;width: 50%;}#sk-container-id-7 div.sk-parallel-item:only-child::after {width: 0;}#sk-container-id-7 div.sk-dashed-wrapped {border: 1px dashed gray;margin: 0 0.4em 0.5em 0.4em;box-sizing: border-box;padding-bottom: 0.4em;background-color: white;}#sk-container-id-7 div.sk-label label {font-family: monospace;font-weight: bold;display: inline-block;line-height: 1.2em;}#sk-container-id-7 div.sk-label-container {text-align: center;}#sk-container-id-7 div.sk-container {/* jupyter's `normalize.less` sets `[hidden] { display: none; }` but bootstrap.min.css set `[hidden] { display: none !important; }` so we also need the `!important` here to be able to override the default hidden behavior on the sphinx rendered scikit-learn.org. See: https://github.com/scikit-learn/scikit-learn/issues/21755 */display: inline-block !important;position: relative;}#sk-container-id-7 div.sk-text-repr-fallback {display: none;}</style><div id=\"sk-container-id-7\" class=\"sk-top-container\"><div class=\"sk-text-repr-fallback\"><pre>LatentDirichletAllocation(learning_method=&#x27;online&#x27;, n_components=20, n_jobs=1,\n",
              "                          random_state=0)</pre><b>In a Jupyter environment, please rerun this cell to show the HTML representation or trust the notebook. <br />On GitHub, the HTML representation is unable to render, please try loading this page with nbviewer.org.</b></div><div class=\"sk-container\" hidden><div class=\"sk-item\"><div class=\"sk-estimator sk-toggleable\"><input class=\"sk-toggleable__control sk-hidden--visually\" id=\"sk-estimator-id-7\" type=\"checkbox\" checked><label for=\"sk-estimator-id-7\" class=\"sk-toggleable__label sk-toggleable__label-arrow\">LatentDirichletAllocation</label><div class=\"sk-toggleable__content\"><pre>LatentDirichletAllocation(learning_method=&#x27;online&#x27;, n_components=20, n_jobs=1,\n",
              "                          random_state=0)</pre></div></div></div></div></div>"
            ],
            "text/plain": [
              "LatentDirichletAllocation(learning_method='online', n_components=20, n_jobs=1,\n",
              "                          random_state=0)"
            ]
          },
          "execution_count": 68,
          "metadata": {},
          "output_type": "execute_result"
        }
      ],
      "source": [
        "# Fit Latent Dirichlet Allocation models\n",
        "lda_tf = LatentDirichletAllocation(n_components=20, random_state=0,\n",
        "                                   batch_size=128, doc_topic_prior=None,\n",
        "                                   evaluate_every=-1, learning_decay=0.7,\n",
        "                                   learning_method='online', learning_offset=10.0,\n",
        "                                   max_doc_update_iter=100, max_iter=10,\n",
        "                                   mean_change_tol=0.001, n_jobs=1,\n",
        "                                   perp_tol=0.1, topic_word_prior=None,\n",
        "                                   total_samples=1000000.0, verbose=0)\n",
        "lda_tf.fit(dtm_tf)\n"
      ]
    },
    {
      "cell_type": "code",
      "execution_count": null,
      "id": "e3d87939",
      "metadata": {
        "id": "e3d87939",
        "outputId": "a5690977-a101-4543-dd46-59005abcc84b"
      },
      "outputs": [
        {
          "data": {
            "text/html": [
              "<style>#sk-container-id-8 {color: black;}#sk-container-id-8 pre{padding: 0;}#sk-container-id-8 div.sk-toggleable {background-color: white;}#sk-container-id-8 label.sk-toggleable__label {cursor: pointer;display: block;width: 100%;margin-bottom: 0;padding: 0.3em;box-sizing: border-box;text-align: center;}#sk-container-id-8 label.sk-toggleable__label-arrow:before {content: \"▸\";float: left;margin-right: 0.25em;color: #696969;}#sk-container-id-8 label.sk-toggleable__label-arrow:hover:before {color: black;}#sk-container-id-8 div.sk-estimator:hover label.sk-toggleable__label-arrow:before {color: black;}#sk-container-id-8 div.sk-toggleable__content {max-height: 0;max-width: 0;overflow: hidden;text-align: left;background-color: #f0f8ff;}#sk-container-id-8 div.sk-toggleable__content pre {margin: 0.2em;color: black;border-radius: 0.25em;background-color: #f0f8ff;}#sk-container-id-8 input.sk-toggleable__control:checked~div.sk-toggleable__content {max-height: 200px;max-width: 100%;overflow: auto;}#sk-container-id-8 input.sk-toggleable__control:checked~label.sk-toggleable__label-arrow:before {content: \"▾\";}#sk-container-id-8 div.sk-estimator input.sk-toggleable__control:checked~label.sk-toggleable__label {background-color: #d4ebff;}#sk-container-id-8 div.sk-label input.sk-toggleable__control:checked~label.sk-toggleable__label {background-color: #d4ebff;}#sk-container-id-8 input.sk-hidden--visually {border: 0;clip: rect(1px 1px 1px 1px);clip: rect(1px, 1px, 1px, 1px);height: 1px;margin: -1px;overflow: hidden;padding: 0;position: absolute;width: 1px;}#sk-container-id-8 div.sk-estimator {font-family: monospace;background-color: #f0f8ff;border: 1px dotted black;border-radius: 0.25em;box-sizing: border-box;margin-bottom: 0.5em;}#sk-container-id-8 div.sk-estimator:hover {background-color: #d4ebff;}#sk-container-id-8 div.sk-parallel-item::after {content: \"\";width: 100%;border-bottom: 1px solid gray;flex-grow: 1;}#sk-container-id-8 div.sk-label:hover label.sk-toggleable__label {background-color: #d4ebff;}#sk-container-id-8 div.sk-serial::before {content: \"\";position: absolute;border-left: 1px solid gray;box-sizing: border-box;top: 0;bottom: 0;left: 50%;z-index: 0;}#sk-container-id-8 div.sk-serial {display: flex;flex-direction: column;align-items: center;background-color: white;padding-right: 0.2em;padding-left: 0.2em;position: relative;}#sk-container-id-8 div.sk-item {position: relative;z-index: 1;}#sk-container-id-8 div.sk-parallel {display: flex;align-items: stretch;justify-content: center;background-color: white;position: relative;}#sk-container-id-8 div.sk-item::before, #sk-container-id-8 div.sk-parallel-item::before {content: \"\";position: absolute;border-left: 1px solid gray;box-sizing: border-box;top: 0;bottom: 0;left: 50%;z-index: -1;}#sk-container-id-8 div.sk-parallel-item {display: flex;flex-direction: column;z-index: 1;position: relative;background-color: white;}#sk-container-id-8 div.sk-parallel-item:first-child::after {align-self: flex-end;width: 50%;}#sk-container-id-8 div.sk-parallel-item:last-child::after {align-self: flex-start;width: 50%;}#sk-container-id-8 div.sk-parallel-item:only-child::after {width: 0;}#sk-container-id-8 div.sk-dashed-wrapped {border: 1px dashed gray;margin: 0 0.4em 0.5em 0.4em;box-sizing: border-box;padding-bottom: 0.4em;background-color: white;}#sk-container-id-8 div.sk-label label {font-family: monospace;font-weight: bold;display: inline-block;line-height: 1.2em;}#sk-container-id-8 div.sk-label-container {text-align: center;}#sk-container-id-8 div.sk-container {/* jupyter's `normalize.less` sets `[hidden] { display: none; }` but bootstrap.min.css set `[hidden] { display: none !important; }` so we also need the `!important` here to be able to override the default hidden behavior on the sphinx rendered scikit-learn.org. See: https://github.com/scikit-learn/scikit-learn/issues/21755 */display: inline-block !important;position: relative;}#sk-container-id-8 div.sk-text-repr-fallback {display: none;}</style><div id=\"sk-container-id-8\" class=\"sk-top-container\"><div class=\"sk-text-repr-fallback\"><pre>LatentDirichletAllocation(learning_method=&#x27;online&#x27;, n_components=20, n_jobs=1,\n",
              "                          random_state=0)</pre><b>In a Jupyter environment, please rerun this cell to show the HTML representation or trust the notebook. <br />On GitHub, the HTML representation is unable to render, please try loading this page with nbviewer.org.</b></div><div class=\"sk-container\" hidden><div class=\"sk-item\"><div class=\"sk-estimator sk-toggleable\"><input class=\"sk-toggleable__control sk-hidden--visually\" id=\"sk-estimator-id-8\" type=\"checkbox\" checked><label for=\"sk-estimator-id-8\" class=\"sk-toggleable__label sk-toggleable__label-arrow\">LatentDirichletAllocation</label><div class=\"sk-toggleable__content\"><pre>LatentDirichletAllocation(learning_method=&#x27;online&#x27;, n_components=20, n_jobs=1,\n",
              "                          random_state=0)</pre></div></div></div></div></div>"
            ],
            "text/plain": [
              "LatentDirichletAllocation(learning_method='online', n_components=20, n_jobs=1,\n",
              "                          random_state=0)"
            ]
          },
          "execution_count": 69,
          "metadata": {},
          "output_type": "execute_result"
        }
      ],
      "source": [
        "lda_tfidf = LatentDirichletAllocation(n_components=20, random_state=0,\n",
        "                                       batch_size=128, doc_topic_prior=None,\n",
        "                                       evaluate_every=-1, learning_decay=0.7,\n",
        "                                       learning_method='online', learning_offset=10.0,\n",
        "                                       max_doc_update_iter=100, max_iter=10,\n",
        "                                       mean_change_tol=0.001, n_jobs=1,\n",
        "                                       perp_tol=0.1, topic_word_prior=None,\n",
        "                                       total_samples=1000000.0, verbose=0)\n",
        "lda_tfidf.fit(dtm_tfidf)"
      ]
    },
    {
      "cell_type": "code",
      "execution_count": null,
      "id": "6c172628",
      "metadata": {
        "id": "6c172628",
        "outputId": "7fd53eee-fccd-45d8-c4d3-6475e5475e87"
      },
      "outputs": [
        {
          "data": {
            "text/html": [
              "\n",
              "<link rel=\"stylesheet\" type=\"text/css\" href=\"https://cdn.jsdelivr.net/gh/bmabey/pyLDAvis@3.4.0/pyLDAvis/js/ldavis.v1.0.0.css\">\n",
              "\n",
              "\n",
              "<div id=\"ldavis_el1290298259394081315603056\" style=\"background-color:white;\"></div>\n",
              "<script type=\"text/javascript\">\n",
              "\n",
              "var ldavis_el1290298259394081315603056_data = {\"mdsDat\": {\"x\": [0.08089254225399564, -0.13084778432687544, 0.13763999892202244, -0.0009136459587585227, 0.09510850810563487, 0.12835939902716798, 0.13654530231129094, 0.02240502277480087, 0.0559557585334096, -0.27666302900596385, 0.0667737830083782, 0.07969767214042586, -0.14620845003182079, 0.11955804422792596, 0.030315543905879563, -0.24334090875246234, -0.10186365179640704, -0.02746349841642502, -0.017038124659385763, -0.008912482262834281], \"y\": [-0.15205585381326722, 0.009537329944157867, -0.047235443298015774, 0.04628452110210875, -0.16090992349832112, 0.18966244263934787, -0.05964654527308071, -0.05506545130357134, -0.11524145800205396, 0.020536214601575228, 0.24425087222532182, 0.22125657792794193, 0.022380951506405754, 0.1054127348367475, -0.17847301181477834, 0.038149730457430905, -0.01922754739164757, -0.04279237938210223, -0.030735371346625937, -0.03608839011757582], \"topics\": [1, 2, 3, 4, 5, 6, 7, 8, 9, 10, 11, 12, 13, 14, 15, 16, 17, 18, 19, 20], \"cluster\": [1, 1, 1, 1, 1, 1, 1, 1, 1, 1, 1, 1, 1, 1, 1, 1, 1, 1, 1, 1], \"Freq\": [22.010198518874986, 17.627848981767336, 14.332884925769473, 8.937016806340049, 6.658290753322971, 6.208433253603967, 5.554804226912167, 2.9027830695101366, 2.8741371353069414, 2.3258669895354442, 2.133824714038145, 1.6773617909611873, 1.6404987471570691, 1.634375908896639, 1.3962476664140717, 1.1557239800546397, 0.5380763843244653, 0.16885827051040234, 0.15465632570016827, 0.06811155099974184]}, \"tinfo\": {\"Term\": [\"edu\", \"space\", \"gun\", \"file\", \"com\", \"right\", \"moon\", \"lunar\", \"nasa\", \"science\", \"earth\", \"don\", \"use\", \"orbit\", \"guns\", \"states\", \"data\", \"think\", \"information\", \"firearms\", \"law\", \"safety\", \"rocket\", \"year\", \"people\", \"cost\", \"case\", \"soon\", \"idea\", \"mission\", \"friend\", \"photography\", \"pain\", \"worked\", \"thread\", \"medication\", \"noticed\", \"muscles\", \"oil\", \"breathing\", \"fluid\", \"nasty\", \"talks\", \"slow\", \"shape\", \"massive\", \"bought\", \"suddenly\", \"fairly\", \"hot\", \"breath\", \"philosophy\", \"listen\", \"busy\", \"appreciated\", \"wonder\", \"grade\", \"efficient\", \"tissue\", \"thoughts\", \"eye\", \"face\", \"ago\", \"spent\", \"remember\", \"exact\", \"months\", \"looking\", \"know\", \"deal\", \"work\", \"like\", \"just\", \"book\", \"wasn\", \"help\", \"lack\", \"time\", \"sure\", \"little\", \"lot\", \"things\", \"getting\", \"try\", \"does\", \"problems\", \"really\", \"maybe\", \"don\", \"probably\", \"good\", \"years\", \"better\", \"think\", \"say\", \"read\", \"going\", \"way\", \"said\", \"long\", \"thing\", \"people\", \"make\", \"did\", \"new\", \"right\", \"shuttle\", \"gif\", \"missions\", \"planetary\", \"nasa\", \"ssf\", \"payload\", \"satellite\", \"launches\", \"jpl\", \"astronaut\", \"astro\", \"comet\", \"ibm\", \"module\", \"jsc\", \"orbits\", \"arc\", \"launch\", \"server\", \"dynamics\", \"aviation\", \"observatory\", \"org\", \"addresses\", \"booster\", \"contracts\", \"soviet\", \"tracking\", \"resolution\", \"space\", \"satellites\", \"russian\", \"propulsion\", \"astronomical\", \"flight\", \"technical\", \"gov\", \"technology\", \"astronomy\", \"station\", \"launched\", \"program\", \"images\", \"vehicle\", \"telescope\", \"commercial\", \"mission\", \"available\", \"data\", \"rocket\", \"center\", \"orbit\", \"solar\", \"sci\", \"information\", \"ftp\", \"systems\", \"faq\", \"earth\", \"research\", \"year\", \"science\", \"use\", \"allowed\", \"regulated\", \"proton\", \"governments\", \"andy\", \"door\", \"fear\", \"protected\", \"ufl\", \"assumption\", \"attend\", \"loud\", \"pre\", \"practicing\", \"justification\", \"justify\", \"guaranteed\", \"mining\", \"granted\", \"contrary\", \"false\", \"moral\", \"situations\", \"troops\", \"debate\", \"army\", \"restrict\", \"country\", \"commit\", \"met\", \"opinion\", \"drive\", \"dead\", \"people\", \"nice\", \"government\", \"weapons\", \"claim\", \"war\", \"make\", \"don\", \"regarding\", \"let\", \"members\", \"wouldn\", \"rights\", \"guns\", \"think\", \"far\", \"state\", \"yes\", \"public\", \"right\", \"used\", \"way\", \"just\", \"good\", \"problem\", \"like\", \"force\", \"use\", \"time\", \"say\", \"did\", \"does\", \"really\", \"want\", \"point\", \"know\", \"need\", \"gun\", \"aids\", \"dept\", \"page\", \"clinical\", \"boston\", \"newsletter\", \"items\", \"sponsor\", \"hospitals\", \"chapter\", \"prevention\", \"adult\", \"water\", \"art\", \"avenue\", \"surveillance\", \"professor\", \"findings\", \"belt\", \"conference\", \"greater\", \"consistent\", \"january\", \"allowing\", \"association\", \"california\", \"values\", \"focus\", \"maryland\", \"percent\", \"health\", \"education\", \"volume\", \"april\", \"washington\", \"york\", \"software\", \"street\", \"university\", \"medical\", \"centers\", \"research\", \"reported\", \"national\", \"department\", \"center\", \"number\", \"care\", \"new\", \"public\", \"information\", \"cancer\", \"children\", \"states\", \"age\", \"study\", \"use\", \"control\", \"years\", \"msg\", \"candida\", \"vitamin\", \"foods\", \"yeast\", \"infection\", \"infections\", \"allergic\", \"diagnosis\", \"meat\", \"sugar\", \"inflammation\", \"toxic\", \"stomach\", \"glutamate\", \"chronic\", \"seizure\", \"treatments\", \"organism\", \"diet\", \"nutrition\", \"flavor\", \"dyer\", \"diagnosed\", \"feeling\", \"acute\", \"doses\", \"symptoms\", \"placebo\", \"allergies\", \"food\", \"patients\", \"eating\", \"disease\", \"treatment\", \"syndrome\", \"brain\", \"cure\", \"patient\", \"eat\", \"cause\", \"chinese\", \"restaurant\", \"blood\", \"cancer\", \"med\", \"day\", \"medical\", \"normal\", \"doctor\", \"medicine\", \"evidence\", \"people\", \"use\", \"health\", \"problem\", \"studies\", \"handguns\", \"homicide\", \"homicides\", \"handgun\", \"hci\", \"abiding\", \"accidental\", \"crime\", \"fatal\", \"liberal\", \"murders\", \"gang\", \"crimes\", \"politicians\", \"tax\", \"victims\", \"violent\", \"owners\", \"cars\", \"ownership\", \"figures\", \"rifles\", \"bills\", \"assaults\", \"canadian\", \"firearms\", \"accidents\", \"deaths\", \"nra\", \"violence\", \"gun\", \"criminal\", \"seattle\", \"self\", \"rates\", \"guns\", \"ban\", \"criminals\", \"rate\", \"rkba\", \"waiting\", \"control\", \"defense\", \"police\", \"killed\", \"firearm\", \"assault\", \"house\", \"likely\", \"study\", \"law\", \"year\", \"weapons\", \"koresh\", \"waco\", \"fbi\", \"atf\", \"weaver\", \"davidians\", \"tear\", \"yesterday\", \"raid\", \"batf\", \"stove\", \"compound\", \"survivors\", \"cult\", \"gas\", \"drew\", \"affair\", \"harris\", \"attorney\", \"agent\", \"reno\", \"agents\", \"burned\", \"walls\", \"paranoid\", \"watched\", \"fired\", \"deputy\", \"clinton\", \"knock\", \"president\", \"authorities\", \"incident\", \"tanks\", \"texas\", \"outside\", \"happened\", \"children\", \"branch\", \"story\", \"trial\", \"didn\", \"did\", \"news\", \"thought\", \"believe\", \"started\", \"said\", \"heard\", \"people\", \"assault\", \"day\", \"government\", \"going\", \"think\", \"today\", \"miller\", \"jmd\", \"handheld\", \"hello\", \"berkeley\", \"file\", \"supreme\", \"windows\", \"com\", \"apple\", \"supports\", \"shock\", \"injury\", \"search\", \"court\", \"stephen\", \"jim\", \"richard\", \"injuries\", \"dan\", \"mit\", \"alan\", \"david\", \"brian\", \"surprise\", \"handed\", \"directory\", \"martin\", \"version\", \"michael\", \"edu\", \"john\", \"paul\", \"message\", \"archive\", \"email\", \"info\", \"break\", \"net\", \"files\", \"ftp\", \"key\", \"price\", \"mail\", \"use\", \"body\", \"anonymous\", \"don\", \"faq\", \"methodology\", \"psychology\", \"empirical\", \"mistakes\", \"insisting\", \"mary\", \"leap\", \"shafer\", \"theories\", \"wow\", \"dryden\", \"statistical\", \"crazy\", \"balls\", \"perfect\", \"minds\", \"reasoning\", \"fancy\", \"ideas\", \"rational\", \"hypothesis\", \"worthless\", \"scientist\", \"scientific\", \"hole\", \"generation\", \"lee\", \"errors\", \"newton\", \"carefully\", \"science\", \"controlled\", \"thinking\", \"experimental\", \"pat\", \"proposed\", \"investigation\", \"process\", \"results\", \"important\", \"think\", \"certainly\", \"world\", \"test\", \"safety\", \"real\", \"example\", \"cost\", \"mind\", \"true\", \"like\", \"don\", \"come\", \"evidence\", \"research\", \"jupiter\", \"netcom\", \"antenna\", \"magnetic\", \"probe\", \"axis\", \"drag\", \"venus\", \"galileo\", \"sequence\", \"dave\", \"japanese\", \"gravity\", \"probes\", \"signal\", \"forwarded\", \"language\", \"wind\", \"spacecraft\", \"sun\", \"powered\", \"temperature\", \"degrees\", \"magellan\", \"mars\", \"observer\", \"shut\", \"mass\", \"pioneer\", \"instrument\", \"atmosphere\", \"surface\", \"earth\", \"orbit\", \"mission\", \"data\", \"com\", \"april\", \"saturn\", \"analysis\", \"titan\", \"constitutional\", \"tim\", \"liberties\", \"federalist\", \"title\", \"constitution\", \"militia\", \"amendment\", \"civil\", \"sentence\", \"bear\", \"liberty\", \"possession\", \"sporting\", \"fourth\", \"compuserve\", \"san\", \"congress\", \"arms\", \"organized\", \"james\", \"policy\", \"instructions\", \"establish\", \"modify\", \"rights\", \"francisco\", \"shall\", \"united\", \"manufacture\", \"states\", \"law\", \"second\", \"right\", \"american\", \"federal\", \"article\", \"individual\", \"government\", \"state\", \"file\", \"rkba\", \"national\", \"people\", \"automatic\", \"fee\", \"license\", \"bomb\", \"shotguns\", \"penalty\", \"representative\", \"section\", \"device\", \"possess\", \"dangerous\", \"inches\", \"issued\", \"shotgun\", \"shall\", \"application\", \"degree\", \"division\", \"sec\", \"violation\", \"act\", \"guilty\", \"military\", \"lethal\", \"rifle\", \"firearm\", \"weapon\", \"pistol\", \"deny\", \"passed\", \"authority\", \"person\", \"code\", \"proper\", \"means\", \"following\", \"weapons\", \"semi\", \"carry\", \"use\", \"law\", \"state\", \"firearms\", \"date\", \"prize\", \"contest\", \"moon\", \"craft\", \"profit\", \"lunar\", \"ssto\", \"centaur\", \"billion\", \"fund\", \"apollo\", \"cheaper\", \"race\", \"reusable\", \"land\", \"fusion\", \"afford\", \"base\", \"costs\", \"dollar\", \"landing\", \"materials\", \"expensive\", \"cost\", \"value\", \"manned\", \"encourage\", \"joke\", \"decade\", \"operational\", \"money\", \"return\", \"million\", \"fuel\", \"development\", \"build\", \"goal\", \"low\", \"year\", \"small\", \"earth\", \"solar\", \"space\", \"work\", \"surface\", \"idea\", \"military\", \"revolver\", \"trigger\", \"clinic\", \"glock\", \"hammer\", \"finger\", \"knife\", \"auto\", \"officer\", \"saturday\", \"cop\", \"semi\", \"son\", \"round\", \"illinois\", \"pull\", \"pistol\", \"safety\", \"spring\", \"complain\", \"shop\", \"shots\", \"police\", \"justified\", \"capacity\", \"motor\", \"shoot\", \"shot\", \"owner\", \"pulled\", \"emergency\", \"carried\", \"arm\", \"advantage\", \"safe\", \"carry\", \"gun\", \"old\", \"doctor\", \"use\", \"local\", \"year\", \"don\", \"pitt\", \"geb\", \"skepticism\", \"intellect\", \"cadre\", \"chastity\", \"shameful\", \"dsl\", \"banks\", \"gordon\", \"surrender\", \"soon\", \"edu\", \"migraine\", \"afraid\", \"famous\", \"mike\", \"meant\", \"newspapers\", \"corn\", \"vote\", \"fits\", \"studied\", \"rare\", \"rich\", \"worst\", \"color\", \"michael\", \"happy\", \"feds\", \"weight\", \"blood\", \"probably\", \"isn\", \"won\", \"hope\", \"usually\", \"don\", \"patients\", \"need\", \"sure\", \"medical\", \"good\", \"observations\", \"mercury\", \"planets\", \"universe\", \"uranus\", \"galaxy\", \"gamma\", \"object\", \"stars\", \"plane\", \"planet\", \"ray\", \"neutron\", \"motion\", \"pluto\", \"star\", \"books\", \"ring\", \"holes\", \"theory\", \"giant\", \"frequency\", \"physical\", \"objects\", \"distribution\", \"century\", \"energy\", \"black\", \"physics\", \"chemical\", \"light\", \"material\", \"speed\", \"sun\", \"orbit\", \"general\", \"mass\", \"matter\", \"advertising\", \"inflatable\", \"sdio\", \"paid\", \"constant\", \"mile\", \"velocity\", \"missile\", \"structure\", \"douglas\", \"purely\", \"launcher\", \"reusable\", \"engineer\", \"sec\", \"remains\", \"putting\", \"funding\", \"orbital\", \"chances\", \"strength\", \"repeat\", \"millions\", \"rocket\", \"afford\", \"substance\", \"love\", \"choose\", \"okay\", \"sign\", \"budget\", \"example\", \"agency\", \"idea\", \"organization\", \"comes\", \"support\", \"large\", \"project\", \"long\", \"lyme\", \"lab\", \"tests\", \"pattern\", \"accurate\", \"treat\", \"treating\", \"gps\", \"cultures\", \"fit\", \"paper\", \"doing\", \"thank\", \"politics\", \"aren\", \"stored\", \"concepts\", \"furthermore\", \"walls\", \"guaranteed\", \"complain\", \"refuse\", \"sheet\", \"claiming\", \"mri\", \"listen\", \"distinguish\", \"brief\", \"confused\", \"biased\", \"patients\", \"histories\", \"recommend\", \"funding\", \"practice\", \"false\", \"ssto\", \"unknown\", \"political\", \"sts\", \"don\", \"believe\", \"times\", \"useful\", \"seen\", \"called\", \"think\", \"membership\", \"oral\", \"wanted\", \"approved\", \"rifle\", \"recently\", \"sites\", \"britain\", \"tissue\", \"antibiotics\", \"limitations\", \"address\", \"finding\", \"form\", \"complete\", \"facts\", \"model\", \"adequate\", \"doctors\", \"missing\", \"arms\", \"published\", \"special\", \"case\", \"drug\", \"pain\", \"information\", \"physician\", \"stored\", \"distinguish\", \"different\", \"foundation\", \"stored\", \"concepts\", \"furthermore\", \"walls\", \"guaranteed\", \"refuse\", \"complain\", \"sheet\", \"claiming\", \"mri\", \"listen\", \"biased\", \"distinguish\", \"brief\", \"busy\", \"confused\", \"threatened\", \"passing\", \"forever\", \"grows\", \"justify\", \"remains\", \"refer\", \"dozen\", \"leap\", \"mirror\", \"absolute\", \"feasible\", \"documents\", \"bothered\", \"miss\", \"resulted\", \"breath\", \"procedures\", \"exists\", \"established\", \"evening\", \"policy\", \"avoiding\", \"establish\", \"god\", \"peace\", \"campaign\", \"msg\", \"sick\", \"mentioned\", \"wife\", \"civil\", \"right\", \"knew\", \"amendment\", \"funny\", \"noticed\", \"visit\", \"connection\", \"presence\", \"double\", \"stopped\", \"principle\", \"violation\", \"violations\", \"space\", \"time\", \"second\", \"don\", \"life\", \"states\", \"federal\", \"koresh\", \"great\", \"john\", \"rkba\", \"constitution\", \"working\", \"various\", \"national\"], \"Freq\": [539.0, 973.0, 631.0, 334.0, 328.0, 333.0, 173.0, 175.0, 387.0, 234.0, 225.0, 625.0, 517.0, 205.0, 276.0, 208.0, 281.0, 458.0, 297.0, 228.0, 229.0, 161.0, 115.0, 316.0, 736.0, 150.0, 214.0, 106.0, 133.0, 160.0, 60.797827375521045, 32.16225214543334, 114.05362576303878, 27.853695151427665, 23.816046352190003, 20.704969981658483, 19.63639423269032, 18.972834379919735, 16.39493469064936, 15.051739390868024, 13.192024567730881, 12.962041186406168, 12.897995716993595, 13.005590641162593, 12.758337949084053, 13.300338740718, 13.43501284870564, 11.745192959881082, 35.968048012097675, 29.212253588566302, 10.047515361673513, 10.365107500360056, 9.512022200762344, 9.507185415345631, 26.33946597852517, 32.994106865217226, 14.005496031886722, 10.787616394215275, 21.373940369382897, 20.548408617519037, 43.9441930710552, 53.30498878374532, 99.36206958812265, 38.27674290684414, 85.0164800861226, 21.66872428770958, 67.34960585607152, 62.571354700549556, 302.00549785292316, 42.282031044159254, 159.39546983029535, 363.74101385297035, 332.7976144853245, 62.902912247229644, 41.09445650686612, 113.26010760505727, 36.696834164116524, 300.54943248489917, 126.75991360056666, 117.94907036194749, 101.66823106084513, 138.6540905219602, 79.12333411403559, 79.58258476032609, 171.06518351225068, 94.24979858590652, 123.70478429548857, 85.60323162728956, 278.99761236923086, 106.70603738819244, 173.72548796269922, 168.7672148734229, 113.56908623772678, 192.73738520213823, 117.74823927520866, 90.54977004596333, 102.75618429197135, 122.12197288259595, 117.29379877562248, 111.69373738572715, 97.0699344015683, 182.42744977787856, 115.15303471068458, 101.22274349667443, 102.9727001971747, 100.60178079336764, 191.6397621371341, 85.49976017661979, 82.428554692671, 77.85404105932938, 382.6225275063001, 54.722848623902486, 53.372004549663785, 179.7801108752102, 48.94913488928732, 44.180377461959544, 39.26193450935576, 40.56761859859896, 33.93209181631111, 33.54086711133352, 30.235298057126176, 29.582585701882444, 28.362698756877975, 28.391138472503123, 272.3720776057807, 30.61611019148896, 25.2041135111977, 25.02647336838354, 37.28724214205793, 35.01800922331763, 24.3638306026924, 24.311645988174114, 25.866491787106284, 43.969611785810415, 22.755041929358686, 23.27665634410223, 913.3724084458503, 92.8423869280684, 52.40188028114828, 56.877571078875434, 40.85435921636169, 111.16529860946727, 55.53736637433599, 98.59260330755832, 121.67162832051231, 53.60629736559347, 114.7811588622236, 64.33463317600186, 191.49628981405297, 66.87117288699463, 79.92463173313871, 57.733658405788844, 92.11343524775226, 114.08101854362897, 151.68015086816195, 170.04654567252322, 86.69409437798198, 124.80299684888607, 115.15652367843667, 77.5214425521199, 84.29620696083997, 118.65606675037763, 73.33121741123823, 75.49564671145075, 66.78347478537127, 87.01388971316854, 83.48015383336657, 86.40780523591624, 80.79043204618867, 83.71222242861069, 36.58633815135305, 33.46105218591955, 22.904016857555163, 21.277865322629015, 21.529711783290423, 17.376365170520575, 16.75066606117059, 14.84466627112947, 13.606996801757294, 14.960420754791773, 12.794161542191038, 11.848087326282792, 21.324764275108343, 9.847963096339274, 9.788319567424999, 9.61928079799686, 9.152360818244963, 16.955989233751755, 13.828165575850246, 13.764474527467696, 11.615997086735309, 12.330146625921882, 12.971607818112398, 15.297506756936297, 20.223909607854523, 38.69947270274384, 12.441881079117131, 76.68235185234471, 11.457457255354772, 14.245312778619647, 40.83911490449969, 27.197309416284828, 29.19777508112019, 332.5458518811684, 36.04838860167959, 117.90143974367557, 101.15484460766305, 46.70428706665593, 36.92900081706601, 145.9482722983853, 230.47862426990176, 31.179834037917402, 70.41219007907544, 49.793936602689584, 48.54932509739257, 59.27260639127974, 112.5703901127603, 154.08645700551153, 70.31516014054941, 83.52134699173747, 52.67733976583491, 85.63539137547977, 112.68955457403567, 103.6976154099853, 96.23383251049914, 148.6983960920235, 112.16243385949767, 78.95978806027806, 140.83631799095636, 48.078187696788035, 120.60827127792606, 116.6241139798986, 74.42752095761358, 80.73738584232075, 82.70822625883258, 66.13079325891972, 67.90014820388791, 65.36109761803316, 80.64983636289722, 60.980103216934225, 65.83783324424084, 74.4327653664788, 55.82261139700362, 73.57432940224835, 52.540795761535456, 20.28417131823937, 79.9248270579125, 17.421676412458382, 17.28628477790093, 15.700739338705242, 37.32411656310205, 33.32802077838241, 23.472025453324083, 113.51907746802011, 18.831686494702367, 31.097033811780467, 33.250688300721535, 14.305585757168807, 22.093831062444224, 23.12205021037376, 45.21425371440469, 23.168354092111738, 19.61934231103143, 40.8679269239087, 14.173672890550765, 34.391570852074004, 47.480879756686974, 12.131616582616495, 11.445345566301233, 17.08885931378582, 27.542895818258504, 156.16161616408147, 30.74822973186598, 60.628546838677075, 128.35892409285418, 80.38677829632776, 47.56689148218983, 87.15538855177647, 47.047275298991785, 88.29651908353102, 114.49542412366353, 41.610218240714566, 118.90853645063872, 61.34087164066442, 102.69604117851195, 44.30458670635995, 99.29321248720021, 99.40359707848081, 54.578915906692224, 133.51876882530934, 82.36216562230015, 95.9561599678098, 58.03728911021536, 60.06507903490592, 65.98501435368992, 49.92341640430222, 54.384759009149356, 62.17413740098618, 54.29448048487377, 52.50265123257527, 140.29989323170898, 58.56773881455372, 48.263896348786645, 53.531070817407496, 43.92708844040955, 42.25011331298586, 35.35333978061246, 31.676302560903284, 26.589723064830526, 25.605249947500813, 22.752525470850433, 21.26772514588522, 21.195446013612013, 21.40796495421097, 20.821878230476127, 35.40852371145988, 20.13602149399982, 22.71178906407002, 18.805217832365486, 64.40369329679837, 17.998507731967205, 17.853032121550303, 17.86713777266314, 33.472003484870726, 17.530195325827343, 16.725791193792954, 21.692742488721567, 61.70424793617084, 23.527304983250705, 12.920078373836276, 153.04043383987113, 142.9878332487573, 34.48356286063097, 130.40293534113206, 83.93433735857175, 46.90899642938947, 43.46752747494752, 39.93246927062522, 49.442546005071335, 48.50282434988765, 89.79101611315473, 36.27115879021794, 26.009941392517145, 57.953968059828384, 73.29988440199112, 40.92731120601839, 98.18345547803523, 91.06946673841603, 51.893093929180424, 56.54859614070961, 48.92873541624279, 48.68135997494044, 73.03986286088151, 60.75867194326638, 47.731253368703726, 45.37591082265455, 41.30596484170943, 66.70077456401843, 60.10617517108976, 47.13613187462253, 95.51269486380816, 36.64680710969727, 29.14764019705774, 25.417322360996998, 148.18385444708528, 18.47092149190622, 15.171677227647075, 14.882096409434174, 27.088090025572637, 41.596958126641674, 16.76613090404735, 61.868240464642966, 20.158556659122862, 47.325115454093904, 36.537480654789384, 13.490976345137032, 30.309531854025874, 12.804588551965118, 21.527647618730686, 21.819734457317093, 13.555744306141946, 14.099541193892394, 192.68097724252866, 23.901287639662176, 51.80961653568987, 65.91092170610553, 24.36191680691575, 504.08605791516135, 57.60933595870135, 46.08804802054459, 92.94736185448166, 50.33041053148742, 163.39311759364062, 36.247903862214315, 58.226049715345525, 80.8523740480369, 47.04633937867933, 36.72689671158759, 118.27638231189609, 68.5295205379135, 59.88323914383161, 50.7355727287593, 56.620186375053336, 46.25263242427363, 50.01129323199053, 48.14690226722741, 52.45595507909869, 51.14973976990369, 51.96455384949169, 46.98528196071403, 64.72242586925084, 58.10455562119627, 112.17619133700703, 47.06550276248507, 65.88100231698039, 28.640385961828184, 27.62999860426482, 26.27480344903091, 24.680604513609683, 73.7125321148989, 17.673438235596436, 65.86473645431512, 13.676937591284116, 27.1510722229486, 84.06405777843366, 11.4628583365939, 10.936833101755385, 20.515302118229602, 23.900206079253927, 22.146788122412378, 26.706206166139914, 32.113150280536736, 12.79776967326789, 8.21718682136422, 11.183417612437465, 14.271007729772105, 39.61344014047764, 9.675858841288976, 42.36383290125386, 11.21036042942247, 56.846504556533574, 13.809337185800128, 16.13315382431593, 46.77476478454229, 39.529711392689215, 34.91422749485466, 34.003193277231844, 59.173396947938635, 22.671123556545727, 29.057662258680047, 24.899968226342786, 48.37090241033312, 62.6219188272559, 47.867202552687814, 41.64074493615008, 51.946238752993814, 34.39967895040625, 51.3269301815505, 39.45153745514301, 70.36922296538671, 34.390352123801534, 44.34217162682712, 40.82955154352324, 38.30225442205785, 38.964654219890576, 34.01708981096689, 19.90203793085403, 17.474281724897626, 17.22896490830144, 9.880813562005645, 28.72224542138436, 291.3168227052965, 13.849358687209126, 26.245763917755387, 270.0884105157851, 20.56689715336481, 16.4445661208466, 12.523746814803571, 24.893167520299155, 27.29613089419916, 37.038977419791316, 10.320581190353405, 24.14486779825008, 25.565348803059763, 16.026593105510585, 12.728977574794792, 19.463276846480575, 6.949731719444794, 53.253735130439665, 8.031161500311647, 9.199024204979121, 12.417559741398577, 29.51475488516576, 12.319192649312443, 30.23275309729167, 15.138813408087477, 249.23523854285824, 31.488066398811625, 20.440591674654993, 22.977891980159384, 34.20129240330124, 38.65616127622996, 39.86126401701913, 22.577389536172955, 32.36541943143507, 22.795282249116656, 33.1965548181183, 23.554543015536943, 20.91767839289426, 25.238468143026832, 31.67282471097502, 23.939542598611105, 21.651799210222173, 25.97906523300521, 20.836203910240386, 26.49363335485284, 23.70673861135478, 20.76960845171009, 19.70096798534124, 16.406412904548237, 23.544823132952285, 9.688806299881879, 18.193227220131238, 15.30143194654798, 12.97915848516571, 18.40320393104414, 14.090036458984615, 12.649745887782064, 16.709445173932583, 20.235509228058607, 10.052665645404478, 13.69267633200899, 9.634334856747591, 41.76622492373039, 19.506589882045134, 14.463062887976758, 7.581539985676838, 10.349491820621719, 80.51702017581762, 14.693701311373816, 18.198657189059983, 11.741507788645022, 9.660283977497768, 7.664918323777044, 8.45090642594272, 127.56744377684153, 22.341629289163368, 24.6085334976238, 18.747126410691585, 15.109165681813643, 22.284015436763426, 19.066493522881327, 30.80704714019664, 28.447575778538, 25.80576702716534, 55.91492705574969, 26.275281375291357, 32.08272223789156, 25.736621282141076, 24.78078700795861, 24.451009146894382, 22.41993912973601, 23.006062952538336, 19.897201172335027, 20.317116139413653, 22.547250259766326, 22.066899821966423, 19.589938638525965, 19.389773504422315, 19.4549003560206, 50.58288779576757, 27.17012091995733, 26.03792360258435, 19.897525603491697, 72.70083230454274, 13.138340776566261, 18.798956394222156, 56.89786814003311, 23.29680065558122, 31.80808787399263, 17.485930558388773, 42.83216503992483, 31.456453806051314, 36.073556189808684, 17.892104806401033, 8.308037399738112, 25.068659985965965, 13.575705687129503, 79.10311382190018, 56.7613201807384, 12.439184476496346, 11.11494725604274, 25.024956646926775, 16.040674813181475, 63.817232886382165, 13.076400454912811, 8.700162644893924, 60.98735207747533, 19.7846802210348, 8.679840502557719, 28.99342028527502, 44.25598738664819, 89.80796188393859, 66.69854888109465, 45.257812025763194, 50.406433206729055, 44.44555190305175, 28.83981369149646, 19.005337769486488, 18.802209867366642, 18.485866760576048, 37.94392395504716, 14.866267697292692, 24.35468680825003, 19.162428003047996, 31.08703777176433, 53.64802872365053, 95.1677837778599, 86.34038565348735, 36.081019248881844, 13.590491402876843, 35.9981962747508, 12.752286868080372, 18.789567235804956, 11.840175950956748, 7.970021503170128, 8.771625697778694, 32.46186718156618, 58.86232117437672, 41.115200257819474, 15.441181487925903, 25.784704785002717, 20.527260668069054, 7.94718999909053, 9.281404931960534, 7.034523484124942, 49.81786238375496, 9.756831188187297, 25.695792042976844, 56.34948243692024, 9.604839529919877, 82.37940818750394, 74.31226619848944, 51.51572358680772, 88.28417983461281, 41.083712914910215, 36.68104189718702, 33.196572326818796, 21.527807668577907, 36.48018696631808, 32.8532529410389, 37.26720665841546, 20.83421883855729, 24.214609116295954, 21.71491520329504, 38.790762991380355, 20.361887268913573, 52.427061894455946, 15.117905723678872, 13.127265162002537, 10.79198081709486, 15.598222553834736, 67.19298805866416, 18.574408104677605, 13.836804780817893, 45.43482207270339, 12.448863839517006, 17.87751684703341, 12.406545667644476, 32.761998193379846, 24.188815343213335, 18.77001502204659, 27.76425065005568, 7.80475248337339, 10.422904712690551, 36.48584330023726, 5.494775158541707, 58.27576119916126, 8.806595682227222, 10.113040539325194, 49.010189471289976, 54.521380229022306, 13.712267784167237, 7.540026008762897, 16.24305423500776, 15.71850579305414, 39.31091679389221, 17.59678281038612, 13.943891554759293, 22.195352913860983, 22.57987424180359, 25.51320736572629, 19.2438692083915, 19.860856438923136, 30.600758937535062, 23.237393344930492, 22.030608406820694, 20.11497423556767, 16.744972901322157, 28.629904787090894, 13.930930923508408, 158.60616428427915, 28.62265729859027, 19.506247050073576, 138.43396133034474, 23.434192002695205, 23.79523668583213, 56.0734045458806, 33.89680980222632, 24.957395454614293, 19.650641940441137, 14.868148404438069, 7.784572065121754, 18.45534018032394, 13.973833351895834, 6.6440032820018216, 28.40012422197337, 27.29372186263569, 9.565890947849397, 13.426504748523781, 14.614316837153904, 16.66032063269442, 65.90061164958784, 14.783840220545889, 11.770130087545711, 5.465842525861816, 6.898422149465386, 6.753357836846968, 6.6072947548882865, 42.81367204655732, 16.23694301920691, 25.905368929998822, 15.691231836012431, 30.872877903081175, 19.029676147029516, 14.98627969875319, 25.853438721815824, 33.492355339992514, 24.194763444635623, 26.199719395433796, 20.10955328918689, 32.94793674410009, 20.6351306053758, 16.07634632167771, 16.250361654691623, 16.101355329526122, 47.02764286074622, 40.523435066801426, 23.455452633519428, 20.41816591499952, 31.035295823656753, 15.352576717445983, 30.470907431979075, 57.43629772146334, 28.989406093343625, 7.476250040301713, 8.549301817676476, 63.55392520488041, 16.78141240739672, 18.835338274111283, 10.144074290114945, 14.027778697550731, 17.259334876875194, 84.38703820606649, 6.040716786748981, 4.929769867494681, 6.865571528850081, 15.475402303337823, 55.550878580592794, 6.554579748039526, 10.857610405999313, 12.913893943600488, 11.629287466274604, 22.775979688935845, 7.282380871657745, 6.7621740518968965, 11.003932171565229, 13.957939227343948, 13.925053826692837, 10.827126600989523, 16.635276338307285, 24.9427461316082, 59.44866778702466, 19.22931217398792, 19.31606088237616, 28.373073190839744, 14.221191939452694, 17.048798216510697, 13.7117464953679, 72.78074814595962, 71.06987840639002, 69.5432631148267, 69.36384969934876, 69.27025151734357, 68.61529916823979, 67.86585078846615, 67.86582886215439, 76.70261164588211, 82.33777119216411, 75.80501994884659, 82.3883149437312, 214.28090904859513, 9.359807921140973, 4.762980563811346, 2.8115288974437127, 6.586775402405917, 5.9109421893139364, 2.4883984809547246, 6.049688131968907, 9.065649402307855, 2.746047598840674, 2.3191214959663573, 4.357166182064014, 2.58350124752131, 2.25000398794191, 4.188356038476472, 4.222577786284239, 2.6254827132491156, 2.2982954454853712, 8.30507809453722, 11.307768384166211, 13.92592507497531, 10.140951267573678, 8.301815098100942, 7.368883890121148, 7.176910440629731, 17.089553298540505, 8.394893028377476, 8.82913992061462, 8.051749617958379, 7.775988259753286, 7.896268124047575, 32.67578413793824, 36.328935770245415, 21.062902947647935, 51.853224158290615, 17.539292876929707, 25.40865431798357, 27.143896351616238, 43.940712428869155, 32.89712443044419, 20.37151830907646, 44.44169530091001, 36.17581163389225, 11.226668810965926, 23.63209138360946, 17.74595220955019, 43.86975316333128, 29.358305622585405, 10.505475517579635, 13.266997658512654, 59.436721928996384, 7.317334023639187, 12.892988888636852, 24.824847136490135, 12.103337684017006, 10.487388524361714, 10.637074455205262, 33.21252750337624, 24.68878330369154, 15.69535160277575, 11.221714917125883, 29.840549830343996, 20.022488898569765, 14.495156324291562, 17.23735363352866, 21.74633613601615, 18.30087895775508, 15.892280229135029, 15.126254663393302, 41.75259108366558, 17.17593526102161, 20.173458296070752, 25.176044129003188, 19.848876456545163, 12.360740103076472, 18.321462006013043, 6.696384036937017, 23.497760466271675, 15.42091216594663, 6.168771578813696, 15.493022416042814, 5.6523319483608585, 4.887571447383139, 4.939710332513489, 3.0448507262318265, 11.665263266139075, 15.409891766865107, 18.933317101867214, 3.887084063807877, 3.0000137817823487, 3.17406149552076, 4.137528073529467, 20.99247681727883, 2.242951090087799, 3.860716708560345, 5.182364732837746, 2.7850717406704, 3.1002015427355416, 4.1432242688495, 6.4780827694815235, 13.354953107493616, 6.510233315321528, 13.009064325421983, 8.177107385619145, 6.022016295655863, 8.624211975201282, 8.142118131548198, 4.7221385104385005, 4.689803525503127, 21.544174954800557, 18.884498134624028, 23.85478980863537, 3.413576082035764, 6.129060223277244, 4.953010807995395, 2.6974345819601933, 4.3509259838480725, 1.3638384932500407, 1.0321782098010401, 2.1021922818291374, 2.2781458693443453, 0.6667995627588291, 0.6731260230280645, 0.42164519339435264, 0.04016434225661678, 0.040167709870894026, 0.04023577977353854, 0.040167525346759235, 0.040184814774519434, 0.040640810692754284, 0.04016927274052052, 0.04018300354535333, 0.04016757747470825, 0.04020129021286616, 0.040180704621756255, 0.040146978941904665, 0.040175937451023776, 0.04018547204544358, 0.04018932725041845, 0.36792301507082126, 0.048870133505176466, 0.05937146467784805, 0.08248986179616409, 0.0807825565283548, 0.04167924743689438, 0.04318686159584329, 0.04065625422328053, 0.04218479778876835, 0.04112409318947947, 0.04458868688830382, 0.043398658746852545, 0.04288844883043037, 0.04204421538100458, 0.042021434416107735, 0.04210043913263, 0.0422904108975546, 17.671344363539372, 7.012373287288272, 14.359398636808223, 1.36507735882629, 1.9829016076063715, 5.241366721905774, 2.2881957894168576, 1.2841925972929367, 1.5556905751594368, 1.1429569038343483, 0.6619335904379038, 4.398171970705801, 1.3499172265439505, 2.9733258960507856, 1.6232362734184498, 1.4375851730606404, 1.9509632110703796, 0.5230929679128256, 1.1206808224337446, 0.29457348073047834, 1.4298277168314504, 0.8356011288138551, 0.6603416006540114, 2.2063405392153346, 0.7441456993498597, 1.055288013663359, 1.6247624842473993, 0.18058019312062598, 0.03973111654794667, 0.04277720998563778, 0.6619708305048005, 0.12727217284568518, 0.030864758515171908, 0.030876506106401365, 0.030895304062761836, 0.030860617018051758, 0.030870472663708893, 0.03087238349848691, 0.03088511425936824, 0.030906957080502957, 0.030896587637960625, 0.03086280418121993, 0.03086855264189193, 0.030989178557770003, 0.030865871764522733, 0.030879442999610776, 0.030888309623138602, 0.03087113579983538, 0.03087128853799783, 0.030860810363331263, 0.030903744755256445, 0.030862084517779425, 0.030857845354182584, 0.03091372220745265, 0.030863361950373057, 0.030869534551437323, 0.03088069328793093, 0.0308832833772297, 0.030878793055255555, 0.03088359429735503, 0.03086423199994904, 0.030856590551665564, 0.030869608203943164, 0.030874903479620238, 0.0309459822654843, 0.032323453356928114, 0.03173114436195481, 0.03153007811256534, 0.031249584873529596, 0.03187191624735537, 0.03121582024573638, 0.03129850217809046, 0.03144232407195874, 0.03098187055011624, 0.031047806608733717, 0.03228597531256911, 0.03163215053070252, 0.031602224982371425, 0.03160678799717334, 0.03157054253858072, 0.032199410612219294, 0.031438464507824386, 0.03178846983408781, 0.031247497475087316, 0.031233478513757636, 0.031207069442442836, 0.031224483182566723, 0.03119759448984899, 0.031230934701350833, 0.03130982444813985, 0.031046853138586558, 0.031164464647476058, 0.031048025439909584, 0.03179457213858019, 0.03171441599761032, 0.03170248682405154, 0.031655744831082015, 0.03156760420412313, 0.03152939782563816, 0.03140997470766357, 0.03137739035090241, 0.03136853846834834, 0.031316091715979606, 0.031311083238793995, 0.03130212137656806, 0.0313020532152897, 0.031298307196707675, 0.03129077342949378], \"Total\": [539.0, 973.0, 631.0, 334.0, 328.0, 333.0, 173.0, 175.0, 387.0, 234.0, 225.0, 625.0, 517.0, 205.0, 276.0, 208.0, 281.0, 458.0, 297.0, 228.0, 229.0, 161.0, 115.0, 316.0, 736.0, 150.0, 214.0, 106.0, 133.0, 160.0, 61.7612466601824, 33.08824165844095, 117.50421566109678, 28.779754782310867, 24.75503079000282, 21.61883504017111, 20.56852211462953, 19.893495495971052, 17.327946063202607, 15.967371211823234, 14.114384710783321, 13.880577089947959, 13.820154184364368, 13.936993171046716, 13.673723985472012, 14.28703978312829, 14.467656090582969, 12.664274385369287, 38.89602840213487, 31.773061651423138, 10.965102940272711, 11.336544348700631, 10.425718683775395, 10.46969869077638, 29.066214186055436, 36.41741187635665, 15.473795605107101, 11.985153815836803, 23.808765577988257, 22.930211160970966, 49.16340374755267, 59.91060332234131, 112.74519949066169, 43.831270132385015, 102.40672947626324, 24.459225274327892, 85.80799231078718, 79.67924102565169, 458.75263477486277, 52.296552711927056, 232.51998659969033, 594.6326906652769, 537.8704241112943, 82.1791653107924, 50.79913335393199, 164.95394597903282, 44.77608938321526, 521.5420004356534, 192.89567747436593, 179.9334244489612, 152.12136453867737, 224.9680300952073, 114.4603029373174, 115.5744119743243, 305.95121777170453, 145.8011048698928, 207.04771598348484, 130.38588154252264, 625.3814272733807, 178.14492441189876, 351.110767471453, 338.739902861691, 198.16965790641729, 458.9473578016232, 219.1430205629778, 147.70607812235446, 183.42539106298523, 266.70862255475504, 246.86597732594592, 232.08242537509915, 175.4300156218214, 736.5956302992182, 327.08925773693437, 264.64694506656446, 393.07311559014363, 333.4677663235128, 192.61758898640477, 86.44098076193912, 83.36900988121386, 78.79041385429609, 387.89850951793005, 55.66436681528333, 54.309400333896946, 182.94632030877895, 49.93262226898079, 45.09608010304887, 40.17875861798494, 41.540925422834285, 34.84595122878501, 34.4692729017782, 31.156015391427555, 30.49767823071054, 29.279315798716333, 29.310602788686765, 281.22294011108266, 31.70018417840301, 26.124118322258298, 25.94047467122111, 38.68144857597595, 36.33068919562837, 25.27888748839793, 25.22734061876302, 26.85658830418727, 45.656212062277525, 23.67094728545941, 24.306036383325058, 973.6500080714173, 97.66060530235576, 54.95790103866186, 60.25984196338846, 42.93501956407402, 123.59542275497812, 59.61540685393858, 109.25371969557303, 140.67202411996786, 58.14865881319693, 133.63475760991648, 71.3350330729851, 240.59101030334625, 76.98398671281036, 95.13702263813683, 65.123411759802, 119.7305141164835, 160.2420773200775, 236.0233904888496, 281.08425613749125, 115.08588517455222, 230.26981150779116, 205.93170548435776, 110.91611603618568, 140.68494436428108, 297.44543288411245, 108.72063946437592, 117.67864382294715, 88.59180556523503, 225.44509835949663, 257.6517250080856, 316.3522938353399, 234.98590656746578, 517.82910679485, 37.511469638744444, 34.375466034407694, 23.81722677245545, 22.205934617275325, 22.506493269538833, 18.291280587421383, 17.680697261042933, 15.765349996672821, 14.524123266379545, 16.009923695651597, 13.708700981235246, 12.761596520948945, 23.30485069368131, 10.767742184872349, 10.728639170299058, 10.556917097716534, 10.069462182960867, 18.847983823054108, 15.418116024646743, 15.397988427387414, 13.306151794595394, 14.265430342960006, 15.060913122252922, 17.911554714608585, 23.68644868123353, 45.916302034231, 14.902083039740006, 93.3164019423849, 14.16686815777689, 17.69547877441366, 51.01573052854191, 36.387240601547184, 40.67122686263544, 736.5956302992182, 52.59092102942323, 225.984385235582, 187.30388235352436, 74.18789324780599, 56.24098816700031, 327.08925773693437, 625.3814272733807, 45.965529999308686, 137.9491908866332, 86.46506476085322, 83.75274917995895, 110.40470014434709, 276.8373628310011, 458.9473578016232, 148.99323858071608, 196.6406209114165, 99.77922468570347, 212.87560584876522, 333.4677663235128, 296.5719877578642, 266.70862255475504, 537.8704241112943, 351.110767471453, 207.5909939271018, 594.6326906652769, 91.07506423502774, 517.82910679485, 521.5420004356534, 219.1430205629778, 264.64694506656446, 305.95121777170453, 207.04771598348484, 229.51933596608592, 208.33863608284264, 458.75263477486277, 185.03223218506838, 631.5868862714723, 75.5129882647652, 56.75132723510384, 75.95917942530171, 54.61678954047884, 21.196924773888256, 83.95292678488478, 18.36393141768693, 18.2384347858627, 16.686866996074407, 40.26760121286543, 36.32864567609448, 25.9883146298873, 127.54766019491487, 21.785912280836687, 36.65398437653001, 39.55311387034154, 17.258957125993348, 27.37127285823, 28.879598981954757, 56.69620375548743, 29.99500192092724, 25.814326569762635, 53.90654020064499, 18.779094343076473, 45.568958044637036, 64.38962198213042, 16.468898447245277, 15.749482537395883, 23.539260762798207, 37.97249593604567, 224.91880348487862, 42.857911070705015, 85.96387579038932, 186.9833904743856, 120.59586940292748, 68.92986867853334, 136.7446181355204, 70.19367303389807, 155.9579431094558, 225.0182258816873, 62.83908935547775, 257.6517250080856, 108.94779636835247, 228.58232049049766, 70.80810961458603, 230.26981150779116, 233.96587326662834, 96.50902212040046, 393.07311559014363, 212.87560584876522, 297.44543288411245, 132.50521854621363, 143.65842613518296, 208.85283637399553, 94.38804044916922, 190.67239401745024, 517.82910679485, 301.6036717354556, 338.739902861691, 141.413841690929, 59.50714629613562, 49.186774534851594, 54.62936115752369, 44.84876840704056, 43.287445433885615, 36.28563348672446, 32.59073901036573, 27.523937417961626, 26.555059933744843, 23.663798818634483, 22.181779133573784, 22.108948434839295, 22.33702729955159, 21.738235608983768, 36.970536763198304, 21.052612334823532, 23.759307877293573, 19.724754968803353, 67.664112773471, 18.91372348248186, 18.76328740715953, 18.782902994046797, 35.197150188416444, 18.444586183104004, 17.646085220162764, 22.892108631517594, 65.31141602822679, 25.142460317956562, 13.830652521184936, 165.40608506487928, 159.04055766883414, 37.65261929815181, 156.49336707159554, 104.51696743256205, 55.09767617491684, 51.62016050125258, 48.058157266188154, 65.57025173087844, 64.61297798600114, 143.956418710489, 46.18212737590863, 29.28802036395439, 90.98045876673967, 132.50521854621363, 58.35265864129448, 242.03519537480682, 225.0182258816873, 88.70072686185433, 127.82720558512065, 109.25278537914213, 131.2391755485705, 736.5956302992182, 517.82910679485, 224.91880348487862, 207.5909939271018, 116.84480561034918, 67.72823074060216, 61.034238536309374, 48.05284528253867, 97.40464979628447, 37.747872229184765, 30.102581663628413, 26.35620070216054, 154.8057534150217, 19.384883985858217, 16.18209491027211, 15.954694132043096, 29.177374706844642, 45.81074254397932, 18.589383582397584, 69.07597120403231, 22.609771621923088, 53.086826111010545, 41.13143223352943, 15.279410970136064, 34.62255869364478, 14.70837168896731, 24.84151408082018, 25.378955319565165, 15.77235878556714, 16.62055109111935, 228.01285829632118, 28.534142362872903, 62.00258416425263, 79.22200460662295, 30.15862062441473, 631.5868862714723, 73.10641433819411, 58.42908353337178, 130.5805182794439, 66.75016356635979, 276.8373628310011, 46.82908159962144, 84.399669316284, 138.15979932656975, 73.34966234228985, 52.809908218803784, 301.6036717354556, 135.8798462394774, 117.13202617237815, 93.60921521367895, 116.05901054759805, 82.8723816747667, 104.7381200626316, 121.66371600403808, 190.67239401745024, 229.29390712704017, 316.3522938353399, 187.30388235352436, 65.63915981646242, 59.05665733905394, 114.29628386205394, 48.00930198458824, 67.82606433666622, 29.56129156855949, 28.566461660915195, 27.20680457525212, 25.59670748912073, 77.39687996238031, 18.59183956275221, 70.22588350309607, 14.590067185263706, 28.99592853185342, 90.3123887780111, 12.377767968955595, 11.855257033434778, 23.526155320128577, 27.447991947923693, 25.481497612740718, 30.780333050299266, 38.685939738342455, 15.62912444141058, 10.040698899619791, 13.687158242306971, 17.487888398366255, 48.97092032437092, 12.01592149095067, 52.78909835125308, 14.132480623034072, 80.39111535696937, 17.843448656511583, 21.401149641205752, 73.39894605079779, 60.57962264164083, 59.82875586856214, 62.73277708639797, 143.65842613518296, 35.04748168166233, 54.694870010422, 43.90676724570722, 153.058294421629, 264.64694506656446, 162.03228987488455, 122.09468131143508, 203.88875822906076, 82.59768938009724, 246.86597732594592, 121.51508127018566, 736.5956302992182, 82.8723816747667, 242.03519537480682, 225.984385235582, 183.42539106298523, 458.9473578016232, 94.79239267261966, 20.883103829232034, 18.410351308340985, 18.39645787244535, 10.790519970659581, 31.7759475510798, 334.72114594161116, 16.00457835584105, 31.422699350574057, 328.8193045410562, 26.721790964974822, 23.659884509074114, 18.40436475634767, 37.66706607339717, 42.167429574478795, 57.44694665267841, 16.308151240718452, 38.31789475016975, 40.72417261104884, 27.471683921382095, 22.27866590070181, 34.210082027807324, 12.464849184981215, 95.55692811518982, 14.497633949272727, 16.73047574800303, 22.809797270341935, 54.876594635077915, 23.368007688498245, 60.071177563667426, 30.203794385331395, 539.2847277136027, 64.6873129745844, 41.92669373497817, 49.13795540714199, 81.2720894859881, 94.8431211505033, 106.30953787077084, 49.50487772615223, 83.22030307743192, 52.95098405782953, 108.72063946437592, 58.118946993862394, 53.493664603058384, 117.18925275502879, 517.82910679485, 110.64699961828374, 69.24136111654849, 625.3814272733807, 88.59180556523503, 27.405638403363973, 24.618778682147333, 21.6824756199796, 20.613137086279515, 17.322071951760424, 25.698317379639946, 10.631335309342829, 20.918933790556167, 17.93143284081942, 15.399066406709192, 21.859208613339796, 16.78000467936735, 15.60463357650443, 20.698048650273854, 25.215076784944245, 13.32359446823181, 18.387327289493822, 13.050319860168777, 56.917286311864096, 26.737246433362383, 21.068252571907845, 11.099551681119735, 16.8944149280489, 132.3181939043978, 25.024819635573984, 31.228243749119255, 20.46064587674226, 16.983116293792573, 13.529354879500527, 14.964256582041726, 234.98590656746578, 40.480568069871545, 46.07482796772004, 35.840023994914034, 27.812803022985776, 48.18332605282152, 39.05363796502806, 100.0814720437181, 92.71879120438297, 85.38924153588015, 458.9473578016232, 95.4272486996115, 159.52928166692442, 118.38216577894772, 161.34880449365022, 153.9310892258056, 119.76970532739746, 150.64203436724236, 78.11782477797587, 111.17899350547545, 594.6326906652769, 625.3814272733807, 135.4982777322926, 131.2391755485705, 257.6517250080856, 51.54208860849365, 28.084441085157238, 27.052969950395468, 20.829665525016328, 77.60941307573808, 14.060588760331072, 20.577435492058196, 63.2814928880276, 26.68786059496334, 37.53109890717776, 21.285397445567263, 53.68400876316877, 39.61736512153657, 47.21334220931794, 23.538799596391076, 10.974551143227643, 34.35494384038566, 19.67571538386902, 116.75363940180333, 85.43430119539323, 19.89952708748189, 17.793803483852024, 40.259687813459756, 26.19011881332514, 104.2359127467071, 21.730627494585555, 14.479379023461338, 102.14767694945996, 33.652258217704016, 15.337180815629296, 53.504291381512814, 87.09189137335119, 225.44509835949663, 205.93170548435776, 160.2420773200775, 281.08425613749125, 328.8193045410562, 186.9833904743856, 49.63186298430795, 63.88220348370209, 49.00559397826151, 39.429730939267316, 15.78072857151713, 26.825318767176192, 21.691017993025113, 35.40777568609474, 63.666287751495595, 113.19331903100927, 102.91247464242558, 45.06709667614848, 18.40099359061865, 49.886427822982355, 19.87866812169361, 30.331342344715683, 19.411661955367528, 13.674917494671762, 15.226722924721656, 58.681758710647685, 108.28808187083453, 76.59926876824461, 29.08922397331252, 49.74938137666592, 39.867164959013344, 15.723065701222048, 18.391137670088384, 15.54796098125075, 110.40470014434709, 21.695902800860612, 59.328805957144546, 131.1494875288653, 23.42413015613605, 208.85283637399553, 229.29390712704017, 163.56587805928984, 333.4677663235128, 129.96029445953644, 123.21100081904737, 121.64896555114461, 69.71601802615375, 225.984385235582, 196.6406209114165, 334.72114594161116, 73.34966234228985, 228.58232049049766, 736.5956302992182, 49.71885523704552, 26.784546866530576, 73.09564170240665, 21.184218143799004, 18.94318109281623, 15.87676317418416, 23.7296772353571, 106.21809132088713, 29.82091129243911, 22.604868559390013, 74.25176856721458, 20.84500674391167, 31.62641390501826, 22.380802832441827, 59.328805957144546, 45.04004461851097, 36.2280305784338, 56.38353996686622, 16.737593216880768, 23.0653164413044, 81.03195357368372, 12.389571941051356, 131.86355877673665, 20.04947878266942, 23.53724213181281, 116.05901054759805, 130.37575681598656, 32.8355598388135, 18.489096676755533, 40.80919819459262, 42.452938166382935, 151.5342620407628, 57.67964384448261, 43.519723106974716, 108.00875398605139, 119.28397042628806, 187.30388235352436, 94.25557296267009, 111.2779321793771, 517.82910679485, 229.29390712704017, 196.6406209114165, 228.01285829632118, 86.294509398446, 29.552452515082546, 14.8441005365634, 173.16438024053596, 31.40059044657109, 22.236164556007303, 175.50145661764154, 30.16314662333676, 30.936044720041323, 76.20722213025459, 50.42306884319078, 41.340547870530166, 33.65706606971379, 25.6004508048142, 14.841573318386855, 35.31675085909629, 26.787459349382765, 13.167038990881686, 56.48061210336492, 55.305621889397116, 19.3987763333004, 28.280914586470278, 31.80578799799092, 36.85986104596711, 150.64203436724236, 34.589855177684626, 28.139513914188065, 13.220790932300975, 17.510064652766903, 17.423554717926972, 17.279381167790405, 119.9470482735099, 44.34999263291068, 73.57169620613448, 43.570628489057654, 116.19626611704976, 59.46461624691859, 44.1880209195234, 145.08657112022246, 316.3522938353399, 150.62553762137466, 225.44509835949663, 110.91611603618568, 973.6500080714173, 232.51998659969033, 87.09189137335119, 133.51817522806687, 131.86355877673665, 47.94713333562216, 41.48823492612893, 24.37387744620625, 21.33633383658405, 32.88308190959885, 16.273203941921622, 32.995322600337765, 63.77820007523758, 33.657376999075716, 10.82374903485275, 12.486705796277288, 94.25557296267009, 25.206558617188712, 28.31469989995763, 15.96997582555267, 23.137066936552706, 32.8355598388135, 161.34880449365022, 12.051282109175403, 10.243775611174389, 14.277670370590187, 32.29440698838699, 117.13202617237815, 14.547771736686805, 24.554060513720376, 30.191179409238924, 28.111372769119328, 56.90678273657414, 19.003820266606137, 18.11027906043037, 29.83965104454225, 38.75144488304514, 38.81641070375682, 30.012423158113165, 56.846764209610946, 111.2779321793771, 631.5868862714723, 125.61918540205231, 127.82720558512065, 517.82910679485, 102.258354484954, 316.3522938353399, 625.3814272733807, 73.70109939904488, 71.98948900524228, 70.46190733819394, 70.28359835061825, 70.1933058835338, 69.53418330199784, 68.78465543881659, 68.78463400052891, 79.15864032553614, 85.13823033226932, 80.47436550878665, 106.01391678141253, 539.2847277136027, 23.701934870499443, 19.49884032555568, 11.948118590754179, 32.175442233995156, 29.72004077667816, 12.577299725570898, 31.687596019480942, 50.39030134016811, 15.52616600419868, 13.79440224218141, 26.83240179372785, 16.241678824610325, 14.221557992541813, 27.52934632880682, 30.203794385331395, 19.41305149015065, 17.47965897129075, 63.35124245049538, 90.98045876673967, 178.14492441189876, 121.61369503756626, 90.63256303549754, 77.14020336036938, 80.37573719287596, 625.3814272733807, 159.04055766883414, 185.03223218506838, 192.89567747436593, 225.0182258816873, 351.110767471453, 33.70670209368018, 37.482438098871505, 22.016461998473815, 54.2706958716833, 18.56230127533317, 26.9123021066222, 29.30353111870112, 48.55356442369653, 36.620229850709016, 23.87566362592281, 52.586294585676214, 44.26584804468384, 14.191263304737836, 30.08157661601004, 23.438783400623592, 64.81885605013966, 45.83410309543077, 17.09475894111308, 22.47044707978834, 101.73414979393876, 13.096216122851814, 25.460388390407388, 52.12071331437089, 26.02463750570601, 22.652882481024267, 25.508338303983837, 87.07354213872699, 67.45519349853366, 43.38196279292414, 31.294014383270504, 86.19424512895068, 61.17101876232112, 42.8742393767652, 85.43430119539323, 205.93170548435776, 190.78141322768911, 102.14767694945996, 95.39999257465625, 42.7300362918279, 18.106002893532466, 22.031956457213578, 32.55372652914497, 30.156904014850227, 19.073360888405396, 31.099597148535963, 12.693853087586222, 48.16943500055096, 33.513788643513536, 13.733557906499811, 34.8388568355212, 14.841573318386855, 13.563555413069242, 16.737593216880768, 10.58008129651266, 41.08987681539161, 55.84205183027282, 75.45065558798908, 16.790995137043804, 14.087573517563948, 16.844739666729158, 22.314517759249917, 115.08588517455222, 13.167038990881686, 22.995439875620328, 31.064233891281926, 17.58137958296044, 19.936970633325735, 26.935189695681746, 46.93111437512997, 119.76970532739746, 49.459732852024544, 133.51817522806687, 70.78797528429395, 57.414124218185115, 143.1446126126146, 168.9898110783645, 83.89843498329903, 232.08242537509915, 24.330011266905917, 35.56330379530437, 55.48758700897103, 17.176205717471383, 30.992418382900993, 31.402309151195336, 17.313344641151026, 31.460088804338, 11.123639883228075, 25.84421677190095, 65.10105476944932, 104.95959645215777, 38.329451537895885, 44.31620766682488, 60.32236959665835, 9.667986563323499, 9.811450323977565, 9.85810922301748, 10.040698899619791, 10.069462182960867, 10.243775611174389, 10.199360393877178, 10.254128556479236, 10.30510181223282, 10.416958239458577, 10.425718683775395, 10.453652726103122, 10.464272343570334, 10.472595317585462, 10.47737863098696, 159.04055766883414, 13.855828627834796, 18.389773419461818, 55.84205183027282, 53.15938090618925, 13.306151794595394, 30.16314662333676, 13.126325295870588, 48.107234427871965, 20.7351793005238, 625.3814272733807, 203.88875822906076, 151.93678589702083, 64.0296690321239, 112.45242027741267, 137.00929846060487, 458.9473578016232, 21.059106249771414, 15.612962564849589, 66.37364272590288, 14.564809614811118, 23.53724213181281, 70.26714526948624, 30.955338816514598, 18.210345535877256, 23.808765577988257, 18.867224438141065, 11.956155905737825, 82.30511587644936, 27.706283065398548, 63.92540065255186, 37.61489206348888, 41.22535113634551, 58.273009476656675, 16.496140669458992, 47.40492002942662, 15.170580067016344, 76.59926876824461, 70.62850065511641, 59.688445644641746, 214.71633051378447, 80.7289669464722, 117.50421566109678, 297.44543288411245, 34.60475603625639, 9.667986563323499, 10.453652726103122, 165.77922033040286, 37.218564937682906, 9.667986563323499, 9.811450323977565, 9.85810922301748, 10.040698899619791, 10.069462182960867, 10.199360393877178, 10.243775611174389, 10.254128556479236, 10.30510181223282, 10.416958239458577, 10.425718683775395, 10.47737863098696, 10.453652726103122, 10.464272343570334, 10.46969869077638, 10.472595317585462, 10.502078090961797, 10.52536695341322, 10.554127233730002, 10.543157747461542, 10.556917097716534, 10.58008129651266, 10.577345460560574, 10.583629974304813, 10.631335309342829, 10.668171102765694, 10.68415521925836, 10.697653213080203, 10.694651137810524, 10.694950241046088, 10.713463499008386, 10.723492535885814, 10.965102940272711, 23.1948040240599, 19.938690454501874, 21.105302613726046, 15.936584241457743, 39.867164959013344, 15.713798835770344, 18.391137670088384, 23.98249875454288, 12.504131426577445, 13.930045371181908, 141.413841690929, 39.66270882828222, 40.92226394509062, 42.26405465171909, 45.06709667614848, 333.4677663235128, 32.00459539732035, 102.91247464242558, 19.953541567764198, 20.56852211462953, 19.954027833679735, 22.51404981522505, 21.75186470351359, 25.041792234929012, 35.38760485020421, 15.363993743702874, 23.0653164413044, 15.87858095100237, 973.6500080714173, 521.5420004356534, 163.56587805928984, 625.3814272733807, 122.44354616426936, 208.85283637399553, 123.21100081904737, 65.63915981646242, 126.04922861888603, 64.6873129745844, 73.34966234228985, 63.666287751495595, 65.66568261636262, 74.55625284851882, 228.58232049049766], \"Category\": [\"Default\", \"Default\", \"Default\", \"Default\", \"Default\", \"Default\", \"Default\", \"Default\", \"Default\", \"Default\", \"Default\", \"Default\", \"Default\", \"Default\", \"Default\", \"Default\", \"Default\", \"Default\", \"Default\", \"Default\", \"Default\", \"Default\", \"Default\", \"Default\", \"Default\", \"Default\", \"Default\", \"Default\", \"Default\", \"Default\", \"Topic1\", \"Topic1\", \"Topic1\", \"Topic1\", \"Topic1\", \"Topic1\", \"Topic1\", \"Topic1\", \"Topic1\", \"Topic1\", \"Topic1\", \"Topic1\", \"Topic1\", \"Topic1\", \"Topic1\", \"Topic1\", \"Topic1\", \"Topic1\", \"Topic1\", \"Topic1\", \"Topic1\", \"Topic1\", \"Topic1\", \"Topic1\", \"Topic1\", \"Topic1\", \"Topic1\", \"Topic1\", \"Topic1\", \"Topic1\", \"Topic1\", \"Topic1\", \"Topic1\", \"Topic1\", \"Topic1\", \"Topic1\", \"Topic1\", \"Topic1\", \"Topic1\", \"Topic1\", \"Topic1\", \"Topic1\", \"Topic1\", \"Topic1\", \"Topic1\", \"Topic1\", \"Topic1\", \"Topic1\", \"Topic1\", \"Topic1\", \"Topic1\", \"Topic1\", \"Topic1\", \"Topic1\", \"Topic1\", \"Topic1\", \"Topic1\", \"Topic1\", \"Topic1\", \"Topic1\", \"Topic1\", \"Topic1\", \"Topic1\", \"Topic1\", \"Topic1\", \"Topic1\", \"Topic1\", \"Topic1\", \"Topic1\", \"Topic1\", \"Topic1\", \"Topic1\", \"Topic1\", \"Topic1\", \"Topic1\", \"Topic1\", \"Topic2\", \"Topic2\", \"Topic2\", \"Topic2\", \"Topic2\", \"Topic2\", \"Topic2\", \"Topic2\", \"Topic2\", \"Topic2\", \"Topic2\", \"Topic2\", \"Topic2\", \"Topic2\", \"Topic2\", \"Topic2\", \"Topic2\", \"Topic2\", \"Topic2\", \"Topic2\", \"Topic2\", \"Topic2\", \"Topic2\", \"Topic2\", \"Topic2\", \"Topic2\", \"Topic2\", \"Topic2\", \"Topic2\", \"Topic2\", \"Topic2\", \"Topic2\", \"Topic2\", \"Topic2\", \"Topic2\", \"Topic2\", \"Topic2\", \"Topic2\", \"Topic2\", \"Topic2\", \"Topic2\", \"Topic2\", \"Topic2\", \"Topic2\", \"Topic2\", \"Topic2\", \"Topic2\", \"Topic2\", \"Topic2\", \"Topic2\", \"Topic2\", \"Topic2\", \"Topic2\", \"Topic2\", \"Topic2\", \"Topic2\", \"Topic2\", \"Topic2\", \"Topic2\", \"Topic2\", \"Topic2\", \"Topic2\", \"Topic2\", \"Topic2\", \"Topic3\", \"Topic3\", \"Topic3\", \"Topic3\", \"Topic3\", \"Topic3\", \"Topic3\", \"Topic3\", \"Topic3\", \"Topic3\", \"Topic3\", \"Topic3\", \"Topic3\", \"Topic3\", \"Topic3\", \"Topic3\", \"Topic3\", \"Topic3\", \"Topic3\", \"Topic3\", \"Topic3\", \"Topic3\", \"Topic3\", \"Topic3\", \"Topic3\", \"Topic3\", \"Topic3\", \"Topic3\", \"Topic3\", \"Topic3\", \"Topic3\", \"Topic3\", \"Topic3\", \"Topic3\", \"Topic3\", \"Topic3\", \"Topic3\", \"Topic3\", \"Topic3\", \"Topic3\", \"Topic3\", \"Topic3\", \"Topic3\", \"Topic3\", \"Topic3\", \"Topic3\", \"Topic3\", \"Topic3\", \"Topic3\", \"Topic3\", \"Topic3\", \"Topic3\", \"Topic3\", \"Topic3\", \"Topic3\", \"Topic3\", \"Topic3\", \"Topic3\", \"Topic3\", \"Topic3\", \"Topic3\", \"Topic3\", \"Topic3\", \"Topic3\", \"Topic3\", \"Topic3\", \"Topic3\", \"Topic3\", \"Topic3\", \"Topic3\", \"Topic3\", \"Topic4\", \"Topic4\", \"Topic4\", \"Topic4\", \"Topic4\", \"Topic4\", \"Topic4\", \"Topic4\", \"Topic4\", \"Topic4\", \"Topic4\", \"Topic4\", \"Topic4\", \"Topic4\", \"Topic4\", \"Topic4\", \"Topic4\", \"Topic4\", \"Topic4\", \"Topic4\", \"Topic4\", \"Topic4\", \"Topic4\", \"Topic4\", \"Topic4\", \"Topic4\", \"Topic4\", \"Topic4\", \"Topic4\", \"Topic4\", \"Topic4\", \"Topic4\", \"Topic4\", \"Topic4\", \"Topic4\", \"Topic4\", \"Topic4\", \"Topic4\", \"Topic4\", \"Topic4\", \"Topic4\", \"Topic4\", \"Topic4\", \"Topic4\", \"Topic4\", \"Topic4\", \"Topic4\", \"Topic4\", \"Topic4\", \"Topic4\", \"Topic4\", \"Topic4\", \"Topic4\", \"Topic4\", \"Topic4\", \"Topic4\", \"Topic4\", \"Topic4\", \"Topic4\", \"Topic5\", \"Topic5\", \"Topic5\", \"Topic5\", \"Topic5\", \"Topic5\", \"Topic5\", \"Topic5\", \"Topic5\", \"Topic5\", \"Topic5\", \"Topic5\", \"Topic5\", \"Topic5\", \"Topic5\", \"Topic5\", \"Topic5\", \"Topic5\", \"Topic5\", \"Topic5\", \"Topic5\", \"Topic5\", \"Topic5\", \"Topic5\", \"Topic5\", \"Topic5\", \"Topic5\", \"Topic5\", \"Topic5\", \"Topic5\", \"Topic5\", \"Topic5\", \"Topic5\", \"Topic5\", \"Topic5\", \"Topic5\", \"Topic5\", \"Topic5\", \"Topic5\", \"Topic5\", \"Topic5\", \"Topic5\", \"Topic5\", \"Topic5\", \"Topic5\", \"Topic5\", \"Topic5\", \"Topic5\", \"Topic5\", \"Topic5\", \"Topic5\", \"Topic5\", \"Topic5\", \"Topic5\", \"Topic5\", \"Topic5\", \"Topic5\", \"Topic6\", \"Topic6\", \"Topic6\", \"Topic6\", \"Topic6\", \"Topic6\", \"Topic6\", \"Topic6\", \"Topic6\", \"Topic6\", \"Topic6\", \"Topic6\", \"Topic6\", \"Topic6\", \"Topic6\", \"Topic6\", \"Topic6\", \"Topic6\", \"Topic6\", \"Topic6\", \"Topic6\", \"Topic6\", \"Topic6\", \"Topic6\", \"Topic6\", \"Topic6\", \"Topic6\", \"Topic6\", \"Topic6\", \"Topic6\", \"Topic6\", \"Topic6\", \"Topic6\", \"Topic6\", \"Topic6\", \"Topic6\", \"Topic6\", \"Topic6\", \"Topic6\", \"Topic6\", \"Topic6\", \"Topic6\", \"Topic6\", \"Topic6\", \"Topic6\", \"Topic6\", \"Topic6\", \"Topic6\", \"Topic6\", \"Topic6\", \"Topic6\", \"Topic6\", \"Topic6\", \"Topic7\", \"Topic7\", \"Topic7\", \"Topic7\", \"Topic7\", \"Topic7\", \"Topic7\", \"Topic7\", \"Topic7\", \"Topic7\", \"Topic7\", \"Topic7\", \"Topic7\", \"Topic7\", \"Topic7\", \"Topic7\", \"Topic7\", \"Topic7\", \"Topic7\", \"Topic7\", \"Topic7\", \"Topic7\", \"Topic7\", \"Topic7\", \"Topic7\", \"Topic7\", \"Topic7\", \"Topic7\", \"Topic7\", \"Topic7\", \"Topic7\", \"Topic7\", \"Topic7\", \"Topic7\", \"Topic7\", \"Topic7\", \"Topic7\", \"Topic7\", \"Topic7\", \"Topic7\", \"Topic7\", \"Topic7\", \"Topic7\", \"Topic7\", \"Topic7\", \"Topic7\", \"Topic7\", \"Topic7\", \"Topic7\", \"Topic7\", \"Topic7\", \"Topic7\", \"Topic7\", \"Topic7\", \"Topic7\", \"Topic7\", \"Topic8\", \"Topic8\", \"Topic8\", \"Topic8\", \"Topic8\", \"Topic8\", \"Topic8\", \"Topic8\", \"Topic8\", \"Topic8\", \"Topic8\", \"Topic8\", \"Topic8\", \"Topic8\", \"Topic8\", \"Topic8\", \"Topic8\", \"Topic8\", \"Topic8\", \"Topic8\", \"Topic8\", \"Topic8\", \"Topic8\", \"Topic8\", \"Topic8\", \"Topic8\", \"Topic8\", \"Topic8\", \"Topic8\", \"Topic8\", \"Topic8\", \"Topic8\", \"Topic8\", \"Topic8\", \"Topic8\", \"Topic8\", \"Topic8\", \"Topic8\", \"Topic8\", \"Topic8\", \"Topic8\", \"Topic8\", \"Topic8\", \"Topic8\", \"Topic8\", \"Topic8\", \"Topic8\", \"Topic8\", \"Topic8\", \"Topic9\", \"Topic9\", \"Topic9\", \"Topic9\", \"Topic9\", \"Topic9\", \"Topic9\", \"Topic9\", \"Topic9\", \"Topic9\", \"Topic9\", \"Topic9\", \"Topic9\", \"Topic9\", \"Topic9\", \"Topic9\", \"Topic9\", \"Topic9\", \"Topic9\", \"Topic9\", \"Topic9\", \"Topic9\", \"Topic9\", \"Topic9\", \"Topic9\", \"Topic9\", \"Topic9\", \"Topic9\", \"Topic9\", \"Topic9\", \"Topic9\", \"Topic9\", \"Topic9\", \"Topic9\", \"Topic9\", \"Topic9\", \"Topic9\", \"Topic9\", \"Topic9\", \"Topic9\", \"Topic9\", \"Topic9\", \"Topic9\", \"Topic9\", \"Topic9\", \"Topic9\", \"Topic9\", \"Topic9\", \"Topic9\", \"Topic9\", \"Topic9\", \"Topic9\", \"Topic9\", \"Topic9\", \"Topic9\", \"Topic10\", \"Topic10\", \"Topic10\", \"Topic10\", \"Topic10\", \"Topic10\", \"Topic10\", \"Topic10\", \"Topic10\", \"Topic10\", \"Topic10\", \"Topic10\", \"Topic10\", \"Topic10\", \"Topic10\", \"Topic10\", \"Topic10\", \"Topic10\", \"Topic10\", \"Topic10\", \"Topic10\", \"Topic10\", \"Topic10\", \"Topic10\", \"Topic10\", \"Topic10\", \"Topic10\", \"Topic10\", \"Topic10\", \"Topic10\", \"Topic10\", \"Topic10\", \"Topic10\", \"Topic10\", \"Topic10\", \"Topic10\", \"Topic10\", \"Topic10\", \"Topic10\", \"Topic10\", \"Topic10\", \"Topic11\", \"Topic11\", \"Topic11\", \"Topic11\", \"Topic11\", \"Topic11\", \"Topic11\", \"Topic11\", \"Topic11\", \"Topic11\", \"Topic11\", \"Topic11\", \"Topic11\", \"Topic11\", \"Topic11\", \"Topic11\", \"Topic11\", \"Topic11\", \"Topic11\", \"Topic11\", \"Topic11\", \"Topic11\", \"Topic11\", \"Topic11\", \"Topic11\", \"Topic11\", \"Topic11\", \"Topic11\", \"Topic11\", \"Topic11\", \"Topic11\", \"Topic11\", \"Topic11\", \"Topic11\", \"Topic11\", \"Topic11\", \"Topic11\", \"Topic11\", \"Topic11\", \"Topic11\", \"Topic11\", \"Topic11\", \"Topic11\", \"Topic11\", \"Topic12\", \"Topic12\", \"Topic12\", \"Topic12\", \"Topic12\", \"Topic12\", \"Topic12\", \"Topic12\", \"Topic12\", \"Topic12\", \"Topic12\", \"Topic12\", \"Topic12\", \"Topic12\", \"Topic12\", \"Topic12\", \"Topic12\", \"Topic12\", \"Topic12\", \"Topic12\", \"Topic12\", \"Topic12\", \"Topic12\", \"Topic12\", \"Topic12\", \"Topic12\", \"Topic12\", \"Topic12\", \"Topic12\", \"Topic12\", \"Topic12\", \"Topic12\", \"Topic12\", \"Topic12\", \"Topic12\", \"Topic12\", \"Topic12\", \"Topic12\", \"Topic12\", \"Topic12\", \"Topic12\", \"Topic12\", \"Topic12\", \"Topic12\", \"Topic13\", \"Topic13\", \"Topic13\", \"Topic13\", \"Topic13\", \"Topic13\", \"Topic13\", \"Topic13\", \"Topic13\", \"Topic13\", \"Topic13\", \"Topic13\", \"Topic13\", \"Topic13\", \"Topic13\", \"Topic13\", \"Topic13\", \"Topic13\", \"Topic13\", \"Topic13\", \"Topic13\", \"Topic13\", \"Topic13\", \"Topic13\", \"Topic13\", \"Topic13\", \"Topic13\", \"Topic13\", \"Topic13\", \"Topic13\", \"Topic13\", \"Topic13\", \"Topic13\", \"Topic13\", \"Topic13\", \"Topic13\", \"Topic13\", \"Topic13\", \"Topic13\", \"Topic13\", \"Topic13\", \"Topic13\", \"Topic13\", \"Topic13\", \"Topic13\", \"Topic13\", \"Topic13\", \"Topic14\", \"Topic14\", \"Topic14\", \"Topic14\", \"Topic14\", \"Topic14\", \"Topic14\", \"Topic14\", \"Topic14\", \"Topic14\", \"Topic14\", \"Topic14\", \"Topic14\", \"Topic14\", \"Topic14\", \"Topic14\", \"Topic14\", \"Topic14\", \"Topic14\", \"Topic14\", \"Topic14\", \"Topic14\", \"Topic14\", \"Topic14\", \"Topic14\", \"Topic14\", \"Topic14\", \"Topic14\", \"Topic14\", \"Topic14\", \"Topic14\", \"Topic14\", \"Topic14\", \"Topic14\", \"Topic14\", \"Topic14\", \"Topic14\", \"Topic14\", \"Topic14\", \"Topic14\", \"Topic14\", \"Topic14\", \"Topic14\", \"Topic15\", \"Topic15\", \"Topic15\", \"Topic15\", \"Topic15\", \"Topic15\", \"Topic15\", \"Topic15\", \"Topic15\", \"Topic15\", \"Topic15\", \"Topic15\", \"Topic15\", \"Topic15\", \"Topic15\", \"Topic15\", \"Topic15\", \"Topic15\", \"Topic15\", \"Topic15\", \"Topic15\", \"Topic15\", \"Topic15\", \"Topic15\", \"Topic15\", \"Topic15\", \"Topic15\", \"Topic15\", \"Topic15\", \"Topic15\", \"Topic15\", \"Topic15\", \"Topic15\", \"Topic15\", \"Topic15\", \"Topic15\", \"Topic15\", \"Topic15\", \"Topic15\", \"Topic15\", \"Topic15\", \"Topic15\", \"Topic15\", \"Topic16\", \"Topic16\", \"Topic16\", \"Topic16\", \"Topic16\", \"Topic16\", \"Topic16\", \"Topic16\", \"Topic16\", \"Topic16\", \"Topic16\", \"Topic16\", \"Topic16\", \"Topic16\", \"Topic16\", \"Topic16\", \"Topic16\", \"Topic16\", \"Topic16\", \"Topic16\", \"Topic16\", \"Topic16\", \"Topic16\", \"Topic16\", \"Topic16\", \"Topic16\", \"Topic16\", \"Topic16\", \"Topic16\", \"Topic16\", \"Topic16\", \"Topic16\", \"Topic16\", \"Topic16\", \"Topic16\", \"Topic16\", \"Topic16\", \"Topic16\", \"Topic17\", \"Topic17\", \"Topic17\", \"Topic17\", \"Topic17\", \"Topic17\", \"Topic17\", \"Topic17\", \"Topic17\", \"Topic17\", \"Topic17\", \"Topic17\", \"Topic17\", \"Topic17\", \"Topic17\", \"Topic17\", \"Topic17\", \"Topic17\", \"Topic17\", \"Topic17\", \"Topic17\", \"Topic17\", \"Topic17\", \"Topic17\", \"Topic17\", \"Topic17\", \"Topic17\", \"Topic17\", \"Topic17\", \"Topic17\", \"Topic17\", \"Topic17\", \"Topic17\", \"Topic17\", \"Topic17\", \"Topic17\", \"Topic17\", \"Topic17\", \"Topic17\", \"Topic17\", \"Topic18\", \"Topic18\", \"Topic18\", \"Topic18\", \"Topic18\", \"Topic18\", \"Topic18\", \"Topic18\", \"Topic18\", \"Topic18\", \"Topic18\", \"Topic18\", \"Topic18\", \"Topic18\", \"Topic18\", \"Topic18\", \"Topic18\", \"Topic18\", \"Topic18\", \"Topic18\", \"Topic18\", \"Topic18\", \"Topic18\", \"Topic18\", \"Topic18\", \"Topic18\", \"Topic18\", \"Topic18\", \"Topic18\", \"Topic18\", \"Topic18\", \"Topic18\", \"Topic18\", \"Topic18\", \"Topic18\", \"Topic18\", \"Topic18\", \"Topic18\", \"Topic18\", \"Topic18\", \"Topic18\", \"Topic18\", \"Topic18\", \"Topic18\", \"Topic18\", \"Topic18\", \"Topic18\", \"Topic19\", \"Topic19\", \"Topic19\", \"Topic19\", \"Topic19\", \"Topic19\", \"Topic19\", \"Topic19\", \"Topic19\", \"Topic19\", \"Topic19\", \"Topic19\", \"Topic19\", \"Topic19\", \"Topic19\", \"Topic19\", \"Topic19\", \"Topic19\", \"Topic19\", \"Topic19\", \"Topic19\", \"Topic19\", \"Topic19\", \"Topic19\", \"Topic19\", \"Topic19\", \"Topic19\", \"Topic19\", \"Topic19\", \"Topic19\", \"Topic19\", \"Topic19\", \"Topic20\", \"Topic20\", \"Topic20\", \"Topic20\", \"Topic20\", \"Topic20\", \"Topic20\", \"Topic20\", \"Topic20\", \"Topic20\", \"Topic20\", \"Topic20\", \"Topic20\", \"Topic20\", \"Topic20\", \"Topic20\", \"Topic20\", \"Topic20\", \"Topic20\", \"Topic20\", \"Topic20\", \"Topic20\", \"Topic20\", \"Topic20\", \"Topic20\", \"Topic20\", \"Topic20\", \"Topic20\", \"Topic20\", \"Topic20\", \"Topic20\", \"Topic20\", \"Topic20\", \"Topic20\", \"Topic20\", \"Topic20\", \"Topic20\", \"Topic20\", \"Topic20\", \"Topic20\", \"Topic20\", \"Topic20\", \"Topic20\", \"Topic20\", \"Topic20\", \"Topic20\", \"Topic20\", \"Topic20\", \"Topic20\", \"Topic20\", \"Topic20\", \"Topic20\", \"Topic20\", \"Topic20\", \"Topic20\", \"Topic20\", \"Topic20\", \"Topic20\", \"Topic20\", \"Topic20\", \"Topic20\", \"Topic20\", \"Topic20\", \"Topic20\", \"Topic20\", \"Topic20\", \"Topic20\", \"Topic20\", \"Topic20\", \"Topic20\", \"Topic20\", \"Topic20\", \"Topic20\", \"Topic20\", \"Topic20\", \"Topic20\"], \"logprob\": [30.0, 29.0, 28.0, 27.0, 26.0, 25.0, 24.0, 23.0, 22.0, 21.0, 20.0, 19.0, 18.0, 17.0, 16.0, 15.0, 14.0, 13.0, 12.0, 11.0, 10.0, 9.0, 8.0, 7.0, 6.0, 5.0, 4.0, 3.0, 2.0, 1.0, -6.0524, -6.6892, -5.4233, -6.833, -6.9896, -7.1296, -7.1826, -7.217, -7.363, -7.4485, -7.5803, -7.5979, -7.6029, -7.5946, -7.6138, -7.5722, -7.5621, -7.6965, -6.5773, -6.7854, -7.8526, -7.8215, -7.9074, -7.9079, -6.8889, -6.6636, -7.5205, -7.7816, -7.0978, -7.1372, -6.377, -6.1839, -5.5612, -6.5151, -5.7171, -7.0841, -5.9501, -6.0237, -4.4495, -6.4156, -5.0886, -4.2635, -4.3524, -6.0184, -6.4441, -5.4303, -6.5573, -4.4543, -5.3177, -5.3897, -5.5382, -5.228, -5.789, -5.7832, -5.0179, -5.614, -5.3421, -5.7102, -4.5288, -5.4899, -5.0025, -5.0314, -5.4275, -4.8986, -5.3914, -5.6541, -5.5276, -5.3549, -5.3953, -5.4442, -5.5845, -4.9536, -5.4137, -5.5426, -5.5255, -5.5488, -4.6823, -5.4894, -5.526, -5.5831, -3.9909, -5.9357, -5.9606, -4.7462, -6.0472, -6.1497, -6.2677, -6.235, -6.4136, -6.4252, -6.5289, -6.5507, -6.5929, -6.5919, -4.3308, -6.5164, -6.7109, -6.718, -6.3193, -6.3821, -6.7448, -6.747, -6.685, -6.1544, -6.8131, -6.7905, -3.1208, -5.407, -5.979, -5.897, -6.2279, -5.2269, -5.9209, -5.3469, -5.1366, -5.9563, -5.1949, -5.7738, -4.6831, -5.7352, -5.5568, -5.8821, -5.4149, -5.201, -4.9162, -4.8019, -5.4755, -5.1112, -5.1916, -5.5874, -5.5036, -5.1617, -5.6429, -5.6139, -5.7365, -5.4719, -5.5133, -5.4789, -5.5461, -5.5105, -6.1313, -6.2206, -6.5997, -6.6733, -6.6616, -6.8759, -6.9126, -7.0334, -7.1204, -7.0256, -7.182, -7.2588, -6.6711, -7.4437, -7.4498, -7.4672, -7.517, -6.9004, -7.1043, -7.1089, -7.2786, -7.219, -7.1682, -7.0033, -6.7241, -6.0752, -7.2099, -5.3913, -7.2924, -7.0746, -6.0214, -6.4279, -6.3569, -3.9242, -6.1461, -4.9612, -5.1144, -5.8872, -6.122, -4.7478, -4.2909, -6.2912, -5.4766, -5.8231, -5.8484, -5.6489, -5.0074, -4.6935, -5.478, -5.3059, -5.7668, -5.2809, -5.0064, -5.0895, -5.1642, -4.7291, -5.0111, -5.3621, -4.7834, -5.8582, -4.9385, -4.9721, -5.4212, -5.3398, -5.3157, -5.5394, -5.513, -5.5511, -5.3409, -5.6205, -5.5438, -4.9488, -5.2365, -4.9604, -5.2971, -6.2488, -4.8776, -6.4009, -6.4087, -6.5049, -5.639, -5.7523, -6.1028, -4.5267, -6.3231, -5.8215, -5.7546, -6.598, -6.1634, -6.1179, -5.4472, -6.1159, -6.2821, -5.5483, -6.6073, -5.7208, -5.3983, -6.7628, -6.8211, -6.4202, -5.9429, -4.2078, -5.8328, -5.1539, -4.4038, -4.8718, -5.3965, -4.791, -5.4075, -4.778, -4.5181, -5.5303, -4.4803, -5.1422, -4.6269, -5.4676, -4.6606, -4.6595, -5.259, -4.3644, -4.8475, -4.6948, -5.1976, -5.1632, -5.0692, -5.3482, -5.2626, -5.1287, -5.2642, -5.2978, -4.0205, -4.8941, -5.0876, -4.9841, -5.1818, -5.2207, -5.3989, -5.5087, -5.6838, -5.7215, -5.8396, -5.9071, -5.9105, -5.9006, -5.9283, -5.3974, -5.9618, -5.8414, -6.0302, -4.7991, -6.074, -6.0821, -6.0814, -5.4536, -6.1004, -6.1474, -5.8873, -4.842, -5.8062, -6.4055, -3.9336, -4.0016, -5.4238, -4.0937, -4.5343, -5.1161, -5.1923, -5.2771, -5.0635, -5.0827, -4.4668, -5.3733, -5.7058, -4.9047, -4.6698, -5.2525, -4.3775, -4.4527, -5.0151, -4.9292, -5.074, -5.079, -4.6733, -4.8574, -5.0987, -5.1493, -5.2433, -4.6941, -4.7982, -5.0413, -4.3351, -5.293, -5.522, -5.6589, -3.8959, -5.9782, -6.1749, -6.1942, -5.5953, -5.1663, -6.075, -4.7694, -5.8907, -5.0373, -5.296, -6.2923, -5.4829, -6.3446, -5.825, -5.8115, -6.2876, -6.2482, -3.6333, -5.7204, -4.9468, -4.7061, -5.7013, -2.6716, -4.8407, -5.0638, -4.3623, -4.9758, -3.7982, -5.304, -4.83, -4.5017, -5.0432, -5.2909, -4.1213, -4.6671, -4.802, -4.9677, -4.858, -5.0602, -4.9821, -5.0201, -4.9344, -4.9596, -4.9438, -5.0445, -4.613, -4.7209, -4.063, -4.9316, -4.5953, -5.4283, -5.4642, -5.5145, -5.5771, -4.4829, -5.9111, -4.5955, -6.1674, -5.4817, -4.3515, -6.344, -6.391, -5.7619, -5.6092, -5.6854, -5.4982, -5.3139, -6.2338, -6.6769, -6.3687, -6.1249, -5.1039, -6.5135, -5.0368, -6.3663, -4.7428, -6.1578, -6.0022, -4.9378, -5.1061, -5.2302, -5.2567, -4.7026, -5.662, -5.4138, -5.5682, -4.9042, -4.646, -4.9147, -5.054, -4.8329, -5.2451, -4.8449, -5.108, -4.5294, -5.2453, -4.9912, -5.0737, -5.1376, -5.1205, -5.2563, -5.1433, -5.2734, -5.2875, -5.8435, -4.7765, -2.4597, -5.5059, -4.8666, -2.5354, -5.1104, -5.3341, -5.6065, -4.9195, -4.8274, -4.5222, -5.8, -4.9501, -4.8929, -5.3599, -5.5902, -5.1656, -6.1954, -4.1591, -6.0508, -5.915, -5.615, -4.7492, -5.623, -4.7252, -5.4169, -2.6157, -4.6845, -5.1166, -4.9996, -4.6019, -4.4794, -4.4487, -5.0172, -4.657, -5.0076, -4.6317, -4.9748, -5.0935, -4.9058, -4.6787, -4.9586, -5.059, -4.8768, -5.0974, -4.8473, -4.9584, -5.0907, -5.1435, -5.3265, -4.9653, -5.8532, -5.2232, -5.3963, -5.5609, -5.2117, -5.4787, -5.5866, -5.3082, -5.1168, -5.8164, -5.5073, -5.8589, -4.3921, -5.1535, -5.4526, -6.0985, -5.7873, -3.7357, -5.4368, -5.2229, -5.6611, -5.8562, -6.0876, -5.9899, -3.2756, -5.0178, -4.9211, -5.1932, -5.4089, -5.0203, -5.1763, -4.6965, -4.7761, -4.8736, -4.1004, -4.8556, -4.6559, -4.8763, -4.9141, -4.9275, -5.0143, -4.9884, -5.1336, -5.1127, -5.0086, -5.0301, -5.1492, -5.1595, -5.1561, -3.9889, -4.6104, -4.653, -4.922, -3.6262, -5.337, -4.9787, -3.8713, -4.7642, -4.4528, -5.0511, -4.1553, -4.4639, -4.327, -5.0282, -5.7953, -4.6909, -5.3043, -3.5418, -3.8737, -5.3917, -5.5043, -4.6927, -5.1374, -3.7565, -5.3417, -5.7492, -3.8019, -4.9276, -5.7515, -4.5455, -4.1226, -3.4149, -3.7124, -4.1002, -3.9924, -4.1183, -4.5508, -4.9678, -4.9786, -4.9955, -4.1903, -5.1273, -4.6336, -4.8734, -4.3896, -3.8439, -3.2707, -3.3681, -4.2406, -5.217, -4.2429, -5.2807, -4.8931, -5.3549, -5.7507, -5.6548, -4.3463, -3.7512, -4.11, -5.0893, -4.5766, -4.8046, -5.7536, -5.5984, -5.8755, -3.918, -5.5484, -4.58, -3.7948, -5.5641, -3.415, -3.5181, -3.8845, -3.3458, -4.1108, -4.2241, -4.3239, -4.757, -4.2296, -4.3343, -4.2083, -4.7898, -4.6394, -4.7484, -3.9275, -4.572, -3.6263, -4.8698, -5.011, -5.2069, -4.8385, -3.3781, -4.6639, -4.9583, -3.7694, -5.064, -4.7021, -5.0675, -4.0964, -4.3998, -4.6534, -4.2619, -5.5309, -5.2417, -3.9888, -5.8819, -3.5205, -5.4102, -5.2718, -3.6936, -3.5871, -4.9674, -5.5654, -4.798, -4.8308, -3.9142, -4.718, -4.9506, -4.4858, -4.4686, -4.3465, -4.6285, -4.5969, -4.1647, -4.4399, -4.4932, -4.5842, -4.7676, -4.209, -4.9293, -2.497, -4.2093, -4.5927, -2.6331, -4.4093, -4.394, -3.5368, -4.0401, -4.3463, -4.5853, -4.8642, -5.5113, -4.6481, -4.9263, -5.6697, -4.2171, -4.2568, -5.3052, -4.9662, -4.8815, -4.7504, -3.3753, -4.8699, -5.0979, -5.8649, -5.6322, -5.6534, -5.6753, -3.8066, -4.7762, -4.309, -4.8104, -4.1336, -4.6175, -4.8563, -4.311, -4.0521, -4.3773, -4.2977, -4.5623, -4.0685, -4.5365, -4.7861, -4.7753, -4.7845, -3.709, -3.8578, -4.4046, -4.5433, -4.1246, -4.8284, -4.1429, -3.509, -4.1928, -5.548, -5.4139, -3.4078, -4.7394, -4.624, -5.2428, -4.9187, -4.7114, -3.1243, -5.7612, -5.9644, -5.6332, -4.8205, -3.5424, -5.6796, -5.1748, -5.0014, -5.1062, -4.434, -5.5743, -5.6484, -5.1615, -4.9237, -4.926, -5.1777, -4.7482, -4.3431, -3.4746, -4.6033, -4.5988, -4.2143, -4.905, -4.7236, -4.9415, -3.1148, -3.1386, -3.1603, -3.1629, -3.1642, -3.1737, -3.1847, -3.1847, -3.0623, -2.9914, -3.0741, -2.9908, -2.035, -5.1658, -5.8414, -6.3685, -5.5172, -5.6254, -6.4906, -5.6022, -5.1977, -6.3921, -6.5611, -5.9304, -6.4531, -6.5913, -5.9699, -5.9618, -6.437, -6.5701, -5.2854, -4.9768, -4.7685, -5.0857, -5.2858, -5.405, -5.4314, -4.5638, -5.2746, -5.2242, -5.3164, -5.3512, -5.3359, -3.7265, -3.6206, -4.1657, -3.2648, -4.3487, -3.9781, -3.912, -3.4303, -3.7198, -4.199, -3.419, -3.6248, -4.7949, -4.0506, -4.337, -3.432, -3.8336, -4.8613, -4.6279, -3.1283, -5.2229, -4.6565, -4.0013, -4.7197, -4.863, -4.8488, -3.7103, -4.0068, -4.4598, -4.7953, -3.8173, -4.2163, -4.5394, -4.3661, -4.1337, -4.3062, -4.4473, -4.4967, -2.7169, -3.6052, -3.4443, -3.2228, -3.4606, -3.9342, -3.5406, -4.5471, -3.2918, -3.713, -4.6292, -3.7083, -4.7166, -4.862, -4.8514, -5.3352, -3.9921, -3.7137, -3.5078, -5.091, -5.3501, -5.2937, -5.0286, -3.4045, -5.6409, -5.0978, -4.8034, -5.4244, -5.3172, -5.0272, -4.5803, -3.8568, -4.5753, -3.8831, -4.3474, -4.6533, -4.2941, -4.3516, -4.8964, -4.9033, -2.2197, -2.3514, -2.1178, -4.062, -3.4767, -3.6898, -4.2975, -3.8194, -4.9795, -5.2581, -4.5468, -4.4664, -5.695, -5.6856, -6.1533, -8.5045, -8.5044, -8.5028, -8.5045, -8.504, -8.4927, -8.5044, -8.5041, -8.5045, -8.5036, -8.5041, -8.505, -8.5042, -8.504, -8.5039, -6.2896, -8.3083, -8.1137, -7.7848, -7.8058, -8.4675, -8.432, -8.4924, -8.4555, -8.4809, -8.4, -8.4271, -8.4389, -8.4588, -8.4593, -8.4575, -8.453, -2.33, -3.2542, -2.5375, -4.8907, -4.5173, -3.5453, -4.3741, -4.9518, -4.76, -5.0683, -5.6145, -3.7207, -4.9019, -4.1122, -4.7175, -4.8389, -4.5336, -5.8499, -5.088, -6.4241, -4.8443, -5.3815, -5.6169, -4.4106, -5.4974, -5.1481, -4.7165, -6.9135, -8.4275, -8.3537, -5.6144, -7.2633, -7.86, -7.8596, -7.859, -7.8601, -7.8598, -7.8597, -7.8593, -7.8586, -7.859, -7.86, -7.8599, -7.856, -7.8599, -7.8595, -7.8592, -7.8598, -7.8598, -7.8601, -7.8587, -7.8601, -7.8602, -7.8584, -7.86, -7.8598, -7.8595, -7.8594, -7.8595, -7.8594, -7.86, -7.8602, -7.8598, -7.8597, -7.8574, -7.8138, -7.8323, -7.8387, -7.8476, -7.8279, -7.8487, -7.846, -7.8414, -7.8562, -7.8541, -7.815, -7.8354, -7.8364, -7.8362, -7.8374, -7.8177, -7.8416, -7.8305, -7.8477, -7.8481, -7.849, -7.8484, -7.8493, -7.8482, -7.8457, -7.8541, -7.8503, -7.8541, -7.8303, -7.8328, -7.8332, -7.8347, -7.8375, -7.8387, -7.8425, -7.8435, -7.8438, -7.8455, -7.8456, -7.8459, -7.8459, -7.846, -7.8463], \"loglift\": [30.0, 29.0, 28.0, 27.0, 26.0, 25.0, 24.0, 23.0, 22.0, 21.0, 20.0, 19.0, 18.0, 17.0, 16.0, 15.0, 14.0, 13.0, 12.0, 11.0, 10.0, 9.0, 8.0, 7.0, 6.0, 5.0, 4.0, 3.0, 2.0, 1.0, 1.4979, 1.4853, 1.4839, 1.481, 1.475, 1.4705, 1.4673, 1.4663, 1.4583, 1.4546, 1.4461, 1.4452, 1.4446, 1.4445, 1.4444, 1.4421, 1.4396, 1.4383, 1.4354, 1.4296, 1.4263, 1.4241, 1.4219, 1.4172, 1.4152, 1.4149, 1.414, 1.4084, 1.4058, 1.404, 1.4014, 1.3968, 1.3873, 1.3782, 1.3276, 1.3925, 1.2714, 1.272, 1.0956, 1.3011, 1.1361, 1.0222, 1.0336, 1.2464, 1.3017, 1.1377, 1.3147, 0.9625, 1.0938, 1.0913, 1.1107, 1.0297, 1.1444, 1.1405, 0.9323, 1.0774, 0.9986, 1.0929, 0.7065, 1.0011, 0.81, 0.817, 0.957, 0.6461, 0.8925, 1.0243, 0.9342, 0.7325, 0.7695, 0.7823, 0.9219, 0.118, 0.4697, 0.5526, 0.1741, 0.3153, 1.7306, 1.7247, 1.7243, 1.7237, 1.722, 1.7186, 1.7183, 1.7182, 1.7158, 1.7152, 1.7126, 1.712, 1.7091, 1.7084, 1.7057, 1.7052, 1.7039, 1.7038, 1.7037, 1.7009, 1.6998, 1.6998, 1.699, 1.6989, 1.6988, 1.6987, 1.6981, 1.698, 1.6962, 1.6924, 1.6718, 1.6851, 1.6881, 1.6779, 1.686, 1.6297, 1.6648, 1.633, 1.5906, 1.6544, 1.5836, 1.6324, 1.5075, 1.5949, 1.5615, 1.6152, 1.4735, 1.3959, 1.2935, 1.2331, 1.4524, 1.1232, 1.1544, 1.3775, 1.2235, 0.8167, 1.3419, 1.2918, 1.4531, 0.7837, 0.6087, 0.4379, 0.668, -0.0866, 1.9176, 1.9157, 1.9035, 1.8999, 1.8982, 1.8913, 1.8886, 1.8824, 1.8774, 1.8748, 1.8736, 1.8683, 1.8538, 1.8533, 1.8509, 1.8496, 1.8471, 1.8368, 1.8338, 1.8305, 1.8068, 1.7968, 1.7933, 1.7849, 1.7846, 1.7716, 1.7622, 1.7463, 1.7303, 1.7257, 1.7201, 1.6515, 1.6112, 1.1474, 1.5649, 1.292, 1.3265, 1.4798, 1.522, 1.1356, 0.9444, 1.5545, 1.2701, 1.3908, 1.3973, 1.3206, 1.0428, 0.8512, 1.1917, 1.0863, 1.3038, 1.032, 0.8577, 0.8918, 0.9232, 0.6569, 0.8015, 0.976, 0.5023, 1.3038, 0.4855, 0.4448, 0.8627, 0.7554, 0.6345, 0.8013, 0.7247, 0.7834, 0.2042, 0.8326, -0.3184, 2.4006, 2.3985, 2.3831, 2.3762, 2.371, 2.3658, 2.3623, 2.3614, 2.3541, 2.3391, 2.3288, 2.3131, 2.2984, 2.2692, 2.2506, 2.2414, 2.2273, 2.2008, 2.1926, 2.1887, 2.1567, 2.1406, 2.1381, 2.1336, 2.1336, 2.1103, 2.1093, 2.0957, 2.0947, 2.0939, 2.0501, 2.0829, 2.0658, 2.0388, 2.0094, 2.044, 1.9645, 2.0149, 1.8461, 1.7393, 2.0027, 1.6417, 1.8405, 1.6148, 1.9461, 1.5738, 1.559, 1.845, 1.3352, 1.4654, 1.2836, 1.5894, 1.543, 1.2628, 1.778, 1.1605, 0.2953, 0.7003, 0.5506, 2.7014, 2.6934, 2.6904, 2.689, 2.6885, 2.6851, 2.6833, 2.6808, 2.6748, 2.6729, 2.67, 2.6672, 2.6671, 2.6668, 2.6662, 2.6661, 2.6648, 2.6642, 2.6616, 2.6599, 2.6597, 2.6596, 2.6593, 2.6591, 2.6585, 2.6557, 2.6555, 2.6525, 2.6429, 2.6412, 2.6316, 2.6029, 2.6214, 2.5269, 2.49, 2.5484, 2.5374, 2.5241, 2.427, 2.4225, 2.2373, 2.4677, 2.5906, 2.2583, 2.1172, 2.3546, 1.8071, 1.8047, 2.1732, 1.8937, 1.906, 1.7176, 0.3983, 0.5666, 1.1592, 1.1887, 1.6695, 2.764, 2.7639, 2.76, 2.7596, 2.7497, 2.747, 2.743, 2.7355, 2.731, 2.7148, 2.7097, 2.705, 2.6828, 2.676, 2.6691, 2.6645, 2.6644, 2.6608, 2.6548, 2.6462, 2.6406, 2.6361, 2.6282, 2.6278, 2.6148, 2.6109, 2.6021, 2.5997, 2.5953, 2.5658, 2.5538, 2.541, 2.542, 2.4393, 2.4969, 2.252, 2.5231, 2.408, 2.2435, 2.3352, 2.4161, 1.8432, 2.0948, 2.1084, 2.1668, 2.0615, 2.1961, 2.04, 1.8523, 1.4887, 1.279, 0.973, 1.3964, 2.8764, 2.8743, 2.8718, 2.8707, 2.8614, 2.8589, 2.8572, 2.8557, 2.8541, 2.8417, 2.8398, 2.8264, 2.8259, 2.8248, 2.8188, 2.8137, 2.8099, 2.7536, 2.7521, 2.7502, 2.7485, 2.7043, 2.6906, 2.6901, 2.6885, 2.6872, 2.6784, 2.6739, 2.6705, 2.6589, 2.544, 2.6342, 2.6079, 2.4399, 2.4636, 2.3519, 2.2781, 2.0035, 2.4549, 2.258, 2.3233, 1.7386, 1.4492, 1.6711, 1.8148, 1.5231, 2.0146, 1.3199, 1.7655, 0.5422, 2.011, 1.1934, 1.1794, 1.3242, 0.4242, 1.8657, 3.4914, 3.4873, 3.4739, 3.4514, 3.4385, 3.4006, 3.3949, 3.3595, 3.3427, 3.2777, 3.1757, 3.1545, 3.1253, 3.1046, 3.1006, 3.082, 3.0777, 3.0739, 3.0006, 2.9798, 2.9755, 2.9553, 2.9548, 2.9488, 2.9414, 2.9314, 2.9193, 2.8993, 2.8529, 2.8488, 2.7677, 2.8195, 2.8211, 2.7794, 2.674, 2.642, 2.5586, 2.7544, 2.5951, 2.6967, 2.3532, 2.6363, 2.6005, 2.0041, 0.7453, 2.0087, 2.377, 0.3584, 2.0922, 3.5156, 3.5117, 3.5064, 3.5042, 3.4951, 3.4619, 3.4566, 3.4098, 3.3908, 3.3785, 3.3773, 3.3747, 3.3395, 3.3354, 3.3294, 3.2677, 3.2546, 3.2459, 3.2399, 3.2341, 3.1732, 3.1682, 3.0594, 3.0527, 3.017, 3.0094, 2.994, 2.9852, 2.9812, 2.978, 2.9385, 2.955, 2.9222, 2.9014, 2.9392, 2.7783, 2.8324, 2.3712, 2.3679, 2.3528, 1.4443, 2.2597, 1.9455, 2.0234, 1.6759, 1.7096, 1.8738, 1.6703, 2.1818, 1.8497, 0.2771, 0.2051, 1.6155, 1.6371, 0.9659, 3.7423, 3.728, 3.7228, 3.7153, 3.6957, 3.6932, 3.6707, 3.6547, 3.6252, 3.5956, 3.5645, 3.5353, 3.5304, 3.492, 3.4868, 3.4827, 3.4459, 3.39, 3.3718, 3.3522, 3.2912, 3.2905, 3.2856, 3.2708, 3.2704, 3.2532, 3.2517, 3.2453, 3.2299, 3.1918, 3.1484, 3.0841, 2.8407, 2.6337, 2.4968, 2.0425, 1.7598, 1.8918, 2.8012, 2.538, 2.7861, 3.8088, 3.7876, 3.7506, 3.7233, 3.7171, 3.676, 3.6738, 3.6717, 3.6249, 3.5442, 3.521, 3.4033, 3.3684, 3.3529, 3.3074, 3.2957, 3.2552, 3.2377, 3.225, 3.2139, 3.19, 3.1835, 3.1649, 3.1634, 3.0542, 3.0515, 3.0481, 3.0105, 3.0025, 2.9558, 2.917, 2.7205, 2.6919, 2.5183, 2.6956, 2.6356, 2.5486, 2.6722, 2.0236, 2.0579, 1.6521, 2.5886, 1.6023, 0.3232, 3.8397, 3.8138, 3.7556, 3.7506, 3.7212, 3.7019, 3.6684, 3.63, 3.6145, 3.5971, 3.5968, 3.5725, 3.5175, 3.498, 3.4941, 3.4663, 3.4304, 3.3795, 3.325, 3.2936, 3.29, 3.2749, 3.2714, 3.2652, 3.2432, 3.2259, 3.2161, 3.2147, 3.191, 3.1667, 3.0944, 2.7386, 2.9008, 2.9498, 2.5056, 2.4235, 2.0944, 2.4991, 2.3647, 1.2593, 1.7987, 1.899, 1.66, 2.4483, 4.0785, 4.0467, 4.0224, 4.0175, 3.9792, 3.8729, 3.8577, 3.8477, 3.8034, 3.713, 3.6055, 3.5721, 3.5668, 3.4649, 3.4612, 3.4594, 3.4262, 3.4227, 3.404, 3.4032, 3.3652, 3.3325, 3.3161, 3.2834, 3.2601, 3.2386, 3.2269, 3.1787, 3.1624, 3.1488, 3.08, 3.1053, 3.0664, 3.0889, 2.7848, 2.9708, 3.0289, 2.3853, 1.8646, 2.2815, 1.9578, 2.4026, 0.724, 1.6882, 2.4206, 2.004, 2.0073, 4.0945, 4.0904, 4.0755, 4.0699, 4.0561, 4.0557, 4.0343, 4.0092, 3.9646, 3.7439, 3.7351, 3.7198, 3.7071, 3.7063, 3.6601, 3.6135, 3.4708, 3.4658, 3.4233, 3.3825, 3.3817, 3.3783, 3.3679, 3.3166, 3.2979, 3.2647, 3.2313, 3.1982, 3.1547, 3.1288, 3.1163, 3.0928, 3.0888, 3.0944, 2.8851, 2.6185, 1.7508, 2.2371, 2.2242, 1.2097, 2.1411, 1.1931, 0.2938, 4.2588, 4.2585, 4.2583, 4.2582, 4.2581, 4.2581, 4.2579, 4.2579, 4.2399, 4.2379, 4.2116, 4.0193, 3.3484, 3.3422, 2.8619, 2.8245, 2.6852, 2.6564, 2.6511, 2.6155, 2.5561, 2.539, 2.4883, 2.4536, 2.4329, 2.4276, 2.3884, 2.3039, 2.2707, 2.2425, 2.2396, 2.1862, 1.7225, 1.7871, 1.881, 1.923, 1.8555, 0.6715, 1.3298, 1.2289, 1.0951, 0.9062, 0.4767, 4.4294, 4.4292, 4.4162, 4.4149, 4.4038, 4.4029, 4.3839, 4.3606, 4.3532, 4.3017, 4.2922, 4.2586, 4.2261, 4.2191, 4.1822, 4.0701, 4.015, 3.9736, 3.9335, 3.923, 3.8784, 3.78, 3.7187, 3.6949, 3.6903, 3.5858, 3.4966, 3.4553, 3.4438, 3.4349, 3.3997, 3.3436, 3.376, 2.8598, 2.2123, 2.1163, 2.5999, 2.6188, 5.2018, 5.1722, 5.1368, 4.9679, 4.8067, 4.7912, 4.6958, 4.5854, 4.5071, 4.4487, 4.4246, 4.4146, 4.2596, 4.2042, 4.0046, 3.9794, 3.9658, 3.9374, 3.8424, 3.7617, 3.6782, 3.5559, 3.5398, 3.5234, 3.455, 3.4405, 3.4341, 3.3824, 3.3638, 3.353, 3.2447, 3.0312, 3.1971, 2.8963, 3.0666, 2.9701, 2.4156, 2.1921, 2.3476, 1.3232, 6.2623, 5.7509, 5.5397, 4.7681, 4.7632, 4.537, 4.5247, 4.4055, 4.2851, 3.1635, 2.9509, 2.5537, 2.3324, 2.1967, 1.4206, 0.9003, 0.8856, 0.8826, 0.8625, 0.8601, 0.8542, 0.8469, 0.8419, 0.8365, 0.8266, 0.8252, 0.8217, 0.8214, 0.8209, 0.8205, 0.3148, 0.7366, 0.6481, -0.1337, -0.1054, 0.6179, -0.165, 0.6066, -0.6553, 0.1609, -3.1648, -2.071, -1.7888, -0.9445, -1.5082, -1.7039, -2.9083, 6.2963, 5.6713, 4.9408, 4.1043, 3.9977, 3.876, 3.8669, 3.8199, 3.7436, 3.6679, 3.5779, 3.5425, 3.4501, 3.4037, 3.3287, 3.1156, 3.0749, 3.0206, 2.7269, 2.5301, 2.4907, 2.0347, 1.9676, 1.8937, 1.7851, 1.7591, 1.2619, 1.2161, 0.9773, 0.973, 0.9485, 0.7935, 1.5448, 1.5305, 1.5263, 1.5069, 1.5043, 1.4916, 1.4876, 1.4873, 1.482, 1.4701, 1.4695, 1.4684, 1.4667, 1.4661, 1.4659, 1.4651, 1.4623, 1.4597, 1.4584, 1.4581, 1.4566, 1.4563, 1.4549, 1.4545, 1.4503, 1.447, 1.4453, 1.4442, 1.4439, 1.4436, 1.4423, 1.4415, 1.4215, 0.7159, 0.8487, 0.7854, 1.0574, 0.1602, 1.0704, 0.9157, 0.6549, 1.2914, 1.1855, -1.093, 0.1578, 0.1256, 0.0935, 0.0281, -1.9536, 0.3662, -0.7908, 0.8326, 0.8018, 0.8312, 0.7111, 0.7447, 0.6049, 0.2616, 1.0875, 0.685, 1.0546, -3.0377, -2.416, -1.2568, -2.5994, -0.9715, -1.5067, -0.9827, -0.3541, -1.0068, -0.3414, -0.4672, -0.3259, -0.3569, -0.484, -1.6045]}, \"token.table\": {\"Topic\": [6, 1, 9, 6, 6, 14, 2, 3, 6, 9, 14, 18, 1, 2, 3, 4, 7, 8, 11, 12, 5, 2, 3, 4, 7, 11, 12, 19, 2, 1, 2, 19, 1, 4, 1, 2, 3, 14, 17, 7, 1, 3, 13, 17, 1, 3, 14, 15, 1, 3, 4, 12, 14, 2, 4, 7, 12, 17, 2, 7, 3, 7, 12, 1, 5, 6, 7, 10, 15, 4, 2, 5, 8, 5, 5, 3, 1, 4, 3, 8, 11, 12, 2, 3, 4, 6, 9, 11, 1, 2, 4, 6, 9, 10, 16, 3, 2, 8, 10, 5, 19, 2, 4, 13, 5, 8, 2, 9, 12, 14, 1, 4, 1, 3, 6, 19, 2, 3, 4, 10, 2, 2, 8, 1, 3, 9, 1, 2, 3, 14, 15, 3, 8, 11, 12, 14, 19, 3, 5, 11, 12, 4, 8, 1, 2, 3, 4, 6, 7, 9, 10, 11, 6, 7, 12, 6, 14, 2, 4, 11, 3, 2, 2, 2, 8, 2, 16, 7, 1, 2, 10, 3, 4, 7, 3, 7, 12, 2, 3, 4, 7, 8, 11, 12, 8, 12, 14, 4, 7, 10, 12, 14, 1, 2, 3, 4, 5, 6, 8, 12, 14, 2, 4, 2, 1, 3, 5, 9, 10, 1, 9, 3, 6, 7, 2, 15, 1, 2, 13, 3, 7, 3, 11, 1, 3, 5, 7, 8, 9, 2, 4, 12, 2, 8, 1, 2, 3, 5, 7, 8, 13, 14, 17, 1, 6, 11, 1, 2, 13, 4, 6, 1, 3, 4, 6, 12, 14, 16, 1, 2, 5, 15, 1, 2, 3, 5, 8, 3, 7, 12, 1, 2, 4, 8, 9, 1, 2, 10, 16, 2, 4, 3, 14, 1, 1, 5, 15, 2, 3, 4, 7, 1, 3, 8, 1, 1, 2, 8, 3, 7, 13, 2, 3, 6, 19, 2, 3, 4, 15, 17, 1, 2, 7, 8, 13, 1, 7, 1, 15, 2, 4, 6, 1, 2, 3, 4, 5, 7, 8, 9, 10, 11, 4, 6, 7, 4, 6, 11, 4, 5, 5, 1, 2, 3, 14, 1, 3, 4, 9, 14, 1, 3, 5, 9, 1, 2, 12, 14, 2, 3, 4, 6, 12, 14, 4, 6, 1, 3, 4, 5, 6, 7, 9, 11, 15, 19, 1, 3, 5, 6, 7, 8, 12, 17, 2, 3, 13, 1, 2, 4, 14, 2, 3, 4, 5, 2, 3, 4, 9, 16, 1, 3, 5, 9, 14, 15, 3, 5, 17, 2, 4, 15, 1, 2, 13, 1, 3, 16, 1, 4, 6, 7, 1, 5, 9, 3, 17, 1, 5, 2, 3, 6, 11, 1, 3, 5, 7, 3, 7, 14, 1, 4, 4, 7, 14, 1, 2, 8, 11, 12, 2, 5, 11, 15, 1, 2, 4, 5, 8, 10, 11, 1, 2, 3, 4, 7, 9, 1, 2, 3, 4, 5, 9, 17, 2, 1, 2, 3, 13, 3, 6, 5, 14, 1, 2, 3, 4, 8, 12, 19, 5, 7, 2, 11, 4, 9, 1, 2, 4, 9, 1, 1, 3, 4, 6, 8, 11, 2, 5, 9, 1, 4, 16, 1, 5, 10, 17, 3, 11, 3, 11, 13, 2, 3, 15, 1, 2, 3, 4, 5, 6, 7, 11, 12, 13, 1, 4, 7, 9, 6, 14, 5, 15, 1, 2, 3, 4, 8, 9, 13, 1, 2, 3, 4, 8, 13, 2, 3, 7, 6, 7, 8, 2, 13, 8, 9, 11, 3, 6, 7, 6, 11, 3, 6, 3, 6, 3, 7, 3, 5, 18, 1, 5, 5, 8, 9, 11, 1, 3, 6, 7, 12, 14, 1, 2, 3, 4, 6, 10, 1, 2, 3, 5, 11, 12, 3, 4, 10, 1, 4, 7, 8, 7, 1, 2, 3, 5, 7, 8, 9, 10, 11, 12, 3, 6, 1, 6, 12, 4, 6, 7, 2, 3, 2, 4, 9, 13, 2, 3, 4, 6, 7, 11, 14, 1, 2, 12, 1, 2, 10, 1, 5, 8, 12, 2, 3, 4, 5, 6, 14, 15, 4, 4, 7, 1, 2, 4, 5, 13, 17, 1, 2, 8, 12, 1, 5, 5, 1, 3, 5, 7, 9, 14, 1, 3, 7, 8, 9, 5, 15, 1, 2, 3, 5, 6, 9, 13, 19, 2, 8, 1, 4, 5, 15, 1, 9, 14, 2, 4, 16, 2, 4, 12, 1, 5, 14, 1, 5, 8, 19, 2, 3, 4, 1, 2, 3, 5, 6, 8, 12, 14, 15, 1, 3, 4, 8, 9, 14, 15, 18, 1, 3, 9, 13, 1, 2, 3, 5, 6, 7, 8, 9, 11, 14, 15, 3, 5, 1, 9, 14, 2, 17, 1, 6, 7, 10, 17, 7, 2, 3, 4, 1, 4, 5, 6, 14, 19, 2, 9, 15, 5, 2, 1, 2, 10, 13, 1, 5, 1, 5, 2, 3, 4, 5, 8, 15, 2, 4, 1, 1, 2, 7, 8, 5, 10, 12, 14, 15, 9, 3, 13, 1, 2, 4, 10, 16, 1, 16, 17, 3, 4, 9, 4, 11, 2, 3, 4, 5, 1, 4, 14, 1, 3, 4, 5, 6, 7, 9, 12, 1, 8, 1, 2, 3, 4, 5, 6, 9, 11, 17, 1, 3, 4, 8, 11, 1, 2, 8, 9, 13, 2, 4, 9, 1, 2, 15, 1, 5, 6, 1, 3, 6, 7, 8, 19, 1, 2, 3, 3, 15, 1, 3, 4, 9, 15, 1, 9, 2, 8, 1, 2, 3, 5, 6, 7, 10, 13, 6, 3, 7, 3, 1, 3, 9, 2, 3, 7, 11, 12, 14, 3, 11, 3, 6, 7, 15, 2, 12, 5, 2, 6, 2, 4, 8, 11, 12, 14, 2, 8, 1, 4, 6, 16, 19, 4, 6, 14, 14, 6, 11, 12, 14, 3, 6, 7, 11, 12, 3, 7, 14, 1, 3, 7, 18, 2, 3, 15, 5, 1, 2, 3, 9, 1, 1, 3, 4, 1, 2, 4, 5, 7, 11, 12, 1, 5, 5, 1, 2, 3, 7, 1, 5, 1, 2, 3, 4, 9, 14, 19, 2, 10, 1, 2, 4, 9, 11, 12, 14, 2, 4, 11, 2, 3, 4, 10, 16, 1, 2, 4, 8, 1, 2, 10, 13, 1, 2, 3, 4, 12, 13, 17, 1, 2, 17, 1, 3, 5, 7, 2, 3, 1, 2, 4, 8, 13, 2, 16, 2, 10, 10, 16, 6, 11, 2, 7, 15, 1, 2, 3, 4, 10, 12, 14, 16, 1, 2, 3, 9, 1, 3, 5, 15, 1, 2, 16, 2, 14, 5, 1, 2, 3, 4, 6, 7, 9, 13, 1, 3, 7, 11, 1, 3, 5, 7, 9, 14, 1, 2, 3, 4, 5, 8, 9, 10, 15, 4, 15, 2, 3, 1, 2, 3, 4, 7, 11, 13, 3, 1, 2, 18, 1, 8, 3, 4, 2, 10, 12, 1, 2, 3, 6, 7, 11, 1, 4, 6, 1, 2, 5, 3, 3, 6, 11, 12, 3, 6, 11, 14, 3, 6, 10, 14, 8, 11, 14, 6, 12, 6, 8, 1, 3, 5, 7, 1, 3, 4, 5, 15, 2, 7, 6, 1, 4, 5, 8, 14, 1, 3, 4, 5, 7, 8, 1, 2, 3, 5, 7, 8, 15, 2, 5, 6, 1, 9, 16, 1, 7, 16, 17, 6, 6, 1, 2, 3, 4, 15, 4, 1, 3, 2, 4, 5, 6, 7, 8, 5, 9, 2, 1, 3, 5, 9, 13, 17, 4, 5, 9, 11, 2, 3, 14, 1, 2, 4, 10, 1, 2, 3, 4, 5, 7, 8, 9, 1, 2, 12, 2, 7, 9, 2, 3, 4, 6, 7, 11, 5, 5, 5, 17, 1, 2, 5, 8, 1, 2, 3, 4, 8, 10, 12, 14, 15, 19, 2, 3, 4, 6, 8, 2, 6, 8, 14, 9, 1, 2, 3, 11, 2, 4, 10, 12, 15, 4, 7, 9, 14, 1, 3, 4, 6, 15, 4, 12, 14, 4, 2, 3, 4, 6, 10, 11, 2, 4, 2, 5, 10, 2, 7, 8, 8, 1, 2, 3, 4, 5, 7, 8, 3, 8, 13, 2, 2, 10, 1, 3, 4, 5, 7, 8, 9, 13, 3, 3, 5, 7, 9, 14, 3, 2, 8, 3, 6, 7, 3, 5, 7, 9, 12, 14, 5, 7, 1, 2, 3, 4, 5, 7, 8, 9, 14, 15, 7, 2, 4, 5, 18, 1, 3, 4, 6, 1, 3, 9, 13, 1, 2, 13, 2, 3, 10, 1, 2, 3, 4, 5, 7, 13, 17, 2, 3, 9, 1, 2, 10, 2, 12, 17, 2, 3, 4, 6, 7, 11, 12, 9, 3, 9, 15, 1, 2, 3, 5, 7, 8, 9, 7, 12, 14, 6, 3, 11, 3, 4, 11, 3, 8, 12, 14, 1, 2, 3, 4, 6, 7, 10, 1, 3, 4, 8, 10, 14, 16, 1, 2, 3, 4, 5, 6, 7, 8, 9, 10, 14, 15, 1, 3, 4, 5, 6, 7, 15, 2, 3, 4, 11, 19, 1, 1, 2, 3, 4, 6, 10, 1, 2, 3, 4, 5, 14, 1, 2, 3, 4, 5, 6, 9, 12, 16, 17, 1, 2, 4, 7, 16, 1, 2, 3, 5, 6, 7, 9, 15, 3, 1, 7, 8, 17, 1, 2, 3, 4, 5, 6, 8, 10, 13, 2, 4, 13, 5, 18, 2, 10, 10, 1, 2, 3, 5, 7, 8, 12, 1, 2, 3, 4, 6, 7, 8, 9, 12, 13, 17, 2, 13, 3, 11, 12, 2, 10, 2, 3, 5, 8, 2, 9, 2, 4, 1, 3, 4, 7, 10, 16, 1, 1, 2, 3, 4, 16, 1, 2, 4, 13, 1, 3, 4, 6, 9, 16, 1, 3, 7, 9, 1, 2, 3, 4, 6, 8, 9, 10, 12, 14, 1, 3, 15, 5, 5, 8, 15, 1, 3, 4, 5, 15, 1, 1, 4, 5, 6, 8, 9, 15, 1, 2, 3, 4, 5, 7, 12, 4, 19, 1, 2, 3, 5, 7, 13, 16, 1, 2, 3, 4, 8, 3, 7, 9, 1, 2, 7, 8, 15, 1, 5, 15, 2, 3, 7, 15, 3, 17, 2, 3, 7, 9, 11, 12, 13, 3, 11, 8, 1, 3, 4, 13, 1, 3, 4, 15, 17, 1, 5, 7, 9, 3, 4, 6, 9, 3, 12, 1, 2, 3, 4, 5, 1, 4, 12, 2, 17, 1, 9, 2, 10, 2, 9, 2, 8, 1, 2, 4, 9, 12, 19, 3, 11, 13, 2, 1, 2, 3, 4, 9, 13, 17, 1, 2, 3, 5, 11, 2, 13, 1, 3, 1, 16, 1, 2, 3, 4, 14, 1, 15, 5, 6, 1, 1, 2, 1, 2, 3, 4, 7, 11, 1, 2, 3, 4, 6, 8, 9, 15, 17, 1, 2, 6, 8, 10, 3, 16, 1, 2, 3, 4, 6, 7, 8, 9, 1, 2, 3, 4, 5, 6, 7, 11, 2, 4, 3, 11, 14, 15, 4, 9, 10, 1, 3, 7, 8, 1, 3, 4, 5, 8, 10, 15, 1, 3, 6, 11, 1, 2, 3, 4, 6, 14, 5, 3, 4, 16, 1, 2, 10, 11, 16, 16, 2, 11, 2, 10, 3, 14, 1, 1, 3, 17, 1, 2, 3, 9, 14, 2, 13, 3, 5, 7, 8, 5, 19, 2, 9, 10, 16, 2, 10, 13, 17, 2, 2, 5, 2, 3, 4, 17, 2, 3, 11, 12, 1, 2, 4, 7, 9, 14, 6, 14, 3, 6, 12, 3, 6, 4, 10, 2, 3, 17, 1, 5, 19, 1, 2, 3, 4, 6, 8, 11, 18, 6, 7, 3, 6, 7, 12, 1, 6, 2, 7, 9, 1, 4, 5, 14, 15, 4, 5, 14, 15, 1, 2, 6, 18, 1, 2, 4, 6, 8, 11, 2, 3, 11, 12, 3, 12, 1, 2, 3, 4, 5, 6, 7, 8, 9, 11, 15, 1, 4, 6, 3, 9, 1, 2, 3, 5, 6, 7, 12, 13, 15, 1, 1, 1, 12, 16, 1, 5, 14, 15, 1, 2, 11, 16, 1, 2, 10, 16, 7, 12, 14, 15, 1, 5, 2, 10, 16, 2, 16, 2, 16, 2, 10, 16, 1, 2, 3, 5, 6, 7, 9, 14, 6, 12, 14, 2, 3, 4, 11, 2, 3, 4, 6, 7, 10, 4, 6, 6, 7, 18, 3, 12, 14, 6, 11, 12, 2, 10, 1, 3, 4, 12, 3, 3, 10, 1, 4, 6, 7, 2, 4, 7, 4, 5, 14, 2, 3, 8, 2, 9, 11, 13, 1, 3, 4, 5, 7, 15, 2, 10, 2, 10, 1, 3, 5, 8, 9, 10, 1, 2, 3, 5, 8, 2, 4, 1, 2, 3, 4, 9, 4, 5, 4, 13, 1, 2, 4, 9, 1, 2, 4, 13, 17, 7, 9, 12, 14, 2, 3, 6, 9, 10, 2, 10, 3, 3, 9, 2, 3, 4, 6, 10, 12, 17, 1, 2, 4, 5, 6, 8, 15, 19, 1, 7, 14, 6, 7, 14, 2, 7, 11, 17, 1, 3, 7, 13, 17, 4, 6, 13, 7, 1, 2, 3, 5, 15, 1, 2, 4, 6, 7, 9, 10, 16, 4, 6, 1, 3, 7, 9, 2, 10, 16, 1, 2, 3, 7, 8, 12, 13, 15, 1, 3, 4, 5, 6, 7, 9, 13, 1, 3, 5, 7, 17, 3, 7, 9, 1, 2, 3, 4, 8, 19, 1, 2, 3, 1, 2, 3, 3, 9, 11, 14, 3, 4, 7, 3, 2, 3, 16, 17, 1, 3, 7, 15, 4, 7, 1, 3, 14, 17, 2, 3, 4, 5, 6, 7, 2, 3, 4, 12, 1, 2, 3, 4, 8, 9, 12, 17, 2, 1, 5, 3, 6, 3, 6, 7, 1, 2, 4, 5, 6, 9, 10, 1, 2, 3, 7, 13, 1, 13, 17, 14, 1, 3, 7, 9, 15, 2, 3, 8, 3, 6, 12, 19, 6, 12, 1, 2, 3, 7, 8, 11, 3, 11, 2, 9, 16, 3, 6, 11, 1, 2, 12, 17, 1, 3, 10, 14, 2, 7, 10, 1, 3, 4, 5, 9, 10, 14, 1, 2, 3, 4, 5, 9, 12, 14, 1, 2, 3, 4, 5, 7, 14, 2, 4, 11, 2, 10, 2, 10, 3, 5, 14, 2, 10, 1, 3, 7, 9, 1, 2, 3, 5, 8, 1, 2, 4, 9, 10, 1, 2, 4, 6, 9, 12, 1, 9, 15, 2, 17, 2, 8, 10, 4, 6, 2, 12, 17, 1, 2, 3, 5, 6, 7, 8, 9, 11, 1, 2, 8, 11, 12, 1, 3, 5, 8, 14, 5, 1, 3, 6, 6, 12, 13, 14, 3, 9, 11, 1, 4, 10, 2, 2, 9, 11, 12, 15, 1, 1, 2, 1, 3, 5, 8, 3, 14, 3, 14, 1, 3, 7, 14, 3, 7, 12, 14, 8, 12, 3, 7, 14, 1, 3, 10, 2, 1, 5, 7, 1, 2, 3, 7, 8, 15, 17, 2, 10, 1, 2, 4, 19, 3, 5, 15, 1, 1, 2, 3, 4, 5, 7, 12, 13, 2, 4, 2, 10, 13, 16, 2, 5, 14, 1, 2, 3, 4, 15, 2, 15, 1, 2, 3, 10, 13, 2, 10, 1, 2, 3, 4, 6, 7, 8, 9, 10, 16, 19, 1, 10, 16, 1, 3, 4, 6, 11, 12, 2, 5, 10, 14, 2, 2, 13, 17, 2, 10, 16, 2, 16, 1, 4, 7, 2, 3, 4, 5, 6, 8, 11, 12, 14, 1, 2, 3, 4, 6, 8, 11, 14, 2, 7, 2, 9, 4, 8, 10, 16, 5, 1, 3, 5, 11, 2, 4, 6, 10, 14, 1, 3, 7, 14, 7, 2, 3, 4, 6, 7, 9, 12, 14, 1, 3, 17, 1, 2, 4, 9, 17, 2, 17, 2, 5, 6, 15, 1, 2, 4, 5, 6, 9, 1, 2, 3, 4, 5, 6, 9, 10, 5, 12, 17, 1, 5, 1, 2, 8, 10, 16, 1, 2, 3, 4, 5, 6, 7, 11, 14, 17, 2, 3, 4, 8, 3, 8, 1, 2, 3, 7, 8, 11, 15, 1, 2, 4, 10, 13, 1, 3, 8, 3, 15, 4, 7, 9, 7, 1, 5, 1, 2, 5, 8, 1, 2, 4, 1, 2, 3, 4, 7, 3, 6, 7, 7, 2, 8, 2, 3, 4, 9, 17, 2, 16, 1, 4, 10, 1, 2, 3, 4, 9, 1, 5, 10, 18, 1, 2, 6, 7, 1, 3, 4, 7, 8, 18, 1, 9, 1, 3, 9, 16, 1, 3, 5, 7, 9, 14, 17, 1, 2, 3, 4, 7, 8, 9, 1, 3, 5, 7, 9, 13, 14, 15, 1, 7, 9, 1, 3, 7, 8, 9, 1, 3, 1, 3, 4, 7, 11, 1, 2, 3, 4, 5, 6, 7, 8, 9, 10, 1, 2, 3, 4, 5, 6, 7, 1, 19, 2, 9, 10, 2, 11, 1, 2, 3, 4, 5, 7, 9, 13, 5, 2, 1, 5, 18, 5, 18, 1, 3, 5, 8, 9, 5, 3, 4, 7, 14, 3, 11, 1, 3, 6, 7, 9, 10, 12, 1, 3, 5, 6, 9, 14, 3, 2, 3, 4, 6, 11, 9, 12, 16, 1, 2, 3, 4, 10, 14, 1, 2, 16, 1, 2, 3, 4, 5, 7, 8, 9, 11, 12, 14, 1, 2, 3, 4, 5, 6, 8, 12, 14, 1, 2, 3, 8, 9, 15, 1, 2, 3, 5, 6, 15, 1, 2, 3, 5, 6, 9, 10, 13, 16, 1, 4, 1, 2, 3, 4, 7, 8, 10, 2, 3, 13, 2, 10, 16, 17, 2, 10, 2, 3, 7, 8, 14, 6, 7, 4, 11, 12, 3, 6, 7, 3, 6, 3, 6, 7, 1, 13, 5, 2, 4, 3, 6, 7, 15, 7, 1, 6, 11, 4, 7, 1, 3, 5, 6, 7, 8, 9, 14, 1, 3, 7, 19, 3, 5, 11, 2, 3, 4, 6, 7, 1, 3, 7, 9, 3, 7, 4, 5, 8, 1, 2, 3, 4, 5, 7, 8, 9, 13, 15, 3, 6, 7, 11, 12, 14, 3, 6, 7, 12, 7, 12, 1, 3, 4, 15, 1, 7, 1, 2, 4, 10, 2, 7, 8, 1, 2, 3, 6, 15, 1, 3, 1, 2, 3, 4, 9, 12, 13, 1, 1, 2, 3, 7, 11, 13, 1, 2, 3, 4, 7, 8, 9, 10, 1, 3, 15, 1, 9, 1, 3, 5, 6, 7, 7, 9, 1, 2, 3, 4, 5, 6, 13, 14, 1, 2, 3, 4, 5, 6, 9, 10, 14, 5, 1, 3, 9, 15, 16, 7, 2, 3, 4, 6], \"Freq\": [0.9633725214684622, 0.7487723489434029, 0.18719308723585074, 0.9485433914589456, 0.841097646979834, 0.14018294116330568, 0.2581276459669158, 0.09679786723759341, 0.19359573447518683, 0.09679786723759341, 0.19359573447518683, 0.19359573447518683, 0.061704053518263205, 0.04936324281461057, 0.13574891774017905, 0.08638567492556849, 0.024681621407305284, 0.024681621407305284, 0.1480897284438317, 0.4442691853314951, 0.9633864841917156, 0.4252469561252976, 0.1214991303215136, 0.13364904335366498, 0.10934921728936225, 0.07289947819290817, 0.07289947819290817, 0.048599652128605446, 0.9494088697936215, 0.484961916868909, 0.42434167726029537, 0.060620239608613624, 0.03847883228449034, 0.8850131425432778, 0.2665562843044676, 0.1332781421522338, 0.23323674876640915, 0.3665148909186429, 0.9829151492677876, 0.9278584149611653, 0.07594721946919962, 0.22784165840759885, 0.5316305362843973, 0.15189443893839924, 0.4615659110867414, 0.2051404049274406, 0.05128510123186015, 0.25642550615930076, 0.30724231440759026, 0.0847565005262318, 0.5297281282889488, 0.010594562565778976, 0.06356737539467384, 0.4448062844540712, 0.16174773980148044, 0.1819662072766655, 0.060655402425555165, 0.1415292723262954, 0.07848832240535197, 0.8633715464588717, 0.10339673863565256, 0.8271739090852205, 0.05169836931782628, 0.8780861663932737, 0.008869557236295695, 0.008869557236295695, 0.03547822894518278, 0.008869557236295695, 0.04434778618147847, 0.9799638671501076, 0.24067679885085758, 0.08022559961695253, 0.5615791973186677, 0.9818740222436244, 0.9399411907780494, 0.9863649800002461, 0.21300281722450215, 0.7455098602857575, 0.12632093480570877, 0.009716994985054522, 0.8356615687146889, 0.019433989970109044, 0.10772520990523721, 0.24622905121197078, 0.27700768261346714, 0.02308397355112226, 0.015389315700748174, 0.3154809718653376, 0.09392287167318432, 0.18784574334636864, 0.2974224269650837, 0.06261524778212288, 0.01565381194553072, 0.2974224269650837, 0.03130762389106144, 0.977495682536011, 0.6787850389146544, 0.3177291671515403, 0.9610774731082686, 0.9010334326459607, 0.05300196662623298, 0.33865056756976303, 0.024189326254983073, 0.6047331563745769, 0.18711320684132562, 0.7858754687335676, 0.3108345055734281, 0.08880985873526519, 0.5328591524115911, 0.044404929367632594, 0.8945093376650869, 0.06880841058962206, 0.34329319313006634, 0.2059759158780398, 0.27463455450405305, 0.06865863862601326, 0.13370171509123796, 0.021392274414598074, 0.6845527812671384, 0.15509398950583603, 0.9552857101528929, 0.5659999674049322, 0.41834780199494986, 0.5304831394052645, 0.38128475644753385, 0.06631039242565806, 0.4379590923473681, 0.10304919819938071, 0.05152459909969036, 0.3606721936978325, 0.02576229954984518, 0.3002639629575028, 0.013054954911195772, 0.5352531513590267, 0.10443963928956618, 0.013054954911195772, 0.013054954911195772, 0.8493715362993554, 0.04355751468201822, 0.08711502936403644, 0.02177875734100911, 0.8721232214228996, 0.09180244436030521, 0.41923907670680666, 0.09042411458382105, 0.0411018702653732, 0.032881496212298564, 0.0822037405307464, 0.049322244318447846, 0.008220374053074641, 0.008220374053074641, 0.27127234375146314, 0.5550703270545229, 0.4102693721707343, 0.012066746240315715, 0.8876288062132484, 0.06340205758666059, 0.19750287007186026, 0.7461219536048055, 0.021944763341317806, 0.9369188938779328, 0.9869784936823544, 0.9706621444133593, 0.9549314386316677, 0.023291010698333357, 0.9286542648124605, 0.068789204800923, 0.9789769494063413, 0.01869008960177589, 0.4111819712390696, 0.5420125984515008, 0.948302834659146, 0.10929761294348293, 0.8743809035478635, 0.05604297797192201, 0.7846016916069081, 0.11208595594384402, 0.09422198257098413, 0.047110991285492065, 0.023555495642746033, 0.4004434259266826, 0.023555495642746033, 0.023555495642746033, 0.3768879302839365, 0.03135867737942822, 0.06271735475885644, 0.8937223053137043, 0.02011309381988546, 0.04022618763977092, 0.02011309381988546, 0.784410658975533, 0.1005654690994273, 0.1143954416724454, 0.6440039679337667, 0.04660555031099627, 0.12286917809262654, 0.01694747284036228, 0.03813181389081514, 0.00423686821009057, 0.00423686821009057, 0.00423686821009057, 0.13641081822475923, 0.8457470729935072, 0.9637448935248478, 0.12727667070850301, 0.31819167677125754, 0.25455334141700603, 0.25455334141700603, 0.9245701031152198, 0.1449411995637718, 0.8213334641947068, 0.08541700719649252, 0.7687530647684327, 0.12812551079473877, 0.025265719468842505, 0.9727301995504365, 0.26557785833745157, 0.21246228666996125, 0.4957453355632429, 0.03876125241040965, 0.9561108927901046, 0.26059191983297275, 0.7216391626143861, 0.3089920236270312, 0.2844688471486954, 0.08337880002634177, 0.25504103537469247, 0.014713905887001487, 0.049046352956671625, 0.13850607837385054, 0.7964099506496406, 0.034626519593462635, 0.06294068797743961, 0.9126399756728744, 0.5752646555702026, 0.05550799308133533, 0.25230905946061516, 0.05046181189212303, 0.010092362378424606, 0.010092362378424606, 0.010092362378424606, 0.015138543567636909, 0.020184724756849213, 0.47721860363167995, 0.286331162179008, 0.095443720726336, 0.026244231768238032, 0.22307597003002327, 0.7348384895106649, 0.11820817532576834, 0.8668599523889678, 0.1482465542140559, 0.17789586505686705, 0.07412327710702794, 0.08894793252843353, 0.08894793252843353, 0.014824655421405588, 0.3706163855351397, 0.18685331147412065, 0.043965485052734274, 0.6374995332646469, 0.12090508389501925, 0.29824577362102234, 0.05422650429473134, 0.09037750715788556, 0.3343967764841766, 0.21690601717892535, 0.14161485590999512, 0.09440990393999674, 0.7080742795499755, 0.7666176671634599, 0.14602241279303999, 0.024337068798839998, 0.036505603198259996, 0.024337068798839998, 0.26181378470556976, 0.04363563078426163, 0.021817815392130815, 0.6327166463717936, 0.9513487910869933, 0.9435330932832905, 0.6545144991076948, 0.2805062139032978, 0.8985560562544564, 0.03874455213969103, 0.8330078710033572, 0.09686138034922757, 0.0570654410541128, 0.1141308821082256, 0.1711963231623384, 0.6562525721222972, 0.3434005047752963, 0.1818002672339804, 0.46460068293128326, 0.9119841422803179, 0.9394157498444745, 0.34488386294584467, 0.5518141807133515, 0.3822530481498562, 0.3822530481498562, 0.1911265240749281, 0.05491383993949166, 0.2745691996974583, 0.5491383993949166, 0.05491383993949166, 0.6179269422029292, 0.19177043033884011, 0.021307825593204457, 0.021307825593204457, 0.12784695355922673, 0.28588429679609556, 0.23543412677325518, 0.06726689336378719, 0.06726689336378719, 0.31951774347798917, 0.12796622149228298, 0.8317804396998395, 0.9551373248983588, 0.9829997195813266, 0.186365436394863, 0.7299312925465468, 0.062121812131621004, 0.34304241046467515, 0.19706691664991977, 0.15327426850549314, 0.021896324072213307, 0.19706691664991977, 0.036493873453688846, 0.007298774690737769, 0.007298774690737769, 0.007298774690737769, 0.029195098762951077, 0.1435745503124882, 0.43072365093746456, 0.2871491006249764, 0.060166476702106314, 0.8423306738294883, 0.060166476702106314, 0.43771860939779844, 0.5509216980351601, 0.9914775564331076, 0.2850852304484842, 0.20363230746320302, 0.0407264614926406, 0.4479910764190466, 0.08289380437426408, 0.2072345109356602, 0.5698949050730655, 0.02072345109356602, 0.11397898101461311, 0.20047771725594668, 0.13365181150396443, 0.06682590575198222, 0.5346072460158577, 0.2064439151661214, 0.23224940456188659, 0.15483293637459106, 0.3612768515407125, 0.04493253875296794, 0.36844681777433713, 0.017973015501187177, 0.152770631760091, 0.17973015501187176, 0.22466269376483972, 0.06544754912048124, 0.8508181385662561, 0.33532614788877324, 0.23752268808788102, 0.03260115326696406, 0.15369115111568774, 0.06054499892436183, 0.06520230653392813, 0.06985961414349443, 0.018629230438265178, 0.009314615219132589, 0.009314615219132589, 0.1180912956315531, 0.09030510842412885, 0.6251892121670458, 0.04862582761299246, 0.04862582761299246, 0.01389309360371213, 0.03473273400928033, 0.01389309360371213, 0.09697425857600042, 0.09697425857600042, 0.7757940686080034, 0.017370926626500756, 0.5428414570781487, 0.42993043400589376, 0.004342731656625189, 0.27053224631935396, 0.031827323096394584, 0.6683737850242862, 0.015913661548197292, 0.07840573447654348, 0.23521720342963043, 0.03920286723827174, 0.15681146895308695, 0.4312315396209891, 0.34581317652653176, 0.3143756150241198, 0.02095837433494132, 0.27245886635423716, 0.02095837433494132, 0.01047918716747066, 0.5360015845722248, 0.17866719485740826, 0.23822292647654436, 0.04966772143757606, 0.9188528465951571, 0.9923176878388317, 0.3268258729746594, 0.059422885995392624, 0.5942288599539263, 0.41541490461350594, 0.1917299559754643, 0.3515049192883512, 0.12529721008541436, 0.41765736695138117, 0.04176573669513812, 0.4106964108355248, 0.021653398334388122, 0.7795223400379724, 0.17322718667510498, 0.7962970103647924, 0.17063507364959837, 0.027048565900061074, 0.9466998065021376, 0.044378274783751254, 0.022189137391875627, 0.08875654956750251, 0.7988089461075225, 0.1347928828036337, 0.6335265491770784, 0.06739644140181685, 0.16175145936436044, 0.6792751908273772, 0.1940786259506792, 0.9436332011909705, 0.018309388164583662, 0.970397572722934, 0.17048974657826038, 0.795618817365215, 0.018943305175362263, 0.03467427790283264, 0.10402283370849791, 0.2600570842712448, 0.2773942232226611, 0.3120685011254937, 0.29059898133610124, 0.3995735993371392, 0.10897461800103796, 0.14529949066805062, 0.003041183976092074, 0.003041183976092074, 0.003041183976092074, 0.003041183976092074, 0.82111967354486, 0.13381209494805127, 0.03345302373701282, 0.30996703945551596, 0.029520670424334854, 0.34686787748593456, 0.02214050281825114, 0.14022318451559057, 0.14760335212167427, 0.5225195090670376, 0.05225195090670376, 0.24384243756461754, 0.017417316968901253, 0.05225195090670376, 0.017417316968901253, 0.10450390181340752, 0.9757231127590456, 0.0835208975238442, 0.7683922572193667, 0.01670417950476884, 0.1252813462857663, 0.7764595447273617, 0.14117446267770212, 0.3904810249491031, 0.48810128118637885, 0.31902258232578773, 0.2658521519381564, 0.1329260759690782, 0.07975564558144693, 0.1329260759690782, 0.026585215193815643, 0.053170430387631286, 0.04271929166783267, 0.9398244166923189, 0.3940440782736368, 0.5910661174104552, 0.4076869237389563, 0.5096086546736954, 0.05291359564280598, 0.12346505649988063, 0.7937039346420898, 0.01763786521426866, 0.8593858281611725, 0.036938506351707104, 0.10158089246719453, 0.027703879763780328, 0.27703879763780326, 0.009234626587926776, 0.5448429686876798, 0.31091696329401713, 0.5330005085040294, 0.0888334180840049, 0.03873817886736354, 0.7747635773472707, 0.1936908943368177, 0.03315990260497457, 0.06631980520994914, 0.1989594156298474, 0.6631980520994913, 0.1413620978676989, 0.8481725872061934, 0.025361573010484813, 0.963739774398423, 0.94313562249971, 0.9681050960574274, 0.9092096715113188, 0.0649435479650942, 0.006631219005033374, 0.08952145656795055, 0.19230535114596783, 0.1790429131359011, 0.05968097104530037, 0.39124192129696905, 0.00994682850755006, 0.03315609502516687, 0.01989365701510012, 0.016578047512583436, 0.14821926386121093, 0.14821926386121093, 0.12351605321767577, 0.5434706341577734, 0.24025552046676732, 0.7207665614003019, 0.7889522444249311, 0.18934853866198345, 0.04646777394770881, 0.2721683902651516, 0.013276506842202518, 0.05974428078991133, 0.019914760263303778, 0.15267982868532895, 0.4381247257926831, 0.10848806676469697, 0.18081344460782828, 0.1265694112254798, 0.07232537784313131, 0.018081344460782828, 0.4881963004411363, 0.04286491888606749, 0.8251496885567993, 0.1285947566582025, 0.10444419328803883, 0.22629575212408415, 0.6440725252762395, 0.0636930698294687, 0.923549512527296, 0.06408352974757953, 0.8330858867185339, 0.06408352974757953, 0.01937912470189168, 0.9560368186266563, 0.01937912470189168, 0.9168155255217502, 0.06548682325155358, 0.2051803543613726, 0.793364036863974, 0.2962096913711073, 0.687206483980969, 0.03448760052299936, 0.9311652141209826, 0.2696958937445754, 0.5393917874891508, 0.08989863124819181, 0.1456568540742807, 0.8323248804244611, 0.04488599112967974, 0.5835178846858367, 0.17954396451871896, 0.17954396451871896, 0.17508000483829647, 0.05387077071947584, 0.08080615607921376, 0.06733846339934481, 0.6060461705941033, 0.01346769267986896, 0.04980712969264261, 0.6048008605535173, 0.0035576521209030433, 0.12451782423160651, 0.03557652120903043, 0.17788260604515216, 0.046352891138541345, 0.6025875848010375, 0.011588222784635336, 0.06952933670781201, 0.057941113923176676, 0.19699978733880072, 0.09396113016515484, 0.04698056508257742, 0.7986696064038161, 0.0627897957620326, 0.1674394553654203, 0.20929931920677536, 0.5546431958979546, 0.9810126168791466, 0.07436934935072505, 0.10742239350660285, 0.06197445779227088, 0.40489979090950307, 0.1817917428573279, 0.028921413636393074, 0.012394891558454175, 0.02478978311690835, 0.0495795662338167, 0.04131630519484725, 0.7130347972522616, 0.24587406801802125, 0.8031122095438087, 0.1529737541988207, 0.019121719274852587, 0.032256720053824676, 0.8386747213994415, 0.11289852018838636, 0.08443646520909547, 0.8443646520909547, 0.22957427831213043, 0.11478713915606521, 0.22957427831213043, 0.40175498704622825, 0.10303220372597506, 0.3385343836710609, 0.0220783293698518, 0.5078015755065913, 0.014718886246567866, 0.007359443123283933, 0.007359443123283933, 0.3312352288656697, 0.13801467869402903, 0.5244557790373103, 0.22354867831317582, 0.12419371017398657, 0.6209685508699329, 0.16225779184613146, 0.16225779184613146, 0.27042965307688577, 0.4326874449230172, 0.15534943751321484, 0.056490704550259944, 0.6213977500528594, 0.028245352275129972, 0.056490704550259944, 0.028245352275129972, 0.04236802841269496, 0.9867610631907988, 0.08322291392741801, 0.8322291392741801, 0.04303064261086732, 0.43891255463084666, 0.1721225704434693, 0.04303064261086732, 0.26678998418737737, 0.034424514088693854, 0.06706703160030815, 0.16766757900077037, 0.1341340632006163, 0.6371368002029274, 0.02841139111112197, 0.9375759066670251, 0.9809642999108218, 0.38164052857136255, 0.3060681466760432, 0.011335857284297897, 0.23805300297025583, 0.026450333663361757, 0.037786190947659656, 0.3985409626476274, 0.23520450254614075, 0.31360600339485434, 0.01306691680811893, 0.03266729202029733, 0.9458485063457805, 0.029557765823305642, 0.5489228373654691, 0.06635331001121055, 0.19905993003363165, 0.05428907182735409, 0.06032119091928232, 0.03619271455156939, 0.03619271455156939, 0.006032119091928232, 0.4373449219944645, 0.5466811524930806, 0.0255601887469774, 0.12141089654814265, 0.8307061342767655, 0.01917014156023305, 0.5739620549109881, 0.19132068497032934, 0.19132068497032934, 0.3090114472568212, 0.1765779698610407, 0.44144492465260177, 0.0886783625671295, 0.3901847952953698, 0.4965988303759252, 0.39897610032661546, 0.4459144650709232, 0.14863815502364106, 0.5695611338072027, 0.35861256573046096, 0.021094856807674176, 0.021094856807674176, 0.37401874530139234, 0.37401874530139234, 0.18700937265069617, 0.558912630730554, 0.07190688816416484, 0.2712850780738946, 0.03268494916552947, 0.003268494916552947, 0.003268494916552947, 0.019610969499317683, 0.019610969499317683, 0.019610969499317683, 0.3906265018719698, 0.4096814531827976, 0.03810990262165559, 0.009527475655413897, 0.06669232958789728, 0.028582426966241692, 0.028582426966241692, 0.019054951310827795, 0.10309928655483039, 0.3608475029419064, 0.051549643277415194, 0.5154964327741519, 0.4461277355428038, 0.004797072425191439, 0.3677755525980103, 0.03357950697634007, 0.0031980482834609593, 0.015990241417304797, 0.04157462768499247, 0.03517853111807055, 0.0015990241417304797, 0.022386337984226717, 0.027183410409418154, 0.9294045826234072, 0.9610298620420947, 0.5191321722519215, 0.19966622009689292, 0.2395994641162715, 0.5072539002029627, 0.44757697076732006, 0.4724277031735915, 0.2834566219041549, 0.1889710812694366, 0.9233414925457061, 0.048596920660300316, 0.8886901117866206, 0.10992864349900498, 0.7420183436182837, 0.10992864349900498, 0.024774254838738508, 0.44593658709729317, 0.32206531290360063, 0.1858069112905388, 0.012387127419369254, 0.012387127419369254, 0.1372419309896343, 0.8234515859378059, 0.988592888340107, 0.9583183177651007, 0.9569700952816262, 0.09314906446319461, 0.3859032670618062, 0.39921027627083405, 0.1153274131449076, 0.23215150373118318, 0.7583615788551984, 0.05311715459057507, 0.9029916280397762, 0.11496709773862958, 0.005562924084127238, 0.005562924084127238, 0.011125848168254475, 0.46172269898256074, 0.3968219180010763, 0.2566620660034668, 0.7233203678279518, 0.9178021549848571, 0.02108745447997508, 0.5060989075194019, 0.052718636199937705, 0.41120536235951405, 0.26809964996099445, 0.06702491249024861, 0.16756228122562153, 0.3686370186963674, 0.06702491249024861, 0.9685240914395069, 0.5294690791076374, 0.3781921993625981, 0.24117544186433185, 0.1837527176109195, 0.09187635880545975, 0.10336090365614221, 0.37898998007252144, 0.3686349078636285, 0.22118094471817712, 0.3686349078636285, 0.23552803447869122, 0.11776401723934561, 0.5888200861967281, 0.43499212193986875, 0.48936613718235233, 0.3790516604484562, 0.2369072877802851, 0.28428874533634213, 0.09476291511211404, 0.3764922212371885, 0.18824611061859425, 0.31374351769765707, 0.16763287263914567, 0.03809838014526038, 0.030478704116208306, 0.37336412542355174, 0.07619676029052076, 0.15239352058104152, 0.14477384455198944, 0.007619676029052076, 0.899456125582642, 0.08176873868933109, 0.2588300598658041, 0.1753364921671576, 0.06679485415891719, 0.025048070309593943, 0.008349356769864648, 0.09184292446851113, 0.18368584893702225, 0.08349356769864648, 0.10854163800824043, 0.6519986871587539, 0.05015374516605799, 0.05015374516605799, 0.10030749033211599, 0.15046123549817397, 0.21703825714436034, 0.027129782143045043, 0.08138934642913513, 0.1899084750013153, 0.4612062964317657, 0.11160706813610476, 0.33482120440831425, 0.5301335736464976, 0.8949746487434832, 0.06102099877796477, 0.020340332925988257, 0.884651414956386, 0.016691536131252568, 0.08345768065626283, 0.4608814594971158, 0.024256918920900834, 0.33959686489261165, 0.04851383784180167, 0.07277075676270249, 0.024256918920900834, 0.9255443673530453, 0.025709565759806815, 0.025709565759806815, 0.9018385018630316, 0.07515320848858598, 0.08369518534690731, 0.08369518534690731, 0.2510855560407219, 0.2510855560407219, 0.2510855560407219, 0.15325294869624248, 0.7662647434812124, 0.756277621530856, 0.23704223958429813, 0.3557208401191146, 0.020135141893534787, 0.4698199775158117, 0.04698199775158117, 0.006711713964511596, 0.020135141893534787, 0.006711713964511596, 0.07382885360962756, 0.9285585620801999, 0.00874919084164553, 0.9799093742642992, 0.9615005420321991, 0.09347844616773358, 0.6543491231741351, 0.18695689233546717, 0.01623231681185092, 0.31653017783109294, 0.2759493858014656, 0.300297861019242, 0.0811615840592546, 0.00811615840592546, 0.09220406348116593, 0.8759386030710764, 0.28604677060417416, 0.05720935412083483, 0.45767483296667866, 0.11441870824166966, 0.2240097631630079, 0.7466992105433597, 0.9758961150610544, 0.06798849125835567, 0.8838503863586238, 0.0029875614735569776, 0.0029875614735569776, 0.8693803888050805, 0.11053977452160818, 0.008962684420670932, 0.0029875614735569776, 0.5476763183159757, 0.434363976595429, 0.5053005474229104, 0.14437158497797442, 0.18046448122246803, 0.10827868873348082, 0.036092896244493605, 0.80376240133038, 0.036534654605926364, 0.1096039638177791, 0.921760708802911, 0.491129467079363, 0.025848919319966475, 0.4221990155594524, 0.06031414507992177, 0.01754287030076907, 0.8464434920121078, 0.008771435150384536, 0.039471458176730416, 0.08771435150384536, 0.040840563884699504, 0.8168112776939901, 0.12252169165409851, 0.6577873939860774, 0.1934668805841404, 0.07738675223365617, 0.038693376116828083, 0.5152592080901744, 0.2576296040450872, 0.1932222030338154, 0.9593201665253882, 0.008090914515357508, 0.8980915112046833, 0.024272743546072523, 0.06472731612286006, 0.921046171433039, 0.12698829915529988, 0.06349414957764994, 0.6984356453541494, 0.0838335609073269, 0.39401773626443637, 0.15928376572392108, 0.10060027308879227, 0.033533424362930754, 0.033533424362930754, 0.19281719008685186, 0.06650299470956787, 0.9249961991421713, 0.9884794340591148, 0.15371935356390953, 0.2635188918238449, 0.5270377836476898, 0.04391981530397415, 0.8527469681469106, 0.09474966312743452, 0.28157821173204417, 0.14078910586602209, 0.37543761564272554, 0.06257293594045425, 0.06257293594045425, 0.015643233985113563, 0.04692970195534069, 0.18223979950507524, 0.728959198020301, 0.08060493479592953, 0.45676129717693403, 0.42989298557829086, 0.02686831159864318, 0.5850126703226609, 0.07312658379033261, 0.29250633516133046, 0.18436660768231927, 0.36873321536463854, 0.4609165192057981, 0.19638349279399958, 0.039276698558799915, 0.15710679423519966, 0.07855339711759983, 0.510597081264399, 0.9876743637580557, 0.6714456460120402, 0.009197885561808769, 0.3035302235396894, 0.2983661344996395, 0.2754148933842826, 0.04590248223071377, 0.36721985784571015, 0.01983219234652041, 0.01983219234652041, 0.11899315407912248, 0.07932876938608165, 0.07932876938608165, 0.6742945397816941, 0.01983219234652041, 0.34024537740391214, 0.3760606802885345, 0.2686147716346675, 0.30069849904205764, 0.25058208253504805, 0.10023283301401921, 0.35081491554906724, 0.4057573221709178, 0.5071966527136472, 0.07466180252163719, 0.2239854075649116, 0.037330901260818596, 0.1119927037824558, 0.5226326176514604, 0.03715772794308571, 0.9289431985771427, 0.11241065912065556, 0.8618150532583594, 0.03412558015446177, 0.9213906641704679, 0.925374550358917, 0.034273131494774706, 0.055363389980637744, 0.9301049516747141, 0.9862550905845404, 0.2201472317949279, 0.22538883255195, 0.1572480227106628, 0.2096640302808837, 0.010483201514044187, 0.04717440681319884, 0.03144960454213256, 0.09434881362639767, 0.09606688176579288, 0.28820064529737865, 0.03202229392193096, 0.5764012905947573, 0.6901956221735955, 0.2533629499118262, 0.026209960335706158, 0.008736653445235385, 0.22907380054344462, 0.1527158670289631, 0.5345055346013707, 0.9833298887953664, 0.9373681604900311, 0.9660397641159673, 0.13578340634280467, 0.02263056772380078, 0.02263056772380078, 0.13578340634280467, 0.1131528386190039, 0.15841397406660546, 0.06789170317140233, 0.3394585158570117, 0.5003648753542373, 0.04169707294618644, 0.37527365651567796, 0.04169707294618644, 0.5615362159137036, 0.1581024297232758, 0.005451807921492268, 0.2071687010167062, 0.02725903960746134, 0.03271084752895361, 0.4955701052778082, 0.05126587295977326, 0.3189876539719225, 0.002848104053320737, 0.07405070538633915, 0.019936728373245158, 0.005696208106641474, 0.005696208106641474, 0.022784832426565895, 0.023491209438986364, 0.9631395869984408, 0.9061476375894183, 0.08237705796267439, 0.004425084498460058, 0.057526098479980754, 0.5221599708182869, 0.013275253495380175, 0.1814284644368624, 0.1593030419445621, 0.057526098479980754, 0.9456931384307888, 0.12714522278934076, 0.6992987253413742, 0.12714522278934076, 0.9047553914554308, 0.06462538510395935, 0.9080227427021691, 0.06485876733586922, 0.15144873924839372, 0.7824851527833675, 0.025241456541398952, 0.5156715412874888, 0.11900112491249741, 0.23006884149749499, 0.0872674916024981, 0.007933408327499827, 0.03966704163749914, 0.13335555071957625, 0.7667944166375635, 0.06667777535978812, 0.18969648827283614, 0.6639377089549265, 0.09484824413641807, 0.8937915289288669, 0.16142607747191334, 0.24213911620787001, 0.08071303873595667, 0.4035651936797834, 0.10449868645884378, 0.7979899693220797, 0.0015833134311946026, 0.09341549244048156, 0.408181897285961, 0.5887933562620499, 0.03041077484005815, 0.9427340200418026, 0.526089726172306, 0.04384081051435883, 0.3507264841148706, 0.9855792326216232, 0.010266450339808575, 0.9892477518954944, 0.9240909373898006, 0.2550500829568599, 0.06376252073921497, 0.12752504147842994, 0.5419814262833272, 0.15453521057841274, 0.4636056317352382, 0.051511736859470914, 0.15453521057841274, 0.15453521057841274, 0.08501176553437247, 0.8926235381109109, 0.9801876984047184, 0.00444604890523184, 0.6935836292161671, 0.21341034745112833, 0.07558283138894129, 0.00889209781046368, 0.5266835962336036, 0.08229431191150058, 0.032917724764600226, 0.024688293573450173, 0.3209478164548522, 0.9267393996944469, 0.6850396898923736, 0.042436086984483326, 0.030311490703202375, 0.10912136653152854, 0.05456068326576427, 0.06062298140640475, 0.01212459628128095, 0.3608589665980398, 0.2886871732784318, 0.2886871732784318, 0.07992065593779162, 0.5994049195334371, 0.31968262375116646, 0.04450289735888154, 0.26701738415328924, 0.57853766566546, 0.08900579471776308, 0.9830547810358262, 0.97808984512055, 0.3889022674707186, 0.1296340891569062, 0.3500120407236467, 0.02592681783138124, 0.09074386240983434, 0.958837869551187, 0.912722869396537, 0.06294640478596807, 0.03819048878868619, 0.10502384416888702, 0.009547622197171547, 0.47738110985857735, 0.2673334215208033, 0.08592859977454392, 0.23732390633416556, 0.6645069377356636, 0.9863857615124226, 0.464356256323124, 0.20970927704915276, 0.06740655333722767, 0.029958468149878965, 0.11983387259951586, 0.09736502148710664, 0.035138709689030115, 0.1581241936006355, 0.7379129034696323, 0.05270806453354517, 0.25047000970407374, 0.06261750242601843, 0.6261750242601843, 0.01298971438996153, 0.8703108641274225, 0.01298971438996153, 0.10391771511969224, 0.245932621279648, 0.011711077203792762, 0.16395508085309865, 0.05855538601896381, 0.10539969483413486, 0.0936886176303421, 0.011711077203792762, 0.3044880072986118, 0.1439193585713868, 0.23986559761897802, 0.5756774342855472, 0.14017938523376347, 0.7476233879134052, 0.09345292348917565, 0.14343905867154563, 0.12909515280439107, 0.14343905867154563, 0.24384639974162756, 0.028687811734309124, 0.3155659290774004, 0.9702582256591701, 0.9645690769820838, 0.9467229780597233, 0.938915126655175, 0.33863377379893567, 0.22575584919929045, 0.05643896229982261, 0.3762597486654841, 0.16137413687807825, 0.40007338101023565, 0.016809805924799817, 0.3227482737561565, 0.06051530132927935, 0.006723922369919927, 0.013447844739839855, 0.006723922369919927, 0.0033619611849599637, 0.006723922369919927, 0.03640111770584503, 0.03640111770584503, 0.18200558852922516, 0.18200558852922516, 0.5824178832935205, 0.05309678210941214, 0.0796451731641182, 0.6637097763676517, 0.1858387373829425, 0.9236770315097286, 0.2544033126878753, 0.12720165634393765, 0.06360082817196883, 0.5088066253757506, 0.19560309264547898, 0.13040206176365265, 0.5868092779364369, 0.06520103088182633, 0.9817368720335737, 0.025605809141148, 0.35848132797607196, 0.486510373681812, 0.102423236564592, 0.6084841018697896, 0.18912343706763732, 0.008222758133375536, 0.09867309760050642, 0.08222758133375536, 0.3478105368833675, 0.5691445149000559, 0.03161913971666977, 0.925727700312947, 0.14070526720726678, 0.04020150491636194, 0.04020150491636194, 0.1809067721236287, 0.0603022573745429, 0.5226195639127051, 0.22260749725979298, 0.760575615637626, 0.14902016791057146, 0.037255041977642865, 0.8009834025193217, 0.15658480297833743, 0.2087797373044499, 0.6263392119133497, 0.923393568937383, 0.061835927573179565, 0.18550778271953872, 0.061835927573179565, 0.061835927573179565, 0.09275389135976936, 0.04637694567988468, 0.47922843869214166, 0.285550059303174, 0.285550059303174, 0.3997700830244436, 0.9756945592489586, 0.9836814387329528, 0.9894826029924538, 0.6191082183970331, 0.2770183920154893, 0.0018591838390301296, 0.014873470712241037, 0.04276122829769298, 0.014873470712241037, 0.016732654551271167, 0.013014286873210906, 0.9320846606234827, 0.2062171481859694, 0.13747809879064626, 0.06873904939532313, 0.13747809879064626, 0.4811733457672619, 0.9472462374610296, 0.5850071578824465, 0.41294622909349166, 0.12819250725057313, 0.5448181558149359, 0.32048126812643285, 0.2812096165650494, 0.09373653885501645, 0.5311737201784266, 0.06249102590334431, 0.06061465208949121, 0.9092197813423681, 0.14151797220512477, 0.7783488471281862, 0.6583068457976473, 0.01743859194165953, 0.17656574340930276, 0.004359647985414883, 0.04795612783956371, 0.05885524780310092, 0.010899119963537207, 0.0021798239927074414, 0.013078943956244649, 0.010899119963537207, 0.9902625228864962, 0.2530698512096146, 0.028118872356623845, 0.16871323413974307, 0.534258574775853, 0.8263338873418857, 0.02233334830653745, 0.06700004491961235, 0.06700004491961235, 0.2548365798401846, 0.11326070215119316, 0.08494552661339487, 0.5096731596803692, 0.03535953538356941, 0.4596739599864023, 0.4596739599864023, 0.17464735287812497, 0.08732367643906248, 0.7276973036588541, 0.30771085941913023, 0.18936052887331092, 0.2781232767826754, 0.06509268180020063, 0.0355050991637458, 0.023670066109163865, 0.053257648745618696, 0.04734013221832773, 0.9672041686661849, 0.017779488394598985, 0.010667693036759391, 0.014018357557595422, 0.897174883686107, 0.0700917877879771, 0.459257319364355, 0.08611074738081656, 0.4305537369040828, 0.9813223855146866, 0.20933831431205727, 0.08286308274852267, 0.22242195895656083, 0.0610570083410167, 0.32272990123108825, 0.10030794227452744, 0.9406156149747238, 0.24437156237005844, 0.5864917496881402, 0.09774862494802337, 0.21747137338887354, 0.07249045779629118, 0.5074332045740383, 0.03624522889814559, 0.13048282403332412, 0.007249045779629118, 0.014498091559258236, 0.3491362581480539, 0.44888947476178354, 0.1496298249205945, 0.9269504401731239, 0.0745564299667233, 0.8946771596006796, 0.2515259055280215, 0.0503051811056043, 0.6539673543728559, 0.20521059328091418, 0.027361412437455223, 0.7113967233738357, 0.027361412437455223, 0.5716920343526193, 0.07350326155962247, 0.08983731968398302, 0.032668116248721096, 0.14700652311924495, 0.06533623249744219, 0.016334058124360548, 0.33644937613427234, 0.15082213412915657, 0.04640681050127894, 0.011601702625319735, 0.09281362100255788, 0.02320340525063947, 0.34805107875959207, 0.612142597798913, 0.0016817104335134971, 0.2371211711254031, 0.0067268417340539885, 0.026907366936215954, 0.01681710433513497, 0.03531591910378344, 0.010090262601080983, 0.03867933997081043, 0.0067268417340539885, 0.0016817104335134971, 0.0067268417340539885, 0.4027494935168154, 0.08219377418710518, 0.05753564193097362, 0.016438754837421035, 0.39453011609810484, 0.03287750967484207, 0.008219377418710518, 0.16727784546872537, 0.16727784546872537, 0.16727784546872537, 0.33455569093745074, 0.08363892273436269, 0.9591664904177875, 0.6557981117814559, 0.022230444467167994, 0.28899577807318394, 0.0055576111167919984, 0.016672833350375997, 0.0055576111167919984, 0.048895760402008874, 0.14668728120602662, 0.35204947489446387, 0.303153714492455, 0.009779152080401775, 0.13690812912562483, 0.48258716625777226, 0.15942611742444263, 0.16804374539333142, 0.03877932585999956, 0.034470511875555165, 0.030161697891110766, 0.021544069922221975, 0.030161697891110766, 0.008617627968888791, 0.021544069922221975, 0.7906701819576566, 0.0753019220912054, 0.06275160174267116, 0.025100640697068462, 0.0376509610456027, 0.6705172564637767, 0.019721095778346374, 0.07231068452060337, 0.09860547889173187, 0.019721095778346374, 0.01314739718556425, 0.07231068452060337, 0.0262947943711285, 0.940321219237833, 0.5794445168999207, 0.160956810249978, 0.06438272409999118, 0.160956810249978, 0.29637477588721217, 0.20677309945619454, 0.05513949318831854, 0.13095629632225653, 0.041354619891238904, 0.05513949318831854, 0.006892436648539817, 0.020677309945619452, 0.17920335286203526, 0.20512650261605436, 0.0056979584060015106, 0.7863182600282085, 0.08220300344539638, 0.9042330378993603, 0.3436410527248519, 0.6109174270664034, 0.9601690423679677, 0.1279980855527413, 0.486392725100417, 0.051199234221096526, 0.051199234221096526, 0.025599617110548263, 0.21333014258790217, 0.04266602851758044, 0.3515859884719607, 0.06114538929947143, 0.44636134188614146, 0.006114538929947143, 0.05197358090455072, 0.01834361678984143, 0.012229077859894286, 0.030572694649735714, 0.009171808394920714, 0.0030572694649735714, 0.006114538929947143, 0.568595465038674, 0.4264465987790055, 0.29883713731697825, 0.4269101961671118, 0.2561461177002671, 0.37415127831009515, 0.6139918413293869, 0.17117419907255524, 0.08558709953627762, 0.17117419907255524, 0.5135225972176657, 0.03891305353681529, 0.933913284883567, 0.25489330614334704, 0.7221977007394833, 0.03915899136873271, 0.029369243526549533, 0.058738487053099066, 0.10768722626401496, 0.5971746183731739, 0.15663596547493083, 0.9099155736482117, 0.19617132823348557, 0.3596474350947235, 0.04904283205837139, 0.0653904427444952, 0.32695221372247596, 0.03144081825808457, 0.28296736432276115, 0.18864490954850743, 0.4716122738712686, 0.2725367088435927, 0.3459119766091754, 0.06289308665621371, 0.05241090554684476, 0.09433962998432056, 0.15723271664053426, 0.6595806154974907, 0.16872992489470692, 0.12271267265069595, 0.03834771020334248, 0.19442868494448154, 0.02777552642064022, 0.36108184346832284, 0.037034035227520294, 0.08332657926192066, 0.02777552642064022, 0.018517017613760147, 0.009258508806880074, 0.2036871937513616, 0.02777552642064022, 0.3364732933962586, 0.4374152814151362, 0.20188397603775515, 0.9790977713803047, 0.7026243697315531, 0.23992051649370105, 0.03427435949910015, 0.044440844561888584, 0.0044440844561888584, 0.5066256280055299, 0.4044116855131861, 0.03555267564951087, 0.9713751902440062, 0.12814318601961058, 0.2745925414705941, 0.448501151068637, 0.036612338862745876, 0.018306169431372938, 0.04576542357843235, 0.036612338862745876, 0.02313072922031157, 0.21974192759295993, 0.5782682305077893, 0.09252291688124628, 0.02313072922031157, 0.02313072922031157, 0.03469609383046736, 0.14245618804608878, 0.8547371282765327, 0.43985836228788194, 0.09774630273064044, 0.1954926054612809, 0.12218287841330054, 0.07330972704798033, 0.07330972704798033, 0.9604497953158458, 0.10175433549425363, 0.3052630064827609, 0.04070173419770145, 0.04070173419770145, 0.4680699432735667, 0.7911625437477822, 0.1695348308030962, 0.9487098828833911, 0.033108422976341485, 0.19865053785804893, 0.13243369190536594, 0.49662634464512234, 0.13243369190536594, 0.4219064837802114, 0.12657194513406342, 0.3797158354021902, 0.12431841560747146, 0.49727366242988585, 0.15539801950933935, 0.21755722731307506, 0.3145748688500605, 0.629149737700121, 0.0682523669426991, 0.08341955959663223, 0.17442271552023103, 0.05308517428876596, 0.06066877061573253, 0.4398485869640608, 0.12133754123146506, 0.15018554226988307, 0.8392721479787583, 0.9577120414449182, 0.09514528495288836, 0.38058113981155345, 0.16310620277638005, 0.35339677268215675, 0.13444162371631024, 0.5825803694373445, 0.04481387457210342, 0.04481387457210342, 0.17925549828841367, 0.4480411493724505, 0.025602351392711456, 0.2560235139271146, 0.2560235139271146, 0.07505482115838603, 0.07505482115838603, 0.07505482115838603, 0.7505482115838603, 0.9019532359321252, 0.053056072701889716, 0.28121033784528054, 0.28121033784528054, 0.18747355856352038, 0.09373677928176019, 0.09373677928176019, 0.6533834740416024, 0.09334049629165748, 0.09334049629165748, 0.3938914343423181, 0.5514480080792453, 0.6591705759321528, 0.2636682303728611, 0.7114236279668873, 0.28082511630271867, 0.9835789115983931, 0.9702550328116902, 0.4092360839304694, 0.5553918281913512, 0.017160603321861822, 0.17160603321861823, 0.4633362896902692, 0.17160603321861823, 0.13728482657489458, 0.034321206643723644, 0.3215855767858878, 0.4502198075002429, 0.19295134607153266, 0.9628959166663646, 0.27512140127659973, 0.033348048639587846, 0.26678438911670277, 0.016674024319793923, 0.016674024319793923, 0.35849152287556935, 0.033348048639587846, 0.7808130477792011, 0.08157748260379713, 0.0349617782587702, 0.0699235565175404, 0.011653926086256733, 0.07507317603044114, 0.9182026914492416, 0.07009953264350699, 0.8411943917220839, 0.16621469226246927, 0.7978305228598525, 0.03312225688321358, 0.39746708259856295, 0.03312225688321358, 0.06624451376642716, 0.4305893394817765, 0.7679785035229056, 0.0959973129403632, 0.9900020982810223, 0.9401621789711588, 0.9550860482939256, 0.010311975689133463, 0.9873716722345292, 0.9365604841757151, 0.2756118665031181, 0.16186728667643444, 0.4506035277749391, 0.004374791531795525, 0.10499499676309261, 0.3945258571327494, 0.06485356555606839, 0.329672291576681, 0.032426782778034194, 0.016213391389017097, 0.027022318981695163, 0.08106695694508549, 0.04864017416705129, 0.005404463796339033, 0.3004074615870946, 0.2643585661966432, 0.03604889539045135, 0.3845215508314811, 0.961386410294974, 0.1409317801419616, 0.7751247907807888, 0.26203776324249517, 0.19080419653579747, 0.08140979052194025, 0.3409034978106248, 0.038160839307159494, 0.002544055953810633, 0.038160839307159494, 0.045793007168591394, 0.030858046898311554, 0.30858046898311553, 0.018514828138986934, 0.2653792033254794, 0.006171609379662311, 0.018514828138986934, 0.29623725022379094, 0.0555444844169608, 0.03573431105846964, 0.9529149615591903, 0.2385249668417063, 0.3180332891222751, 0.15901664456113754, 0.15901664456113754, 0.14782670850258867, 0.5913068340103547, 0.29565341700517733, 0.2662056439773582, 0.684528798798921, 0.019014688855525586, 0.03802937771105117, 0.045095459096177896, 0.056369323870222365, 0.011273864774044474, 0.5862409682503126, 0.19165570115875605, 0.056369323870222365, 0.03382159432213342, 0.9723596031128963, 0.02524551114215053, 0.8331018676909674, 0.12622755571075264, 0.10257906277061833, 0.1282238284632729, 0.1538685941559275, 0.4231386339288006, 0.1538685941559275, 0.034193020923539444, 0.9516899206373529, 0.061787430760404737, 0.020595810253468246, 0.9062156511526028, 0.19212563475298086, 0.1537005078023847, 0.11527538085178853, 0.07685025390119235, 0.4611015234071541, 0.9790337811241201, 0.9565308788094288, 0.025852185913768345, 0.3681439940928211, 0.5982339904008342, 0.11884467408466935, 0.8616238871138528, 0.9233639083155611, 0.55173878731671, 0.2507903578712318, 0.15047421472273909, 0.5652002898503117, 0.11940851194020669, 0.15125078179092846, 0.007960567462680446, 0.15125078179092846, 0.5787244290114093, 0.40510710030798647, 0.8036736821216668, 0.09800898562459351, 0.05880539137475611, 0.0392035942498374, 0.5123947467862945, 0.44834540343800766, 0.5584375641891395, 0.004855978819035996, 0.3253505808754117, 0.10683153401879189, 0.675938460740408, 0.03976108592590635, 0.026507390617270903, 0.2518202108640736, 0.9563064995264534, 0.963372861206594, 0.9632565793618413, 0.2825338614316532, 0.3249139406464012, 0.26840716836007056, 0.11301354457266129, 0.10313097395627692, 0.24063893923131283, 0.5156548697813846, 0.10313097395627692, 0.11700059441948463, 0.15042933568219452, 0.03342874126270989, 0.5850029720974231, 0.06685748252541979, 0.05014311189406484, 0.5788309848062183, 0.3683469903312298, 0.02431230681009017, 0.8995553519733364, 0.04862461362018034, 0.08664870862218141, 0.866487086221814, 0.9742074698525625, 0.013164965808818412, 0.030718449364152266, 0.15359224682076134, 0.7679612341038067, 0.9701779579448999, 0.017020665928857894, 0.008510332964428947, 0.26113248180393195, 0.19968954490888913, 0.0460822026712821, 0.015360734223760702, 0.0460822026712821, 0.26113248180393195, 0.1382466080138463, 0.030721468447521404, 0.14612236993198524, 0.8036730346259188, 0.24504279531091203, 0.3185556339041857, 0.024504279531091203, 0.39206847249745924, 0.4750428200870065, 0.38003425606960517, 0.035954664446210406, 0.3955013089083145, 0.5393199666931561, 0.061003273503010116, 0.07625409187876264, 0.7472901004118739, 0.015250818375752529, 0.09150491025451518, 0.018863112931525424, 0.8991417164027118, 0.018863112931525424, 0.05030163448406779, 0.05822007586825854, 0.4657606069460683, 0.23288030347303415, 0.17466022760477562, 0.11925576654351476, 0.07155345992610886, 0.047702306617405904, 0.16695807316092068, 0.47702306617405904, 0.09540461323481181, 0.975889987261014, 0.6397885408494712, 0.1599471352123678, 0.1599471352123678, 0.25194052188824334, 0.6928364351926691, 0.24708264957541, 0.002715193951378132, 0.452079792904459, 0.019006357659646925, 0.09910457922530182, 0.019006357659646925, 0.09503178829823462, 0.00678798487844533, 0.023079148586714122, 0.029867133465159453, 0.004072790927067198, 0.052669700811041116, 0.7373758113545756, 0.1843439528386439, 0.15863524962130487, 0.7931762481065244, 0.17157835891269255, 0.026396670601952697, 0.1781775265631807, 0.22437170011659793, 0.03959500590292905, 0.013198335300976348, 0.2573675383690388, 0.05939250885439357, 0.013198335300976348, 0.8821030194396211, 0.967110925093134, 0.3453521422746335, 0.15348984101094823, 0.4796557531592132, 0.028897761884299124, 0.8380350946446746, 0.028897761884299124, 0.1155910475371965, 0.3688168761836128, 0.1844084380918064, 0.0691531642844274, 0.3688168761836128, 0.029715687830836654, 0.2674411904775299, 0.594313756616733, 0.08914706349250996, 0.030454787581174207, 0.4263670261364389, 0.5177313888799615, 0.9904872599627196, 0.03977335500797459, 0.9545605201913901, 0.08376730512439101, 0.041883652562195506, 0.8376730512439101, 0.13311453212576618, 0.8367199162191017, 0.9899681469403401, 0.9538317283428974, 0.04266433043505982, 0.12799299130517947, 0.7679579478310767, 0.36479071490983445, 0.00479987782776098, 0.3119920588044637, 0.023999389138804898, 0.10079743438298057, 0.1199969456940245, 0.06719828958865372, 0.00479987782776098, 0.5122424836372299, 0.008537374727287165, 0.47809298472808126, 0.2759162837715921, 0.15049979114814116, 0.025083298524690194, 0.5267492690184941, 0.22865583795910147, 0.24944273231901978, 0.12472136615950989, 0.16629515487934654, 0.16629515487934654, 0.041573788719836635, 0.05379414522098016, 0.9145004687566627, 0.5866928008703146, 0.38360683133828266, 0.022565107725781332, 0.22119128836619625, 0.6193356074253495, 0.0884765153464785, 0.13187678786319454, 0.6264147423501741, 0.23078437876059046, 0.3517671535221287, 0.6030294060379349, 0.5831520132769403, 0.24454761847097498, 0.13167948686898653, 0.018811355266998075, 0.928699798742307, 0.9010999588035881, 0.04290952184778991, 0.4137576305605756, 0.1838922802491447, 0.13791921018685854, 0.1838922802491447, 0.09951348435056205, 0.18658778315730384, 0.7090335759977546, 0.9083740774216407, 0.027526487194595172, 0.027526487194595172, 0.2991008396737365, 0.28040703719412796, 0.3925698520717792, 0.4556107036211882, 0.39052346024673273, 0.1301744867489109, 0.9813060349288915, 0.6006345695968265, 0.1964692517372797, 0.02806703596246853, 0.06736088630992447, 0.022453628769974823, 0.07858770069491187, 0.0515401398036144, 0.9406075514159629, 0.2118045351601145, 0.7624963265764122, 0.3516530202925608, 0.3805560082618124, 0.2167724097693868, 0.0048171646615419285, 0.024085823307709645, 0.014451493984625786, 0.6447139072360385, 0.03429329293808716, 0.1508904889275835, 0.15774914751520092, 0.006858658587617431, 0.3017917285586428, 0.6466965611970916, 0.2897639234096404, 0.11990231313502363, 0.14987789141877952, 0.11990231313502363, 0.3097476422654777, 0.8111729983334218, 0.11588185690477454, 0.08994356895329243, 0.8994356895329243, 0.04572074403831957, 0.7938783737562761, 0.13300580083874783, 0.02493858765726522, 0.10727256118414552, 0.5244436324558226, 0.1668684285086708, 0.13111090811395565, 0.05959586732452529, 0.4825398348325985, 0.1378685242378853, 0.3216932232217323, 0.04595617474596176, 0.062262202420630235, 0.04150813494708682, 0.1452784723148039, 0.45658948441795505, 0.2698028771560644, 0.9459035759607698, 0.04978439873477736, 0.9514536628216727, 0.9656875764645878, 0.9748655816709523, 0.12213705697435041, 0.40399180383823596, 0.38520148738064364, 0.05167337025837902, 0.004697579114398093, 0.009395158228796186, 0.01879031645759237, 0.21237885359121497, 0.22653744383062932, 0.26901321454887234, 0.09911013167590033, 0.127427312154729, 0.014158590239414333, 0.028317180478828665, 0.014158590239414333, 0.30254483073397553, 0.043220690104853646, 0.6050896614679511, 0.2760863034366286, 0.33130356412395434, 0.38652082481128003, 0.29125737316088224, 0.14562868658044112, 0.07281434329022056, 0.43688605974132333, 0.4867378914241067, 0.04867378914241067, 0.12168447285602667, 0.04867378914241067, 0.29204273485446397, 0.19530906069278056, 0.19530906069278056, 0.5859271820783417, 0.9766881154783542, 0.03726837454535109, 0.07453674909070218, 0.3726837454535109, 0.3354153709081598, 0.14907349818140436, 0.13752191370146322, 0.03618997728985874, 0.11580792732754797, 0.5862776320957116, 0.007237995457971748, 0.014475990915943496, 0.07961795003768922, 0.014475990915943496, 0.23969978716372092, 0.7490618348866279, 0.07480201841220367, 0.11220302761830551, 0.07480201841220367, 0.7480201841220367, 0.022590779216305923, 0.13554467529783554, 0.8132680517870133, 0.6160883909233501, 0.020310606294176376, 0.20987626503982257, 0.03385101049029396, 0.06093181888252913, 0.013540404196117585, 0.013540404196117585, 0.02708080839223517, 0.558691557582915, 0.14941750958612843, 0.05846772114239808, 0.006496413460266454, 0.025985653841065815, 0.012992826920532908, 0.15591392304639487, 0.01948924038079936, 0.5988957637663139, 0.3187671000691671, 0.03863843637202025, 0.02414902273251266, 0.019319218186010127, 0.16315584928507496, 0.05438528309502499, 0.7613939633303498, 0.4554048677696334, 0.21347103176701565, 0.15654542329581148, 0.056925608471204175, 0.04269420635340313, 0.07115701058900521, 0.48940244094988894, 0.3262682939665926, 0.1631341469832963, 0.18908335815043, 0.283625037225645, 0.472708395376075, 0.29413609129852325, 0.09804536376617443, 0.09804536376617443, 0.3921814550646977, 0.6744184174633956, 0.23930976103539844, 0.04351086564279972, 0.9599869851064436, 0.2835516964306164, 0.1890344642870776, 0.1890344642870776, 0.2835516964306164, 0.8300235778909635, 0.029294949807916356, 0.11717979923166542, 0.009764983269305453, 0.09746483233620606, 0.8771834910258546, 0.17809714245245606, 0.5342914273573681, 0.059365714150818684, 0.17809714245245606, 0.045893539536082044, 0.027536123721649226, 0.5599011823402009, 0.06425095535051487, 0.1101444948865969, 0.18357415814432818, 0.16856529316968627, 0.04214132329242157, 0.08428264658484313, 0.6742611726787451, 0.11255503916804721, 0.32214028451544546, 0.003881208247174042, 0.4618637814137109, 0.011643624741522125, 0.07374295669630679, 0.003881208247174042, 0.007762416494348084, 0.9462669946375522, 0.06828730570200837, 0.8877349741261088, 0.805256551584037, 0.13420942526400614, 0.46626600272883717, 0.2797596016373023, 0.18650640109153488, 0.26963250572251, 0.0647118013734024, 0.0862824018312032, 0.1941354041202072, 0.0107853002289004, 0.3019884064092112, 0.053926501144502, 0.09019167225366642, 0.3833146070780823, 0.06764375419024982, 0.09019167225366642, 0.3607666890146657, 0.06737830138002451, 0.5390264110401961, 0.4042698082801471, 0.98024629900202, 0.12313997965342628, 0.24627995930685256, 0.12313997965342628, 0.3078499491335657, 0.18470996948013943, 0.1718880839361936, 0.1718880839361936, 0.6384414546201477, 0.33988688883763674, 0.08497172220940918, 0.42485861104704586, 0.08497172220940918, 0.8856142958285269, 0.08051039052986608, 0.3028778496750272, 0.005997581181683706, 0.3388633367651294, 0.06897218358936262, 0.017992743545051117, 0.2638935719940831, 0.534397538536505, 0.45287926994619065, 0.11699492264789872, 0.23398984529579744, 0.643472074563443, 0.06816663963178524, 0.6407664125387812, 0.28629988645349796, 0.04344581433610591, 0.755957169448243, 0.008689162867221182, 0.18247242021164484, 0.17658672059623284, 0.035317344119246565, 0.07063468823849313, 0.6710295382656848, 0.9461787844375456, 0.018195745854568183, 0.018195745854568183, 0.07036460308014734, 0.19350265847040518, 0.17591150770036834, 0.12313805539025785, 0.03518230154007367, 0.08795575385018417, 0.2990495630906262, 0.012395505540164747, 0.01859325831024712, 0.11155954986148273, 0.16114157202214172, 0.006197752770082374, 0.15494381925205936, 0.012395505540164747, 0.5206112326869194, 0.4739413720243869, 0.008101561914946785, 0.13367577159662195, 0.12152342872420177, 0.01620312382989357, 0.20658982883114302, 0.03240624765978714, 0.06816428286894899, 0.3578624850619822, 0.5453142629515919, 0.9838951649652963, 0.010932168499614403, 0.9522775300447238, 0.040958173335256934, 0.09238942964955806, 0.09238942964955806, 0.6467260075469063, 0.6044504114118195, 0.3828185938941524, 0.5384611369180654, 0.3376790180672613, 0.10495428939928393, 0.01825291989552764, 0.07108081142006642, 0.5970788159285579, 0.014216162284013284, 0.19191819083417935, 0.12794546055611955, 0.012766723093406809, 0.34470152352198385, 0.042555743644689364, 0.5447135186520239, 0.05532246673809617, 0.0831329364119623, 0.12847817445485085, 0.1360357141286656, 0.022672619021444265, 0.6121607135789952, 0.01511507934762951, 0.2959557949354473, 0.5919115898708946, 0.059191158987089466, 0.04538861548414987, 0.9077723096829975, 0.18971988761776173, 0.6403046207099459, 0.1422899157133213, 0.18826240862938315, 0.7872791633592386, 0.17923723925697618, 0.4779659713519365, 0.2987287320949603, 0.14061612527560846, 0.1711848481616103, 0.16507110358440993, 0.03056872288600184, 0.0794786795036048, 0.024454978308801473, 0.04279621204040258, 0.024454978308801473, 0.3179147180144192, 0.01882918413547799, 0.1506334730838239, 0.11297510481286793, 0.07531673654191195, 0.6307776685385126, 0.6224854905507115, 0.2845647956803252, 0.026677949595030493, 0.017785299730020326, 0.03557059946004065, 0.9500008683918819, 0.10721354291181345, 0.16847842457570686, 0.7122042493427607, 0.03182835672950765, 0.20157959262021513, 0.08487561794535374, 0.6790049435628299, 0.1630346744715723, 0.0543448914905241, 0.7608284808673373, 0.10657828085164346, 0.026644570212910865, 0.8526262468131477, 0.9779122993588145, 0.09560716717325708, 0.8604645045593138, 0.4382356863676102, 0.556222217312736, 0.988592580222859, 0.9507285662495581, 0.3900867809456646, 0.4876084761820808, 0.16300481107153122, 0.05433493702384374, 0.05433493702384374, 0.7063541813099686, 0.5691646626939609, 0.42687349702047067, 0.42023662434167697, 0.4902760617319565, 0.1230081839699766, 0.4217423450399198, 0.035145195419993315, 0.4041697473299231, 0.1787245984849948, 0.0446811496212487, 0.5361737954549844, 0.1787245984849948, 0.26394722066486165, 0.6862627737286403, 0.12386045674838968, 0.371581370245169, 0.4644767128064613, 0.20719120586173048, 0.138127470574487, 0.6215736175851915, 0.9967937040970419, 0.22691339713999528, 0.6303149920555424, 0.1260629984111085, 0.11137846192636841, 0.07425230795091227, 0.2598830778281929, 0.18563076987728067, 0.14850461590182454, 0.037126153975456135, 0.14850461590182454, 0.21241524995890573, 0.7646948998520606, 0.06460921044524329, 0.6460921044524329, 0.19382763133572986, 0.06460921044524329, 0.8631614759660312, 0.06639703661277163, 0.9934445808289444, 0.9327693456151458, 0.35186596401219405, 0.20580839404486823, 0.1726134917795669, 0.053111843624482125, 0.019916941359180797, 0.013277960906120531, 0.013277960906120531, 0.15933553087344637, 0.35833220106285046, 0.6362224794381223, 0.7032341447527156, 0.05409493421174735, 0.18031644737249117, 0.05409493421174735, 0.15868885795748186, 0.15868885795748186, 0.674427646319298, 0.09432723838153015, 0.0660290668670711, 0.018865447676306032, 0.037730895352612065, 0.7734833547285472, 0.963724277870044, 0.021902824497046454, 0.019514198985767735, 0.9377086144213654, 0.0010270631045140913, 0.006162378627084548, 0.033893082448965016, 0.3169066094176805, 0.6766384363242368, 0.050260983806826795, 0.30156590284096074, 0.050260983806826795, 0.10052196761365359, 0.03350732253788453, 0.03350732253788453, 0.08376830634471132, 0.06701464507576906, 0.10052196761365359, 0.16753661268942263, 0.016753661268942264, 0.5364526656177688, 0.11662014469951495, 0.3265364051586419, 0.8669609592701137, 0.11407381043027813, 0.932097529179277, 0.3090925451821469, 0.6181850903642938, 0.051515424197024484, 0.16595744601126494, 0.08297872300563247, 0.16595744601126494, 0.49787233803379477, 0.9880647736910766, 0.09945911935059674, 0.7625199150212417, 0.09945911935059674, 0.27769697117265335, 0.030855219019183706, 0.6788148184220415, 0.08192193255559034, 0.9011412581114937, 0.5327025529433546, 0.03632062860977417, 0.41163379091077396, 0.005085419255518341, 0.42717521746354065, 0.16781883543210524, 0.015256257766555023, 0.07119586957725677, 0.015256257766555023, 0.16781883543210524, 0.1118792236214035, 0.015256257766555023, 0.014364181267942469, 0.08618508760765481, 0.052668664649122385, 0.3160119878947343, 0.1292776314114822, 0.004788060422647489, 0.3926209546570941, 0.004788060422647489, 0.8605545597327916, 0.13469549630600217, 0.11918947808513991, 0.8343263465959794, 0.12263805813907147, 0.6131902906953574, 0.061319029069535735, 0.12263805813907147, 0.9401430064251016, 0.5369111608549669, 0.1695508929015685, 0.14129241075130708, 0.14129241075130708, 0.1034341528559424, 0.1034341528559424, 0.3103024585678272, 0.1034341528559424, 0.2068683057118848, 0.4205147575196247, 0.018283250326940205, 0.5302142594812659, 0.018283250326940205, 0.9681667023451552, 0.028492596462848668, 0.014246298231424334, 0.6695760168769437, 0.08547778938854601, 0.11397038585139467, 0.014246298231424334, 0.04273889469427301, 0.028492596462848668, 0.3549227263138081, 0.4259072715765697, 0.21295363578828486, 0.0622801575307181, 0.22836057761263304, 0.0622801575307181, 0.1245603150614362, 0.47748120773550545, 0.916317130641838, 0.048227217402202, 0.3624658692865051, 0.28997269542920406, 0.14498634771460203, 0.14498634771460203, 0.12837541148402937, 0.21395901914004894, 0.04279180382800979, 0.35089279138968027, 0.09414196842162154, 0.1626088545464372, 0.11538114950183387, 0.07342436786480337, 0.020978390818515248, 0.28320827604995585, 0.15733793113886435, 0.2727190806406982, 0.020978390818515248, 0.052445977046288124, 0.6523032427791451, 0.130460648555829, 0.17394753140777203, 0.9475473789373431, 0.9719487634372651, 0.03511470168333004, 0.023409801122220023, 0.07022940336666007, 0.6671793319832707, 0.1989833095388702, 0.11177507632299116, 0.27943769080747793, 0.25149392172673013, 0.09081724951243032, 0.013971884540373895, 0.08383130724224337, 0.03492971135093474, 0.06287348043168253, 0.006985942270186948, 0.06287348043168253, 0.0845312663818352, 0.0845312663818352, 0.0845312663818352, 0.6762501310546816, 0.062482120913547136, 0.87474969278966, 0.6583869667938885, 0.010368298689667536, 0.15552448034501304, 0.07257809082767276, 0.05184149344833768, 0.010368298689667536, 0.041473194758670145, 0.03444637557748522, 0.17223187788742608, 0.10333912673245566, 0.5052135084697832, 0.18371400307992117, 0.29885581709156156, 0.11954232683662462, 0.5379404707648108, 0.04970526918367884, 0.9444001144898979, 0.8343211638956366, 0.10112983804795594, 0.025282459511988986, 0.9595569247371467, 0.045933776703041274, 0.949298051862853, 0.07259834311888812, 0.01814958577972203, 0.8530305316469354, 0.03629917155944406, 0.06798174877028973, 0.6373288947214661, 0.2804247136774451, 0.9406552073570741, 0.04087252149266239, 0.2997318242795242, 0.013624173830887465, 0.6403361700517108, 0.04343044256502433, 0.8975624796771695, 0.05790725675336578, 0.9801703946523335, 0.9393544882986952, 0.050322561873144385, 0.8672655473838636, 0.02843493597979881, 0.06397860595454732, 0.021326201984849108, 0.014217467989899405, 0.8906167295706859, 0.10748822598266898, 0.056199339332229085, 0.28099669666114546, 0.6181927326545199, 0.1773915848035152, 0.19428602145146903, 0.04223609161988457, 0.3547831696070304, 0.21962767642339978, 0.1621984390589, 0.3243968781178, 0.05406614635296667, 0.4325291708237334, 0.033014401754052076, 0.16507200877026038, 0.1320576070162083, 0.6602880350810415, 0.23480638618326705, 0.026089598464807448, 0.20871678771845958, 0.33916478004249684, 0.1565375907888447, 0.026089598464807448, 0.11153598364137227, 0.836519877310292, 0.2850566899977946, 0.06880678724084698, 0.058977246206440265, 0.5799429210299959, 0.5529270441901184, 0.27361338269201735, 0.03420167283650217, 0.03420167283650217, 0.06840334567300434, 0.011400557612167388, 0.017100836418251084, 0.6178655693485634, 0.004445076038478873, 0.2311439540009014, 0.004445076038478873, 0.08001136869261972, 0.01333522811543662, 0.04889583642326761, 0.42052753266622556, 0.3355504664797862, 0.019610092196870623, 0.08497706618643935, 0.12201835144719497, 0.006536697398956874, 0.004357798265971249, 0.0021788991329856244, 0.36896502385012, 0.08681529972944, 0.542595623309, 0.5159929926783762, 0.008190364963148828, 0.34399532845225084, 0.024571094889446487, 0.10647474452093478, 0.915822355606723, 0.0872211767244498, 0.9694999050331323, 0.38087700028077714, 0.09521925007019429, 0.4760962503509714, 0.9505264558617225, 0.5771347269224133, 0.0728608625350555, 0.22433476096319718, 0.02684347567080992, 0.01725652007409209, 0.0019173911193435657, 0.03067825790949705, 0.007669564477374263, 0.011504346716061395, 0.032595649028840615, 0.2566856983958663, 0.10530695318804771, 0.1777054835048305, 0.08556189946528876, 0.09872526861379473, 0.23694064467310735, 0.03290842287126491, 0.8820280888235119, 0.08400267512604875, 0.4897400082661218, 0.10202916838877538, 0.36730500619959133, 0.08472715221075447, 0.8755139061777961, 0.13714180677870988, 0.08439495801766762, 0.16878991603533525, 0.09494432776987607, 0.021098739504416906, 0.3586785715750874, 0.06329621851325072, 0.05274684876104226, 0.9498416472358399, 0.9716552414498613, 0.1910687513810305, 0.6050510460399299, 0.15922395948419207, 0.8086248087919569, 0.1732767447411336, 0.1626530162288624, 0.009567824484050731, 0.8036972566602614, 0.009567824484050731, 0.009567824484050731, 0.9680416668189551, 0.06832659720110254, 0.34163298600551273, 0.5693883100091879, 0.9882319667973765, 0.8374482415960277, 0.11165976554613703, 0.39575821486307167, 0.2878241562640521, 0.05396702929950977, 0.035978019533006514, 0.17989009766503258, 0.026983514649754885, 0.008994504883251628, 0.6921947395914294, 0.14709138216317877, 0.06921947395914295, 0.05191460546935721, 0.017304868489785737, 0.008652434244892869, 0.9639136038184979, 0.1296230760814707, 0.007624886828321805, 0.29737058630455043, 0.12199818925314888, 0.4269936623860211, 0.01842615031810874, 0.01842615031810874, 0.9581598165416545, 0.057707865470395046, 0.3526591778746364, 0.006411985052266116, 0.5642546845994182, 0.006411985052266116, 0.006411985052266116, 0.7618278363972818, 0.22854835091918455, 0.9697073510987351, 0.16221567868196052, 0.16221567868196052, 0.23366782286330026, 0.11973061997954229, 0.11779948094761418, 0.0019311390319281013, 0.06179644902169924, 0.01738025128735291, 0.009655695159640506, 0.059865309989771145, 0.05407189289398684, 0.26974900969175786, 0.13150264222473196, 0.3506737125992852, 0.08092470290752736, 0.03709048883261671, 0.03371862621146973, 0.04383421407491065, 0.04383421407491065, 0.0033718626211469735, 0.4685327982087319, 0.24988415904465702, 0.046853279820873193, 0.031235519880582128, 0.15617759940291062, 0.031235519880582128, 0.460337924008235, 0.049766262054944325, 0.024883131027472163, 0.29859757232966594, 0.0622078275686804, 0.08709095859615257, 0.02891021066330287, 0.02891021066330287, 0.11564084265321148, 0.0867306319899086, 0.0867306319899086, 0.05782042132660574, 0.11564084265321148, 0.433653159949543, 0.02891021066330287, 0.1821615458744786, 0.7286461834979144, 0.2816665161896907, 0.2816665161896907, 0.026825382494256256, 0.13412691247128128, 0.013412691247128128, 0.12071422122415315, 0.13412691247128128, 0.8408924074099733, 0.063066930555748, 0.094600395833622, 0.3215475735019531, 0.032154757350195316, 0.032154757350195316, 0.5787856323035157, 0.0948144508950919, 0.900737283503373, 0.31629145241680234, 0.06658767419301102, 0.049940755644758264, 0.49940755644758267, 0.03329383709650551, 0.8845732869149117, 0.08845732869149117, 0.17342055593206465, 0.3468411118641293, 0.4335513898301616, 0.18893375984020905, 0.1259558398934727, 0.6297791994673635, 0.16579007582171315, 0.7957923639442231, 0.07534826044479563, 0.8853420602263488, 0.018837065111198908, 0.8018431232712894, 0.15034558561336678, 0.9758720805323249, 0.27918703966443514, 0.7096003924804393, 0.059535266116945824, 0.555662483758161, 0.17860579835083745, 0.17860579835083745, 0.982107735407585, 0.17042256469583128, 0.7006260993050841, 0.1325508836523132, 0.09959466069019028, 0.7967572855215223, 0.41826541365641234, 0.29627133467329203, 0.06099703949156013, 0.004356931392254295, 0.07842476506057731, 0.0871386278450859, 0.013070794176762886, 0.03921238253028866, 0.16572843599116122, 0.3465230934360644, 0.2561257647136128, 0.21092710035238701, 0.6578831774814003, 0.017780626418416226, 0.30227064911307583, 0.14925884351693267, 0.033168631892651707, 0.663372637853034, 0.10779805365111804, 0.041460789865814626, 0.8071003832750719, 0.019685375201831022, 0.039370750403662044, 0.11811225121098613, 0.11436486523935291, 0.8005540566754704, 0.893783545897967, 0.09408247851557548, 0.007840206542964624, 0.4574280307527497, 0.022496460528823755, 0.3599433684611801, 0.0037494100881372925, 0.02999528070509834, 0.018747050440686464, 0.007498820176274585, 0.05624115132205939, 0.022496460528823755, 0.01499764035254917, 0.2070937163425868, 0.23777426691185893, 0.03068055056927212, 0.01534027528463606, 0.42185757032749166, 0.08437151406549832, 0.5392306808108164, 0.2509291286941423, 0.0694059292132734, 0.1388118584265468, 0.9730772475961124, 0.014743594660547156, 0.7576804833387236, 0.0789250503477837, 0.01578501006955674, 0.12628008055645393, 0.8044661185534656, 0.1656253773492429, 0.05082407325427375, 0.05082407325427375, 0.203296293017095, 0.7115370255598326, 0.06364825560295037, 0.09547238340442554, 0.8274273228383547, 0.38617466865956057, 0.022067123923403462, 0.4744431643531744, 0.011033561961701731, 0.08826849569361385, 0.9061599465673357, 0.08237817696066688, 0.6838121846004431, 0.030104938944673598, 0.10321693352459518, 0.025804233381148796, 0.05590917232582239, 0.008601411127049598, 0.09031481683402079, 0.9729061352951438, 0.47208829277098535, 0.15228654605515657, 0.015228654605515658, 0.2132011644772192, 0.030457309211031316, 0.12182923684412526, 0.2758114343664259, 0.037610650140876264, 0.13790571718321296, 0.25073766760584176, 0.012536883380292088, 0.012536883380292088, 0.2005901340846734, 0.07522130028175253, 0.5625262720297893, 0.21094735201117099, 0.14063156800744733, 0.2702811866809883, 0.720749831149302, 0.23879813135478262, 0.5850554218192174, 0.04775962627095652, 0.059699532838695654, 0.08357934597417391, 0.12987800345666564, 0.8442070224683266, 0.12644131488681362, 0.2718488270066493, 0.14540751211983569, 0.1011530519094509, 0.025288262977362724, 0.16437370935285772, 0.10431408478162124, 0.05373755882689579, 0.4989078599015937, 0.1062762305115821, 0.1092283480257927, 0.15646222825316253, 0.04428176271315921, 0.020664822599474296, 0.017712705085263684, 0.04428176271315921, 0.0029521175142106135, 0.9810748781474383, 0.24053103314440524, 0.5311726981938949, 0.1503318957152533, 0.06013275828610131, 0.010022126381016886, 0.9556432813741803, 0.04352249695978723, 0.029014997973191483, 0.6963599513565957, 0.21761248479893613], \"Term\": [\"abiding\", \"absolute\", \"absolute\", \"accidental\", \"accidents\", \"accidents\", \"accurate\", \"accurate\", \"accurate\", \"accurate\", \"accurate\", \"accurate\", \"act\", \"act\", \"act\", \"act\", \"act\", \"act\", \"act\", \"act\", \"acute\", \"address\", \"address\", \"address\", \"address\", \"address\", \"address\", \"address\", \"addresses\", \"adequate\", \"adequate\", \"adequate\", \"adult\", \"adult\", \"advantage\", \"advantage\", \"advantage\", \"advantage\", \"advertising\", \"affair\", \"afford\", \"afford\", \"afford\", \"afford\", \"afraid\", \"afraid\", \"afraid\", \"afraid\", \"age\", \"age\", \"age\", \"age\", \"age\", \"agency\", \"agency\", \"agency\", \"agency\", \"agency\", \"agent\", \"agent\", \"agents\", \"agents\", \"agents\", \"ago\", \"ago\", \"ago\", \"ago\", \"ago\", \"ago\", \"aids\", \"alan\", \"alan\", \"alan\", \"allergic\", \"allergies\", \"allowed\", \"allowing\", \"allowing\", \"amendment\", \"amendment\", \"amendment\", \"amendment\", \"american\", \"american\", \"american\", \"american\", \"american\", \"american\", \"analysis\", \"analysis\", \"analysis\", \"analysis\", \"analysis\", \"analysis\", \"analysis\", \"andy\", \"anonymous\", \"anonymous\", \"antenna\", \"antibiotics\", \"antibiotics\", \"apollo\", \"apollo\", \"apollo\", \"apple\", \"apple\", \"application\", \"application\", \"application\", \"application\", \"appreciated\", \"appreciated\", \"approved\", \"approved\", \"approved\", \"approved\", \"april\", \"april\", \"april\", \"april\", \"arc\", \"archive\", \"archive\", \"aren\", \"aren\", \"aren\", \"arm\", \"arm\", \"arm\", \"arm\", \"arm\", \"arms\", \"arms\", \"arms\", \"arms\", \"arms\", \"arms\", \"army\", \"army\", \"army\", \"army\", \"art\", \"art\", \"article\", \"article\", \"article\", \"article\", \"article\", \"article\", \"article\", \"article\", \"article\", \"assault\", \"assault\", \"assault\", \"assaults\", \"assaults\", \"association\", \"association\", \"association\", \"assumption\", \"astro\", \"astronaut\", \"astronomical\", \"astronomical\", \"astronomy\", \"astronomy\", \"atf\", \"atmosphere\", \"atmosphere\", \"atmosphere\", \"attend\", \"attorney\", \"attorney\", \"authorities\", \"authorities\", \"authorities\", \"authority\", \"authority\", \"authority\", \"authority\", \"authority\", \"authority\", \"authority\", \"auto\", \"auto\", \"auto\", \"automatic\", \"automatic\", \"automatic\", \"automatic\", \"automatic\", \"available\", \"available\", \"available\", \"available\", \"available\", \"available\", \"available\", \"available\", \"available\", \"avenue\", \"avenue\", \"aviation\", \"avoiding\", \"avoiding\", \"avoiding\", \"avoiding\", \"axis\", \"balls\", \"balls\", \"ban\", \"ban\", \"ban\", \"banks\", \"banks\", \"base\", \"base\", \"base\", \"batf\", \"batf\", \"bear\", \"bear\", \"believe\", \"believe\", \"believe\", \"believe\", \"believe\", \"believe\", \"belt\", \"belt\", \"belt\", \"berkeley\", \"berkeley\", \"better\", \"better\", \"better\", \"better\", \"better\", \"better\", \"better\", \"better\", \"better\", \"biased\", \"biased\", \"biased\", \"billion\", \"billion\", \"billion\", \"bills\", \"bills\", \"black\", \"black\", \"black\", \"black\", \"black\", \"black\", \"black\", \"blood\", \"blood\", \"blood\", \"blood\", \"body\", \"body\", \"body\", \"body\", \"body\", \"bomb\", \"bomb\", \"bomb\", \"book\", \"book\", \"book\", \"book\", \"book\", \"books\", \"books\", \"books\", \"books\", \"booster\", \"boston\", \"bothered\", \"bothered\", \"bought\", \"brain\", \"brain\", \"brain\", \"branch\", \"branch\", \"branch\", \"branch\", \"break\", \"break\", \"break\", \"breath\", \"breathing\", \"brian\", \"brian\", \"brief\", \"brief\", \"brief\", \"britain\", \"britain\", \"britain\", \"britain\", \"budget\", \"budget\", \"budget\", \"budget\", \"budget\", \"build\", \"build\", \"build\", \"build\", \"build\", \"burned\", \"burned\", \"busy\", \"cadre\", \"california\", \"california\", \"california\", \"called\", \"called\", \"called\", \"called\", \"called\", \"called\", \"called\", \"called\", \"called\", \"called\", \"campaign\", \"campaign\", \"campaign\", \"canadian\", \"canadian\", \"canadian\", \"cancer\", \"cancer\", \"candida\", \"capacity\", \"capacity\", \"capacity\", \"capacity\", \"care\", \"care\", \"care\", \"care\", \"care\", \"carefully\", \"carefully\", \"carefully\", \"carefully\", \"carried\", \"carried\", \"carried\", \"carried\", \"carry\", \"carry\", \"carry\", \"carry\", \"carry\", \"carry\", \"cars\", \"cars\", \"case\", \"case\", \"case\", \"case\", \"case\", \"case\", \"case\", \"case\", \"case\", \"case\", \"cause\", \"cause\", \"cause\", \"cause\", \"cause\", \"cause\", \"cause\", \"cause\", \"centaur\", \"centaur\", \"centaur\", \"center\", \"center\", \"center\", \"center\", \"centers\", \"centers\", \"centers\", \"centers\", \"century\", \"century\", \"century\", \"century\", \"century\", \"certainly\", \"certainly\", \"certainly\", \"certainly\", \"certainly\", \"certainly\", \"chances\", \"chances\", \"chances\", \"chapter\", \"chapter\", \"chastity\", \"cheaper\", \"cheaper\", \"cheaper\", \"chemical\", \"chemical\", \"chemical\", \"children\", \"children\", \"children\", \"children\", \"chinese\", \"chinese\", \"chinese\", \"choose\", \"choose\", \"chronic\", \"chronic\", \"civil\", \"civil\", \"civil\", \"civil\", \"claim\", \"claim\", \"claim\", \"claim\", \"claiming\", \"claiming\", \"clinic\", \"clinical\", \"clinical\", \"clinton\", \"clinton\", \"clinton\", \"code\", \"code\", \"code\", \"code\", \"code\", \"color\", \"color\", \"color\", \"color\", \"com\", \"com\", \"com\", \"com\", \"com\", \"com\", \"com\", \"come\", \"come\", \"come\", \"come\", \"come\", \"come\", \"comes\", \"comes\", \"comes\", \"comes\", \"comes\", \"comes\", \"comes\", \"comet\", \"commercial\", \"commercial\", \"commercial\", \"commercial\", \"commit\", \"commit\", \"complain\", \"complain\", \"complete\", \"complete\", \"complete\", \"complete\", \"complete\", \"complete\", \"complete\", \"compound\", \"compound\", \"compuserve\", \"compuserve\", \"concepts\", \"concepts\", \"conference\", \"conference\", \"conference\", \"conference\", \"confused\", \"congress\", \"congress\", \"congress\", \"congress\", \"congress\", \"congress\", \"connection\", \"connection\", \"connection\", \"consistent\", \"consistent\", \"consistent\", \"constant\", \"constant\", \"constant\", \"constant\", \"constitution\", \"constitution\", \"constitutional\", \"constitutional\", \"contest\", \"contracts\", \"contrary\", \"contrary\", \"control\", \"control\", \"control\", \"control\", \"control\", \"control\", \"control\", \"control\", \"control\", \"control\", \"controlled\", \"controlled\", \"controlled\", \"controlled\", \"cop\", \"cop\", \"corn\", \"corn\", \"cost\", \"cost\", \"cost\", \"cost\", \"cost\", \"cost\", \"cost\", \"costs\", \"costs\", \"costs\", \"costs\", \"costs\", \"costs\", \"country\", \"country\", \"country\", \"court\", \"court\", \"court\", \"craft\", \"craft\", \"crazy\", \"crazy\", \"crazy\", \"crime\", \"crime\", \"crime\", \"crimes\", \"crimes\", \"criminal\", \"criminal\", \"criminals\", \"criminals\", \"cult\", \"cult\", \"cultures\", \"cultures\", \"cultures\", \"cure\", \"cure\", \"dan\", \"dan\", \"dan\", \"dan\", \"dangerous\", \"dangerous\", \"dangerous\", \"dangerous\", \"dangerous\", \"dangerous\", \"data\", \"data\", \"data\", \"data\", \"data\", \"data\", \"date\", \"date\", \"date\", \"date\", \"date\", \"date\", \"dave\", \"dave\", \"dave\", \"david\", \"david\", \"david\", \"david\", \"davidians\", \"day\", \"day\", \"day\", \"day\", \"day\", \"day\", \"day\", \"day\", \"day\", \"day\", \"dead\", \"dead\", \"deal\", \"deal\", \"deal\", \"deaths\", \"deaths\", \"deaths\", \"debate\", \"debate\", \"decade\", \"decade\", \"decade\", \"decade\", \"defense\", \"defense\", \"defense\", \"defense\", \"defense\", \"defense\", \"defense\", \"degree\", \"degree\", \"degree\", \"degrees\", \"degrees\", \"degrees\", \"deny\", \"deny\", \"deny\", \"deny\", \"department\", \"department\", \"department\", \"department\", \"department\", \"department\", \"department\", \"dept\", \"deputy\", \"deputy\", \"development\", \"development\", \"development\", \"development\", \"development\", \"development\", \"device\", \"device\", \"device\", \"device\", \"diagnosed\", \"diagnosed\", \"diagnosis\", \"did\", \"did\", \"did\", \"did\", \"did\", \"did\", \"didn\", \"didn\", \"didn\", \"didn\", \"didn\", \"diet\", \"diet\", \"different\", \"different\", \"different\", \"different\", \"different\", \"different\", \"different\", \"different\", \"directory\", \"directory\", \"disease\", \"disease\", \"disease\", \"disease\", \"distinguish\", \"distinguish\", \"distinguish\", \"distribution\", \"distribution\", \"distribution\", \"division\", \"division\", \"division\", \"doctor\", \"doctor\", \"doctor\", \"doctors\", \"doctors\", \"doctors\", \"doctors\", \"documents\", \"documents\", \"documents\", \"does\", \"does\", \"does\", \"does\", \"does\", \"does\", \"does\", \"does\", \"does\", \"doing\", \"doing\", \"doing\", \"doing\", \"doing\", \"doing\", \"doing\", \"doing\", \"dollar\", \"dollar\", \"dollar\", \"dollar\", \"don\", \"don\", \"don\", \"don\", \"don\", \"don\", \"don\", \"don\", \"don\", \"don\", \"don\", \"door\", \"doses\", \"double\", \"double\", \"double\", \"douglas\", \"douglas\", \"dozen\", \"dozen\", \"dozen\", \"drag\", \"drag\", \"drew\", \"drive\", \"drive\", \"drive\", \"drug\", \"drug\", \"drug\", \"drug\", \"drug\", \"drug\", \"dryden\", \"dryden\", \"dsl\", \"dyer\", \"dynamics\", \"earth\", \"earth\", \"earth\", \"earth\", \"eat\", \"eat\", \"eating\", \"eating\", \"edu\", \"edu\", \"edu\", \"edu\", \"edu\", \"edu\", \"education\", \"education\", \"efficient\", \"email\", \"email\", \"email\", \"email\", \"emergency\", \"emergency\", \"emergency\", \"emergency\", \"emergency\", \"empirical\", \"encourage\", \"encourage\", \"energy\", \"energy\", \"energy\", \"energy\", \"energy\", \"engineer\", \"engineer\", \"engineer\", \"errors\", \"errors\", \"errors\", \"establish\", \"establish\", \"established\", \"established\", \"established\", \"established\", \"evening\", \"evening\", \"evening\", \"evidence\", \"evidence\", \"evidence\", \"evidence\", \"evidence\", \"evidence\", \"evidence\", \"evidence\", \"exact\", \"exact\", \"example\", \"example\", \"example\", \"example\", \"example\", \"example\", \"example\", \"example\", \"example\", \"exists\", \"exists\", \"exists\", \"exists\", \"exists\", \"expensive\", \"expensive\", \"expensive\", \"expensive\", \"expensive\", \"experimental\", \"experimental\", \"experimental\", \"eye\", \"eye\", \"eye\", \"face\", \"face\", \"face\", \"facts\", \"facts\", \"facts\", \"facts\", \"facts\", \"facts\", \"fairly\", \"fairly\", \"fairly\", \"false\", \"false\", \"famous\", \"famous\", \"famous\", \"famous\", \"famous\", \"fancy\", \"fancy\", \"faq\", \"faq\", \"far\", \"far\", \"far\", \"far\", \"far\", \"far\", \"far\", \"far\", \"fatal\", \"fbi\", \"fbi\", \"fear\", \"feasible\", \"feasible\", \"feasible\", \"federal\", \"federal\", \"federal\", \"federal\", \"federal\", \"federal\", \"federalist\", \"federalist\", \"feds\", \"feds\", \"feds\", \"feds\", \"fee\", \"fee\", \"feeling\", \"figures\", \"figures\", \"file\", \"file\", \"file\", \"file\", \"file\", \"file\", \"files\", \"files\", \"finding\", \"finding\", \"finding\", \"finding\", \"finding\", \"findings\", \"findings\", \"findings\", \"finger\", \"firearm\", \"firearm\", \"firearm\", \"firearm\", \"firearms\", \"firearms\", \"firearms\", \"firearms\", \"firearms\", \"fired\", \"fired\", \"fired\", \"fit\", \"fit\", \"fit\", \"fit\", \"fits\", \"fits\", \"fits\", \"flavor\", \"flight\", \"flight\", \"flight\", \"flight\", \"fluid\", \"focus\", \"focus\", \"focus\", \"following\", \"following\", \"following\", \"following\", \"following\", \"following\", \"following\", \"food\", \"food\", \"foods\", \"force\", \"force\", \"force\", \"force\", \"forever\", \"forever\", \"form\", \"form\", \"form\", \"form\", \"form\", \"form\", \"form\", \"forwarded\", \"forwarded\", \"foundation\", \"foundation\", \"foundation\", \"foundation\", \"fourth\", \"fourth\", \"fourth\", \"francisco\", \"francisco\", \"francisco\", \"frequency\", \"frequency\", \"frequency\", \"frequency\", \"frequency\", \"friend\", \"ftp\", \"ftp\", \"ftp\", \"fuel\", \"fuel\", \"fuel\", \"fuel\", \"fund\", \"fund\", \"fund\", \"fund\", \"fund\", \"fund\", \"fund\", \"funding\", \"funding\", \"funding\", \"funny\", \"funny\", \"funny\", \"funny\", \"furthermore\", \"furthermore\", \"fusion\", \"fusion\", \"fusion\", \"fusion\", \"fusion\", \"galaxy\", \"galaxy\", \"galileo\", \"galileo\", \"gamma\", \"gamma\", \"gang\", \"gang\", \"gas\", \"gas\", \"geb\", \"general\", \"general\", \"general\", \"general\", \"general\", \"general\", \"general\", \"general\", \"generation\", \"generation\", \"generation\", \"generation\", \"getting\", \"getting\", \"getting\", \"getting\", \"giant\", \"giant\", \"giant\", \"gif\", \"glock\", \"glutamate\", \"goal\", \"goal\", \"goal\", \"goal\", \"goal\", \"goal\", \"goal\", \"goal\", \"god\", \"god\", \"god\", \"god\", \"going\", \"going\", \"going\", \"going\", \"going\", \"going\", \"good\", \"good\", \"good\", \"good\", \"good\", \"good\", \"good\", \"good\", \"good\", \"gordon\", \"gordon\", \"gov\", \"gov\", \"government\", \"government\", \"government\", \"government\", \"government\", \"government\", \"government\", \"governments\", \"gps\", \"gps\", \"gps\", \"grade\", \"grade\", \"granted\", \"granted\", \"gravity\", \"gravity\", \"gravity\", \"great\", \"great\", \"great\", \"great\", \"great\", \"great\", \"greater\", \"greater\", \"greater\", \"grows\", \"grows\", \"grows\", \"guaranteed\", \"guilty\", \"guilty\", \"guilty\", \"guilty\", \"gun\", \"gun\", \"gun\", \"gun\", \"guns\", \"guns\", \"hammer\", \"hammer\", \"handed\", \"handed\", \"handed\", \"handgun\", \"handgun\", \"handguns\", \"handheld\", \"happened\", \"happened\", \"happened\", \"happened\", \"happy\", \"happy\", \"happy\", \"happy\", \"happy\", \"harris\", \"harris\", \"hci\", \"health\", \"health\", \"health\", \"health\", \"health\", \"heard\", \"heard\", \"heard\", \"heard\", \"heard\", \"hello\", \"help\", \"help\", \"help\", \"help\", \"help\", \"help\", \"help\", \"histories\", \"histories\", \"histories\", \"hole\", \"hole\", \"hole\", \"holes\", \"holes\", \"holes\", \"holes\", \"homicide\", \"homicides\", \"hope\", \"hope\", \"hope\", \"hope\", \"hope\", \"hospitals\", \"hot\", \"hot\", \"house\", \"house\", \"house\", \"house\", \"house\", \"house\", \"hypothesis\", \"hypothesis\", \"ibm\", \"idea\", \"idea\", \"idea\", \"idea\", \"idea\", \"idea\", \"ideas\", \"ideas\", \"ideas\", \"ideas\", \"illinois\", \"illinois\", \"illinois\", \"images\", \"images\", \"images\", \"images\", \"important\", \"important\", \"important\", \"important\", \"important\", \"important\", \"important\", \"important\", \"inches\", \"inches\", \"inches\", \"incident\", \"incident\", \"incident\", \"individual\", \"individual\", \"individual\", \"individual\", \"individual\", \"individual\", \"infection\", \"infections\", \"inflammation\", \"inflatable\", \"info\", \"info\", \"info\", \"info\", \"information\", \"information\", \"information\", \"information\", \"information\", \"information\", \"information\", \"information\", \"information\", \"information\", \"injuries\", \"injuries\", \"injuries\", \"injuries\", \"injuries\", \"injury\", \"injury\", \"injury\", \"injury\", \"insisting\", \"instructions\", \"instructions\", \"instructions\", \"instructions\", \"instrument\", \"instrument\", \"instrument\", \"instrument\", \"intellect\", \"investigation\", \"investigation\", \"investigation\", \"investigation\", \"isn\", \"isn\", \"isn\", \"isn\", \"isn\", \"issued\", \"issued\", \"issued\", \"items\", \"james\", \"james\", \"james\", \"james\", \"james\", \"james\", \"january\", \"january\", \"japanese\", \"japanese\", \"japanese\", \"jim\", \"jim\", \"jim\", \"jmd\", \"john\", \"john\", \"john\", \"john\", \"john\", \"john\", \"john\", \"joke\", \"joke\", \"joke\", \"jpl\", \"jsc\", \"jupiter\", \"just\", \"just\", \"just\", \"just\", \"just\", \"just\", \"just\", \"just\", \"justification\", \"justified\", \"justified\", \"justified\", \"justified\", \"justified\", \"justify\", \"key\", \"key\", \"killed\", \"killed\", \"killed\", \"knew\", \"knew\", \"knew\", \"knew\", \"knife\", \"knife\", \"knock\", \"knock\", \"know\", \"know\", \"know\", \"know\", \"know\", \"know\", \"know\", \"know\", \"know\", \"know\", \"koresh\", \"lab\", \"lab\", \"lab\", \"lab\", \"lack\", \"lack\", \"lack\", \"lack\", \"land\", \"land\", \"land\", \"land\", \"landing\", \"landing\", \"landing\", \"language\", \"language\", \"language\", \"large\", \"large\", \"large\", \"large\", \"large\", \"large\", \"large\", \"large\", \"launch\", \"launch\", \"launch\", \"launched\", \"launched\", \"launched\", \"launcher\", \"launcher\", \"launcher\", \"launches\", \"law\", \"law\", \"law\", \"law\", \"law\", \"law\", \"leap\", \"lee\", \"lee\", \"lee\", \"let\", \"let\", \"let\", \"let\", \"let\", \"let\", \"let\", \"lethal\", \"lethal\", \"lethal\", \"liberal\", \"liberties\", \"liberties\", \"liberty\", \"liberty\", \"liberty\", \"license\", \"license\", \"license\", \"license\", \"life\", \"life\", \"life\", \"life\", \"life\", \"life\", \"life\", \"light\", \"light\", \"light\", \"light\", \"light\", \"light\", \"light\", \"like\", \"like\", \"like\", \"like\", \"like\", \"like\", \"like\", \"like\", \"like\", \"like\", \"like\", \"like\", \"likely\", \"likely\", \"likely\", \"likely\", \"likely\", \"likely\", \"likely\", \"limitations\", \"limitations\", \"limitations\", \"limitations\", \"limitations\", \"listen\", \"little\", \"little\", \"little\", \"little\", \"little\", \"little\", \"local\", \"local\", \"local\", \"local\", \"local\", \"local\", \"long\", \"long\", \"long\", \"long\", \"long\", \"long\", \"long\", \"long\", \"long\", \"long\", \"looking\", \"looking\", \"looking\", \"looking\", \"looking\", \"lot\", \"lot\", \"lot\", \"lot\", \"lot\", \"lot\", \"lot\", \"lot\", \"loud\", \"love\", \"love\", \"love\", \"love\", \"low\", \"low\", \"low\", \"low\", \"low\", \"low\", \"low\", \"low\", \"low\", \"lunar\", \"lunar\", \"lunar\", \"lyme\", \"lyme\", \"magellan\", \"magellan\", \"magnetic\", \"mail\", \"mail\", \"mail\", \"mail\", \"mail\", \"mail\", \"mail\", \"make\", \"make\", \"make\", \"make\", \"make\", \"make\", \"make\", \"make\", \"make\", \"make\", \"make\", \"manned\", \"manned\", \"manufacture\", \"manufacture\", \"manufacture\", \"mars\", \"mars\", \"martin\", \"martin\", \"martin\", \"martin\", \"mary\", \"mary\", \"maryland\", \"maryland\", \"mass\", \"mass\", \"mass\", \"mass\", \"mass\", \"mass\", \"massive\", \"material\", \"material\", \"material\", \"material\", \"material\", \"materials\", \"materials\", \"materials\", \"materials\", \"matter\", \"matter\", \"matter\", \"matter\", \"matter\", \"matter\", \"maybe\", \"maybe\", \"maybe\", \"maybe\", \"means\", \"means\", \"means\", \"means\", \"means\", \"means\", \"means\", \"means\", \"means\", \"means\", \"meant\", \"meant\", \"meant\", \"meat\", \"med\", \"med\", \"med\", \"medical\", \"medical\", \"medical\", \"medical\", \"medical\", \"medication\", \"medicine\", \"medicine\", \"medicine\", \"medicine\", \"medicine\", \"medicine\", \"medicine\", \"members\", \"members\", \"members\", \"members\", \"members\", \"members\", \"members\", \"membership\", \"membership\", \"mentioned\", \"mentioned\", \"mentioned\", \"mentioned\", \"mentioned\", \"mentioned\", \"mercury\", \"message\", \"message\", \"message\", \"message\", \"message\", \"met\", \"met\", \"methodology\", \"michael\", \"michael\", \"michael\", \"michael\", \"michael\", \"migraine\", \"migraine\", \"migraine\", \"mike\", \"mike\", \"mike\", \"mike\", \"mile\", \"mile\", \"military\", \"military\", \"military\", \"military\", \"military\", \"military\", \"military\", \"militia\", \"militia\", \"miller\", \"million\", \"million\", \"million\", \"million\", \"millions\", \"millions\", \"millions\", \"millions\", \"millions\", \"mind\", \"mind\", \"mind\", \"mind\", \"minds\", \"minds\", \"minds\", \"minds\", \"mining\", \"mining\", \"mirror\", \"mirror\", \"mirror\", \"mirror\", \"mirror\", \"miss\", \"miss\", \"miss\", \"missile\", \"missile\", \"missing\", \"missing\", \"mission\", \"mission\", \"missions\", \"mistakes\", \"mit\", \"mit\", \"model\", \"model\", \"model\", \"model\", \"model\", \"model\", \"modify\", \"modify\", \"modify\", \"module\", \"money\", \"money\", \"money\", \"money\", \"money\", \"money\", \"money\", \"months\", \"months\", \"months\", \"months\", \"months\", \"moon\", \"moon\", \"moral\", \"moral\", \"motion\", \"motion\", \"motor\", \"motor\", \"motor\", \"motor\", \"motor\", \"mri\", \"mri\", \"msg\", \"murders\", \"muscles\", \"nasa\", \"nasa\", \"nasty\", \"national\", \"national\", \"national\", \"national\", \"national\", \"need\", \"need\", \"need\", \"need\", \"need\", \"need\", \"need\", \"need\", \"need\", \"net\", \"net\", \"net\", \"net\", \"netcom\", \"neutron\", \"neutron\", \"new\", \"new\", \"new\", \"new\", \"new\", \"new\", \"new\", \"new\", \"news\", \"news\", \"news\", \"news\", \"news\", \"news\", \"news\", \"news\", \"newsletter\", \"newsletter\", \"newspapers\", \"newspapers\", \"newspapers\", \"newspapers\", \"newton\", \"newton\", \"newton\", \"nice\", \"nice\", \"nice\", \"nice\", \"normal\", \"normal\", \"normal\", \"normal\", \"normal\", \"normal\", \"normal\", \"noticed\", \"nra\", \"nra\", \"nra\", \"number\", \"number\", \"number\", \"number\", \"number\", \"number\", \"nutrition\", \"object\", \"object\", \"object\", \"objects\", \"objects\", \"objects\", \"objects\", \"objects\", \"observations\", \"observatory\", \"observatory\", \"observer\", \"observer\", \"officer\", \"officer\", \"oil\", \"okay\", \"okay\", \"okay\", \"old\", \"old\", \"old\", \"old\", \"old\", \"operational\", \"operational\", \"opinion\", \"opinion\", \"opinion\", \"opinion\", \"oral\", \"oral\", \"orbit\", \"orbit\", \"orbit\", \"orbit\", \"orbital\", \"orbital\", \"orbital\", \"orbital\", \"orbits\", \"org\", \"organism\", \"organization\", \"organization\", \"organization\", \"organization\", \"organized\", \"organized\", \"organized\", \"organized\", \"outside\", \"outside\", \"outside\", \"outside\", \"outside\", \"outside\", \"owner\", \"owner\", \"owners\", \"owners\", \"owners\", \"ownership\", \"ownership\", \"page\", \"page\", \"paid\", \"paid\", \"paid\", \"pain\", \"pain\", \"pain\", \"paper\", \"paper\", \"paper\", \"paper\", \"paper\", \"paper\", \"paper\", \"paper\", \"paranoid\", \"paranoid\", \"passed\", \"passed\", \"passed\", \"passed\", \"passing\", \"passing\", \"pat\", \"pat\", \"pat\", \"patient\", \"patient\", \"patient\", \"patient\", \"patient\", \"patients\", \"patients\", \"patients\", \"patients\", \"pattern\", \"pattern\", \"pattern\", \"pattern\", \"paul\", \"paul\", \"paul\", \"paul\", \"paul\", \"paul\", \"payload\", \"peace\", \"peace\", \"peace\", \"penalty\", \"penalty\", \"people\", \"people\", \"people\", \"people\", \"people\", \"people\", \"people\", \"people\", \"people\", \"people\", \"people\", \"percent\", \"percent\", \"percent\", \"perfect\", \"perfect\", \"person\", \"person\", \"person\", \"person\", \"person\", \"person\", \"person\", \"person\", \"person\", \"philosophy\", \"photography\", \"physical\", \"physical\", \"physical\", \"physician\", \"physician\", \"physician\", \"physician\", \"physics\", \"physics\", \"physics\", \"physics\", \"pioneer\", \"pioneer\", \"pioneer\", \"pioneer\", \"pistol\", \"pistol\", \"pistol\", \"pitt\", \"placebo\", \"placebo\", \"plane\", \"plane\", \"plane\", \"planet\", \"planet\", \"planetary\", \"planets\", \"pluto\", \"pluto\", \"pluto\", \"point\", \"point\", \"point\", \"point\", \"point\", \"point\", \"point\", \"point\", \"police\", \"police\", \"police\", \"policy\", \"policy\", \"policy\", \"policy\", \"political\", \"political\", \"political\", \"political\", \"political\", \"political\", \"politicians\", \"politicians\", \"politics\", \"politics\", \"politics\", \"possess\", \"possess\", \"possess\", \"possession\", \"possession\", \"possession\", \"powered\", \"powered\", \"practice\", \"practice\", \"practice\", \"practice\", \"practicing\", \"pre\", \"pre\", \"presence\", \"presence\", \"presence\", \"presence\", \"president\", \"president\", \"president\", \"prevention\", \"prevention\", \"prevention\", \"price\", \"price\", \"price\", \"principle\", \"principle\", \"principle\", \"prize\", \"probably\", \"probably\", \"probably\", \"probably\", \"probably\", \"probably\", \"probe\", \"probe\", \"probes\", \"probes\", \"problem\", \"problem\", \"problem\", \"problem\", \"problem\", \"problem\", \"problems\", \"problems\", \"problems\", \"problems\", \"problems\", \"procedures\", \"procedures\", \"process\", \"process\", \"process\", \"process\", \"process\", \"professor\", \"professor\", \"profit\", \"profit\", \"program\", \"program\", \"program\", \"program\", \"project\", \"project\", \"project\", \"project\", \"project\", \"proper\", \"proper\", \"proper\", \"proper\", \"proposed\", \"proposed\", \"proposed\", \"proposed\", \"proposed\", \"propulsion\", \"propulsion\", \"protected\", \"proton\", \"psychology\", \"public\", \"public\", \"public\", \"public\", \"public\", \"public\", \"public\", \"published\", \"published\", \"published\", \"published\", \"published\", \"published\", \"published\", \"published\", \"pull\", \"pull\", \"pull\", \"pulled\", \"pulled\", \"pulled\", \"purely\", \"purely\", \"purely\", \"purely\", \"putting\", \"putting\", \"putting\", \"putting\", \"putting\", \"race\", \"race\", \"race\", \"raid\", \"rare\", \"rare\", \"rare\", \"rare\", \"rare\", \"rate\", \"rate\", \"rate\", \"rate\", \"rate\", \"rate\", \"rate\", \"rate\", \"rates\", \"rates\", \"rational\", \"rational\", \"rational\", \"rational\", \"ray\", \"ray\", \"ray\", \"read\", \"read\", \"read\", \"read\", \"read\", \"read\", \"read\", \"read\", \"real\", \"real\", \"real\", \"real\", \"real\", \"real\", \"real\", \"real\", \"really\", \"really\", \"really\", \"really\", \"really\", \"reasoning\", \"reasoning\", \"reasoning\", \"recently\", \"recently\", \"recently\", \"recently\", \"recently\", \"recently\", \"recommend\", \"recommend\", \"recommend\", \"refer\", \"refer\", \"refer\", \"refuse\", \"refuse\", \"refuse\", \"refuse\", \"regarding\", \"regarding\", \"regarding\", \"regulated\", \"remains\", \"remains\", \"remains\", \"remains\", \"remember\", \"remember\", \"remember\", \"remember\", \"reno\", \"reno\", \"repeat\", \"repeat\", \"repeat\", \"repeat\", \"reported\", \"reported\", \"reported\", \"reported\", \"reported\", \"reported\", \"representative\", \"representative\", \"representative\", \"representative\", \"research\", \"research\", \"research\", \"research\", \"research\", \"research\", \"research\", \"research\", \"resolution\", \"restaurant\", \"restaurant\", \"restrict\", \"restrict\", \"resulted\", \"resulted\", \"resulted\", \"results\", \"results\", \"results\", \"results\", \"results\", \"results\", \"results\", \"return\", \"return\", \"return\", \"return\", \"return\", \"reusable\", \"reusable\", \"reusable\", \"revolver\", \"rich\", \"rich\", \"rich\", \"rich\", \"rich\", \"richard\", \"richard\", \"richard\", \"rifle\", \"rifle\", \"rifle\", \"rifle\", \"rifles\", \"rifles\", \"right\", \"right\", \"right\", \"right\", \"right\", \"right\", \"rights\", \"rights\", \"ring\", \"ring\", \"ring\", \"rkba\", \"rkba\", \"rkba\", \"rocket\", \"rocket\", \"rocket\", \"rocket\", \"round\", \"round\", \"round\", \"round\", \"russian\", \"russian\", \"russian\", \"safe\", \"safe\", \"safe\", \"safe\", \"safe\", \"safe\", \"safe\", \"safety\", \"safety\", \"safety\", \"safety\", \"safety\", \"safety\", \"safety\", \"safety\", \"said\", \"said\", \"said\", \"said\", \"said\", \"said\", \"said\", \"san\", \"san\", \"san\", \"satellite\", \"satellite\", \"satellites\", \"satellites\", \"saturday\", \"saturday\", \"saturday\", \"saturn\", \"saturn\", \"say\", \"say\", \"say\", \"say\", \"sci\", \"sci\", \"sci\", \"sci\", \"sci\", \"science\", \"science\", \"science\", \"science\", \"science\", \"scientific\", \"scientific\", \"scientific\", \"scientific\", \"scientific\", \"scientific\", \"scientist\", \"scientist\", \"scientist\", \"sdio\", \"sdio\", \"search\", \"search\", \"search\", \"seattle\", \"seattle\", \"sec\", \"sec\", \"sec\", \"second\", \"second\", \"second\", \"second\", \"second\", \"second\", \"second\", \"second\", \"second\", \"section\", \"section\", \"section\", \"section\", \"section\", \"seen\", \"seen\", \"seen\", \"seen\", \"seen\", \"seizure\", \"self\", \"self\", \"self\", \"semi\", \"semi\", \"semi\", \"semi\", \"sentence\", \"sentence\", \"sentence\", \"sequence\", \"sequence\", \"sequence\", \"server\", \"shafer\", \"shafer\", \"shall\", \"shall\", \"shameful\", \"shape\", \"sheet\", \"sheet\", \"shock\", \"shock\", \"shock\", \"shock\", \"shoot\", \"shoot\", \"shop\", \"shop\", \"shot\", \"shot\", \"shot\", \"shot\", \"shotgun\", \"shotgun\", \"shotgun\", \"shotgun\", \"shotguns\", \"shotguns\", \"shots\", \"shots\", \"shots\", \"shut\", \"shut\", \"shut\", \"shuttle\", \"sick\", \"sick\", \"sick\", \"sign\", \"sign\", \"sign\", \"sign\", \"sign\", \"sign\", \"sign\", \"signal\", \"signal\", \"sites\", \"sites\", \"sites\", \"sites\", \"situations\", \"situations\", \"skepticism\", \"slow\", \"small\", \"small\", \"small\", \"small\", \"small\", \"small\", \"small\", \"small\", \"software\", \"software\", \"solar\", \"solar\", \"solar\", \"solar\", \"son\", \"son\", \"son\", \"soon\", \"soon\", \"soon\", \"soon\", \"soon\", \"soviet\", \"soviet\", \"space\", \"space\", \"space\", \"space\", \"space\", \"spacecraft\", \"spacecraft\", \"special\", \"special\", \"special\", \"special\", \"special\", \"special\", \"special\", \"special\", \"special\", \"special\", \"special\", \"speed\", \"speed\", \"speed\", \"spent\", \"spent\", \"sponsor\", \"sporting\", \"sporting\", \"sporting\", \"spring\", \"spring\", \"spring\", \"spring\", \"ssf\", \"ssto\", \"ssto\", \"ssto\", \"star\", \"star\", \"star\", \"stars\", \"stars\", \"started\", \"started\", \"started\", \"state\", \"state\", \"state\", \"state\", \"state\", \"state\", \"state\", \"state\", \"state\", \"states\", \"states\", \"states\", \"states\", \"states\", \"states\", \"states\", \"states\", \"station\", \"station\", \"statistical\", \"statistical\", \"stephen\", \"stephen\", \"stephen\", \"stephen\", \"stomach\", \"stopped\", \"stopped\", \"stopped\", \"stopped\", \"stored\", \"stored\", \"stored\", \"stored\", \"stored\", \"story\", \"story\", \"story\", \"story\", \"stove\", \"street\", \"street\", \"street\", \"street\", \"street\", \"street\", \"street\", \"street\", \"strength\", \"strength\", \"strength\", \"structure\", \"structure\", \"structure\", \"structure\", \"structure\", \"sts\", \"sts\", \"studied\", \"studied\", \"studied\", \"studied\", \"studies\", \"studies\", \"studies\", \"studies\", \"studies\", \"studies\", \"study\", \"study\", \"study\", \"study\", \"study\", \"study\", \"study\", \"study\", \"substance\", \"substance\", \"substance\", \"suddenly\", \"sugar\", \"sun\", \"sun\", \"sun\", \"sun\", \"sun\", \"support\", \"support\", \"support\", \"support\", \"support\", \"support\", \"support\", \"support\", \"support\", \"support\", \"supports\", \"supports\", \"supports\", \"supports\", \"supreme\", \"supreme\", \"sure\", \"sure\", \"sure\", \"sure\", \"sure\", \"sure\", \"sure\", \"surface\", \"surface\", \"surface\", \"surface\", \"surface\", \"surprise\", \"surprise\", \"surprise\", \"surrender\", \"surrender\", \"surveillance\", \"surveillance\", \"surveillance\", \"survivors\", \"symptoms\", \"symptoms\", \"syndrome\", \"syndrome\", \"syndrome\", \"syndrome\", \"systems\", \"systems\", \"systems\", \"talks\", \"tanks\", \"tanks\", \"tanks\", \"tanks\", \"tax\", \"tax\", \"tax\", \"tear\", \"technical\", \"technical\", \"technology\", \"technology\", \"technology\", \"technology\", \"technology\", \"telescope\", \"telescope\", \"temperature\", \"temperature\", \"temperature\", \"test\", \"test\", \"test\", \"test\", \"test\", \"tests\", \"tests\", \"tests\", \"tests\", \"texas\", \"texas\", \"texas\", \"texas\", \"thank\", \"thank\", \"thank\", \"thank\", \"thank\", \"thank\", \"theories\", \"theories\", \"theory\", \"theory\", \"theory\", \"theory\", \"thing\", \"thing\", \"thing\", \"thing\", \"thing\", \"thing\", \"thing\", \"things\", \"things\", \"things\", \"things\", \"things\", \"things\", \"things\", \"think\", \"think\", \"think\", \"think\", \"think\", \"think\", \"think\", \"think\", \"thinking\", \"thinking\", \"thinking\", \"thought\", \"thought\", \"thought\", \"thought\", \"thought\", \"thoughts\", \"thoughts\", \"thread\", \"threatened\", \"threatened\", \"threatened\", \"tim\", \"time\", \"time\", \"time\", \"time\", \"time\", \"time\", \"time\", \"time\", \"time\", \"time\", \"times\", \"times\", \"times\", \"times\", \"times\", \"times\", \"times\", \"tissue\", \"tissue\", \"titan\", \"titan\", \"titan\", \"title\", \"title\", \"today\", \"today\", \"today\", \"today\", \"today\", \"today\", \"today\", \"today\", \"toxic\", \"tracking\", \"treat\", \"treat\", \"treat\", \"treating\", \"treating\", \"treatment\", \"treatment\", \"treatment\", \"treatment\", \"treatment\", \"treatments\", \"trial\", \"trial\", \"trial\", \"trigger\", \"troops\", \"troops\", \"true\", \"true\", \"true\", \"true\", \"true\", \"true\", \"true\", \"try\", \"try\", \"try\", \"try\", \"try\", \"try\", \"ufl\", \"united\", \"united\", \"united\", \"united\", \"united\", \"universe\", \"universe\", \"universe\", \"university\", \"university\", \"university\", \"university\", \"university\", \"university\", \"unknown\", \"unknown\", \"uranus\", \"use\", \"use\", \"use\", \"use\", \"use\", \"use\", \"use\", \"use\", \"use\", \"use\", \"use\", \"used\", \"used\", \"used\", \"used\", \"used\", \"used\", \"used\", \"used\", \"used\", \"useful\", \"useful\", \"useful\", \"useful\", \"useful\", \"useful\", \"usually\", \"usually\", \"usually\", \"usually\", \"usually\", \"usually\", \"value\", \"value\", \"value\", \"value\", \"value\", \"value\", \"value\", \"value\", \"value\", \"values\", \"values\", \"various\", \"various\", \"various\", \"various\", \"various\", \"various\", \"various\", \"vehicle\", \"vehicle\", \"vehicle\", \"velocity\", \"velocity\", \"velocity\", \"velocity\", \"venus\", \"venus\", \"version\", \"version\", \"version\", \"version\", \"version\", \"victims\", \"victims\", \"violation\", \"violation\", \"violation\", \"violations\", \"violations\", \"violations\", \"violence\", \"violence\", \"violent\", \"violent\", \"violent\", \"visit\", \"visit\", \"vitamin\", \"volume\", \"volume\", \"vote\", \"vote\", \"vote\", \"vote\", \"waco\", \"waiting\", \"waiting\", \"waiting\", \"walls\", \"walls\", \"want\", \"want\", \"want\", \"want\", \"want\", \"want\", \"want\", \"want\", \"wanted\", \"wanted\", \"wanted\", \"wanted\", \"war\", \"war\", \"war\", \"washington\", \"washington\", \"washington\", \"washington\", \"washington\", \"wasn\", \"wasn\", \"wasn\", \"wasn\", \"watched\", \"watched\", \"water\", \"water\", \"water\", \"way\", \"way\", \"way\", \"way\", \"way\", \"way\", \"way\", \"way\", \"way\", \"way\", \"weapon\", \"weapon\", \"weapon\", \"weapon\", \"weapon\", \"weapon\", \"weapons\", \"weapons\", \"weapons\", \"weapons\", \"weaver\", \"weaver\", \"weight\", \"weight\", \"weight\", \"weight\", \"wife\", \"wife\", \"wind\", \"wind\", \"wind\", \"wind\", \"windows\", \"windows\", \"windows\", \"won\", \"won\", \"won\", \"won\", \"won\", \"wonder\", \"wonder\", \"work\", \"work\", \"work\", \"work\", \"work\", \"work\", \"work\", \"worked\", \"working\", \"working\", \"working\", \"working\", \"working\", \"working\", \"world\", \"world\", \"world\", \"world\", \"world\", \"world\", \"world\", \"world\", \"worst\", \"worst\", \"worst\", \"worthless\", \"worthless\", \"wouldn\", \"wouldn\", \"wouldn\", \"wouldn\", \"wouldn\", \"wow\", \"wow\", \"year\", \"year\", \"year\", \"year\", \"year\", \"year\", \"year\", \"year\", \"years\", \"years\", \"years\", \"years\", \"years\", \"years\", \"years\", \"years\", \"years\", \"yeast\", \"yes\", \"yes\", \"yes\", \"yes\", \"yes\", \"yesterday\", \"york\", \"york\", \"york\", \"york\"]}, \"R\": 30, \"lambda.step\": 0.01, \"plot.opts\": {\"xlab\": \"PC1\", \"ylab\": \"PC2\"}, \"topic.order\": [19, 5, 3, 7, 17, 2, 6, 20, 4, 15, 9, 8, 18, 10, 12, 14, 16, 13, 11, 1]};\n",
              "\n",
              "function LDAvis_load_lib(url, callback){\n",
              "  var s = document.createElement('script');\n",
              "  s.src = url;\n",
              "  s.async = true;\n",
              "  s.onreadystatechange = s.onload = callback;\n",
              "  s.onerror = function(){console.warn(\"failed to load library \" + url);};\n",
              "  document.getElementsByTagName(\"head\")[0].appendChild(s);\n",
              "}\n",
              "\n",
              "if(typeof(LDAvis) !== \"undefined\"){\n",
              "   // already loaded: just create the visualization\n",
              "   !function(LDAvis){\n",
              "       new LDAvis(\"#\" + \"ldavis_el1290298259394081315603056\", ldavis_el1290298259394081315603056_data);\n",
              "   }(LDAvis);\n",
              "}else if(typeof define === \"function\" && define.amd){\n",
              "   // require.js is available: use it to load d3/LDAvis\n",
              "   require.config({paths: {d3: \"https://d3js.org/d3.v5\"}});\n",
              "   require([\"d3\"], function(d3){\n",
              "      window.d3 = d3;\n",
              "      LDAvis_load_lib(\"https://cdn.jsdelivr.net/gh/bmabey/pyLDAvis@3.4.0/pyLDAvis/js/ldavis.v3.0.0.js\", function(){\n",
              "        new LDAvis(\"#\" + \"ldavis_el1290298259394081315603056\", ldavis_el1290298259394081315603056_data);\n",
              "      });\n",
              "    });\n",
              "}else{\n",
              "    // require.js not available: dynamically load d3 & LDAvis\n",
              "    LDAvis_load_lib(\"https://d3js.org/d3.v5.js\", function(){\n",
              "         LDAvis_load_lib(\"https://cdn.jsdelivr.net/gh/bmabey/pyLDAvis@3.4.0/pyLDAvis/js/ldavis.v3.0.0.js\", function(){\n",
              "                 new LDAvis(\"#\" + \"ldavis_el1290298259394081315603056\", ldavis_el1290298259394081315603056_data);\n",
              "            })\n",
              "         });\n",
              "}\n",
              "</script>"
            ],
            "text/plain": [
              "PreparedData(topic_coordinates=              x         y  topics  cluster       Freq\n",
              "topic                                                \n",
              "18     0.080893 -0.152056       1        1  22.010199\n",
              "4     -0.130848  0.009537       2        1  17.627849\n",
              "2      0.137640 -0.047235       3        1  14.332885\n",
              "6     -0.000914  0.046285       4        1   8.937017\n",
              "16     0.095109 -0.160910       5        1   6.658291\n",
              "1      0.128359  0.189662       6        1   6.208433\n",
              "5      0.136545 -0.059647       7        1   5.554804\n",
              "19     0.022405 -0.055065       8        1   2.902783\n",
              "3      0.055956 -0.115241       9        1   2.874137\n",
              "14    -0.276663  0.020536      10        1   2.325867\n",
              "8      0.066774  0.244251      11        1   2.133825\n",
              "7      0.079698  0.221257      12        1   1.677362\n",
              "17    -0.146208  0.022381      13        1   1.640499\n",
              "9      0.119558  0.105413      14        1   1.634376\n",
              "11     0.030316 -0.178473      15        1   1.396248\n",
              "13    -0.243341  0.038150      16        1   1.155724\n",
              "15    -0.101864 -0.019228      17        1   0.538076\n",
              "12    -0.027463 -0.042792      18        1   0.168858\n",
              "10    -0.017038 -0.030735      19        1   0.154656\n",
              "0     -0.008912 -0.036088      20        1   0.068112, topic_info=              Term        Freq       Total Category  logprob  loglift\n",
              "720            edu  539.000000  539.000000  Default  30.0000  30.0000\n",
              "2182         space  973.000000  973.000000  Default  29.0000  29.0000\n",
              "1021           gun  631.000000  631.000000  Default  28.0000  28.0000\n",
              "883           file  334.000000  334.000000  Default  27.0000  27.0000\n",
              "412            com  328.000000  328.000000  Default  26.0000  26.0000\n",
              "...            ...         ...         ...      ...      ...      ...\n",
              "2011          rkba    0.031311   73.349662  Topic20  -7.8456  -0.4672\n",
              "473   constitution    0.031302   63.666288  Topic20  -7.8459  -0.3259\n",
              "2564       working    0.031302   65.665683  Topic20  -7.8459  -0.3569\n",
              "2475       various    0.031298   74.556253  Topic20  -7.8460  -0.4840\n",
              "1516      national    0.031291  228.582320  Topic20  -7.8463  -1.6045\n",
              "\n",
              "[1065 rows x 6 columns], token_table=      Topic      Freq        Term\n",
              "term                             \n",
              "0         6  0.963373     abiding\n",
              "3         1  0.748772    absolute\n",
              "3         9  0.187193    absolute\n",
              "11        6  0.948543  accidental\n",
              "12        6  0.841098   accidents\n",
              "...     ...       ...         ...\n",
              "2585      7  0.955643   yesterday\n",
              "2586      2  0.043522        york\n",
              "2586      3  0.029015        york\n",
              "2586      4  0.696360        york\n",
              "2586      6  0.217612        york\n",
              "\n",
              "[3032 rows x 3 columns], R=30, lambda_step=0.01, plot_opts={'xlab': 'PC1', 'ylab': 'PC2'}, topic_order=[19, 5, 3, 7, 17, 2, 6, 20, 4, 15, 9, 8, 18, 10, 12, 14, 16, 13, 11, 1])"
            ]
          },
          "execution_count": 70,
          "metadata": {},
          "output_type": "execute_result"
        }
      ],
      "source": [
        "# Visualizing the models with pyLDAvis, using the term frequency (tf) vectors\n",
        "pyLDAvis.lda_model.prepare(lda_tf, dtm_tf, tf_vectorizer)"
      ]
    },
    {
      "cell_type": "code",
      "execution_count": null,
      "id": "1ac867bf",
      "metadata": {
        "id": "1ac867bf",
        "outputId": "85a77ba9-8d4d-4eb9-e06a-ed49b51366ba"
      },
      "outputs": [
        {
          "data": {
            "text/html": [
              "\n",
              "<link rel=\"stylesheet\" type=\"text/css\" href=\"https://cdn.jsdelivr.net/gh/bmabey/pyLDAvis@3.4.0/pyLDAvis/js/ldavis.v1.0.0.css\">\n",
              "\n",
              "\n",
              "<div id=\"ldavis_el1290298259403041123018211\" style=\"background-color:white;\"></div>\n",
              "<script type=\"text/javascript\">\n",
              "\n",
              "var ldavis_el1290298259403041123018211_data = {\"mdsDat\": {\"x\": [0.04155332651676567, -0.24458821202025388, 0.012643527588449829, 0.019289761903829243, 0.016104978097169254, 0.01456946932139971, 0.013714769178676617, 0.014000328392162252, 0.01120651243670195, 0.01140867482125495, 0.011005985757884444, 0.009739640163188287, 0.008679992390691671, 0.00863865262511361, 0.008679305497327277, 0.008677079746320142, 0.00865814088652777, 0.008674910370543546, 0.008682904842263061, 0.008660251483984426], \"y\": [0.06647758899261473, 0.006690534891613281, -0.015353355274691966, -0.017483315635632893, -0.01216616855224108, -0.01027309852537712, -0.007284068606242057, -0.007665164362203615, -0.0016214805511384277, -0.001497416227627057, -0.002901046800256021, -0.0011534965765965708, 0.0005215081542518182, 0.0005340836006964536, 0.0005011851199610335, 0.0004974497040275712, 0.000579816894848967, 0.0005530777243420746, 0.0005179189452396279, 0.0005254470844112189], \"topics\": [1, 2, 3, 4, 5, 6, 7, 8, 9, 10, 11, 12, 13, 14, 15, 16, 17, 18, 19, 20], \"cluster\": [1, 1, 1, 1, 1, 1, 1, 1, 1, 1, 1, 1, 1, 1, 1, 1, 1, 1, 1, 1], \"Freq\": [82.63456784426795, 2.6688932489328874, 0.8955513087508334, 0.8795772933356313, 0.8532751598051586, 0.8431024150845864, 0.8346901831449094, 0.8332762858752386, 0.8124295539634041, 0.809484524452506, 0.8063009147783953, 0.8005465271264108, 0.7910380925602587, 0.7910380925602587, 0.7910380925602587, 0.7910380925602587, 0.7910380925602587, 0.7910380925602587, 0.7910380925602587, 0.7910380925602587]}, \"tinfo\": {\"Term\": [\"edu\", \"com\", \"soon\", \"gordon\", \"surrender\", \"banks\", \"geb\", \"pitt\", \"skepticism\", \"chastity\", \"dsl\", \"shameful\", \"cadre\", \"intellect\", \"time\", \"did\", \"thanks\", \"just\", \"don\", \"space\", \"know\", \"think\", \"people\", \"like\", \"gun\", \"effective\", \"does\", \"april\", \"probably\", \"right\", \"don\", \"space\", \"know\", \"people\", \"think\", \"like\", \"gun\", \"just\", \"right\", \"use\", \"make\", \"time\", \"good\", \"nasa\", \"new\", \"way\", \"years\", \"things\", \"want\", \"really\", \"guns\", \"sure\", \"used\", \"believe\", \"work\", \"year\", \"said\", \"government\", \"case\", \"does\", \"did\", \"say\", \"thanks\", \"edu\", \"geb\", \"pitt\", \"skepticism\", \"chastity\", \"shameful\", \"dsl\", \"cadre\", \"intellect\", \"banks\", \"surrender\", \"gordon\", \"soon\", \"migraine\", \"lyme\", \"edu\", \"afraid\", \"famous\", \"rare\", \"fits\", \"dose\", \"nerve\", \"hurt\", \"extremely\", \"pressure\", \"drop\", \"meant\", \"weight\", \"primarily\", \"injuries\", \"blood\", \"usually\", \"brain\", \"isn\", \"won\", \"probably\", \"patients\", \"glutamate\", \"migraine\", \"treating\", \"cutting\", \"pure\", \"effective\", \"electric\", \"stove\", \"choice\", \"community\", \"flame\", \"simple\", \"hear\", \"drug\", \"cases\", \"sheet\", \"historical\", \"unix\", \"databases\", \"furthermore\", \"stored\", \"comparing\", \"relating\", \"preliminary\", \"arthur\", \"cmu\", \"participate\", \"aeronautics\", \"broad\", \"peter\", \"fact\", \"headache\", \"inflammatory\", \"pain\", \"antibiotics\", \"tube\", \"bought\", \"oral\", \"findings\", \"doctor\", \"chest\", \"effects\", \"listen\", \"appears\", \"relief\", \"nose\", \"msg\", \"patient\", \"taking\", \"patients\", \"brain\", \"dave\", \"netcom\", \"hello\", \"admit\", \"com\", \"expect\", \"sheet\", \"historical\", \"unix\", \"databases\", \"furthermore\", \"stored\", \"comparing\", \"relating\", \"preliminary\", \"arthur\", \"cmu\", \"participate\", \"aeronautics\", \"broad\", \"peter\", \"entry\", \"availability\", \"october\", \"performing\", \"edward\", \"columbia\", \"bus\", \"sunday\", \"dec\", \"posters\", \"electronic\", \"color\", \"inflatable\", \"substance\", \"amino\", \"grant\", \"suffer\", \"sec\", \"surprise\", \"article\", \"pictures\", \"like\", \"photography\", \"writing\", \"needed\", \"don\", \"thanks\", \"original\", \"jmd\", \"longer\", \"handheld\", \"better\", \"bad\", \"research\", \"colorado\", \"element\", \"world\", \"propulsion\", \"rifle\", \"lethal\", \"bullets\", \"video\", \"camera\", \"adult\", \"issued\", \"warrant\", \"check\", \"short\", \"sheet\", \"historical\", \"unix\", \"databases\", \"furthermore\", \"stored\", \"comparing\", \"relating\", \"preliminary\", \"arthur\", \"cmu\", \"participate\", \"aeronautics\", \"broad\", \"peter\", \"entry\", \"availability\", \"october\", \"performing\", \"edward\", \"columbia\", \"cop\", \"sunday\", \"estimates\", \"cops\", \"msg\", \"practicing\", \"characteristics\", \"police\", \"drew\", \"explosion\", \"concealed\", \"knife\", \"gang\", \"deadly\", \"carry\", \"hunting\", \"plastic\", \"self\", \"flavor\", \"ridiculous\", \"networks\", \"food\", \"gun\", \"taste\", \"officer\", \"defense\", \"deleted\", \"don\", \"just\", \"people\", \"like\", \"eat\", \"weapon\", \"centaur\", \"proton\", \"sheet\", \"historical\", \"unix\", \"databases\", \"furthermore\", \"stored\", \"comparing\", \"relating\", \"preliminary\", \"arthur\", \"cmu\", \"participate\", \"aeronautics\", \"broad\", \"availability\", \"peter\", \"entry\", \"october\", \"performing\", \"edward\", \"columbia\", \"bus\", \"sunday\", \"dec\", \"electronic\", \"evaluation\", \"oriented\", \"limitations\", \"authors\", \"exact\", \"operated\", \"licenses\", \"rich\", \"major\", \"permission\", \"sure\", \"eye\", \"appreciate\", \"drivers\", \"path\", \"percentage\", \"wonder\", \"close\", \"public\", \"lives\", \"related\", \"bit\", \"dept\", \"allow\", \"wasn\", \"clearly\", \"controlled\", \"used\", \"state\", \"condition\", \"point\", \"homicide\", \"outside\", \"gun\", \"disease\", \"does\", \"just\", \"waiting\", \"jmd\", \"handheld\", \"jim\", \"sheet\", \"historical\", \"unix\", \"databases\", \"furthermore\", \"stored\", \"comparing\", \"relating\", \"preliminary\", \"arthur\", \"cmu\", \"participate\", \"aeronautics\", \"broad\", \"peter\", \"availability\", \"entry\", \"october\", \"performing\", \"edward\", \"columbia\", \"bus\", \"sunday\", \"dec\", \"oriented\", \"electronic\", \"evaluation\", \"com\", \"documents\", \"briefing\", \"interplanetary\", \"mother\", \"countries\", \"december\", \"spot\", \"western\", \"media\", \"source\", \"antenna\", \"fbi\", \"launched\", \"performed\", \"summer\", \"fat\", \"water\", \"degrees\", \"believed\", \"die\", \"busy\", \"deny\", \"march\", \"excerpts\", \"agents\", \"article\", \"think\", \"just\", \"guess\", \"cold\", \"people\", \"question\", \"claim\", \"course\", \"heat\", \"good\", \"training\", \"satellite\", \"jpl\", \"universe\", \"stephen\", \"april\", \"business\", \"lab\", \"sheet\", \"historical\", \"unix\", \"databases\", \"furthermore\", \"stored\", \"comparing\", \"relating\", \"preliminary\", \"arthur\", \"cmu\", \"participate\", \"aeronautics\", \"broad\", \"peter\", \"entry\", \"availability\", \"october\", \"performing\", \"edward\", \"columbia\", \"bus\", \"sunday\", \"dec\", \"electronic\", \"alan\", \"britain\", \"expected\", \"transmitted\", \"instrument\", \"path\", \"rock\", \"characteristics\", \"thought\", \"space\", \"joke\", \"released\", \"don\", \"hold\", \"does\", \"guy\", \"branch\", \"known\", \"job\", \"visible\", \"transport\", \"role\", \"race\", \"late\", \"probably\", \"air\", \"heard\", \"standards\", \"important\", \"theory\", \"letters\", \"exist\", \"replies\", \"posting\", \"sheet\", \"historical\", \"unix\", \"databases\", \"furthermore\", \"stored\", \"comparing\", \"relating\", \"preliminary\", \"arthur\", \"cmu\", \"participate\", \"aeronautics\", \"broad\", \"entry\", \"peter\", \"availability\", \"columbia\", \"october\", \"performing\", \"edward\", \"bus\", \"sunday\", \"dec\", \"electronic\", \"oriented\", \"time\", \"candida\", \"yeast\", \"contributions\", \"langley\", \"anger\", \"largest\", \"introduction\", \"infections\", \"encouraged\", \"fbi\", \"connection\", \"justified\", \"strongly\", \"campaign\", \"supposed\", \"body\", \"batf\", \"chronic\", \"tissue\", \"gee\", \"essential\", \"race\", \"subject\", \"shafer\", \"mining\", \"like\", \"got\", \"contest\", \"charter\", \"people\", \"guns\", \"said\", \"just\", \"safety\", \"sounds\", \"used\", \"don\", \"happen\", \"didn\", \"update\", \"forget\", \"sheet\", \"historical\", \"unix\", \"databases\", \"furthermore\", \"stored\", \"comparing\", \"relating\", \"preliminary\", \"arthur\", \"cmu\", \"participate\", \"aeronautics\", \"broad\", \"peter\", \"entry\", \"availability\", \"october\", \"performing\", \"edward\", \"columbia\", \"bus\", \"sunday\", \"dec\", \"oriented\", \"electronic\", \"evaluation\", \"limitations\", \"thanks\", \"did\", \"authors\", \"enjoy\", \"peace\", \"layer\", \"documented\", \"advance\", \"health\", \"display\", \"promote\", \"perform\", \"walls\", \"immediately\", \"window\", \"configuration\", \"rifles\", \"global\", \"does\", \"mass\", \"government\", \"says\", \"gas\", \"don\", \"tanks\", \"world\", \"weapons\", \"quite\", \"problem\", \"possibly\", \"like\", \"wasn\", \"known\", \"office\", \"know\", \"longer\", \"true\", \"bomb\", \"control\", \"doesn\", \"methodology\", \"doug\", \"page\", \"sheet\", \"historical\", \"unix\", \"databases\", \"furthermore\", \"stored\", \"comparing\", \"relating\", \"preliminary\", \"arthur\", \"cmu\", \"participate\", \"aeronautics\", \"broad\", \"entry\", \"peter\", \"availability\", \"october\", \"performing\", \"edward\", \"columbia\", \"bus\", \"sunday\", \"dec\", \"oriented\", \"evaluation\", \"electronic\", \"largest\", \"limitations\", \"creating\", \"newton\", \"concepts\", \"substantial\", \"documents\", \"remind\", \"atlas\", \"fancy\", \"describing\", \"engaged\", \"thinking\", \"scientific\", \"science\", \"ideas\", \"washington\", \"solar\", \"description\", \"titan\", \"fever\", \"pad\", \"approximately\", \"leap\", \"sitting\", \"correction\", \"cheaper\", \"membership\", \"lunar\", \"wild\", \"generation\", \"space\", \"launch\", \"said\", \"question\", \"time\", \"money\", \"earth\", \"buy\", \"power\", \"guess\", \"certainly\", \"new\", \"spacecraft\", \"answer\", \"probably\", \"think\", \"test\", \"flights\", \"earlier\", \"sheet\", \"historical\", \"unix\", \"databases\", \"furthermore\", \"stored\", \"comparing\", \"relating\", \"preliminary\", \"arthur\", \"cmu\", \"participate\", \"broad\", \"aeronautics\", \"peter\", \"availability\", \"entry\", \"october\", \"performing\", \"edward\", \"columbia\", \"bus\", \"sunday\", \"dec\", \"evaluation\", \"oriented\", \"electronic\", \"limitations\", \"largest\", \"rock\", \"redesign\", \"panel\", \"urban\", \"confused\", \"militia\", \"jobs\", \"deputy\", \"god\", \"thousands\", \"evening\", \"liberties\", \"minority\", \"older\", \"right\", \"state\", \"station\", \"options\", \"government\", \"amendment\", \"presence\", \"option\", \"people\", \"ssf\", \"space\", \"states\", \"shall\", \"check\", \"power\", \"policy\", \"edu\", \"effort\", \"think\", \"example\", \"members\", \"yesterday\", \"sheet\", \"historical\", \"unix\", \"databases\", \"furthermore\", \"stored\", \"comparing\", \"relating\", \"preliminary\", \"arthur\", \"cmu\", \"participate\", \"aeronautics\", \"broad\", \"peter\", \"availability\", \"entry\", \"october\", \"performing\", \"edward\", \"columbia\", \"bus\", \"sunday\", \"dec\", \"oriented\", \"evaluation\", \"electronic\", \"limitations\", \"describes\", \"largest\", \"rock\", \"conduct\", \"document\", \"newton\", \"sales\", \"group\", \"drugs\", \"choose\", \"answer\", \"reno\", \"paranoid\", \"initial\", \"people\", \"following\", \"waco\", \"president\", \"alt\", \"sdio\", \"purely\", \"assault\", \"police\", \"sitting\", \"fast\", \"discuss\", \"hit\", \"bodies\", \"remember\", \"writing\", \"somebody\", \"assumed\", \"com\", \"ago\", \"explain\", \"suitable\", \"day\", \"sheet\", \"historical\", \"unix\", \"databases\", \"furthermore\", \"stored\", \"comparing\", \"relating\", \"preliminary\", \"arthur\", \"cmu\", \"participate\", \"aeronautics\", \"broad\", \"peter\", \"entry\", \"availability\", \"october\", \"performing\", \"edward\", \"columbia\", \"bus\", \"sunday\", \"dec\", \"evaluation\", \"oriented\", \"electronic\", \"limitations\", \"describes\", \"largest\", \"characteristics\", \"authors\", \"appeared\", \"mercury\", \"expand\", \"planets\", \"bigger\", \"procedures\", \"extensive\", \"lyme\", \"orbit\", \"explain\", \"msg\", \"planet\", \"wife\", \"right\", \"sun\", \"theory\", \"called\", \"don\", \"times\", \"amendment\", \"know\", \"think\", \"story\", \"shows\", \"little\", \"space\", \"second\", \"request\", \"inside\", \"tool\", \"uranus\", \"intellect\", \"idea\", \"general\", \"lab\", \"sheet\", \"historical\", \"unix\", \"databases\", \"furthermore\", \"stored\", \"comparing\", \"relating\", \"preliminary\", \"arthur\", \"cmu\", \"participate\", \"aeronautics\", \"broad\", \"peter\", \"entry\", \"availability\", \"october\", \"performing\", \"edward\", \"columbia\", \"bus\", \"sunday\", \"dec\", \"electronic\", \"evaluation\", \"oriented\", \"limitations\", \"describes\", \"largest\", \"sales\", \"documents\", \"communication\", \"encouraged\", \"aren\", \"mean\", \"agency\", \"amendment\", \"court\", \"missions\", \"separate\", \"applies\", \"help\", \"supreme\", \"written\", \"funding\", \"directly\", \"state\", \"money\", \"transfer\", \"states\", \"science\", \"support\", \"question\", \"kind\", \"better\", \"federal\", \"going\", \"issue\", \"restrictions\", \"second\", \"asked\", \"governments\", \"constitution\", \"sheet\", \"historical\", \"unix\", \"databases\", \"furthermore\", \"stored\", \"comparing\", \"relating\", \"preliminary\", \"arthur\", \"cmu\", \"participate\", \"aeronautics\", \"broad\", \"peter\", \"entry\", \"availability\", \"october\", \"performing\", \"edward\", \"columbia\", \"bus\", \"sunday\", \"dec\", \"oriented\", \"evaluation\", \"electronic\", \"limitations\", \"describes\", \"largest\", \"rock\", \"characteristics\", \"sales\", \"authors\", \"histories\", \"positions\", \"bob\", \"operated\", \"licenses\", \"funding\", \"analysis\", \"missed\", \"means\", \"equal\", \"addition\", \"plane\", \"difference\", \"production\", \"proposed\", \"consume\", \"claim\", \"counter\", \"bomb\", \"state\", \"big\", \"item\", \"exactly\", \"ssf\", \"proper\", \"sources\", \"impossible\", \"programs\", \"cases\", \"apollo\", \"sts\", \"recommend\", \"sheet\", \"historical\", \"unix\", \"databases\", \"furthermore\", \"stored\", \"comparing\", \"relating\", \"preliminary\", \"arthur\", \"cmu\", \"participate\", \"aeronautics\", \"broad\", \"entry\", \"peter\", \"availability\", \"october\", \"performing\", \"edward\", \"columbia\", \"bus\", \"sunday\", \"dec\", \"oriented\", \"electronic\", \"evaluation\", \"limitations\", \"largest\", \"describes\", \"characteristics\", \"usage\", \"feds\", \"substantial\", \"regulation\", \"wondering\", \"drink\", \"dyer\", \"confirm\", \"justify\", \"expert\", \"newspapers\", \"concerning\", \"migraine\", \"information\", \"haven\", \"research\", \"work\", \"heard\", \"don\", \"sent\", \"especially\", \"drug\", \"bomb\", \"cut\", \"case\", \"exercise\", \"provide\", \"members\", \"thanks\", \"gang\", \"aerospace\", \"regarding\", \"works\", \"help\", \"people\", \"hci\", \"order\", \"sheet\", \"historical\", \"unix\", \"databases\", \"furthermore\", \"stored\", \"comparing\", \"relating\", \"preliminary\", \"arthur\", \"cmu\", \"participate\", \"aeronautics\", \"broad\", \"peter\", \"availability\", \"entry\", \"october\", \"performing\", \"edward\", \"columbia\", \"bus\", \"sunday\", \"dec\", \"oriented\", \"evaluation\", \"electronic\", \"limitations\", \"largest\", \"describes\", \"authors\", \"posters\", \"decades\", \"ufl\", \"americans\", \"reduced\", \"technological\", \"stay\", \"appeared\", \"little\", \"firearms\", \"violent\", \"white\", \"process\", \"criminals\", \"guns\", \"development\", \"metal\", \"like\", \"claim\", \"group\", \"division\", \"btw\", \"deal\", \"want\", \"means\", \"lead\", \"arms\", \"merely\", \"issue\", \"reason\", \"don\", \"does\", \"edu\", \"sheet\", \"historical\", \"unix\", \"databases\", \"furthermore\", \"stored\", \"comparing\", \"relating\", \"preliminary\", \"arthur\", \"cmu\", \"participate\", \"aeronautics\", \"broad\", \"entry\", \"peter\", \"availability\", \"october\", \"performing\", \"edward\", \"columbia\", \"bus\", \"sunday\", \"dec\", \"oriented\", \"evaluation\", \"electronic\", \"limitations\", \"describes\", \"largest\", \"addressed\", \"authors\", \"characteristics\", \"documents\", \"posters\", \"licenses\", \"mode\", \"spacecraft\", \"earth\", \"galileo\", \"exactly\", \"navigation\", \"signal\", \"know\", \"pat\", \"diagnosed\", \"syndrome\", \"section\", \"went\", \"firearm\", \"having\", \"means\", \"disease\", \"drug\", \"time\", \"thanks\", \"statements\", \"hear\", \"don\", \"attempt\", \"tells\", \"possible\", \"attitude\", \"command\", \"absolutely\", \"assume\", \"sheet\", \"historical\", \"unix\", \"databases\", \"furthermore\", \"stored\", \"comparing\", \"relating\", \"preliminary\", \"arthur\", \"cmu\", \"participate\", \"aeronautics\", \"broad\", \"peter\", \"availability\", \"entry\", \"october\", \"performing\", \"edward\", \"columbia\", \"bus\", \"sunday\", \"dec\", \"oriented\", \"evaluation\", \"electronic\", \"limitations\", \"describes\", \"largest\", \"addressed\", \"diagnose\", \"document\", \"atmospheric\", \"allows\", \"atlantic\", \"confused\", \"real\", \"life\", \"net\", \"watched\", \"need\", \"business\", \"orbiter\", \"person\", \"finger\", \"daughter\", \"tell\", \"memory\", \"emergency\", \"obvious\", \"goes\", \"pat\", \"sts\", \"shuttle\", \"don\", \"law\", \"died\", \"space\", \"story\", \"know\", \"conditions\", \"face\", \"instead\", \"burned\", \"far\"], \"Freq\": [21.0, 14.0, 11.0, 10.0, 10.0, 10.0, 10.0, 10.0, 9.0, 9.0, 9.0, 9.0, 9.0, 9.0, 22.0, 16.0, 14.0, 30.0, 31.0, 31.0, 27.0, 26.0, 31.0, 30.0, 24.0, 6.0, 20.0, 6.0, 13.0, 18.0, 31.43189916650788, 30.500488321194222, 27.153054834165268, 30.872351661474962, 25.525601691137044, 29.727176738864387, 23.597352825453967, 29.346191524121664, 18.338544827442714, 18.010373457549495, 17.037544140749613, 21.852291779375786, 19.279864753636424, 15.094244761361844, 14.981558623989422, 14.907440826754323, 14.747508663679538, 14.390081921280734, 14.358168799796877, 14.203633039051267, 14.055320149639194, 13.576503535777894, 13.333292523588039, 13.145572732572369, 13.119522465907277, 12.999632107186345, 12.939289947527984, 12.852175485595232, 12.828094005061365, 19.282941514025808, 15.788980629355478, 13.446784074697225, 13.727515544376882, 14.176499999286573, 9.692855107876856, 9.667820393660604, 9.426722102035741, 9.409075302293592, 9.406685242182384, 9.406673179952286, 9.396366139375669, 9.395987568163713, 9.589563938965114, 9.442350025767986, 9.42915263605799, 8.600391667088298, 1.409497195323888, 1.5567735241163543, 6.9584169954309605, 0.7755618961582458, 0.487482076500233, 0.9017238134718605, 0.48293718842901856, 0.49350966428210385, 0.4324775806945049, 0.6712878325619238, 0.4489284954604255, 0.7262308118288068, 0.3049986384541492, 0.5242340728915758, 1.0899522910733703, 0.23335119038353408, 0.229303412046347, 1.0888860181673001, 0.9359778405835708, 0.7691385509202227, 1.0015862301702925, 0.7374650573510023, 0.6683369214909077, 0.4975716471494848, 1.3929984308230408, 0.9266676701063004, 0.6303758198689748, 0.3207657694727432, 0.3848499679949349, 0.8880699316520462, 0.3179617519908331, 0.3226709530260185, 0.24590863390450668, 0.23174810634679793, 0.3260983068895423, 0.2952577757620702, 0.2643977972101746, 0.21654622621039363, 0.2103072561879571, 0.027208239519337377, 0.027225840368929433, 0.02722832306859954, 0.02722601493103608, 0.027235351708099362, 0.02721786098230724, 0.027218767955557874, 0.027218395985377, 0.02727727995785425, 0.027211852534276354, 0.02722346300299003, 0.02722448642706694, 0.027231639657860632, 0.027215573889483084, 0.02723570463801406, 0.1803931184638352, 0.04528938984168415, 0.033773757750449315, 0.050565672911607844, 0.03310760205183285, 0.0315129367665355, 0.030298926591023487, 0.03272191330623201, 0.028449933762443296, 0.03886500879992106, 0.03159731958856749, 0.03456683290400794, 0.030124730983680313, 0.03059682142648095, 0.029647382689581406, 0.030690464561430496, 0.03331619421866948, 0.031064516976433903, 0.03123980167419978, 0.03130134562593267, 0.030889231861745713, 1.7448707692493757, 1.8879104482550386, 0.5125634043349122, 0.2531247839038321, 1.125320596838298, 0.2234524111066026, 0.02733526937369319, 0.02733689160227812, 0.027349971164466826, 0.027344789062032346, 0.027356271765008558, 0.027347625144415383, 0.02734423211805067, 0.0273448534342181, 0.027350173706253807, 0.027339924240677646, 0.0273423091534066, 0.027347222699626573, 0.02736132398970198, 0.027340267063474206, 0.027434866313346653, 0.027360883985438428, 0.027351279141734477, 0.027351293778340256, 0.027342467343160478, 0.027362967008204356, 0.027355130552964967, 0.027336570877575638, 0.02735042038126594, 0.02735384360930803, 0.027420008950751747, 0.02735697637580947, 0.027794079612073398, 0.027709530409634538, 0.027617298990748492, 0.027498308123308546, 0.027421842550930546, 0.027513525577963202, 0.027513150997035444, 0.027551002235902844, 0.027785036261225495, 0.027710413374679246, 0.02761492453089593, 0.02760381641243469, 0.027599572528315366, 0.027594061276058044, 0.02756450736579015, 0.02756012870486965, 0.02755520520096894, 0.02755022389644344, 0.027548749222472788, 0.02754824040742051, 0.027541592587176065, 0.027540956869171542, 0.027537936270563806, 0.02753405293253681, 0.027528664534307485, 0.027528464398402612, 0.027524563873871494, 0.02751877889306507, 1.3670795152725617, 0.5599296702219517, 0.40890607646283395, 0.38538722797476616, 0.38124133506828184, 0.3544898559182865, 0.34790754044579414, 0.2805423464973054, 0.28023221217489164, 0.026937070675832193, 0.02694243241780341, 0.026938640198093333, 0.02693216619986998, 0.02694845498515231, 0.027003809622407737, 0.02694106035073321, 0.0269278244170488, 0.026970029490177145, 0.02704210766308196, 0.02692680097994391, 0.026950518173666563, 0.02693473342587724, 0.02693163922992526, 0.026944964850357623, 0.02694306906055129, 0.026942611181148695, 0.026954117607088407, 0.02693970783176819, 0.026958726947623312, 0.02695888100210677, 0.02801797970355655, 0.026986031166524222, 0.02798907659034958, 0.02906323782521222, 0.03160867179833764, 0.02737542840819094, 0.027041216285013166, 0.0296153558112907, 0.02800550856184818, 0.027741421449347145, 0.028479909779900846, 0.027893316205955972, 0.02823430307606587, 0.027568961096075064, 0.028881503584225393, 0.02821078522912943, 0.027852802671150145, 0.0288105422904139, 0.02789110718976197, 0.027750868393376003, 0.027531323369607643, 0.02890721253721337, 0.029249768235517094, 0.02814461699206791, 0.02794782549089029, 0.028185786819305135, 0.028110503232010208, 0.028577233598183982, 0.028473673234298957, 0.028443345082760817, 0.02840694227888897, 0.028114694763810615, 0.028083348433434026, 1.6074412351503329, 1.4081701721475715, 0.027124040373807768, 0.027145873450119935, 0.027125319987252147, 0.027126889008435164, 0.027143310167180103, 0.02714378327152042, 0.027148341808511684, 0.027125734350329122, 0.027154947258392965, 0.027136386465376024, 0.027138032117805445, 0.027156779211022324, 0.027127105492443706, 0.027140642476504547, 0.02717051234269811, 0.02713667463738275, 0.027138443197061282, 0.027133326989667042, 0.027139350678017374, 0.027137103697341996, 0.02713425095366928, 0.027143737486992687, 0.02711860241864389, 0.027148424162181165, 0.027139118372060962, 0.027130458843763455, 0.027124475328542445, 0.02713385845457929, 0.027228681822855556, 0.028280570807129344, 0.027191515014086946, 0.02716669607668895, 0.027632091501361467, 0.02805490544399177, 0.02722071055651035, 0.02854647507161807, 0.02772605682091305, 0.027582425679798107, 0.027241884403281295, 0.027184101541851916, 0.027273604412775758, 0.02751811936096691, 0.027507018035422433, 0.027414537043499523, 0.027400775287819465, 0.027373405003201127, 0.027370445687874445, 0.027368763564218492, 0.02736815020748908, 0.0273606673639424, 0.027348145130094512, 0.02734537974816468, 0.027330514551645965, 0.02733002853231623, 0.02731761696216022, 0.027312771645944433, 0.027312664964201993, 0.027308924903266456, 0.027303282039097803, 0.02729294861668614, 0.027292350801858007, 0.027287478632775395, 0.027284273816087935, 1.151266148019806, 1.151168696130627, 0.32253351699479127, 0.026961510664871128, 0.026978408331030487, 0.026981995020188183, 0.0269812773826766, 0.026967704520098928, 0.02697787110631279, 0.02696104913764329, 0.02700077769403492, 0.026983871661735014, 0.026982698753252, 0.026963072351048813, 0.02696514480013225, 0.026961031279504517, 0.026964879206797004, 0.02698692890260628, 0.02699376236841252, 0.026957456858706864, 0.02696713072928103, 0.026983937307596396, 0.02696798761477548, 0.02696767625538402, 0.027110956808224968, 0.026995196921539254, 0.026964322181634085, 0.026977406856983355, 0.026975630591268188, 0.02696325648252015, 0.08443577836113898, 0.027071323999805604, 0.027705409654971414, 0.02709199530160269, 0.02796309103139224, 0.027737668389398507, 0.027100693491161256, 0.027710366116230473, 0.027287958643587736, 0.027543858037367152, 0.027568574465376916, 0.027318080682073222, 0.027761619553859262, 0.027393996968998535, 0.02723715290136097, 0.027233043554451882, 0.02738003550406352, 0.02749645883197219, 0.02730081370050167, 0.027203598728604443, 0.027387089560454863, 0.02717982114159647, 0.027189216235713753, 0.027301637579452507, 0.027158293988911654, 0.02730483230311526, 0.02747974603870318, 0.02742887665361807, 0.027395309117052846, 0.027373199067527002, 0.027369310932555353, 0.027360360154422322, 0.027358953538425393, 0.027339187236564963, 0.027335450837225855, 0.027320749333241513, 0.02731337962096079, 0.027313261513253126, 0.02730388301774674, 0.7790577428815363, 0.8051703470518932, 0.31388500696545196, 0.6061501424801136, 0.25269766216777756, 0.2603842447449771, 0.026850397555839404, 0.026859748415545257, 0.026835028322296534, 0.02683557459624369, 0.026840383999887238, 0.026861513323584836, 0.02684000002323854, 0.026850631200275407, 0.026879618956494024, 0.026842475894020376, 0.026866208218140408, 0.026851558047660724, 0.026849726032235288, 0.026847875590838937, 0.026838008992905605, 0.026845678332595994, 0.02684373300909397, 0.026844188345117023, 0.026839548190127408, 0.026881882441795714, 0.026843083470650005, 0.026833693371410623, 0.026836834304086937, 0.02685499736436129, 0.02685216969923705, 0.026925822881744152, 0.027101665180759408, 0.027162268549384878, 0.026939614645528714, 0.026934287063279487, 0.026879717081087613, 0.026862584974409236, 0.026862430437769508, 0.02720572463532337, 0.02711658134091387, 0.027086951789685065, 0.027073337246975592, 0.027072609136738958, 0.027064635917700832, 0.02705673246948031, 0.027056165277112416, 0.02705444272793915, 0.02705196002548798, 0.02705109337367225, 0.02705040017059157, 0.027037971679492623, 0.027034878510661782, 0.027030489835999285, 0.02702159488958384, 0.02701930640845638, 0.02701484009414221, 0.027011322452330837, 0.02700510332701691, 0.02700121952958079, 0.02699622982808767, 0.3268757511045336, 0.4100168222786516, 0.3188163858183126, 0.24769606215405943, 0.026672035609536533, 0.026656556392304284, 0.026674858066670408, 0.026659749583324347, 0.02665891204855893, 0.026766931603468477, 0.026672490142714052, 0.026682446311576707, 0.026671211266573135, 0.026668774256926583, 0.026746741441058264, 0.026670263177890383, 0.026647372267113483, 0.026677724610363794, 0.026720805621188087, 0.026639884512918946, 0.026651613640015174, 0.026869050814431965, 0.026661535988529644, 0.026665306528850886, 0.02666413599759203, 0.02664626414836217, 0.026656936956035104, 0.026666734799867073, 0.026671720007979103, 0.02665734081669439, 0.22467322815032892, 0.03368902103232711, 0.031523347214386425, 0.026845997675371835, 0.02678752274418469, 0.02762846595107722, 0.026718191272991392, 0.026802508307889526, 0.027569305154528836, 0.02672762507845735, 0.028419446687435, 0.027301125436010387, 0.02713296224361354, 0.0272103387777809, 0.02698005223129269, 0.02760958096950293, 0.02761684402918172, 0.027604177644730117, 0.027220745262360777, 0.027158897106752393, 0.0271527215810731, 0.027123523923585198, 0.027209721081449832, 0.02735491585217261, 0.027155895690244087, 0.02717358121055306, 0.027764447697815733, 0.02749606245815751, 0.027047278427878234, 0.026990401916970126, 0.027479527809108575, 0.027327297610361307, 0.02732145368087758, 0.027309086177264134, 0.02729766989777988, 0.02726084269848255, 0.02721360197416161, 0.027212908552212495, 0.02719506492103829, 0.027194007399057543, 0.4430848776868053, 0.4820450401102095, 0.02660497227154654, 0.026588594812879177, 0.026589706494569192, 0.026584876006496155, 0.026584046499735975, 0.0266032903925527, 0.026593373325081094, 0.026586621218693204, 0.026593760980501004, 0.026578581377358156, 0.026595583962057485, 0.026588935421189556, 0.026597895353054346, 0.026590424047961057, 0.026581066455383384, 0.0265873487133346, 0.026585279838671903, 0.0265738724608371, 0.026586311101506083, 0.026578600960050786, 0.026587179879367207, 0.026580592512221272, 0.026607056667079826, 0.02660970845001682, 0.0265916465185631, 0.02659372087313896, 0.02658384782133898, 0.026593850037358965, 0.306419560310947, 0.305020343804393, 0.02663147243674275, 0.02737450320886468, 0.026697321288687903, 0.026700431880837382, 0.02680702961244279, 0.026944143459407186, 0.027189167093773916, 0.026902539118086273, 0.026726870393904645, 0.026722569204213693, 0.026733636816559853, 0.026828544038300064, 0.02668534919664091, 0.026746551298117156, 0.026818105217033046, 0.026674744519375074, 0.02711135578227238, 0.02705395722796257, 0.02703511319625851, 0.027031963767013764, 0.027003706357511613, 0.026981600811158732, 0.02696993351084281, 0.02694944268179722, 0.026926155873691338, 0.02692487063773216, 0.026907016532609542, 0.026885516291606685, 0.026879015993898546, 0.026871669607730575, 0.02686730297045229, 0.026865372881449367, 0.026862482616871342, 0.02685386833854027, 0.026847655785946778, 0.02684710742409693, 0.026846506575387317, 0.02683189017932301, 0.6087154522923984, 0.37020357240811363, 0.3276056936941209, 0.02652979692757586, 0.026547481952087004, 0.02653414576813486, 0.026526042031843867, 0.026544068272187516, 0.026523344895924887, 0.026554707631372965, 0.02653932967988601, 0.026598080702562282, 0.026573583387952203, 0.026531176257474164, 0.02652940785574012, 0.02655261755446457, 0.02654553178567567, 0.026560016825068748, 0.026535218174169796, 0.026546267349559158, 0.026538330935186732, 0.026536489665874376, 0.02654889924665538, 0.02652418766243165, 0.026562209137359842, 0.026555919110837725, 0.026551303908611282, 0.026567024226574577, 0.02654645925856735, 0.026550359043411114, 0.026653822284547483, 0.026611744348326048, 0.02686164048042505, 0.026660140709798268, 0.027019151042529367, 0.026654338446809894, 0.0266132741023592, 0.026901554709907103, 0.026867002501462966, 0.02677714012482826, 0.02659754336899674, 0.026631444148051298, 0.027397038460382047, 0.02743122291735412, 0.027551749834861132, 0.027375082276188536, 0.02716787323862609, 0.027203225872075836, 0.02692252990599607, 0.026993636184713406, 0.02690477842587206, 0.026924961237420372, 0.026834100818596544, 0.026812530778015823, 0.02685552872717637, 0.02684120282518339, 0.026990365634013823, 0.026883213323227236, 0.02719360954799265, 0.026819824979309174, 0.026881520023824518, 0.02725848426594918, 0.02713828472103103, 0.027110595465636173, 0.02708742973340317, 0.02707056010444726, 0.02703972420735919, 0.027038149990206584, 0.027017475621182795, 0.027002531223942524, 0.026980532502285482, 0.026973278254022626, 0.026972901681578038, 0.026970767686276948, 0.026966121466766392, 0.026965468616684685, 0.026961346512291724, 0.02695702606346981, 0.3399383252201616, 0.30219982827214564, 0.026619868661003156, 0.026624655738230082, 0.026626593945419396, 0.02662499035176712, 0.026625809564033293, 0.026632666703226712, 0.02661810377348658, 0.026647123421957332, 0.026611156804568062, 0.026634831117249746, 0.02662497382169596, 0.02664341724847458, 0.026655890845884395, 0.026611680992663717, 0.026625046739391083, 0.026627887645623304, 0.026612993989153247, 0.026616722140492592, 0.02661985642717782, 0.026640797258171856, 0.026612328961399173, 0.026688619810898692, 0.026615413045877185, 0.026618724861759313, 0.02662879857104207, 0.026603149126840184, 0.026608863012028146, 0.026638637304951817, 0.02664616266081457, 0.026647059881867902, 0.0272027867438991, 0.02680905685192017, 0.0266915914337625, 0.026653737824794615, 0.02730034336872219, 0.02680601932414552, 0.026762091752045438, 0.026983084209378644, 0.02678363324490602, 0.026827647658057084, 0.026779232520529335, 0.026736191197873675, 0.026741860874051893, 0.026987281035349968, 0.026949754397771995, 0.02693365594211553, 0.02691156619408768, 0.026904576130194785, 0.026889249058146804, 0.026865606237064906, 0.026862397772835018, 0.026861377641557587, 0.026846304299952887, 0.026826208342370386, 0.026805603467327556, 0.026805342300642993, 0.02679912929342838, 0.02679646681818404, 0.02679564180515368, 0.026794849153892138, 0.026794523837103793, 0.026793922862389723, 0.02679225119238511, 0.026786906287324795, 0.026785502427573313, 0.02653409339653284, 0.026524690857459777, 0.026538282441059047, 0.02653967727684684, 0.026548623856325927, 0.026543452916760215, 0.026529058343870548, 0.026546968546015317, 0.02652452516113125, 0.02653372426132622, 0.02654121997974588, 0.02653918630876799, 0.026535884167871535, 0.026529327774743105, 0.026519289348283796, 0.026541639775037738, 0.02652182229252387, 0.026530080189114916, 0.026545706340024282, 0.026530502811948846, 0.026539982469953396, 0.02655798746399532, 0.026543849659956553, 0.026524100567811897, 0.026545750645078973, 0.026541095349884563, 0.02654602326262475, 0.02654786244790471, 0.026541789529933055, 0.026543141565989675, 0.026559946001632723, 0.026617300358045742, 0.026560346155505562, 0.026553414777516493, 0.026544660141026834, 0.026817155932593668, 0.026807429921761397, 0.026742959110846426, 0.026716802787765736, 0.02670742358997735, 0.026705038351289127, 0.02669256226328921, 0.026689138596959507, 0.026685114869711868, 0.026683577498568978, 0.026682087835883037, 0.02667830510444273, 0.026669336323058176, 0.026666668567941934, 0.026663162754288067, 0.026658760879178914, 0.026658200139940393, 0.026655080952067516, 0.026652596825818248, 0.026651500998218072, 0.026648435749769935, 0.026647999635770414, 0.026646148050752775, 0.026644854005716298, 0.026643833193976355, 0.026643718904099365, 0.026642615961029813, 0.02663914767809527, 0.026635867686141332, 0.026635648656733246, 0.026543673015216117, 0.02653684840618183, 0.026552075786612093, 0.02653733150249374, 0.026538789835005582, 0.02653408075215706, 0.026535734838568147, 0.02652162924475358, 0.026528873844386607, 0.026541481516375833, 0.026531842536266677, 0.02652731772072265, 0.02653685500193364, 0.02653847423472089, 0.026553443995584566, 0.02652715611060423, 0.026520149312823687, 0.026547261816560135, 0.026534617535170158, 0.026546051560675972, 0.026515988197307553, 0.026538032174138623, 0.026535341946469726, 0.026543853285436517, 0.02654015371339282, 0.026525552397229542, 0.02651840863562498, 0.026531681255341524, 0.026532440897161915, 0.026522182836954757, 0.02653629214447306, 0.026545807204715284, 0.026558986083465463, 0.02718065359761154, 0.026615817845529147, 0.02667715343695417, 0.026639290089345048, 0.026613387825384607, 0.02657366295109998, 0.026886718414593582, 0.02677943595535358, 0.026741952997219955, 0.02672541321188793, 0.026722141918520365, 0.026716964068123395, 0.026706669557468955, 0.0267060385965498, 0.026700893484325482, 0.026684178810772525, 0.026682909374544112, 0.026682248016042378, 0.026678528441441487, 0.02667049270846261, 0.02666684002949038, 0.0266666640722086, 0.02666658470912448, 0.02666446445193415, 0.026663188642037882, 0.026661543742010397, 0.026660531003785234, 0.026655009583091756, 0.026654617213346832, 0.02665436458817707, 0.0266465188544306, 0.026645707637560627, 0.026645684949998222, 0.026643197911457386, 0.026544881973605376, 0.026551682577049245, 0.026540655152586808, 0.026547226175928057, 0.026535507096145515, 0.026540853301713876, 0.02653251738358897, 0.026561025833276145, 0.02653418348853999, 0.026548884731304206, 0.02652646695771182, 0.026536697906714795, 0.026542418931626063, 0.026541173616840618, 0.026541828421265175, 0.026537033208909547, 0.026530739446025027, 0.026535067138816773, 0.026524673682911754, 0.026546725081956754, 0.026548425636538173, 0.026553391441450892, 0.02654526062552606, 0.026535441178689445, 0.02655916606515335, 0.02654788786050231, 0.026540062965503698, 0.02654359594615222, 0.026537025597836827, 0.026537363462880457, 0.026553856838811746, 0.02656613531450902, 0.026560927050503322, 0.026553472151019025, 0.02678448714496228, 0.026754991707040567, 0.026702615173833107, 0.026675274906666928, 0.02665846247235098, 0.026648838867940363, 0.026643865675391554, 0.026642059256745253, 0.026627614311154842, 0.02662655587590911, 0.02662606975494308, 0.026624925398746904, 0.026622772086211655, 0.02662233528784891, 0.026616659025019987, 0.026615351475035066, 0.02661422394106774, 0.026611700296653377, 0.026611144493011215, 0.02660943543328048, 0.02660678537056676, 0.026597964227440842, 0.026593679952465345, 0.026592829161557172, 0.02659227233208921, 0.026591184163849136, 0.026589769565496198, 0.02658935179253523, 0.02658865911889163, 0.0265847264872103, 0.026532116835734795, 0.026527728494783295, 0.026556581134169636, 0.02653494351559766, 0.026561435653572482, 0.026534151744608783, 0.026540465965877322, 0.026542738096820607, 0.02655190720331507, 0.026534303243139143, 0.0265476146252628, 0.026527812946888867, 0.026531267828920152, 0.026526042358532512, 0.026538062278013686, 0.02653882884436224, 0.026533493292358497, 0.026526907244320337, 0.026529845532883668, 0.02655146081542132, 0.026568622377273438, 0.026539602253917077, 0.026526917127801055, 0.026532202141401645, 0.026544152180372288, 0.026524173426669996, 0.02652857965248142, 0.026551861758442995, 0.02653274670793824, 0.02653017450017311, 0.026557912801184844, 0.026541604849221884, 0.026555287499443286, 0.02654603214896096, 0.026609354394495317, 0.026672845998871823, 0.026661045338711987, 0.02656388681522, 0.026553505853996608, 0.026717852391324494, 0.026700061347646777, 0.026661473711303202, 0.02666009809320583, 0.0266576204392926, 0.02665563134129281, 0.026652911149615818, 0.02664498011841815, 0.02663395559873333, 0.026630388301402005, 0.026630330264471605, 0.026630106320984472, 0.026628803288462826, 0.026627581487566894, 0.02662687187301188, 0.026626862296599593, 0.026626457854358992, 0.026624708743612613, 0.02662038835274404, 0.026616884675602994, 0.02661572879232991, 0.026614868843030763, 0.026614388485963127, 0.026612052129358865, 0.026611217527521252, 0.026609266570296636, 0.026607907339704216, 0.02652489419972932, 0.026507026171367794, 0.026540855202189097, 0.02653291605646809, 0.026538826649423843, 0.026527055850506485, 0.026527478995630013, 0.026512530440486907, 0.02651834664314179, 0.026520247213115983, 0.026516075650616745, 0.026527854122004778, 0.026546282951916054, 0.026524930363505946, 0.026540117484479497, 0.026519032788936723, 0.02652802006610279, 0.026528943537059983, 0.026518799021000093, 0.026526883361289298, 0.026537864059975578, 0.026522705575274252, 0.026507607266666188, 0.026529158005870006, 0.02652674678323245, 0.026532054546564553, 0.026519928620808916, 0.026528623302165183, 0.026543655119587242, 0.02651245382694984, 0.02653069914613595, 0.026658140023449142, 0.027115451574935077, 0.026561006746540942, 0.026609630695431978, 0.027126824773978785, 0.026703157606768547, 0.02683441421465696, 0.026772683909280306, 0.026643325967716885, 0.026757099466904247, 0.026663433325839106, 0.026617935522531527, 0.026808732120252914, 0.027029456242804107, 0.026956659127940815, 0.026889463984050836, 0.026865915799201532, 0.026857446488173956, 0.026855111820335644, 0.026821024612628763, 0.026805194209895522, 0.0268009560626394, 0.026791296985958824, 0.02678734330167557, 0.026784359464461616, 0.02678375270709744, 0.02676140035166529, 0.026760194273029166, 0.026748817572400763, 0.026741013462125512, 0.02673029598105347, 0.02672815109473746, 0.026724577196159376, 0.026722436968802284, 0.026717955943475334, 0.02671758473784596, 0.02671673540880719, 0.026540590769179633, 0.02653461866894685, 0.026521773070114343, 0.02653571238038398, 0.02652034860823586, 0.026527779361559048, 0.02652588124707737, 0.026546120144279005, 0.02654675394272344, 0.026547954703069948, 0.026535274925926524, 0.026534417809754077, 0.02653915178020579, 0.026531196494021334, 0.02651672966884427, 0.02653810362422104, 0.02652187280185287, 0.026543207287162484, 0.026541263614488202, 0.02653140250254402, 0.02653928225392237, 0.026534311365129855, 0.026534112680631626, 0.02654832546117528, 0.02661138016626916, 0.02653101064196727, 0.0265359229629896, 0.026523431971615653, 0.026548619317410895, 0.02652370326751961, 0.02655972203273309, 0.0266073195610393, 0.026740251427830306, 0.02682351439653769, 0.026748423640337606, 0.026702543155418958, 0.02661172268942382, 0.026708805755273898, 0.02654605330235352, 0.026866616884116176, 0.026846040258609507, 0.026834711872416976, 0.026808535443684195, 0.02679917122985754, 0.026785369412727595, 0.02675568161665737, 0.02674746777551117, 0.0267437395771989, 0.02674201830905712, 0.02673649379593351, 0.026714028899220893, 0.0267140056872354, 0.02671275844815082, 0.026711765149063392, 0.026710831124057945, 0.026703918760080114, 0.026703365472019798, 0.026703204071896653, 0.02670307815236652, 0.02670273103344937, 0.026697869012857447, 0.026690395470917904, 0.026686866466368413, 0.02668134765376423, 0.026539748755582904, 0.0265457305768924, 0.026524313158094566, 0.02654478622150356, 0.026523336009317472, 0.02657328313641273, 0.026525221713820036, 0.026536420273129, 0.026525399232843274, 0.02653127090276332, 0.02656214105300657, 0.02654574102778682, 0.02654818957023684, 0.026531193903380608, 0.026559167350937617, 0.026523174644923653, 0.02652952183681762, 0.026557643592163224, 0.026531517147953897, 0.02654237664586163, 0.02653239329088885, 0.026545426828142704, 0.026535596621326818, 0.026531221965558925, 0.02654339028170936, 0.026529877006980136, 0.026530431397378894, 0.02652829005680333, 0.02653246113161956, 0.026528441351837562, 0.026547682068840388, 0.026549492307883983, 0.026539129089952925, 0.026571586001156593, 0.026554181518536456, 0.02655765163230326, 0.02684940188635294, 0.027024594403975262, 0.026761082415263118, 0.026725213749331768, 0.026714312717991233, 0.026710407313080275, 0.026704845703042643, 0.02669822310525636, 0.026666546784124355, 0.02666590259452709, 0.026663627686127886, 0.026662169594391088, 0.02666106242081339, 0.026658019202962898, 0.026656493344937613, 0.026655427997652182, 0.026652700769430663, 0.02665265977017766, 0.02665001560212353, 0.026647190169668857, 0.026645834358519402, 0.026641746965041423, 0.026640874616045307, 0.0266382763103145, 0.026636513379749774, 0.02663596530508781, 0.026634023574191975, 0.026631672874640997, 0.02662704017968482, 0.026626890068821095, 0.026541214376583116, 0.026529034957344173, 0.026518282921463313, 0.026530467222191698, 0.02655633549546608, 0.026536025088097718, 0.02653577570429137, 0.026530971218116234, 0.02652567195921729, 0.026551600182142192, 0.026535283868837793, 0.0265318739633877, 0.026550684523907048, 0.026535183468543277, 0.026542526390350443, 0.026541809760852634, 0.0265263373333011, 0.02654352717940512, 0.02654404116014596, 0.026541471391967622, 0.026533190922539255, 0.026545770623375858, 0.026520774377275687, 0.02653299418971001, 0.02655978391525608, 0.026537946242070214, 0.026532843727248845, 0.026550722863649862, 0.02655680408349937, 0.026541317536472073, 0.02654678497205129, 0.026687895716161734, 0.026584225365477755, 0.0265710211395176, 0.026605556103105724, 0.026560700632385723, 0.026553905756049413, 0.02693665297404982, 0.026818990050814763, 0.026790711280950594, 0.02668124868388189, 0.026674310375200856, 0.026670485178232988, 0.02666691049163122, 0.02666585374898118, 0.02666533035104072, 0.02666074331288565, 0.026656895624908177, 0.02665276830101007, 0.02664693147075485, 0.026646363433820645, 0.026644119037738466, 0.026643039247744593, 0.026642363454282295, 0.02663710466929297, 0.026636800581741962, 0.026636569079504898, 0.02663597352690619, 0.02663502615309696, 0.026631503659482712, 0.026631392456442294, 0.026628888869840363, 0.02662832918807918, 0.026625716044350375, 0.02662540416081747, 0.026622833883980377], \"Total\": [21.0, 14.0, 11.0, 10.0, 10.0, 10.0, 10.0, 10.0, 9.0, 9.0, 9.0, 9.0, 9.0, 9.0, 22.0, 16.0, 14.0, 30.0, 31.0, 31.0, 27.0, 26.0, 31.0, 30.0, 24.0, 6.0, 20.0, 6.0, 13.0, 18.0, 31.961300161770847, 31.0189423223778, 27.6743986676471, 31.49120847348889, 26.04664434030977, 30.358036099667256, 24.11656214935987, 30.146220097555084, 18.857614834713125, 18.52985320307479, 17.555517559886734, 22.56949102139849, 19.919625834277365, 15.61052478643088, 15.499942765807848, 15.426552079353044, 15.265625502659638, 14.907979495495363, 14.876699930797368, 14.722383760299294, 14.573461937278047, 14.100369259445996, 13.851523361627732, 13.663430159619487, 13.638986195954686, 13.517541724081248, 13.458931690181762, 13.369630782981229, 13.347329554674875, 20.07755782630805, 16.58539885318418, 14.097867263551446, 14.524602372654154, 21.617835018254727, 10.216848702088283, 10.193794473544399, 9.950599971774617, 9.932929722673972, 9.930442196948952, 9.930437483583352, 9.920348597168305, 9.920023395264447, 10.284671117275032, 10.36602017981481, 10.51393120175601, 11.334036451433425, 2.833469825197834, 3.975231274174756, 21.617835018254727, 2.4824384320012114, 1.6296489668594036, 3.1548770300601925, 1.939499780507994, 2.1062071275020493, 2.121121984805371, 3.3828937470031817, 2.397628000896994, 4.228384933212448, 1.8259421248998309, 3.1766592909192912, 6.724867234106582, 1.5850839912852153, 1.6024190582194866, 7.708378446490974, 6.651773335439825, 5.7367088121141325, 9.187872576956176, 7.002693511377409, 13.886100984930687, 8.773956964004146, 1.9237201091936804, 2.833469825197834, 2.86738409543337, 1.8811599925932567, 2.6951514452701573, 6.332727873406218, 3.030654575563206, 3.3137532938058127, 3.1527740305005367, 3.3696987212359373, 4.764126539172332, 4.846929558659728, 4.5730229177105075, 5.323071500116123, 5.804152652719194, 0.8798393138617224, 0.8975647078959249, 0.9012128900121005, 0.9201684448621783, 0.9355255617067997, 0.9400652327356174, 0.9537648816256757, 0.9556728417881346, 0.9925529245617736, 1.0013528483750596, 1.0046788689129296, 1.00664526458214, 1.0085560704582823, 1.0100865563001507, 1.020370432492977, 9.374894264478533, 2.6376822918020517, 1.9107970090338728, 9.431409933443478, 2.203599744716622, 1.9610610161241817, 1.759380658078274, 2.722525040950054, 1.2415161484277082, 10.28744548818093, 2.7272906329728235, 6.1351037075675094, 2.0635486248088366, 2.55954302767757, 2.0192920802303402, 3.293416015172815, 13.005196521312818, 5.270415050716264, 6.847338675368061, 8.773956964004146, 5.7367088121141325, 3.1397254769345824, 3.5755026121330724, 3.0065550364377684, 2.245931094571871, 14.421491531960303, 4.346464229150096, 0.8798393138617224, 0.8975647078959249, 0.9012128900121005, 0.9201684448621783, 0.9355255617067997, 0.9400652327356174, 0.9537648816256757, 0.9556728417881346, 0.9925529245617736, 1.0013528483750596, 1.0046788689129296, 1.00664526458214, 1.0085560704582823, 1.0100865563001507, 1.020370432492977, 1.02095384820461, 1.0213992841100474, 1.046408201027009, 1.0472134581023296, 1.050559219654217, 1.0518706827061888, 1.0599891615110693, 1.0615809402897893, 1.066054418500949, 1.1073839355638793, 1.0727906023486282, 2.9252909625635852, 2.5185805086752735, 2.4554604756409284, 1.5953766761440857, 1.2170399198355966, 1.7901442167368207, 1.7936889593528065, 2.1008442649557337, 8.58374148418308, 4.140920881894223, 30.358036099667256, 3.4486078482687113, 3.1178972232898037, 5.123137915788293, 31.961300161770847, 14.524602372654154, 5.058436340947421, 3.3918747313177473, 4.249463620304919, 3.3919744883774823, 13.015916019743136, 9.089844251789911, 9.437845176724935, 3.5098919171653287, 2.7244323493425546, 9.945813039935109, 2.1153932890833738, 2.1522806574235163, 2.1219536188652337, 2.0044760806139896, 1.7893948571954066, 1.941037110934505, 2.1189862777442516, 2.060032645563028, 3.4127720218018376, 5.331176405737293, 5.450248034260439, 0.8798393138617224, 0.8975647078959249, 0.9012128900121005, 0.9201684448621783, 0.9355255617067997, 0.9400652327356174, 0.9537648816256757, 0.9556728417881346, 0.9925529245617736, 1.0013528483750596, 1.0046788689129296, 1.00664526458214, 1.0085560704582823, 1.0100865563001507, 1.020370432492977, 1.02095384820461, 1.0213992841100474, 1.046408201027009, 1.0472134581023296, 1.050559219654217, 1.0518706827061888, 1.434410043178256, 1.0615809402897893, 1.5875328100287882, 2.693160373141898, 13.005196521312818, 1.3495383790848614, 1.0946214946515918, 7.907542545601263, 2.2615694369151313, 1.8855762540300698, 3.7317871956559943, 2.273221845230295, 3.1069771755267688, 1.7133904346939235, 6.900857564994574, 3.2491209387220477, 2.258440053468276, 7.249736005835736, 2.498046300948373, 2.2836221138312087, 1.7606965013187474, 11.521332697975463, 24.11656214935987, 4.629393748405345, 3.2830296552360583, 6.73606164987185, 5.681904694479585, 31.961300161770847, 30.146220097555084, 31.49120847348889, 30.358036099667256, 6.263398402706303, 6.589996705240677, 2.3712604815636387, 2.2040379725532713, 0.8798393138617224, 0.8975647078959249, 0.9012128900121005, 0.9201684448621783, 0.9355255617067997, 0.9400652327356174, 0.9537648816256757, 0.9556728417881346, 0.9925529245617736, 1.0013528483750596, 1.0046788689129296, 1.00664526458214, 1.0085560704582823, 1.0100865563001507, 1.0213992841100474, 1.020370432492977, 1.02095384820461, 1.046408201027009, 1.0472134581023296, 1.050559219654217, 1.0518706827061888, 1.0599891615110693, 1.0615809402897893, 1.066054418500949, 1.0727906023486282, 1.072481480080264, 1.0725367515866355, 1.0881287514339961, 1.097875066360788, 3.1395615366035123, 1.1458677050975525, 1.1191920136857518, 2.1275911859681518, 5.371572899718014, 1.2328656468052703, 14.100369259445996, 4.7539279815738515, 3.940237609148667, 1.3096883728823046, 1.1533715730963543, 1.6577194515219378, 5.101742091091901, 5.668788966763015, 9.331872219089853, 3.12408799049534, 4.453704667489444, 9.001351659508577, 2.4984009621153374, 3.4915409778437843, 5.705191154343875, 2.8365314811217157, 3.408634848508681, 13.851523361627732, 8.778145584390105, 3.441655866810493, 11.179023946745806, 2.7613792729943816, 4.090344221187536, 24.11656214935987, 11.067823311596145, 20.07755782630805, 30.146220097555084, 3.5255839637305217, 3.3918747313177473, 3.3919744883774823, 4.130491338123412, 0.8798393138617224, 0.8975647078959249, 0.9012128900121005, 0.9201684448621783, 0.9355255617067997, 0.9400652327356174, 0.9537648816256757, 0.9556728417881346, 0.9925529245617736, 1.0013528483750596, 1.0046788689129296, 1.00664526458214, 1.0085560704582823, 1.0100865563001507, 1.020370432492977, 1.0213992841100474, 1.02095384820461, 1.046408201027009, 1.0472134581023296, 1.050559219654217, 1.0518706827061888, 1.0599891615110693, 1.0615809402897893, 1.066054418500949, 1.0725367515866355, 1.0727906023486282, 1.072481480080264, 14.421491531960303, 1.124869646542171, 1.7123102952837619, 1.1707517624520847, 2.869590083337551, 2.4900552603302843, 1.1996001941276255, 3.8276625742028734, 1.8387132486181734, 3.7872945189618297, 5.043263150366779, 2.068851172967674, 10.497534580150788, 3.399584766940191, 1.9371498003670353, 1.9124680773199707, 3.408965947929797, 5.242878132760661, 2.633969533232852, 1.8463960250541522, 3.6583094862012504, 1.7296715809390228, 1.8040211877378196, 2.729216111183032, 1.6237335638033386, 2.7812511430317968, 8.58374148418308, 26.04664434030977, 30.146220097555084, 8.107116505201057, 5.429562848811248, 31.49120847348889, 12.722349195029372, 6.8960712249022045, 10.937258661199538, 3.8668383542912648, 19.919625834277365, 4.1941816023348615, 6.298539969947776, 2.8289745898812564, 2.9946246581562534, 1.294942350180245, 6.428149786284672, 3.9861990460275027, 4.2034471041247, 0.8798393138617224, 0.8975647078959249, 0.9012128900121005, 0.9201684448621783, 0.9355255617067997, 0.9400652327356174, 0.9537648816256757, 0.9556728417881346, 0.9925529245617736, 1.0013528483750596, 1.0046788689129296, 1.00664526458214, 1.0085560704582823, 1.0100865563001507, 1.020370432492977, 1.02095384820461, 1.0213992841100474, 1.046408201027009, 1.0472134581023296, 1.050559219654217, 1.0518706827061888, 1.0599891615110693, 1.0615809402897893, 1.066054418500949, 1.0727906023486282, 1.1619025842921906, 2.3611093837457857, 3.141934829398738, 1.3823537225596088, 1.3712671074852871, 1.1533715730963543, 1.095133563028484, 1.0946214946515918, 10.233140585208105, 31.0189423223778, 3.162608575960243, 3.2169037628782142, 31.961300161770847, 4.1132684167795635, 20.07755782630805, 4.4570522050405, 3.0621396758912676, 7.293022146745058, 4.953515040081065, 3.219618656109885, 2.1895080688669957, 2.1221776956470704, 3.379902915613029, 3.532992495255064, 13.886100984930687, 5.883269925531608, 11.311450798966014, 2.1389384507381126, 5.259601993601688, 5.604187683419847, 1.9946885454399716, 3.1222494768848668, 2.534988965591608, 6.109646090739199, 0.8798393138617224, 0.8975647078959249, 0.9012128900121005, 0.9201684448621783, 0.9355255617067997, 0.9400652327356174, 0.9537648816256757, 0.9556728417881346, 0.9925529245617736, 1.0013528483750596, 1.0046788689129296, 1.00664526458214, 1.0085560704582823, 1.0100865563001507, 1.02095384820461, 1.020370432492977, 1.0213992841100474, 1.0518706827061888, 1.046408201027009, 1.0472134581023296, 1.050559219654217, 1.0599891615110693, 1.0615809402897893, 1.066054418500949, 1.0727906023486282, 1.0725367515866355, 22.56949102139849, 4.011091396380342, 3.886584491875157, 1.1529658784317554, 1.1235540041592251, 1.903115157334979, 1.0916628156564179, 1.1640598574846213, 2.690485368817665, 1.1114006933265885, 10.497534580150788, 2.700766679459945, 2.2271853718596186, 2.629080914629535, 1.7323252952741994, 5.752591501718684, 7.066002948313826, 7.044921657484321, 2.895579531206483, 2.5516215330372365, 2.590274716272137, 2.4201195629237517, 3.379902915613029, 6.105552967188811, 2.9801335197748866, 3.2766597273495948, 30.358036099667256, 11.635113869570656, 2.2528966626103553, 1.8688952801869445, 31.49120847348889, 14.573461937278047, 13.458931690181762, 30.146220097555084, 8.570137645034839, 6.435103421522581, 13.851523361627732, 31.961300161770847, 7.71126413953114, 11.378835803090933, 1.5623801630024408, 3.45883314437388, 0.8798393138617224, 0.8975647078959249, 0.9012128900121005, 0.9201684448621783, 0.9355255617067997, 0.9400652327356174, 0.9537648816256757, 0.9556728417881346, 0.9925529245617736, 1.0013528483750596, 1.0046788689129296, 1.00664526458214, 1.0085560704582823, 1.0100865563001507, 1.020370432492977, 1.02095384820461, 1.0213992841100474, 1.046408201027009, 1.0472134581023296, 1.050559219654217, 1.0518706827061888, 1.0599891615110693, 1.0615809402897893, 1.066054418500949, 1.0725367515866355, 1.0727906023486282, 1.072481480080264, 1.0881287514339961, 14.524602372654154, 16.58539885318418, 1.097875066360788, 2.032258118902672, 1.233514679283379, 1.282778614713337, 1.5932024853361086, 2.439854618882957, 6.992002712342848, 2.438174350034681, 1.4053571699496872, 1.392891653819338, 1.4830465984510905, 2.153724013258956, 1.2887010133255739, 1.6888459273615344, 2.2681207328995616, 1.347326246365457, 20.07755782630805, 5.60986359126103, 13.369630782981229, 6.787817708024853, 8.445239020311071, 31.961300161770847, 5.396029334217853, 9.945813039935109, 10.332376318646928, 10.237721068032132, 11.697106280716634, 3.561395940800759, 30.358036099667256, 5.705191154343875, 7.293022146745058, 6.009199078373276, 27.6743986676471, 4.249463620304919, 9.166737810800932, 3.235242748309529, 10.805224833921312, 12.070201630992578, 3.26362591420599, 2.553572754923598, 3.2418576690745313, 0.8798393138617224, 0.8975647078959249, 0.9012128900121005, 0.9201684448621783, 0.9355255617067997, 0.9400652327356174, 0.9537648816256757, 0.9556728417881346, 0.9925529245617736, 1.0013528483750596, 1.0046788689129296, 1.00664526458214, 1.0085560704582823, 1.0100865563001507, 1.02095384820461, 1.020370432492977, 1.0213992841100474, 1.046408201027009, 1.0472134581023296, 1.050559219654217, 1.0518706827061888, 1.0599891615110693, 1.0615809402897893, 1.066054418500949, 1.0725367515866355, 1.072481480080264, 1.0727906023486282, 1.0916628156564179, 1.0881287514339961, 1.2662411966333509, 1.1402199584210062, 1.5764578245106426, 1.151025247117656, 1.124869646542171, 1.6757712473871063, 1.6773951758508565, 1.4326276051262454, 1.1195852450766588, 1.1943237714879504, 5.119055264892483, 6.504271840822526, 10.273518607596866, 5.539734154266861, 4.977978985887145, 6.050970394833816, 2.1942068715616485, 2.9145066166537807, 2.1878936021052637, 2.439643442029866, 1.7678069132484049, 1.762897895552241, 2.1237718879194465, 2.0273471439708506, 3.662453984417471, 2.5554009306934686, 8.149985074907717, 2.119769724598689, 2.6757734775719832, 31.0189423223778, 10.60639876987085, 13.458931690181762, 12.722349195029372, 22.56949102139849, 9.086667331425742, 9.772262600845172, 5.6818260967521805, 9.113573896589822, 8.107116505201057, 8.055440797588457, 15.499942765807848, 6.407187332079839, 5.683934541732164, 13.886100984930687, 26.04664434030977, 7.24095047140633, 2.0663262704567655, 3.321596456263331, 0.8798393138617224, 0.8975647078959249, 0.9012128900121005, 0.9201684448621783, 0.9355255617067997, 0.9400652327356174, 0.9537648816256757, 0.9556728417881346, 0.9925529245617736, 1.0013528483750596, 1.0046788689129296, 1.00664526458214, 1.0100865563001507, 1.0085560704582823, 1.020370432492977, 1.0213992841100474, 1.02095384820461, 1.046408201027009, 1.0472134581023296, 1.050559219654217, 1.0518706827061888, 1.0599891615110693, 1.0615809402897893, 1.066054418500949, 1.072481480080264, 1.0725367515866355, 1.0727906023486282, 1.0881287514339961, 1.0916628156564179, 1.095133563028484, 2.8830229443610946, 1.4587181591837122, 1.1717169661776552, 1.1215685666565411, 5.374771772073692, 1.557969923387019, 1.4449710358750811, 3.3334969743444804, 1.7250523407506777, 2.054443605759621, 1.7533357177483413, 1.5001082975217976, 1.5619376134491616, 18.857614834713125, 8.778145584390105, 6.92438694422376, 2.94465029834871, 13.369630782981229, 5.165092101045664, 2.9645265296993535, 3.420484357561391, 31.49120847348889, 2.9205985954837503, 31.0189423223778, 6.8626043183223375, 3.1580828029093597, 5.331176405737293, 9.113573896589822, 2.1837188066837587, 21.617835018254727, 2.9984832564862725, 26.04664434030977, 6.26611593352464, 4.659173831177458, 2.736538068830485, 0.8798393138617224, 0.8975647078959249, 0.9012128900121005, 0.9201684448621783, 0.9355255617067997, 0.9400652327356174, 0.9537648816256757, 0.9556728417881346, 0.9925529245617736, 1.0013528483750596, 1.0046788689129296, 1.00664526458214, 1.0085560704582823, 1.0100865563001507, 1.020370432492977, 1.0213992841100474, 1.02095384820461, 1.046408201027009, 1.0472134581023296, 1.050559219654217, 1.0518706827061888, 1.0599891615110693, 1.0615809402897893, 1.066054418500949, 1.0725367515866355, 1.072481480080264, 1.0727906023486282, 1.0881287514339961, 1.0913744703352293, 1.0916628156564179, 1.095133563028484, 1.4102664712975648, 1.1648732504569983, 1.1402199584210062, 1.103931435200722, 8.161255552162329, 5.728047139349906, 2.882258847960962, 5.683934541732164, 3.4803933258982016, 2.2056947996914418, 2.5131926479101154, 31.49120847348889, 5.310584413787149, 6.782453635341103, 4.326580680016591, 2.6330919422194015, 2.4054543637002355, 2.034960531508139, 4.700732527948136, 7.907542545601263, 2.1237718879194465, 2.9779245985957994, 1.8647906192138743, 3.893021619560021, 1.7578825405054452, 9.568615568610166, 3.1178972232898037, 4.777970789642314, 1.941626905812232, 14.421491531960303, 10.515276557746136, 4.09676022517944, 1.6536861772078506, 11.879396279587672, 0.8798393138617224, 0.8975647078959249, 0.9012128900121005, 0.9201684448621783, 0.9355255617067997, 0.9400652327356174, 0.9537648816256757, 0.9556728417881346, 0.9925529245617736, 1.0013528483750596, 1.0046788689129296, 1.00664526458214, 1.0085560704582823, 1.0100865563001507, 1.020370432492977, 1.02095384820461, 1.0213992841100474, 1.046408201027009, 1.0472134581023296, 1.050559219654217, 1.0518706827061888, 1.0599891615110693, 1.0615809402897893, 1.066054418500949, 1.072481480080264, 1.0725367515866355, 1.0727906023486282, 1.0881287514339961, 1.0913744703352293, 1.0916628156564179, 1.0946214946515918, 1.097875066360788, 1.106264512701434, 3.0050947220642015, 1.2841286903966596, 1.6878347711618176, 1.493098010254267, 1.3762078747666209, 1.2112393386705316, 3.975231274174756, 10.382422001031918, 4.09676022517944, 13.005196521312818, 3.653314431260019, 4.603780625712386, 18.857614834713125, 5.459982111573841, 5.604187683419847, 9.839076383146656, 31.961300161770847, 8.191134609944056, 5.165092101045664, 27.6743986676471, 26.04664434030977, 5.450809981075001, 3.743496562316356, 11.00096269782995, 31.0189423223778, 7.957405708080233, 2.5663734546251553, 4.380749314594354, 3.104726422415076, 1.7914731626664506, 9.920023395264447, 11.026563946683765, 8.008045435850557, 4.2034471041247, 0.8798393138617224, 0.8975647078959249, 0.9012128900121005, 0.9201684448621783, 0.9355255617067997, 0.9400652327356174, 0.9537648816256757, 0.9556728417881346, 0.9925529245617736, 1.0013528483750596, 1.0046788689129296, 1.00664526458214, 1.0085560704582823, 1.0100865563001507, 1.020370432492977, 1.02095384820461, 1.0213992841100474, 1.046408201027009, 1.0472134581023296, 1.050559219654217, 1.0518706827061888, 1.0599891615110693, 1.0615809402897893, 1.066054418500949, 1.0727906023486282, 1.072481480080264, 1.0725367515866355, 1.0881287514339961, 1.0913744703352293, 1.0916628156564179, 1.103931435200722, 1.124869646542171, 1.1182967461860658, 1.1114006933265885, 5.442767671381586, 7.708586602588927, 3.0747995669537143, 5.165092101045664, 3.9330168811429056, 3.2556524241967835, 1.677851126675566, 1.8511736176903821, 11.590585009174356, 1.9298373163819784, 3.419197600276995, 4.709496523491868, 2.745441412592564, 8.778145584390105, 9.086667331425742, 2.247443400329951, 6.8626043183223375, 10.273518607596866, 7.5906812957617635, 12.722349195029372, 7.967124518525792, 13.015916019743136, 6.582352075682224, 13.03397000763422, 6.404944329948357, 1.8714407248180234, 7.957405708080233, 5.114345506885844, 2.4276311389897294, 4.195178178825663, 0.8798393138617224, 0.8975647078959249, 0.9012128900121005, 0.9201684448621783, 0.9355255617067997, 0.9400652327356174, 0.9537648816256757, 0.9556728417881346, 0.9925529245617736, 1.0013528483750596, 1.0046788689129296, 1.00664526458214, 1.0085560704582823, 1.0100865563001507, 1.020370432492977, 1.02095384820461, 1.0213992841100474, 1.046408201027009, 1.0472134581023296, 1.050559219654217, 1.0518706827061888, 1.0599891615110693, 1.0615809402897893, 1.066054418500949, 1.0725367515866355, 1.072481480080264, 1.0727906023486282, 1.0881287514339961, 1.0913744703352293, 1.0916628156564179, 1.095133563028484, 1.0946214946515918, 1.103931435200722, 1.097875066360788, 1.1938727947103003, 1.4041222590525508, 1.4636516858808954, 1.1458677050975525, 1.1191920136857518, 4.709496523491868, 3.1501178445533435, 2.197154295115809, 6.954435552982757, 1.7307904729987305, 2.4875691182501916, 2.9890095483412384, 6.170562031775082, 2.2680663168904434, 3.2096711093436157, 1.9304468399025303, 6.8960712249022045, 2.294421868493684, 3.235242748309529, 8.778145584390105, 8.691060216319281, 1.986852146998136, 5.494631785438222, 2.9205985954837503, 4.1855807891840495, 4.536997935638157, 3.1569761841671475, 2.87058784144061, 5.804152652719194, 3.9129753672123635, 2.3726725068508414, 1.7048210749630028, 0.8798393138617224, 0.8975647078959249, 0.9012128900121005, 0.9201684448621783, 0.9355255617067997, 0.9400652327356174, 0.9537648816256757, 0.9556728417881346, 0.9925529245617736, 1.0013528483750596, 1.0046788689129296, 1.00664526458214, 1.0085560704582823, 1.0100865563001507, 1.02095384820461, 1.020370432492977, 1.0213992841100474, 1.046408201027009, 1.0472134581023296, 1.050559219654217, 1.0518706827061888, 1.0599891615110693, 1.0615809402897893, 1.066054418500949, 1.0725367515866355, 1.0727906023486282, 1.072481480080264, 1.0881287514339961, 1.0916628156564179, 1.0913744703352293, 1.0946214946515918, 1.2118452956607448, 3.199993109501257, 1.151025247117656, 1.2630662142535471, 3.5275299660649093, 1.5314335205871519, 2.5071727081984556, 2.142551738665146, 1.4238875424441846, 2.2146299294974545, 1.589909652121599, 1.3553541909814153, 2.833469825197834, 12.876663582636457, 5.949197945721223, 9.437845176724935, 13.638986195954686, 11.311450798966014, 31.961300161770847, 4.099672213783601, 5.69653237352287, 5.323071500116123, 3.235242748309529, 4.630412224093282, 13.347329554674875, 3.117433337392815, 5.183359630602255, 4.659173831177458, 14.524602372654154, 3.1069771755267688, 3.0475381580821663, 3.3495795197559364, 5.558475728393396, 11.590585009174356, 31.49120847348889, 3.218098586010155, 7.002463716809649, 0.8798393138617224, 0.8975647078959249, 0.9012128900121005, 0.9201684448621783, 0.9355255617067997, 0.9400652327356174, 0.9537648816256757, 0.9556728417881346, 0.9925529245617736, 1.0013528483750596, 1.0046788689129296, 1.00664526458214, 1.0085560704582823, 1.0100865563001507, 1.020370432492977, 1.0213992841100474, 1.02095384820461, 1.046408201027009, 1.0472134581023296, 1.050559219654217, 1.0518706827061888, 1.0599891615110693, 1.0615809402897893, 1.066054418500949, 1.0725367515866355, 1.072481480080264, 1.0727906023486282, 1.0881287514339961, 1.0916628156564179, 1.0913744703352293, 1.097875066360788, 1.1073839355638793, 1.440364306483392, 2.3917955656180685, 1.9292353274871636, 1.8169217311111783, 1.3775115235130906, 2.0141338638138175, 1.106264512701434, 11.00096269782995, 7.943284893011038, 3.8234557191706147, 4.295634079728122, 6.566185676535187, 5.802661649367494, 14.573461937278047, 5.834440959686672, 2.5864983500628616, 30.358036099667256, 6.8960712249022045, 8.161255552162329, 2.4384966973188256, 3.4439911033328197, 5.236501763404288, 14.876699930797368, 6.954435552982757, 2.765289555682385, 4.175524861301679, 3.1786551590365915, 6.404944329948357, 6.787565084546822, 31.961300161770847, 20.07755782630805, 21.617835018254727, 0.8798393138617224, 0.8975647078959249, 0.9012128900121005, 0.9201684448621783, 0.9355255617067997, 0.9400652327356174, 0.9537648816256757, 0.9556728417881346, 0.9925529245617736, 1.0013528483750596, 1.0046788689129296, 1.00664526458214, 1.0085560704582823, 1.0100865563001507, 1.02095384820461, 1.020370432492977, 1.0213992841100474, 1.046408201027009, 1.0472134581023296, 1.050559219654217, 1.0518706827061888, 1.0599891615110693, 1.0615809402897893, 1.066054418500949, 1.0725367515866355, 1.072481480080264, 1.0727906023486282, 1.0881287514339961, 1.0913744703352293, 1.0916628156564179, 1.0969203443328228, 1.097875066360788, 1.0946214946515918, 1.124869646542171, 1.1073839355638793, 1.1191920136857518, 2.29450077251702, 6.407187332079839, 9.772262600845172, 2.476402496449318, 5.494631785438222, 2.1562142164306066, 2.18781392890957, 27.6743986676471, 3.6131664081878583, 4.197241699366106, 4.890947220559657, 4.106314824644767, 4.605474969197406, 5.0042038352488865, 10.014467446662506, 6.954435552982757, 11.067823311596145, 5.323071500116123, 22.56949102139849, 14.524602372654154, 1.879286031094719, 4.5730229177105075, 31.961300161770847, 2.3063846737129747, 1.9745160809477489, 10.149856739489195, 2.9296626156141716, 2.428764478477959, 3.0584138945139885, 4.834807990075293, 0.8798393138617224, 0.8975647078959249, 0.9012128900121005, 0.9201684448621783, 0.9355255617067997, 0.9400652327356174, 0.9537648816256757, 0.9556728417881346, 0.9925529245617736, 1.0013528483750596, 1.0046788689129296, 1.00664526458214, 1.0085560704582823, 1.0100865563001507, 1.020370432492977, 1.0213992841100474, 1.02095384820461, 1.046408201027009, 1.0472134581023296, 1.050559219654217, 1.0518706827061888, 1.0599891615110693, 1.0615809402897893, 1.066054418500949, 1.0725367515866355, 1.072481480080264, 1.0727906023486282, 1.0881287514339961, 1.0913744703352293, 1.0916628156564179, 1.0969203443328228, 1.4016156576759422, 1.1648732504569983, 1.1370269126865986, 1.2696082430841087, 1.1434127566048011, 1.1215685666565411, 11.131200213316905, 8.226867166618895, 5.371831729004888, 2.352916844674002, 12.432776055536742, 3.9861990460275027, 2.1597210405836185, 8.890183276635048, 2.0289890442069036, 2.784669324438568, 9.519899007569874, 3.3641465429993676, 2.7181270975616623, 4.491840733450006, 4.78587479538949, 3.6131664081878583, 2.3726725068508414, 9.441523823305689, 31.961300161770847, 10.890825251276603, 3.127750400324544, 31.0189423223778, 5.450809981075001, 27.6743986676471, 3.7194092558598806, 5.148944571922045, 5.079767161795548, 2.4584318738355466, 10.145821444690295], \"Category\": [\"Default\", \"Default\", \"Default\", \"Default\", \"Default\", \"Default\", \"Default\", \"Default\", \"Default\", \"Default\", \"Default\", \"Default\", \"Default\", \"Default\", \"Default\", \"Default\", \"Default\", \"Default\", \"Default\", \"Default\", \"Default\", \"Default\", \"Default\", \"Default\", \"Default\", \"Default\", \"Default\", \"Default\", \"Default\", \"Default\", \"Topic1\", \"Topic1\", \"Topic1\", \"Topic1\", \"Topic1\", \"Topic1\", \"Topic1\", \"Topic1\", \"Topic1\", \"Topic1\", \"Topic1\", \"Topic1\", \"Topic1\", \"Topic1\", \"Topic1\", \"Topic1\", \"Topic1\", \"Topic1\", \"Topic1\", \"Topic1\", \"Topic1\", \"Topic1\", \"Topic1\", \"Topic1\", \"Topic1\", \"Topic1\", \"Topic1\", \"Topic1\", \"Topic1\", \"Topic1\", \"Topic1\", \"Topic1\", \"Topic1\", \"Topic1\", \"Topic2\", \"Topic2\", \"Topic2\", \"Topic2\", \"Topic2\", \"Topic2\", \"Topic2\", \"Topic2\", \"Topic2\", \"Topic2\", \"Topic2\", \"Topic2\", \"Topic2\", \"Topic2\", \"Topic2\", \"Topic2\", \"Topic2\", \"Topic2\", \"Topic2\", \"Topic2\", \"Topic2\", \"Topic2\", \"Topic2\", \"Topic2\", \"Topic2\", \"Topic2\", \"Topic2\", \"Topic2\", \"Topic2\", \"Topic2\", \"Topic2\", \"Topic2\", \"Topic2\", \"Topic2\", \"Topic2\", \"Topic2\", \"Topic3\", \"Topic3\", \"Topic3\", \"Topic3\", \"Topic3\", \"Topic3\", \"Topic3\", \"Topic3\", \"Topic3\", \"Topic3\", \"Topic3\", \"Topic3\", \"Topic3\", \"Topic3\", \"Topic3\", \"Topic3\", \"Topic3\", \"Topic3\", \"Topic3\", \"Topic3\", \"Topic3\", \"Topic3\", \"Topic3\", \"Topic3\", \"Topic3\", \"Topic3\", \"Topic3\", \"Topic3\", \"Topic3\", \"Topic3\", \"Topic3\", \"Topic3\", \"Topic3\", \"Topic3\", \"Topic3\", \"Topic3\", \"Topic3\", \"Topic3\", \"Topic3\", \"Topic3\", \"Topic3\", \"Topic3\", \"Topic3\", \"Topic3\", \"Topic3\", \"Topic3\", \"Topic3\", \"Topic3\", \"Topic3\", \"Topic3\", \"Topic3\", \"Topic4\", \"Topic4\", \"Topic4\", \"Topic4\", \"Topic4\", \"Topic4\", \"Topic4\", \"Topic4\", \"Topic4\", \"Topic4\", \"Topic4\", \"Topic4\", \"Topic4\", \"Topic4\", \"Topic4\", \"Topic4\", \"Topic4\", \"Topic4\", \"Topic4\", \"Topic4\", \"Topic4\", \"Topic4\", \"Topic4\", \"Topic4\", \"Topic4\", \"Topic4\", \"Topic4\", \"Topic4\", \"Topic4\", \"Topic4\", \"Topic4\", \"Topic4\", \"Topic4\", \"Topic4\", \"Topic4\", \"Topic4\", \"Topic4\", \"Topic4\", \"Topic4\", \"Topic4\", \"Topic4\", \"Topic4\", \"Topic4\", \"Topic4\", \"Topic4\", \"Topic4\", \"Topic4\", \"Topic4\", \"Topic4\", \"Topic4\", \"Topic4\", \"Topic4\", \"Topic4\", \"Topic4\", \"Topic4\", \"Topic4\", \"Topic4\", \"Topic4\", \"Topic4\", \"Topic4\", \"Topic5\", \"Topic5\", \"Topic5\", \"Topic5\", \"Topic5\", \"Topic5\", \"Topic5\", \"Topic5\", \"Topic5\", \"Topic5\", \"Topic5\", \"Topic5\", \"Topic5\", \"Topic5\", \"Topic5\", \"Topic5\", \"Topic5\", \"Topic5\", \"Topic5\", \"Topic5\", \"Topic5\", \"Topic5\", \"Topic5\", \"Topic5\", \"Topic5\", \"Topic5\", \"Topic5\", \"Topic5\", \"Topic5\", \"Topic5\", \"Topic5\", \"Topic5\", \"Topic5\", \"Topic5\", \"Topic5\", \"Topic5\", \"Topic5\", \"Topic5\", \"Topic5\", \"Topic5\", \"Topic5\", \"Topic5\", \"Topic5\", \"Topic5\", \"Topic5\", \"Topic5\", \"Topic5\", \"Topic5\", \"Topic5\", \"Topic5\", \"Topic5\", \"Topic5\", \"Topic5\", \"Topic5\", \"Topic5\", \"Topic5\", \"Topic5\", \"Topic5\", \"Topic5\", \"Topic5\", \"Topic5\", \"Topic5\", \"Topic5\", \"Topic6\", \"Topic6\", \"Topic6\", \"Topic6\", \"Topic6\", \"Topic6\", \"Topic6\", \"Topic6\", \"Topic6\", \"Topic6\", \"Topic6\", \"Topic6\", \"Topic6\", \"Topic6\", \"Topic6\", \"Topic6\", \"Topic6\", \"Topic6\", \"Topic6\", \"Topic6\", \"Topic6\", \"Topic6\", \"Topic6\", \"Topic6\", \"Topic6\", \"Topic6\", \"Topic6\", \"Topic6\", \"Topic6\", \"Topic6\", \"Topic6\", \"Topic6\", \"Topic6\", \"Topic6\", \"Topic6\", \"Topic6\", \"Topic6\", \"Topic6\", \"Topic6\", \"Topic6\", \"Topic6\", \"Topic6\", \"Topic6\", \"Topic6\", \"Topic6\", \"Topic6\", \"Topic6\", \"Topic6\", \"Topic6\", \"Topic6\", \"Topic6\", \"Topic6\", \"Topic6\", \"Topic6\", \"Topic6\", \"Topic6\", \"Topic6\", \"Topic6\", \"Topic6\", \"Topic6\", \"Topic6\", \"Topic6\", \"Topic6\", \"Topic6\", \"Topic6\", \"Topic7\", \"Topic7\", \"Topic7\", \"Topic7\", \"Topic7\", \"Topic7\", \"Topic7\", \"Topic7\", \"Topic7\", \"Topic7\", \"Topic7\", \"Topic7\", \"Topic7\", \"Topic7\", \"Topic7\", \"Topic7\", \"Topic7\", \"Topic7\", \"Topic7\", \"Topic7\", \"Topic7\", \"Topic7\", \"Topic7\", \"Topic7\", \"Topic7\", \"Topic7\", \"Topic7\", \"Topic7\", \"Topic7\", \"Topic7\", \"Topic7\", \"Topic7\", \"Topic7\", \"Topic7\", \"Topic7\", \"Topic7\", \"Topic7\", \"Topic7\", \"Topic7\", \"Topic7\", \"Topic7\", \"Topic7\", \"Topic7\", \"Topic7\", \"Topic7\", \"Topic7\", \"Topic7\", \"Topic7\", \"Topic7\", \"Topic7\", \"Topic7\", \"Topic7\", \"Topic7\", \"Topic7\", \"Topic7\", \"Topic7\", \"Topic7\", \"Topic7\", \"Topic7\", \"Topic7\", \"Topic7\", \"Topic7\", \"Topic7\", \"Topic7\", \"Topic7\", \"Topic7\", \"Topic7\", \"Topic7\", \"Topic7\", \"Topic8\", \"Topic8\", \"Topic8\", \"Topic8\", \"Topic8\", \"Topic8\", \"Topic8\", \"Topic8\", \"Topic8\", \"Topic8\", \"Topic8\", \"Topic8\", \"Topic8\", \"Topic8\", \"Topic8\", \"Topic8\", \"Topic8\", \"Topic8\", \"Topic8\", \"Topic8\", \"Topic8\", \"Topic8\", \"Topic8\", \"Topic8\", \"Topic8\", \"Topic8\", \"Topic8\", \"Topic8\", \"Topic8\", \"Topic8\", \"Topic8\", \"Topic8\", \"Topic8\", \"Topic8\", \"Topic8\", \"Topic8\", \"Topic8\", \"Topic8\", \"Topic8\", \"Topic8\", \"Topic8\", \"Topic8\", \"Topic8\", \"Topic8\", \"Topic8\", \"Topic8\", \"Topic8\", \"Topic8\", \"Topic8\", \"Topic8\", \"Topic8\", \"Topic8\", \"Topic8\", \"Topic8\", \"Topic8\", \"Topic8\", \"Topic8\", \"Topic8\", \"Topic8\", \"Topic8\", \"Topic8\", \"Topic9\", \"Topic9\", \"Topic9\", \"Topic9\", \"Topic9\", \"Topic9\", \"Topic9\", \"Topic9\", \"Topic9\", \"Topic9\", \"Topic9\", \"Topic9\", \"Topic9\", \"Topic9\", \"Topic9\", \"Topic9\", \"Topic9\", \"Topic9\", \"Topic9\", \"Topic9\", \"Topic9\", \"Topic9\", \"Topic9\", \"Topic9\", \"Topic9\", \"Topic9\", \"Topic9\", \"Topic9\", \"Topic9\", \"Topic9\", \"Topic9\", \"Topic9\", \"Topic9\", \"Topic9\", \"Topic9\", \"Topic9\", \"Topic9\", \"Topic9\", \"Topic9\", \"Topic9\", \"Topic9\", \"Topic9\", \"Topic9\", \"Topic9\", \"Topic9\", \"Topic9\", \"Topic9\", \"Topic9\", \"Topic9\", \"Topic9\", \"Topic9\", \"Topic9\", \"Topic9\", \"Topic9\", \"Topic9\", \"Topic9\", \"Topic9\", \"Topic9\", \"Topic9\", \"Topic9\", \"Topic9\", \"Topic9\", \"Topic9\", \"Topic9\", \"Topic9\", \"Topic9\", \"Topic9\", \"Topic9\", \"Topic9\", \"Topic9\", \"Topic10\", \"Topic10\", \"Topic10\", \"Topic10\", \"Topic10\", \"Topic10\", \"Topic10\", \"Topic10\", \"Topic10\", \"Topic10\", \"Topic10\", \"Topic10\", \"Topic10\", \"Topic10\", \"Topic10\", \"Topic10\", \"Topic10\", \"Topic10\", \"Topic10\", \"Topic10\", \"Topic10\", \"Topic10\", \"Topic10\", \"Topic10\", \"Topic10\", \"Topic10\", \"Topic10\", \"Topic10\", \"Topic10\", \"Topic10\", \"Topic10\", \"Topic10\", \"Topic10\", \"Topic10\", \"Topic10\", \"Topic10\", \"Topic10\", \"Topic10\", \"Topic10\", \"Topic10\", \"Topic10\", \"Topic10\", \"Topic10\", \"Topic10\", \"Topic10\", \"Topic10\", \"Topic10\", \"Topic10\", \"Topic10\", \"Topic10\", \"Topic10\", \"Topic10\", \"Topic10\", \"Topic10\", \"Topic10\", \"Topic10\", \"Topic10\", \"Topic10\", \"Topic10\", \"Topic10\", \"Topic10\", \"Topic10\", \"Topic10\", \"Topic10\", \"Topic10\", \"Topic10\", \"Topic10\", \"Topic10\", \"Topic10\", \"Topic10\", \"Topic11\", \"Topic11\", \"Topic11\", \"Topic11\", \"Topic11\", \"Topic11\", \"Topic11\", \"Topic11\", \"Topic11\", \"Topic11\", \"Topic11\", \"Topic11\", \"Topic11\", \"Topic11\", \"Topic11\", \"Topic11\", \"Topic11\", \"Topic11\", \"Topic11\", \"Topic11\", \"Topic11\", \"Topic11\", \"Topic11\", \"Topic11\", \"Topic11\", \"Topic11\", \"Topic11\", \"Topic11\", \"Topic11\", \"Topic11\", \"Topic11\", \"Topic11\", \"Topic11\", \"Topic11\", \"Topic11\", \"Topic11\", \"Topic11\", \"Topic11\", \"Topic11\", \"Topic11\", \"Topic11\", \"Topic11\", \"Topic11\", \"Topic11\", \"Topic11\", \"Topic11\", \"Topic11\", \"Topic11\", \"Topic11\", \"Topic11\", \"Topic11\", \"Topic11\", \"Topic11\", \"Topic11\", \"Topic11\", \"Topic11\", \"Topic11\", \"Topic11\", \"Topic11\", \"Topic11\", \"Topic11\", \"Topic11\", \"Topic11\", \"Topic11\", \"Topic11\", \"Topic11\", \"Topic11\", \"Topic11\", \"Topic11\", \"Topic11\", \"Topic11\", \"Topic11\", \"Topic11\", \"Topic11\", \"Topic11\", \"Topic11\", \"Topic11\", \"Topic11\", \"Topic12\", \"Topic12\", \"Topic12\", \"Topic12\", \"Topic12\", \"Topic12\", \"Topic12\", \"Topic12\", \"Topic12\", \"Topic12\", \"Topic12\", \"Topic12\", \"Topic12\", \"Topic12\", \"Topic12\", \"Topic12\", \"Topic12\", \"Topic12\", \"Topic12\", \"Topic12\", \"Topic12\", \"Topic12\", \"Topic12\", \"Topic12\", \"Topic12\", \"Topic12\", \"Topic12\", \"Topic12\", \"Topic12\", \"Topic12\", \"Topic12\", \"Topic12\", \"Topic12\", \"Topic12\", \"Topic12\", \"Topic12\", \"Topic12\", \"Topic12\", \"Topic12\", \"Topic12\", \"Topic12\", \"Topic12\", \"Topic12\", \"Topic12\", \"Topic12\", \"Topic12\", \"Topic12\", \"Topic12\", \"Topic12\", \"Topic12\", \"Topic12\", \"Topic12\", \"Topic12\", \"Topic12\", \"Topic12\", \"Topic12\", \"Topic12\", \"Topic12\", \"Topic12\", \"Topic12\", \"Topic12\", \"Topic12\", \"Topic12\", \"Topic12\", \"Topic12\", \"Topic12\", \"Topic12\", \"Topic13\", \"Topic13\", \"Topic13\", \"Topic13\", \"Topic13\", \"Topic13\", \"Topic13\", \"Topic13\", \"Topic13\", \"Topic13\", \"Topic13\", \"Topic13\", \"Topic13\", \"Topic13\", \"Topic13\", \"Topic13\", \"Topic13\", \"Topic13\", \"Topic13\", \"Topic13\", \"Topic13\", \"Topic13\", \"Topic13\", \"Topic13\", \"Topic13\", \"Topic13\", \"Topic13\", \"Topic13\", \"Topic13\", \"Topic13\", \"Topic13\", \"Topic13\", \"Topic13\", \"Topic13\", \"Topic13\", \"Topic13\", \"Topic13\", \"Topic13\", \"Topic13\", \"Topic13\", \"Topic13\", \"Topic13\", \"Topic13\", \"Topic13\", \"Topic13\", \"Topic13\", \"Topic13\", \"Topic13\", \"Topic13\", \"Topic13\", \"Topic13\", \"Topic13\", \"Topic13\", \"Topic13\", \"Topic13\", \"Topic13\", \"Topic13\", \"Topic13\", \"Topic13\", \"Topic13\", \"Topic13\", \"Topic13\", \"Topic13\", \"Topic13\", \"Topic13\", \"Topic14\", \"Topic14\", \"Topic14\", \"Topic14\", \"Topic14\", \"Topic14\", \"Topic14\", \"Topic14\", \"Topic14\", \"Topic14\", \"Topic14\", \"Topic14\", \"Topic14\", \"Topic14\", \"Topic14\", \"Topic14\", \"Topic14\", \"Topic14\", \"Topic14\", \"Topic14\", \"Topic14\", \"Topic14\", \"Topic14\", \"Topic14\", \"Topic14\", \"Topic14\", \"Topic14\", \"Topic14\", \"Topic14\", \"Topic14\", \"Topic14\", \"Topic14\", \"Topic14\", \"Topic14\", \"Topic14\", \"Topic14\", \"Topic14\", \"Topic14\", \"Topic14\", \"Topic14\", \"Topic14\", \"Topic14\", \"Topic14\", \"Topic14\", \"Topic14\", \"Topic14\", \"Topic14\", \"Topic14\", \"Topic14\", \"Topic14\", \"Topic14\", \"Topic14\", \"Topic14\", \"Topic14\", \"Topic14\", \"Topic14\", \"Topic14\", \"Topic14\", \"Topic14\", \"Topic14\", \"Topic14\", \"Topic14\", \"Topic14\", \"Topic14\", \"Topic14\", \"Topic14\", \"Topic14\", \"Topic15\", \"Topic15\", \"Topic15\", \"Topic15\", \"Topic15\", \"Topic15\", \"Topic15\", \"Topic15\", \"Topic15\", \"Topic15\", \"Topic15\", \"Topic15\", \"Topic15\", \"Topic15\", \"Topic15\", \"Topic15\", \"Topic15\", \"Topic15\", \"Topic15\", \"Topic15\", \"Topic15\", \"Topic15\", \"Topic15\", \"Topic15\", \"Topic15\", \"Topic15\", \"Topic15\", \"Topic15\", \"Topic15\", \"Topic15\", \"Topic15\", \"Topic15\", \"Topic15\", \"Topic15\", \"Topic15\", \"Topic15\", \"Topic15\", \"Topic15\", \"Topic15\", \"Topic15\", \"Topic15\", \"Topic15\", \"Topic15\", \"Topic15\", \"Topic15\", \"Topic15\", \"Topic15\", \"Topic15\", \"Topic15\", \"Topic15\", \"Topic15\", \"Topic15\", \"Topic15\", \"Topic15\", \"Topic15\", \"Topic15\", \"Topic15\", \"Topic15\", \"Topic15\", \"Topic15\", \"Topic15\", \"Topic15\", \"Topic15\", \"Topic15\", \"Topic16\", \"Topic16\", \"Topic16\", \"Topic16\", \"Topic16\", \"Topic16\", \"Topic16\", \"Topic16\", \"Topic16\", \"Topic16\", \"Topic16\", \"Topic16\", \"Topic16\", \"Topic16\", \"Topic16\", \"Topic16\", \"Topic16\", \"Topic16\", \"Topic16\", \"Topic16\", \"Topic16\", \"Topic16\", \"Topic16\", \"Topic16\", \"Topic16\", \"Topic16\", \"Topic16\", \"Topic16\", \"Topic16\", \"Topic16\", \"Topic16\", \"Topic16\", \"Topic16\", \"Topic16\", \"Topic16\", \"Topic16\", \"Topic16\", \"Topic16\", \"Topic16\", \"Topic16\", \"Topic16\", \"Topic16\", \"Topic16\", \"Topic16\", \"Topic16\", \"Topic16\", \"Topic16\", \"Topic16\", \"Topic16\", \"Topic16\", \"Topic16\", \"Topic16\", \"Topic16\", \"Topic16\", \"Topic16\", \"Topic16\", \"Topic16\", \"Topic16\", \"Topic16\", \"Topic16\", \"Topic16\", \"Topic16\", \"Topic16\", \"Topic16\", \"Topic16\", \"Topic16\", \"Topic17\", \"Topic17\", \"Topic17\", \"Topic17\", \"Topic17\", \"Topic17\", \"Topic17\", \"Topic17\", \"Topic17\", \"Topic17\", \"Topic17\", \"Topic17\", \"Topic17\", \"Topic17\", \"Topic17\", \"Topic17\", \"Topic17\", \"Topic17\", \"Topic17\", \"Topic17\", \"Topic17\", \"Topic17\", \"Topic17\", \"Topic17\", \"Topic17\", \"Topic17\", \"Topic17\", \"Topic17\", \"Topic17\", \"Topic17\", \"Topic17\", \"Topic17\", \"Topic17\", \"Topic17\", \"Topic17\", \"Topic17\", \"Topic17\", \"Topic17\", \"Topic17\", \"Topic17\", \"Topic17\", \"Topic17\", \"Topic17\", \"Topic17\", \"Topic17\", \"Topic17\", \"Topic17\", \"Topic17\", \"Topic17\", \"Topic17\", \"Topic17\", \"Topic17\", \"Topic17\", \"Topic17\", \"Topic17\", \"Topic17\", \"Topic17\", \"Topic17\", \"Topic17\", \"Topic17\", \"Topic17\", \"Topic17\", \"Topic17\", \"Topic17\", \"Topic17\", \"Topic17\", \"Topic17\", \"Topic17\", \"Topic18\", \"Topic18\", \"Topic18\", \"Topic18\", \"Topic18\", \"Topic18\", \"Topic18\", \"Topic18\", \"Topic18\", \"Topic18\", \"Topic18\", \"Topic18\", \"Topic18\", \"Topic18\", \"Topic18\", \"Topic18\", \"Topic18\", \"Topic18\", \"Topic18\", \"Topic18\", \"Topic18\", \"Topic18\", \"Topic18\", \"Topic18\", \"Topic18\", \"Topic18\", \"Topic18\", \"Topic18\", \"Topic18\", \"Topic18\", \"Topic18\", \"Topic18\", \"Topic18\", \"Topic18\", \"Topic18\", \"Topic18\", \"Topic18\", \"Topic18\", \"Topic18\", \"Topic18\", \"Topic18\", \"Topic18\", \"Topic18\", \"Topic18\", \"Topic18\", \"Topic18\", \"Topic18\", \"Topic18\", \"Topic18\", \"Topic18\", \"Topic18\", \"Topic18\", \"Topic18\", \"Topic18\", \"Topic18\", \"Topic18\", \"Topic18\", \"Topic18\", \"Topic18\", \"Topic18\", \"Topic18\", \"Topic18\", \"Topic18\", \"Topic18\", \"Topic19\", \"Topic19\", \"Topic19\", \"Topic19\", \"Topic19\", \"Topic19\", \"Topic19\", \"Topic19\", \"Topic19\", \"Topic19\", \"Topic19\", \"Topic19\", \"Topic19\", \"Topic19\", \"Topic19\", \"Topic19\", \"Topic19\", \"Topic19\", \"Topic19\", \"Topic19\", \"Topic19\", \"Topic19\", \"Topic19\", \"Topic19\", \"Topic19\", \"Topic19\", \"Topic19\", \"Topic19\", \"Topic19\", \"Topic19\", \"Topic19\", \"Topic19\", \"Topic19\", \"Topic19\", \"Topic19\", \"Topic19\", \"Topic19\", \"Topic19\", \"Topic19\", \"Topic19\", \"Topic19\", \"Topic19\", \"Topic19\", \"Topic19\", \"Topic19\", \"Topic19\", \"Topic19\", \"Topic19\", \"Topic19\", \"Topic19\", \"Topic19\", \"Topic19\", \"Topic19\", \"Topic19\", \"Topic19\", \"Topic19\", \"Topic19\", \"Topic19\", \"Topic19\", \"Topic19\", \"Topic19\", \"Topic19\", \"Topic19\", \"Topic19\", \"Topic19\", \"Topic19\", \"Topic20\", \"Topic20\", \"Topic20\", \"Topic20\", \"Topic20\", \"Topic20\", \"Topic20\", \"Topic20\", \"Topic20\", \"Topic20\", \"Topic20\", \"Topic20\", \"Topic20\", \"Topic20\", \"Topic20\", \"Topic20\", \"Topic20\", \"Topic20\", \"Topic20\", \"Topic20\", \"Topic20\", \"Topic20\", \"Topic20\", \"Topic20\", \"Topic20\", \"Topic20\", \"Topic20\", \"Topic20\", \"Topic20\", \"Topic20\", \"Topic20\", \"Topic20\", \"Topic20\", \"Topic20\", \"Topic20\", \"Topic20\", \"Topic20\", \"Topic20\", \"Topic20\", \"Topic20\", \"Topic20\", \"Topic20\", \"Topic20\", \"Topic20\", \"Topic20\", \"Topic20\", \"Topic20\", \"Topic20\", \"Topic20\", \"Topic20\", \"Topic20\", \"Topic20\", \"Topic20\", \"Topic20\", \"Topic20\", \"Topic20\", \"Topic20\", \"Topic20\", \"Topic20\", \"Topic20\", \"Topic20\", \"Topic20\", \"Topic20\", \"Topic20\", \"Topic20\", \"Topic20\"], \"logprob\": [30.0, 29.0, 28.0, 27.0, 26.0, 25.0, 24.0, 23.0, 22.0, 21.0, 20.0, 19.0, 18.0, 17.0, 16.0, 15.0, 14.0, 13.0, 12.0, 11.0, 10.0, 9.0, 8.0, 7.0, 6.0, 5.0, 4.0, 3.0, 2.0, 1.0, -5.4311, -5.4611, -5.5774, -5.449, -5.6392, -5.4868, -5.7177, -5.4997, -5.9699, -5.9879, -6.0435, -5.7946, -5.9198, -6.1646, -6.1721, -6.177, -6.1878, -6.2123, -6.2146, -6.2254, -6.2359, -6.2705, -6.2886, -6.3028, -6.3048, -6.314, -6.3186, -6.3254, -6.3272, -5.9197, -6.1196, -6.2801, -6.2595, -6.2273, -3.1747, -3.1773, -3.2026, -3.2044, -3.2047, -3.2047, -3.2058, -3.2058, -3.1854, -3.2009, -3.2023, -3.2943, -5.1029, -5.0035, -3.5062, -5.7003, -6.1646, -5.5496, -6.174, -6.1523, -6.2843, -5.8447, -6.247, -5.766, -6.6336, -6.0919, -5.36, -6.9013, -6.9188, -5.361, -5.5123, -5.7086, -5.4445, -5.7506, -5.8491, -6.1441, -4.0227, -4.4303, -4.8156, -5.4912, -5.309, -4.4728, -5.5, -5.4853, -5.7569, -5.8162, -5.4747, -5.574, -5.6844, -5.8841, -5.9133, -7.9584, -7.9577, -7.9576, -7.9577, -7.9574, -7.958, -7.958, -7.958, -7.9558, -7.9582, -7.9578, -7.9578, -7.9575, -7.9581, -7.9574, -6.0667, -7.4488, -7.7422, -7.3386, -7.7621, -7.8115, -7.8508, -7.7738, -7.9137, -7.6018, -7.8088, -7.719, -7.8565, -7.841, -7.8725, -7.8379, -7.7558, -7.8258, -7.8202, -7.8182, -7.8315, -3.7795, -3.7007, -5.0045, -5.71, -4.2181, -5.8347, -7.9357, -7.9357, -7.9352, -7.9354, -7.9349, -7.9353, -7.9354, -7.9354, -7.9352, -7.9355, -7.9355, -7.9353, -7.9348, -7.9355, -7.9321, -7.9348, -7.9351, -7.9351, -7.9354, -7.9347, -7.935, -7.9357, -7.9352, -7.935, -7.9326, -7.9349, -7.9191, -7.9221, -7.9254, -7.9298, -7.9325, -7.9292, -7.9292, -7.9278, -7.9194, -7.9221, -7.9255, -7.9259, -7.9261, -7.9263, -7.9274, -7.9275, -7.9277, -7.9279, -7.9279, -7.9279, -7.9282, -7.9282, -7.9283, -7.9285, -7.9287, -7.9287, -7.9288, -7.929, -3.9931, -4.8857, -5.2, -5.2593, -5.2701, -5.3428, -5.3616, -5.5768, -5.5779, -7.92, -7.9198, -7.92, -7.9202, -7.9196, -7.9176, -7.9199, -7.9204, -7.9188, -7.9161, -7.9204, -7.9195, -7.9201, -7.9202, -7.9197, -7.9198, -7.9198, -7.9194, -7.9199, -7.9192, -7.9192, -7.8807, -7.9182, -7.8817, -7.8441, -7.7601, -7.9039, -7.9162, -7.8252, -7.8811, -7.8906, -7.8643, -7.8851, -7.873, -7.8968, -7.8503, -7.8738, -7.8866, -7.8528, -7.8852, -7.8903, -7.8982, -7.8494, -7.8377, -7.8762, -7.8832, -7.8747, -7.8774, -7.8609, -7.8645, -7.8656, -7.8669, -7.8772, -7.8784, -3.8191, -3.9515, -7.9011, -7.9003, -7.9011, -7.901, -7.9004, -7.9004, -7.9002, -7.9011, -7.9, -7.9007, -7.9006, -7.8999, -7.901, -7.9005, -7.8994, -7.9006, -7.9006, -7.9008, -7.9005, -7.9006, -7.9007, -7.9004, -7.9013, -7.9002, -7.9006, -7.9009, -7.9011, -7.9008, -7.8973, -7.8594, -7.8986, -7.8995, -7.8826, -7.8674, -7.8976, -7.85, -7.8792, -7.8844, -7.8968, -7.8989, -7.8956, -7.8867, -7.8871, -7.8905, -7.891, -7.892, -7.8921, -7.8921, -7.8922, -7.8924, -7.8929, -7.893, -7.8935, -7.8935, -7.894, -7.8942, -7.8942, -7.8943, -7.8945, -7.8949, -7.8949, -7.8951, -7.8952, -4.1429, -4.143, -5.4153, -7.8971, -7.8965, -7.8963, -7.8964, -7.8969, -7.8965, -7.8971, -7.8956, -7.8963, -7.8963, -7.897, -7.897, -7.8971, -7.897, -7.8962, -7.8959, -7.8972, -7.8969, -7.8963, -7.8969, -7.8969, -7.8916, -7.8958, -7.897, -7.8965, -7.8966, -7.897, -6.7555, -7.893, -7.8699, -7.8923, -7.8606, -7.8687, -7.8919, -7.8697, -7.8851, -7.8757, -7.8748, -7.884, -7.8679, -7.8812, -7.8869, -7.8871, -7.8817, -7.8774, -7.8846, -7.8882, -7.8814, -7.889, -7.8887, -7.8846, -7.8898, -7.8844, -7.8781, -7.8799, -7.8811, -7.8819, -7.8821, -7.8824, -7.8825, -7.8832, -7.8833, -7.8839, -7.8841, -7.8841, -7.8845, -4.5317, -4.4988, -5.4408, -4.7827, -5.6576, -5.6277, -7.8995, -7.8992, -7.9001, -7.9001, -7.8999, -7.8991, -7.8999, -7.8995, -7.8984, -7.8998, -7.8989, -7.8995, -7.8996, -7.8996, -7.9, -7.8997, -7.8998, -7.8998, -7.8999, -7.8984, -7.8998, -7.9002, -7.9, -7.8994, -7.8995, -7.8967, -7.8902, -7.888, -7.8962, -7.8964, -7.8984, -7.8991, -7.8991, -7.8864, -7.8897, -7.8908, -7.8913, -7.8913, -7.8916, -7.8919, -7.8919, -7.892, -7.8921, -7.8921, -7.8921, -7.8926, -7.8927, -7.8928, -7.8932, -7.8933, -7.8934, -7.8936, -7.8938, -7.8939, -7.8941, -5.3749, -5.1483, -5.3999, -5.6523, -7.8809, -7.8814, -7.8808, -7.8813, -7.8814, -7.8773, -7.8808, -7.8805, -7.8809, -7.881, -7.8781, -7.8809, -7.8818, -7.8806, -7.879, -7.8821, -7.8816, -7.8735, -7.8813, -7.8811, -7.8812, -7.8818, -7.8814, -7.8811, -7.8809, -7.8814, -5.7498, -7.6473, -7.7137, -7.8744, -7.8765, -7.8456, -7.8791, -7.876, -7.8478, -7.8788, -7.8174, -7.8575, -7.8637, -7.8609, -7.8694, -7.8463, -7.846, -7.8465, -7.8605, -7.8628, -7.863, -7.8641, -7.8609, -7.8556, -7.8629, -7.8622, -7.8407, -7.8504, -7.8669, -7.869, -7.851, -7.8566, -7.8568, -7.8573, -7.8577, -7.859, -7.8608, -7.8608, -7.8614, -7.8615, -5.0671, -4.9828, -7.8797, -7.8804, -7.8803, -7.8805, -7.8805, -7.8798, -7.8802, -7.8804, -7.8802, -7.8807, -7.8801, -7.8803, -7.88, -7.8803, -7.8806, -7.8804, -7.8805, -7.8809, -7.8804, -7.8807, -7.8804, -7.8807, -7.8797, -7.8796, -7.8802, -7.8802, -7.8805, -7.8802, -5.4359, -5.4405, -7.8788, -7.8512, -7.8763, -7.8762, -7.8722, -7.8671, -7.858, -7.8686, -7.8752, -7.8753, -7.8749, -7.8714, -7.8767, -7.8744, -7.8718, -7.8771, -7.8609, -7.863, -7.8637, -7.8638, -7.8649, -7.8657, -7.8661, -7.8669, -7.8677, -7.8678, -7.8685, -7.8693, -7.8695, -7.8698, -7.8699, -7.87, -7.8701, -7.8704, -7.8707, -7.8707, -7.8707, -7.8713, -4.7456, -5.2429, -5.3651, -7.8786, -7.878, -7.8785, -7.8788, -7.8781, -7.8789, -7.8777, -7.8783, -7.8761, -7.877, -7.8786, -7.8786, -7.8778, -7.878, -7.8775, -7.8784, -7.878, -7.8783, -7.8784, -7.8779, -7.8788, -7.8774, -7.8777, -7.8778, -7.8772, -7.878, -7.8779, -7.874, -7.8756, -7.8662, -7.8737, -7.8604, -7.874, -7.8755, -7.8647, -7.866, -7.8694, -7.8761, -7.8748, -7.8465, -7.8452, -7.8408, -7.8473, -7.8549, -7.8536, -7.8639, -7.8613, -7.8646, -7.8638, -7.8672, -7.868, -7.8664, -7.867, -7.8614, -7.8654, -7.8539, -7.8678, -7.8655, -7.8515, -7.856, -7.857, -7.8578, -7.8585, -7.8596, -7.8597, -7.8604, -7.861, -7.8618, -7.8621, -7.8621, -7.8621, -7.8623, -7.8623, -7.8625, -7.8627, -5.321, -5.4387, -7.8681, -7.8679, -7.8678, -7.8679, -7.8679, -7.8676, -7.8681, -7.8671, -7.8684, -7.8675, -7.8679, -7.8672, -7.8667, -7.8684, -7.8679, -7.8678, -7.8683, -7.8682, -7.8681, -7.8673, -7.8684, -7.8655, -7.8683, -7.8681, -7.8677, -7.8687, -7.8685, -7.8674, -7.8671, -7.8671, -7.8464, -7.861, -7.8654, -7.8668, -7.8428, -7.8611, -7.8628, -7.8545, -7.8619, -7.8603, -7.8621, -7.8637, -7.8635, -7.8544, -7.8558, -7.8564, -7.8572, -7.8574, -7.858, -7.8589, -7.859, -7.8591, -7.8596, -7.8604, -7.8611, -7.8611, -7.8614, -7.8615, -7.8615, -7.8615, -7.8615, -7.8616, -7.8616, -7.8618, -7.8619, -7.8594, -7.8597, -7.8592, -7.8592, -7.8588, -7.859, -7.8596, -7.8589, -7.8597, -7.8594, -7.8591, -7.8592, -7.8593, -7.8595, -7.8599, -7.8591, -7.8598, -7.8595, -7.8589, -7.8595, -7.8591, -7.8585, -7.859, -7.8597, -7.8589, -7.8591, -7.8589, -7.8588, -7.8591, -7.859, -7.8584, -7.8562, -7.8584, -7.8586, -7.859, -7.8488, -7.8491, -7.8515, -7.8525, -7.8529, -7.8529, -7.8534, -7.8535, -7.8537, -7.8537, -7.8538, -7.8539, -7.8543, -7.8544, -7.8545, -7.8547, -7.8547, -7.8548, -7.8549, -7.8549, -7.8551, -7.8551, -7.8551, -7.8552, -7.8552, -7.8552, -7.8553, -7.8554, -7.8555, -7.8555, -7.859, -7.8593, -7.8587, -7.8592, -7.8592, -7.8594, -7.8593, -7.8598, -7.8596, -7.8591, -7.8594, -7.8596, -7.8593, -7.8592, -7.8586, -7.8596, -7.8599, -7.8589, -7.8593, -7.8589, -7.86, -7.8592, -7.8593, -7.859, -7.8591, -7.8597, -7.86, -7.8595, -7.8594, -7.8598, -7.8593, -7.8589, -7.8584, -7.8353, -7.8563, -7.854, -7.8554, -7.8564, -7.8579, -7.8462, -7.8502, -7.8516, -7.8522, -7.8523, -7.8525, -7.8529, -7.8529, -7.8531, -7.8537, -7.8538, -7.8538, -7.8539, -7.8542, -7.8544, -7.8544, -7.8544, -7.8545, -7.8545, -7.8546, -7.8546, -7.8548, -7.8548, -7.8548, -7.8551, -7.8552, -7.8552, -7.8553, -7.859, -7.8587, -7.8591, -7.8589, -7.8593, -7.8591, -7.8594, -7.8583, -7.8594, -7.8588, -7.8596, -7.8593, -7.859, -7.8591, -7.8591, -7.8593, -7.8595, -7.8593, -7.8597, -7.8589, -7.8588, -7.8586, -7.8589, -7.8593, -7.8584, -7.8588, -7.8591, -7.859, -7.8593, -7.8592, -7.8586, -7.8582, -7.8584, -7.8586, -7.85, -7.8511, -7.853, -7.8541, -7.8547, -7.855, -7.8552, -7.8553, -7.8558, -7.8559, -7.8559, -7.8559, -7.856, -7.856, -7.8563, -7.8563, -7.8563, -7.8564, -7.8565, -7.8565, -7.8566, -7.857, -7.8571, -7.8572, -7.8572, -7.8572, -7.8573, -7.8573, -7.8573, -7.8575, -7.8594, -7.8596, -7.8585, -7.8593, -7.8583, -7.8594, -7.8591, -7.859, -7.8587, -7.8594, -7.8589, -7.8596, -7.8595, -7.8597, -7.8592, -7.8592, -7.8594, -7.8596, -7.8595, -7.8587, -7.8581, -7.8592, -7.8596, -7.8594, -7.859, -7.8597, -7.8596, -7.8587, -7.8594, -7.8595, -7.8585, -7.8591, -7.8586, -7.8589, -7.8565, -7.8541, -7.8546, -7.8582, -7.8586, -7.8525, -7.8531, -7.8546, -7.8546, -7.8547, -7.8548, -7.8549, -7.8552, -7.8556, -7.8557, -7.8557, -7.8558, -7.8558, -7.8558, -7.8559, -7.8559, -7.8559, -7.856, -7.8561, -7.8562, -7.8563, -7.8563, -7.8563, -7.8564, -7.8565, -7.8565, -7.8566, -7.8597, -7.8604, -7.8591, -7.8594, -7.8592, -7.8596, -7.8596, -7.8602, -7.86, -7.8599, -7.86, -7.8596, -7.8589, -7.8597, -7.8591, -7.8599, -7.8596, -7.8596, -7.8599, -7.8596, -7.8592, -7.8598, -7.8604, -7.8595, -7.8596, -7.8594, -7.8599, -7.8596, -7.859, -7.8602, -7.8595, -7.8547, -7.8377, -7.8583, -7.8565, -7.8373, -7.853, -7.8481, -7.8504, -7.8553, -7.851, -7.8545, -7.8562, -7.8491, -7.8409, -7.8436, -7.8461, -7.8469, -7.8472, -7.8473, -7.8486, -7.8492, -7.8494, -7.8497, -7.8499, -7.85, -7.85, -7.8508, -7.8509, -7.8513, -7.8516, -7.852, -7.8521, -7.8522, -7.8523, -7.8525, -7.8525, -7.8525, -7.8591, -7.8593, -7.8598, -7.8593, -7.8599, -7.8596, -7.8597, -7.8589, -7.8589, -7.8588, -7.8593, -7.8593, -7.8592, -7.8595, -7.86, -7.8592, -7.8598, -7.859, -7.8591, -7.8595, -7.8592, -7.8594, -7.8594, -7.8588, -7.8565, -7.8595, -7.8593, -7.8598, -7.8588, -7.8598, -7.8584, -7.8566, -7.8516, -7.8485, -7.8513, -7.853, -7.8564, -7.8528, -7.8589, -7.8469, -7.8477, -7.8481, -7.8491, -7.8494, -7.8499, -7.851, -7.8514, -7.8515, -7.8516, -7.8518, -7.8526, -7.8526, -7.8527, -7.8527, -7.8527, -7.853, -7.853, -7.853, -7.853, -7.853, -7.8532, -7.8535, -7.8536, -7.8538, -7.8591, -7.8589, -7.8597, -7.859, -7.8598, -7.8579, -7.8597, -7.8593, -7.8597, -7.8595, -7.8583, -7.8589, -7.8588, -7.8595, -7.8584, -7.8598, -7.8595, -7.8585, -7.8595, -7.859, -7.8594, -7.8589, -7.8593, -7.8595, -7.859, -7.8595, -7.8595, -7.8596, -7.8594, -7.8596, -7.8588, -7.8588, -7.8592, -7.8579, -7.8586, -7.8585, -7.8475, -7.841, -7.8508, -7.8522, -7.8526, -7.8527, -7.8529, -7.8532, -7.8544, -7.8544, -7.8545, -7.8545, -7.8546, -7.8547, -7.8548, -7.8548, -7.8549, -7.8549, -7.855, -7.8551, -7.8552, -7.8553, -7.8553, -7.8554, -7.8555, -7.8555, -7.8556, -7.8557, -7.8559, -7.8559, -7.8591, -7.8596, -7.86, -7.8595, -7.8585, -7.8593, -7.8593, -7.8595, -7.8597, -7.8587, -7.8593, -7.8594, -7.8587, -7.8593, -7.859, -7.8591, -7.8597, -7.859, -7.859, -7.8591, -7.8594, -7.8589, -7.8599, -7.8594, -7.8584, -7.8592, -7.8594, -7.8587, -7.8585, -7.8591, -7.8589, -7.8536, -7.8575, -7.858, -7.8567, -7.8584, -7.8586, -7.8443, -7.8487, -7.8497, -7.8538, -7.8541, -7.8542, -7.8544, -7.8544, -7.8544, -7.8546, -7.8547, -7.8549, -7.8551, -7.8551, -7.8552, -7.8553, -7.8553, -7.8555, -7.8555, -7.8555, -7.8555, -7.8556, -7.8557, -7.8557, -7.8558, -7.8558, -7.8559, -7.8559, -7.856], \"loglift\": [30.0, 29.0, 28.0, 27.0, 26.0, 25.0, 24.0, 23.0, 22.0, 21.0, 20.0, 19.0, 18.0, 17.0, 16.0, 15.0, 14.0, 13.0, 12.0, 11.0, 10.0, 9.0, 8.0, 7.0, 6.0, 5.0, 4.0, 3.0, 2.0, 1.0, 0.174, 0.1739, 0.1717, 0.1709, 0.1705, 0.1697, 0.169, 0.1638, 0.1628, 0.1623, 0.1608, 0.1584, 0.1581, 0.1571, 0.1567, 0.1565, 0.1562, 0.1554, 0.1553, 0.1549, 0.1545, 0.1529, 0.1526, 0.1521, 0.1519, 0.1517, 0.1514, 0.1513, 0.1511, 0.1504, 0.1415, 0.1435, 0.1343, -0.2312, 3.5709, 3.5705, 3.5694, 3.5693, 3.5693, 3.5693, 3.5692, 3.5692, 3.5535, 3.5302, 3.5146, 3.3475, 2.9252, 2.686, 2.4899, 2.4601, 2.4166, 2.3711, 2.2332, 2.1724, 2.0333, 2.0062, 1.9481, 1.8618, 1.834, 1.8219, 1.8038, 1.7077, 1.6793, 1.6664, 1.6625, 1.6141, 1.4072, 1.3727, 0.5897, 0.7537, 4.3927, 3.5978, 3.2006, 2.9466, 2.7691, 2.7511, 2.4609, 2.3863, 2.1644, 2.0386, 2.0338, 1.9172, 1.865, 1.5135, 1.3977, 1.2393, 1.22, 1.216, 1.1951, 1.1789, 1.1734, 1.159, 1.157, 1.1213, 1.11, 1.1071, 1.1052, 1.1036, 1.1015, 1.0921, 0.7648, 0.6509, 0.6799, -0.513, 0.5174, 0.5846, 0.6539, 0.2942, 0.9395, -0.8631, 0.2575, -0.4634, 0.4886, 0.2888, 0.4944, 0.0398, -1.2516, -0.4183, -0.6744, -0.9204, -0.5087, 4.146, 4.0948, 2.9644, 2.5505, 2.1828, 1.7656, 1.2619, 1.242, 1.2385, 1.2175, 1.2013, 1.1962, 1.1816, 1.1796, 1.1419, 1.1327, 1.1295, 1.1277, 1.1263, 1.1241, 1.1174, 1.1141, 1.1133, 1.0891, 1.088, 1.0856, 1.0841, 1.0757, 1.0747, 1.0706, 1.035, 1.0644, 0.0772, 0.2238, 0.2459, 0.6727, 0.9406, 0.5581, 0.5561, 0.3994, -0.9996, -0.2734, -2.269, -0.0943, 0.0064, -0.4904, -2.3223, -1.5337, -0.4791, -0.0796, -0.3051, -0.0797, -1.4247, -1.0658, -1.1034, -0.1144, 0.1387, -1.1562, 0.3916, 0.3741, 4.3242, 3.4885, 3.2877, 3.1471, 3.0486, 3.004, 2.4805, 1.8192, 1.796, 1.2776, 1.2579, 1.2537, 1.2326, 1.2167, 1.2139, 1.1971, 1.1946, 1.1583, 1.1521, 1.1445, 1.1435, 1.141, 1.1394, 1.1297, 1.1291, 1.1286, 1.1049, 1.1036, 1.1011, 1.0998, 0.8282, 1.0916, 0.7257, 0.2348, -1.2558, 0.866, 1.063, -0.8234, 0.3724, 0.5448, -0.1116, 0.3633, 0.063, 0.6343, -0.7124, 0.0174, 0.3683, -0.7641, 0.2689, 0.3536, 0.6057, -1.224, -1.9509, -0.339, -0.0023, -0.7126, -0.5451, -2.2558, -2.201, -2.2457, -2.2103, -0.6423, -0.6943, 4.3871, 4.3278, 1.2965, 1.2774, 1.2726, 1.2518, 1.2359, 1.231, 1.2167, 1.2139, 1.1771, 1.1676, 1.1643, 1.1631, 1.1601, 1.1591, 1.149, 1.1488, 1.1483, 1.1235, 1.1229, 1.1197, 1.1183, 1.111, 1.1085, 1.1054, 1.0988, 1.0988, 1.0985, 1.0844, 1.079, 0.0662, 1.0348, 1.0575, 0.4321, -0.4789, 0.9627, -1.4266, -0.3685, -0.186, 0.903, 1.028, 0.6686, -0.4467, -0.5525, -1.0543, 0.0395, -0.3161, -1.0198, 0.2618, -0.0729, -0.5642, 0.1341, -0.0497, -1.4523, -0.9962, -0.0603, -1.2386, 0.1597, -0.2333, -2.0078, -1.2293, -1.8249, -2.2315, -0.0857, 3.7053, 3.7052, 2.2359, 1.3005, 1.2812, 1.2773, 1.2565, 1.2394, 1.2349, 1.2198, 1.2193, 1.1808, 1.172, 1.1679, 1.166, 1.164, 1.1626, 1.1533, 1.1525, 1.1516, 1.1274, 1.1272, 1.1234, 1.1222, 1.1198, 1.114, 1.1087, 1.1031, 1.1028, 1.1026, -0.3546, 1.0589, 0.6619, 1.0197, 0.1548, 0.2886, 0.9957, -0.1423, 0.5755, -0.1378, -0.4233, 0.4587, -1.1494, -0.0352, 0.5215, 0.5341, -0.0385, -0.4647, 0.2165, 0.5682, -0.1088, 0.6327, 0.5909, 0.181, 0.6951, 0.1623, -0.9583, -2.0702, -2.2176, -0.9051, -0.5043, -2.2625, -1.3562, -0.7445, -1.2059, -0.1667, -1.8062, -0.2482, -0.6552, 3.498, 3.474, 3.3704, 2.4262, 2.0292, 2.0061, 1.2981, 1.2785, 1.2735, 1.2527, 1.2364, 1.2323, 1.217, 1.2154, 1.1786, 1.1684, 1.166, 1.1635, 1.1615, 1.16, 1.1495, 1.1492, 1.1487, 1.1245, 1.1235, 1.1219, 1.1192, 1.1112, 1.1098, 1.1063, 1.0999, 1.0228, 0.3203, 0.0368, 0.8496, 0.8575, 1.0285, 1.0797, 1.0801, -1.1424, -2.2546, 0.0275, 0.0099, -2.2862, -0.2362, -1.8219, -0.3168, 0.0585, -0.8094, -0.4226, 0.0082, 0.3934, 0.4245, -0.0411, -0.0857, -1.4545, -0.5959, -1.2498, 0.4155, -0.4844, -0.548, 3.0042, 2.7828, 2.7396, 1.6075, 1.3168, 1.2962, 1.2929, 1.2715, 1.2549, 1.2541, 1.2361, 1.2345, 1.1962, 1.1873, 1.1869, 1.1821, 1.1793, 1.1789, 1.1698, 1.1674, 1.1668, 1.1455, 1.143, 1.1424, 1.1391, 1.1295, 1.1284, 1.1246, 1.1185, 1.1182, 0.2032, 0.0332, -0.0017, 1.0529, 1.0766, 0.5805, 1.1028, 1.0417, 0.2321, 1.0852, -1.0989, 0.2185, 0.4052, 0.2421, 0.6508, -0.5263, -0.7317, -0.7292, 0.1459, 0.2701, 0.2549, 0.3217, -0.0091, -0.5952, 0.1148, 0.0206, -2.1842, -1.2348, 0.3905, 0.5753, -2.2311, -1.4662, -1.3868, -2.1937, -0.9363, -0.6512, -1.4195, -2.2557, -0.8345, -1.2236, 3.5563, 2.8459, 1.3179, 1.2973, 1.2933, 1.2723, 1.2557, 1.2516, 1.2368, 1.2345, 1.1969, 1.1875, 1.1848, 1.1826, 1.1811, 1.1793, 1.1688, 1.1685, 1.168, 1.1433, 1.143, 1.1396, 1.1386, 1.1307, 1.1302, 1.1261, 1.1193, 1.1192, 1.1191, 1.105, 0.9579, 0.8206, 1.0975, 0.5092, 0.9835, 0.9444, 0.7317, 0.3106, -0.7332, 0.3097, 0.8542, 0.8629, 0.8006, 0.431, 0.9393, 0.6711, 0.3789, 0.8944, -1.7909, -0.5179, -1.3871, -0.7093, -0.9289, -2.2606, -0.4822, -1.0944, -1.1334, -1.1243, -1.2582, -0.0698, -2.2129, -0.5415, -0.7872, -0.5937, -2.121, -0.2476, -1.0166, 0.0248, -1.1811, -1.2924, 3.1412, 2.8893, 2.5284, 1.319, 1.2997, 1.2952, 1.274, 1.2582, 1.2525, 1.2393, 1.2367, 1.201, 1.1913, 1.1864, 1.1843, 1.1833, 1.1815, 1.1714, 1.171, 1.1704, 1.1459, 1.1451, 1.1424, 1.1402, 1.1339, 1.1322, 1.1278, 1.1224, 1.1216, 1.1215, 1.1079, 1.1096, 0.9674, 1.0647, 0.7541, 1.055, 1.0765, 0.6886, 0.6864, 0.8408, 1.0806, 1.0172, -0.4098, -0.6481, -1.1008, -0.4896, -0.3903, -0.5842, 0.4199, 0.1386, 0.4221, 0.3139, 0.6326, 0.6346, 0.45, 0.4959, -0.0899, 0.266, -0.8823, 0.4505, 0.2199, -2.2165, -1.1478, -1.387, -1.3316, -1.9054, -0.9968, -1.0696, -0.5281, -1.0011, -0.8849, -0.8788, -1.5333, -0.65, -0.5303, -1.4236, -2.0528, -0.7728, 3.0229, 2.4305, 1.3295, 1.3098, 1.3058, 1.2849, 1.2684, 1.2638, 1.2488, 1.2479, 1.2087, 1.2007, 1.1971, 1.1958, 1.1928, 1.1927, 1.1816, 1.1807, 1.1805, 1.1561, 1.1554, 1.153, 1.1507, 1.1459, 1.1416, 1.1375, 1.1319, 1.1309, 1.1309, 1.1178, 1.1148, 1.1117, 0.1644, 0.8311, 1.0458, 1.0881, -0.4549, 0.7651, 0.8388, 0.0111, 0.6624, 0.4893, 0.646, 0.8004, 0.7602, -1.7217, -0.9584, -0.7218, 0.1324, -1.3808, -0.4303, 0.124, -0.0192, -2.2391, 0.1382, -2.2253, -0.7176, 0.0585, -0.4653, -1.0016, 0.4271, -1.8654, 0.11, -2.0518, -0.6272, -0.331, 0.201, 1.3383, 1.318, 1.3144, 1.2937, 1.2774, 1.2724, 1.2574, 1.2561, 1.2174, 1.2089, 1.2059, 1.2038, 1.2018, 1.2, 1.1895, 1.1894, 1.1891, 1.1647, 1.1646, 1.1608, 1.1599, 1.1529, 1.1509, 1.1459, 1.1407, 1.1405, 1.1404, 1.1263, 1.1231, 1.1229, 1.1204, 0.8696, 1.0586, 1.0798, 1.1118, -0.8785, -0.5249, 0.1595, -0.5205, -0.0304, 0.4256, 0.2947, -2.2336, -0.4538, -0.6985, -0.249, 0.2475, 0.3376, 0.5048, -0.3326, -0.8529, 0.4617, 0.1236, 0.5916, -0.1445, 0.6504, -1.044, 0.0773, -0.3496, 0.5509, -1.4543, -1.1385, -0.196, 0.7111, -1.2607, 1.3386, 1.3184, 1.3149, 1.2936, 1.2771, 1.2721, 1.2577, 1.2551, 1.2175, 1.2092, 1.2055, 1.2034, 1.2018, 1.2004, 1.1908, 1.1893, 1.1886, 1.1654, 1.1641, 1.1614, 1.159, 1.1521, 1.1505, 1.1467, 1.1405, 1.1399, 1.1394, 1.1257, 1.1228, 1.1221, 1.1199, 1.1173, 1.1102, 0.134, 0.9632, 0.6922, 0.8134, 0.8939, 1.0201, -0.1566, -1.1207, -0.1921, -1.3479, -0.0783, -0.3098, -1.7202, -0.4807, -0.507, -1.0705, -2.2487, -0.8872, -0.4262, -2.1051, -2.0446, -0.4805, -0.1048, -1.1828, -2.2195, -0.8591, 0.2725, -0.2624, 0.0819, 0.6317, -1.0801, -1.1859, -0.866, -0.2215, 1.3387, 1.319, 1.3145, 1.2939, 1.277, 1.2723, 1.2575, 1.2566, 1.2177, 1.2095, 1.2053, 1.2037, 1.202, 1.2005, 1.1904, 1.1896, 1.189, 1.1649, 1.1638, 1.1614, 1.1602, 1.1527, 1.1509, 1.1463, 1.1409, 1.1408, 1.1405, 1.1262, 1.1229, 1.1227, 1.1121, 1.0938, 1.0995, 1.1054, -0.4746, -0.8238, 0.0933, -0.4264, -0.1545, 0.0342, 0.6969, 0.5985, -1.2364, 0.5563, -0.0157, -0.3359, 0.2036, -0.9587, -0.9934, 0.4035, -0.7128, -1.1164, -0.8138, -1.3303, -0.8623, -1.3535, -0.6719, -1.3551, -0.6446, 0.5857, -0.8618, -0.4197, 0.3254, -0.2218, 1.3382, 1.3181, 1.3151, 1.2935, 1.2779, 1.2721, 1.2578, 1.2559, 1.2184, 1.2089, 1.2061, 1.2034, 1.2016, 1.1999, 1.1902, 1.1897, 1.1891, 1.1646, 1.164, 1.1616, 1.161, 1.1522, 1.1502, 1.1462, 1.1406, 1.1399, 1.1398, 1.1265, 1.1228, 1.1224, 1.1203, 1.1201, 1.1122, 1.1173, 1.0359, 0.8761, 0.8341, 1.0752, 1.0984, -0.3324, 0.0691, 0.4279, -0.7244, 0.6663, 0.3035, 0.1198, -0.6054, 0.3951, 0.0477, 0.5561, -0.7171, 0.3833, 0.0397, -0.9585, -0.9486, 0.5272, -0.4901, 0.1417, -0.2183, -0.2989, 0.0637, 0.1588, -0.5454, -0.1511, 0.3491, 0.6796, 1.3379, 1.3173, 1.3145, 1.2934, 1.2771, 1.2718, 1.2573, 1.2548, 1.2171, 1.2084, 1.2049, 1.2034, 1.2022, 1.1999, 1.1897, 1.1895, 1.1889, 1.1647, 1.1635, 1.1607, 1.1598, 1.1516, 1.1495, 1.1461, 1.14, 1.1399, 1.1397, 1.1256, 1.1229, 1.122, 1.1197, 1.0228, 0.0688, 1.0706, 0.9796, -0.0283, 0.7904, 0.3024, 0.4572, 0.861, 0.4235, 0.7514, 0.9093, 0.179, -1.3267, -0.5572, -1.0212, -1.3902, -1.2034, -2.2422, -0.1899, -0.5194, -0.4518, 0.0458, -0.3129, -1.3717, 0.0826, -0.4267, -0.3201, -1.4575, 0.0844, 0.1033, 0.0087, -0.4979, -1.2329, -2.2325, 0.0484, -0.7291, 1.3385, 1.3183, 1.3138, 1.2935, 1.2764, 1.2718, 1.2573, 1.256, 1.2182, 1.2094, 1.2056, 1.2036, 1.2019, 1.2001, 1.1894, 1.1892, 1.1891, 1.1652, 1.1644, 1.1608, 1.1599, 1.152, 1.1505, 1.1468, 1.1431, 1.1402, 1.1401, 1.1254, 1.1231, 1.1224, 1.1178, 1.111, 0.8531, 0.3491, 0.5612, 0.6194, 0.8929, 0.5166, 1.1097, -1.1753, -0.8504, -0.1196, -0.2371, -0.6617, -0.5386, -1.4606, -0.5455, 0.2678, -2.195, -0.7131, -0.8824, 0.3256, -0.0197, -0.4387, -1.4829, -0.7227, 0.1995, -0.2126, 0.0601, -0.6405, -0.6987, -2.2484, -1.7836, -1.8577, 1.3385, 1.3188, 1.3139, 1.2939, 1.2765, 1.2735, 1.2573, 1.2557, 1.2174, 1.2088, 1.2066, 1.2041, 1.2023, 1.2001, 1.1905, 1.1897, 1.1889, 1.1658, 1.164, 1.1612, 1.1596, 1.1524, 1.1506, 1.1462, 1.1406, 1.1401, 1.1399, 1.1256, 1.1228, 1.1223, 1.1183, 1.1175, 1.12, 1.094, 1.109, 1.0985, 0.3916, -0.6288, -1.0608, 0.3106, -0.4867, 0.4485, 0.4338, -2.1041, -0.0694, -0.2192, -0.3723, -0.1975, -0.3122, -0.3954, -1.0892, -0.7246, -1.1893, -0.4573, -1.902, -1.4613, 0.5836, -0.3059, -2.2503, 0.3785, 0.5338, -1.1034, 0.1391, 0.3265, 0.0959, -0.3621, 1.3385, 1.3181, 1.3137, 1.2933, 1.2777, 1.2721, 1.2577, 1.2555, 1.2174, 1.2096, 1.2056, 1.2035, 1.2024, 1.2003, 1.1904, 1.1894, 1.1892, 1.1652, 1.1645, 1.1612, 1.1597, 1.1524, 1.15, 1.1462, 1.1412, 1.1404, 1.1399, 1.1264, 1.1237, 1.1228, 1.1182, 0.8784, 1.0595, 1.0832, 0.9742, 1.0772, 1.0963, -1.1844, -0.8865, -0.4613, 0.3601, -1.3048, -0.1675, 0.4453, -0.9697, 0.5077, 0.1909, -1.0385, 0.0015, 0.2146, -0.2878, -0.3513, -0.0702, 0.3503, -1.031, -2.2504, -1.1738, 0.0738, -2.2205, -0.4818, -2.1066, -0.0997, -0.425, -0.4116, 0.3142, -1.1035]}, \"token.table\": {\"Topic\": [1, 1, 1, 1, 1, 1, 1, 1, 2, 1, 1, 1, 1, 1, 1, 1, 1, 1, 1, 1, 1, 1, 1, 1, 1, 1, 1, 1, 1, 1, 1, 1, 8, 1, 1, 1, 1, 1, 1, 1, 1, 1, 1, 1, 1, 1, 1, 1, 2, 1, 1, 1, 1, 1, 1, 1, 1, 2, 1, 1, 1, 1, 1, 1, 2, 1, 1, 1, 1, 1, 5, 1, 1, 1, 1, 1, 2, 1, 1, 1, 1, 1, 1, 1, 6, 1, 1, 1, 2, 1, 1, 1, 1, 1, 1, 1, 1, 1, 1, 1, 1, 1, 1, 4, 1, 1, 1, 1, 1, 1, 1, 1, 1, 1, 1, 1, 1, 1, 1, 1, 1, 1, 1, 1, 1, 1, 1, 1, 1, 1, 1, 1, 1, 1, 1, 1, 4, 1, 1, 1, 1, 1, 1, 1, 1, 1, 1, 1, 1, 1, 1, 1, 1, 1, 1, 1, 1, 1, 1, 1, 1, 1, 1, 1, 1, 1, 1, 1, 1, 1, 1, 1, 1, 1, 1, 1, 1, 1, 1, 1, 2, 1, 1, 1, 1, 1, 2, 1, 1, 3, 1, 1, 1, 1, 1, 1, 1, 1, 1, 1, 1, 1, 1, 1, 1, 1, 1, 1, 1, 1, 1, 1, 1, 1, 1, 1, 1, 1, 1, 1, 1, 1, 1, 1, 1, 1, 1, 1, 1, 1, 1, 1, 1, 1, 1, 1, 1, 1, 1, 1, 1, 1, 1, 1, 1, 1, 1, 2, 1, 1, 1, 1, 3, 1, 1, 1, 1, 1, 2, 1, 1, 1, 1, 1, 1, 1, 1, 1, 1, 7, 1, 1, 1, 1, 1, 1, 1, 1, 1, 1, 4, 1, 1, 1, 1, 1, 1, 1, 2, 1, 1, 1, 1, 1, 1, 1, 1, 1, 1, 1, 1, 1, 1, 2, 1, 1, 1, 2, 1, 1, 1, 1, 1, 7, 1, 1, 1, 1, 8, 1, 1, 1, 1, 1, 1, 1, 1, 1, 1, 1, 1, 1, 1, 1, 1, 1, 5, 1, 1, 1, 1, 1, 1, 1, 1, 1, 1, 1, 1, 2, 1, 1, 1, 1, 1, 1, 1, 2, 1, 1, 1, 1, 1, 1, 1, 1, 11, 2, 3, 1, 1, 1, 1, 1, 1, 1, 1, 1, 1, 1, 1, 1, 1, 1, 1, 4, 1, 1, 1, 1, 1, 1, 1, 1, 1, 1, 1, 1, 1, 1, 1, 1, 1, 1, 1, 1, 1, 1, 1, 1, 1, 1, 1, 1, 1, 1, 1, 1, 1, 1, 1, 1, 1, 1, 1, 1, 2, 1, 1, 1, 1, 1, 1, 1, 1, 1, 1, 1, 1, 1, 1, 1, 1, 1, 2, 1, 1, 2, 1, 1, 1, 1, 1, 1, 1, 1, 1, 6, 1, 1, 1, 1, 1, 1, 1, 1, 2, 1, 1, 1, 1, 1, 1, 1, 1, 1, 1, 1, 1, 1, 1, 1, 1, 1, 1, 1, 1, 1, 1, 1, 1, 1, 1, 1, 1, 1, 1, 1, 1, 1, 1, 1, 1, 1, 1, 1, 1, 1, 1, 2, 1, 1, 1, 1, 1, 1, 2, 1, 1, 1, 2, 1, 1, 1, 1, 1, 1, 1, 1, 1, 1, 1, 1, 1, 1, 1, 1, 1, 1, 1, 1, 1, 1, 1, 1, 1, 1, 1, 1, 1, 1, 2, 1, 1, 1, 1, 1, 1, 1, 1, 1, 1, 1, 1, 1, 1, 1, 1, 1, 1, 1, 1, 1, 1, 1, 1, 1, 3, 1, 1, 1, 1, 8, 1, 1, 1, 1, 1, 1, 1, 2, 1, 1, 1, 1, 1, 1, 1, 1, 1, 1, 1, 1, 1, 1, 1, 1, 2, 1, 1, 1, 1, 1, 1, 1, 2, 1, 1, 1, 1, 1, 1, 1, 1, 1, 1, 1], \"Freq\": [0.9809005920948868, 0.8039977604348305, 0.9116432247486735, 0.8904992699169378, 0.4719237734113792, 0.8197209721108972, 0.9844011278559077, 0.40282972866878014, 0.40282972866878014, 0.9756733519291405, 0.7191008280610834, 0.950997336597243, 0.8498675164131966, 0.8606573507271966, 0.85921947330335, 0.7876445395241123, 0.7595632981635363, 0.9680369492322816, 0.5183400831159897, 0.6268112195402845, 0.9523453242192503, 0.5254542775017076, 0.8796723402230215, 0.9667200938050512, 0.9076058412128722, 0.7666800116191953, 0.9039429435895558, 0.781389481783677, 0.5401978455417114, 0.7613754036138405, 0.565672637948036, 0.7778287946351494, 0.1555657589270299, 0.9186502716789317, 0.9579634016962933, 0.9319945171626246, 0.9776422013859073, 0.8509312061935154, 0.8273337862043426, 0.5150320058949093, 0.8745748149332839, 0.5961624394756896, 0.8794866584443216, 0.8671580343014785, 0.6826724651980863, 0.9108504516044599, 0.9790490511957889, 0.9901159745644466, 0.9723208341784626, 0.993623540520625, 0.9514448310659084, 0.5415956200245131, 0.921948173436111, 0.9204860858032405, 0.6697483977155023, 0.8887554116996641, 0.7783738229317652, 0.12972897048862753, 0.6832226612700906, 0.5688662222633313, 0.9906590828228318, 0.9272874505529926, 0.5683818310770076, 0.6972639070599597, 0.17431597676498992, 0.979707105988501, 0.5840062999996629, 0.8470594432296469, 0.8710823895848161, 0.49888347866625116, 0.49888347866625116, 0.8135267124078083, 0.9434058727302913, 0.7525966378898434, 0.5781444356373764, 0.8799987741367299, 0.9072261838227125, 0.9147200051639086, 0.5151885012227065, 0.5772587877854176, 0.7479261137522911, 0.8694571570982306, 0.9739775995451297, 0.8614521876259654, 0.8434332775963841, 0.9931175960470029, 0.9135577959012133, 0.5350754590701147, 0.9060770841311435, 0.819122919431618, 0.9378793008273205, 0.7333285187211397, 0.6343619874598112, 0.6939002031045507, 0.6907080183588231, 0.8700606192020716, 0.7050864809048738, 0.8820226029431987, 0.9208844504110867, 0.683692673855354, 0.8547271741697592, 0.9506872056052185, 0.9014324191911736, 0.06934095532239797, 0.8234639536779399, 0.8942170344414262, 0.8902873070206291, 0.8039043607556629, 0.6343334940219005, 0.7378145186358243, 0.87167343746666, 0.8065796995244713, 0.7090858503357278, 0.5921203253646051, 0.9334663727868907, 0.8916084399378775, 0.7405304631497924, 0.95347559257178, 0.5180147825518421, 0.8877459997133945, 0.8673283561176875, 0.925478197233487, 0.8801177401893125, 0.6971507239201118, 0.7426219470423729, 0.986510872569516, 0.8716792789780305, 0.8031950261757312, 0.9143058886844737, 0.7627732325237877, 0.7897389554681793, 0.8616735391671534, 0.8638539737751474, 0.5315868952865932, 0.7182181318434391, 0.31849918323952736, 0.6369983664790547, 0.9259729822214336, 0.5836381362655605, 0.9548359240405304, 0.9380384177818684, 0.6942688009545802, 0.8336110688338301, 0.8907281898339139, 0.7593102254091991, 0.8799866011230162, 0.5543172146741611, 0.8005120196185992, 0.6920553943106517, 0.916275785425728, 0.8931879054296837, 0.9114910840547005, 0.8569801347803022, 0.7134623493419927, 0.9530068284140284, 0.9647039629033828, 0.9667069804286985, 0.8200509036525414, 0.9591558200068367, 0.9723587525906426, 0.7284803058723326, 0.5362532338464693, 0.9938720279781587, 0.8202858831533323, 0.820177448753176, 0.9720586137237692, 0.8584624976216804, 0.6276666081079053, 0.8889918961490177, 0.9463302342032803, 0.9941838891230845, 0.9699229957196589, 0.47478711231311554, 0.7832163764058642, 0.8843416290273527, 0.6529829643643948, 0.7635404121357846, 0.547662484129862, 0.9393073153142738, 0.8728978443022146, 0.9063044820410462, 0.7977112998478323, 0.9031801543330418, 0.9209740228656584, 0.9579464077213269, 0.6476134168004333, 0.32380670840021664, 0.9518739936708582, 0.78954916427044, 0.157909832854088, 0.977978578031067, 0.667003891275241, 0.6599234423237849, 0.9321483594382073, 0.7340978756483454, 0.7358007658266351, 0.8997654995219144, 0.8372938928898218, 0.9841269577901405, 0.9794762042951713, 0.577770686631653, 0.8777269524947652, 0.8264054514661233, 0.6299082410661271, 0.9324170333693412, 0.973499586161923, 0.9555474434960447, 0.9099790841764708, 0.9575309591543175, 0.6158645865875054, 0.9623301207489404, 0.6405638033753285, 0.7787381494382047, 0.9202882594025527, 0.9548256609046535, 0.9030854199888112, 0.9763812818273488, 0.5303418505948435, 0.8256006621264548, 0.41707887946999395, 0.8414094650789696, 0.9710727956299507, 0.960010827439515, 0.6136290822968834, 0.6980181007414543, 0.9856274383020401, 0.6716086770440975, 0.8800322578234744, 0.9526046257478828, 0.911528269988222, 0.9375020187051505, 0.9141212342663892, 0.8054667684076674, 0.9857125674041108, 0.7993279513964998, 0.8812475058220568, 0.515596861649595, 0.8396082612648061, 0.8006256726469435, 0.4839506782145048, 0.9415159632938287, 0.9547506602194491, 0.5782296851333201, 0.8493476914246004, 0.8076231561176397, 0.9655687282258095, 0.9472792872717686, 0.978775382859104, 0.772118875050579, 0.8741209145320628, 0.7474474266090771, 0.7422107323282664, 0.5198261406224766, 0.8999558190959326, 0.8357928635854476, 0.9973937328677046, 0.9538331772931754, 0.09511190256152546, 0.8560071230537292, 0.9454140392014838, 0.9723529550680077, 0.8238483877877385, 0.8216657347896071, 0.9802413303772108, 0.9867873484817521, 0.995166717849834, 0.9606502600585819, 0.897454150408286, 0.5896270761625569, 0.29481353808127847, 0.907762965103879, 0.8404494262283029, 0.8986998108421038, 0.9322275001274722, 0.7582414327214555, 0.8581232369101224, 0.8746949385511953, 0.97246588395235, 0.7758276206893205, 0.6652131678153623, 0.33260658390768116, 0.9490461431664676, 0.8376101745769786, 0.7706096428868668, 0.9724626731585279, 0.7242757340722856, 0.9233266648362949, 0.5912098190407985, 0.29560490952039925, 0.9975909134693084, 0.9025703870913838, 0.9286240891067815, 0.950642274088896, 0.9502764116642964, 0.743360295945003, 0.5233418281859331, 0.794098101335646, 0.9319184214909059, 0.795800513606918, 0.6240564818987743, 0.9130858017084207, 0.9842970830640685, 0.7292525245747786, 0.9072559248495682, 0.8541520346768874, 0.8590623528251091, 0.8707129896494817, 0.10883912370618522, 0.9367762920194465, 0.48542920043225324, 0.5033087144963778, 0.7263058446124177, 0.5896444174466896, 0.2948222087233448, 0.8075073897291608, 0.6418609146356336, 0.9485840337004489, 0.7069699413892396, 0.3534849706946198, 0.9619779828500608, 0.8979944037303338, 0.7023026539606089, 0.8786105932853243, 0.8798085431901101, 0.9756309549578214, 0.959821574533976, 0.7136999528449405, 0.8900328745197409, 0.9160337657912248, 0.8491385147376078, 0.9428270817430114, 0.8824607137830428, 0.9182040634457722, 0.7795577417101471, 0.7232515654247513, 0.5672478267306245, 0.4712638349441277, 0.5013313994739106, 0.5703414296973396, 0.8935017296154343, 0.9724236259047156, 0.9882062166837209, 0.9190088936462204, 0.9692042028742, 0.9090113542492604, 0.9602802511091677, 0.9412952686280395, 0.9815968896225966, 0.5031153817371777, 0.5031153817371777, 0.9308260528796843, 0.9683565262037015, 0.7328111510865517, 0.8912872690503442, 0.9080782717870811, 0.8627587320766242, 0.6295922278215809, 0.31479611391079043, 0.792122182465587, 0.8585213054798444, 0.7826560505545611, 0.8917566347526865, 0.6655364256292723, 0.9437953631023192, 0.7732461920771736, 0.6128153325705473, 0.30640766628527366, 0.35292417484282884, 0.35292417484282884, 0.9302720584302879, 0.9155665371535611, 0.6666185379095734, 0.9102683432137308, 0.9214742881344723, 0.8716493033933658, 0.9904621432407889, 0.6969636574969789, 0.9227080867508991, 0.9608901817982721, 0.9275516248616507, 0.9651907141571965, 0.9759643566477468, 0.4714486046363607, 0.930781203179317, 0.27968095914868324, 0.5593619182973665, 0.5679570552057144, 0.9677455089117685, 0.6289665571031569, 0.8770237642435369, 0.9109083049875742, 0.8905035234692654, 0.9556500025693021, 0.8320576394273043, 0.9137901009256318, 0.6402304364716218, 0.8727010941589158, 0.8770687675761886, 0.6791977985031202, 0.7346121596376864, 0.9631663978796172, 0.926045522740077, 0.8568412836751726, 0.9323689827138046, 0.9884477461000377, 0.9779128072597013, 0.8197919276006712, 0.6169302307991053, 0.9542581717380652, 0.6855333867644402, 0.9067437617751029, 0.8302966597944808, 0.8670232762156508, 0.7589535096398886, 0.911789291059967, 0.8106916089405264, 0.9844017267897986, 0.6032383821532098, 0.7179309297015163, 0.5162223385153426, 0.9549151534130532, 0.8111183911980222, 0.8998689623222275, 0.9800362379736859, 0.8699162479451168, 0.9659687093973744, 0.9809889757884224, 0.6691179695661752, 0.8211721318948468, 0.5924750556665284, 0.8855670076027076, 0.9839857265179291, 0.8852307729781229, 0.9158688352541333, 0.7121886955020302, 0.9852355808229135, 0.8423663220454695, 0.9030291734282749, 0.8183780084379741, 0.9875379408914082, 0.7409941173204072, 0.6746439878218359, 0.9245176031213316, 0.7094907505785661, 0.23649691685952207, 0.6308813952434038, 0.9361879201445898, 0.07201445539573768, 0.9404035268221975, 0.7266344120938716, 0.9137725150602276, 0.881808430867239, 0.6967214070677231, 0.7115628833599652, 0.9556618785943378, 0.9346752043431348, 0.94545066882888, 0.45371269118451185, 0.9646253311231368, 0.9644366948776951, 0.7420733270888692, 0.9828200444348523, 0.943222027319326, 0.976779884267952, 0.8875994591862044, 0.6339391300972012, 0.3169695650486006, 0.9882132913969203, 0.9509329622117791, 0.8839694242726507, 0.5865718195803635, 0.6937162966086692, 0.5503814406955373, 0.895634804997432, 0.7917241303069648, 0.8981287037729877, 0.9325737482789516, 0.990446117023279, 0.9405749385025448, 0.5967401586339536, 0.861971541456676, 0.788958069303961, 0.7793098063711542, 0.9536075058950191, 0.5343476748894832, 0.9400302150104594, 0.8758016433133156, 0.9292468401375633, 0.8817872748084284, 0.9545215637168266, 0.913130629687395, 0.9424281501508207, 0.9334739220477805, 0.9659013285195176, 0.9058533601936749, 0.952601718593166, 0.9221252943422253, 0.8839365254176669, 0.9733763457249583, 0.9224706695594143, 0.8314437514098012, 0.5575102610660083, 0.8796836879753348, 0.9741094316473983, 0.9655524000274343, 0.9756877602437359, 0.5960004341871284, 0.6711108702777439, 0.9499434268272741, 0.906304051874465, 0.9173894414657525, 0.8013898103177891, 0.9532359572915741, 0.9141545236421552, 0.8252647272031078, 0.9417207240459805, 0.9044680748426184, 0.9915764924453551, 0.8371754822510009, 0.17645964070876605, 0.7940683831894473, 0.9323859473544198, 0.9914215956857947, 0.881640251272756, 0.9993893304877731, 0.936448349177944, 0.7837681461837744, 0.6847911257276805, 0.9350432684539532, 0.9113542174814399, 0.5321169760504639, 0.8743036494149479, 0.8665027024529771, 0.4964913295814771, 0.9172948639486249, 0.9053178477733114, 0.7607221173266252, 0.8429313334331692, 0.9827119725672594, 0.8145111761483176, 0.8687906737963859, 0.5586142114420583, 0.6047096563922665, 0.5228845447717726, 0.9157539160066495, 0.9419912905812166, 0.9221833623693872, 0.8691734844210935, 0.5181783933346157, 0.9928817992210554, 0.9519982196501088, 0.8682213466577281, 0.8178374902893127, 0.8762528457346219, 0.9266072681061033, 0.8640440233406053, 0.7259467401402809, 0.9453881803623684, 0.5064532062559903, 0.9667239166518519, 0.9638818083142959, 0.8921899626582181, 0.9390943960065332, 0.9982091996304652, 0.9767427271768312, 0.9772171032668986, 0.5796925556269428, 0.9747672191252099, 0.9766656734328333, 0.7838153010173761, 0.6862224942540192, 0.9662687115814821, 0.9537021472253938, 0.8899000525247384, 0.723403846410866, 0.9134471932021423, 0.6974998582105634, 0.3487499291052817, 0.981810561811371, 0.5099280398609873, 0.836191867210514, 0.667863331236767, 0.3339316656183835, 0.6400490889991144, 0.5581998217107466, 0.8534484255717267, 0.8251878383987631, 0.9714054289978472, 0.9385249304790063, 0.7516792512096916, 0.15033585024193832, 0.5588481468910343, 0.7846305071504165, 0.9317873700063473, 0.8846356086735341, 0.8509228629533514, 0.674287646149764, 0.9410689242321514, 0.8790508070375276, 0.8035389485050517, 0.8763948244210977, 0.8500087899524138, 0.953674656055228, 0.9723494869651435, 0.9104708649138651, 0.9678315705509986, 0.7435091022528216, 0.14870182045056432, 0.8685314819324874, 0.543858592823823, 0.9311780113852638, 0.8688511302340872, 0.943498709690571, 0.7759751793935796, 0.8568131662840429, 0.14280219438067382, 0.9800573825028216, 0.8504534416036759, 0.953150022532891, 0.8995271805288937, 0.9049033964204419, 0.9621869436846266, 0.877398837597735, 0.961713325200302, 0.9825997629371059, 0.7718859595800509, 0.7308504211142733], \"Term\": [\"absolutely\", \"addition\", \"addressed\", \"admit\", \"adult\", \"advance\", \"aerospace\", \"afraid\", \"afraid\", \"agency\", \"agents\", \"ago\", \"air\", \"alan\", \"allow\", \"allows\", \"alt\", \"amendment\", \"americans\", \"amino\", \"analysis\", \"anger\", \"answer\", \"antenna\", \"antibiotics\", \"apollo\", \"appeared\", \"appears\", \"applies\", \"appreciate\", \"approximately\", \"april\", \"april\", \"aren\", \"arms\", \"article\", \"asked\", \"assault\", \"assume\", \"assumed\", \"atlantic\", \"atlas\", \"atmospheric\", \"attempt\", \"attitude\", \"authors\", \"availability\", \"bad\", \"banks\", \"batf\", \"believe\", \"believed\", \"better\", \"big\", \"bigger\", \"bit\", \"blood\", \"blood\", \"bob\", \"bodies\", \"body\", \"bomb\", \"bought\", \"brain\", \"brain\", \"branch\", \"briefing\", \"britain\", \"btw\", \"bullets\", \"bullets\", \"burned\", \"bus\", \"business\", \"busy\", \"buy\", \"cadre\", \"called\", \"camera\", \"campaign\", \"candida\", \"carry\", \"case\", \"cases\", \"centaur\", \"certainly\", \"characteristics\", \"charter\", \"chastity\", \"cheaper\", \"check\", \"chest\", \"choice\", \"choose\", \"chronic\", \"claim\", \"clearly\", \"close\", \"cold\", \"color\", \"colorado\", \"columbia\", \"com\", \"com\", \"command\", \"communication\", \"community\", \"concealed\", \"concepts\", \"concerning\", \"condition\", \"conditions\", \"conduct\", \"configuration\", \"confirm\", \"confused\", \"connection\", \"constitution\", \"consume\", \"contest\", \"contributions\", \"control\", \"controlled\", \"cop\", \"cops\", \"correction\", \"counter\", \"countries\", \"course\", \"court\", \"creating\", \"criminals\", \"cut\", \"cutting\", \"daughter\", \"dave\", \"dave\", \"day\", \"deadly\", \"deal\", \"dec\", \"decades\", \"december\", \"defense\", \"degrees\", \"deleted\", \"deny\", \"dept\", \"deputy\", \"describes\", \"describing\", \"description\", \"development\", \"diagnose\", \"diagnosed\", \"did\", \"didn\", \"die\", \"died\", \"difference\", \"directly\", \"discuss\", \"disease\", \"display\", \"division\", \"doctor\", \"document\", \"documented\", \"documents\", \"does\", \"doesn\", \"don\", \"dose\", \"doug\", \"drew\", \"drink\", \"drivers\", \"drop\", \"drug\", \"drugs\", \"dsl\", \"dyer\", \"earlier\", \"earth\", \"eat\", \"edu\", \"edu\", \"edward\", \"effective\", \"effective\", \"effects\", \"effort\", \"electric\", \"electronic\", \"element\", \"emergency\", \"encouraged\", \"engaged\", \"enjoy\", \"entry\", \"equal\", \"especially\", \"essential\", \"estimates\", \"evaluation\", \"evening\", \"exact\", \"exactly\", \"example\", \"excerpts\", \"exercise\", \"exist\", \"expand\", \"expect\", \"expected\", \"expert\", \"explain\", \"explosion\", \"extensive\", \"extremely\", \"eye\", \"face\", \"fact\", \"famous\", \"fancy\", \"far\", \"fast\", \"fat\", \"fbi\", \"federal\", \"feds\", \"fever\", \"findings\", \"finger\", \"firearm\", \"firearms\", \"fits\", \"flame\", \"flavor\", \"flights\", \"following\", \"food\", \"forget\", \"funding\", \"galileo\", \"gang\", \"gas\", \"geb\", \"gee\", \"general\", \"generation\", \"global\", \"glutamate\", \"god\", \"goes\", \"going\", \"good\", \"gordon\", \"gordon\", \"got\", \"government\", \"governments\", \"grant\", \"group\", \"guess\", \"gun\", \"guns\", \"guy\", \"handheld\", \"handheld\", \"happen\", \"haven\", \"having\", \"hci\", \"headache\", \"health\", \"hear\", \"heard\", \"heat\", \"hello\", \"hello\", \"help\", \"histories\", \"hit\", \"hold\", \"homicide\", \"hunting\", \"hurt\", \"hurt\", \"idea\", \"ideas\", \"immediately\", \"important\", \"impossible\", \"infections\", \"inflammatory\", \"inflatable\", \"information\", \"initial\", \"injuries\", \"inside\", \"instead\", \"instrument\", \"intellect\", \"interplanetary\", \"introduction\", \"isn\", \"isn\", \"issue\", \"issued\", \"item\", \"jim\", \"jmd\", \"jmd\", \"job\", \"jobs\", \"joke\", \"jpl\", \"jpl\", \"just\", \"justified\", \"justify\", \"kind\", \"knife\", \"know\", \"known\", \"lab\", \"langley\", \"largest\", \"late\", \"launch\", \"launched\", \"law\", \"layer\", \"lead\", \"leap\", \"lethal\", \"letters\", \"liberties\", \"licenses\", \"life\", \"like\", \"limitations\", \"listen\", \"little\", \"lives\", \"longer\", \"lunar\", \"lyme\", \"lyme\", \"major\", \"make\", \"march\", \"mass\", \"mean\", \"means\", \"meant\", \"meant\", \"media\", \"members\", \"membership\", \"memory\", \"mercury\", \"merely\", \"metal\", \"methodology\", \"methodology\", \"migraine\", \"migraine\", \"militia\", \"mining\", \"minority\", \"missed\", \"missions\", \"mode\", \"money\", \"mother\", \"msg\", \"nasa\", \"navigation\", \"need\", \"needed\", \"nerve\", \"net\", \"netcom\", \"netcom\", \"networks\", \"new\", \"newspapers\", \"newton\", \"nose\", \"obvious\", \"october\", \"office\", \"officer\", \"older\", \"operated\", \"option\", \"options\", \"oral\", \"orbit\", \"orbiter\", \"order\", \"oriented\", \"original\", \"outside\", \"pad\", \"page\", \"pain\", \"panel\", \"paranoid\", \"pat\", \"path\", \"patient\", \"patients\", \"peace\", \"people\", \"percentage\", \"perform\", \"performed\", \"performing\", \"permission\", \"person\", \"peter\", \"photography\", \"pictures\", \"pitt\", \"plane\", \"planet\", \"planets\", \"plastic\", \"point\", \"police\", \"policy\", \"positions\", \"possible\", \"possibly\", \"posters\", \"posting\", \"power\", \"practicing\", \"presence\", \"president\", \"pressure\", \"pressure\", \"primarily\", \"probably\", \"probably\", \"problem\", \"procedures\", \"process\", \"production\", \"programs\", \"promote\", \"proper\", \"proposed\", \"propulsion\", \"proton\", \"provide\", \"public\", \"pure\", \"purely\", \"question\", \"quite\", \"race\", \"rare\", \"rare\", \"real\", \"really\", \"reason\", \"recommend\", \"redesign\", \"reduced\", \"regarding\", \"regulation\", \"related\", \"released\", \"relief\", \"remember\", \"remind\", \"reno\", \"replies\", \"request\", \"research\", \"restrictions\", \"rich\", \"ridiculous\", \"rifle\", \"rifles\", \"right\", \"rock\", \"role\", \"safety\", \"said\", \"sales\", \"satellite\", \"say\", \"says\", \"science\", \"scientific\", \"sdio\", \"sec\", \"second\", \"section\", \"self\", \"sent\", \"separate\", \"shafer\", \"shall\", \"shameful\", \"short\", \"shows\", \"shuttle\", \"signal\", \"simple\", \"sitting\", \"skepticism\", \"solar\", \"somebody\", \"soon\", \"soon\", \"sounds\", \"source\", \"sources\", \"space\", \"spacecraft\", \"spot\", \"ssf\", \"standards\", \"state\", \"statements\", \"states\", \"station\", \"stay\", \"story\", \"stove\", \"strongly\", \"sts\", \"subject\", \"substance\", \"substantial\", \"suffer\", \"suitable\", \"summer\", \"sun\", \"sunday\", \"support\", \"supposed\", \"supreme\", \"sure\", \"surprise\", \"surrender\", \"syndrome\", \"taking\", \"tanks\", \"taste\", \"technological\", \"tell\", \"tells\", \"test\", \"thanks\", \"theory\", \"things\", \"think\", \"thinking\", \"thought\", \"thousands\", \"time\", \"times\", \"tissue\", \"titan\", \"tool\", \"training\", \"transfer\", \"transmitted\", \"transport\", \"treating\", \"treating\", \"true\", \"tube\", \"ufl\", \"universe\", \"universe\", \"update\", \"uranus\", \"urban\", \"usage\", \"use\", \"used\", \"usually\", \"usually\", \"video\", \"violent\", \"visible\", \"waco\", \"waiting\", \"walls\", \"want\", \"warrant\", \"washington\", \"wasn\", \"watched\", \"water\", \"way\", \"weapon\", \"weapons\", \"weight\", \"weight\", \"went\", \"western\", \"white\", \"wife\", \"wild\", \"window\", \"won\", \"won\", \"wonder\", \"wondering\", \"work\", \"works\", \"world\", \"writing\", \"written\", \"year\", \"years\", \"yeast\", \"yesterday\"]}, \"R\": 30, \"lambda.step\": 0.01, \"plot.opts\": {\"xlab\": \"PC1\", \"ylab\": \"PC2\"}, \"topic.order\": [5, 18, 6, 17, 8, 19, 15, 11, 3, 7, 4, 9, 16, 1, 14, 13, 12, 2, 10, 20]};\n",
              "\n",
              "function LDAvis_load_lib(url, callback){\n",
              "  var s = document.createElement('script');\n",
              "  s.src = url;\n",
              "  s.async = true;\n",
              "  s.onreadystatechange = s.onload = callback;\n",
              "  s.onerror = function(){console.warn(\"failed to load library \" + url);};\n",
              "  document.getElementsByTagName(\"head\")[0].appendChild(s);\n",
              "}\n",
              "\n",
              "if(typeof(LDAvis) !== \"undefined\"){\n",
              "   // already loaded: just create the visualization\n",
              "   !function(LDAvis){\n",
              "       new LDAvis(\"#\" + \"ldavis_el1290298259403041123018211\", ldavis_el1290298259403041123018211_data);\n",
              "   }(LDAvis);\n",
              "}else if(typeof define === \"function\" && define.amd){\n",
              "   // require.js is available: use it to load d3/LDAvis\n",
              "   require.config({paths: {d3: \"https://d3js.org/d3.v5\"}});\n",
              "   require([\"d3\"], function(d3){\n",
              "      window.d3 = d3;\n",
              "      LDAvis_load_lib(\"https://cdn.jsdelivr.net/gh/bmabey/pyLDAvis@3.4.0/pyLDAvis/js/ldavis.v3.0.0.js\", function(){\n",
              "        new LDAvis(\"#\" + \"ldavis_el1290298259403041123018211\", ldavis_el1290298259403041123018211_data);\n",
              "      });\n",
              "    });\n",
              "}else{\n",
              "    // require.js not available: dynamically load d3 & LDAvis\n",
              "    LDAvis_load_lib(\"https://d3js.org/d3.v5.js\", function(){\n",
              "         LDAvis_load_lib(\"https://cdn.jsdelivr.net/gh/bmabey/pyLDAvis@3.4.0/pyLDAvis/js/ldavis.v3.0.0.js\", function(){\n",
              "                 new LDAvis(\"#\" + \"ldavis_el1290298259403041123018211\", ldavis_el1290298259403041123018211_data);\n",
              "            })\n",
              "         });\n",
              "}\n",
              "</script>"
            ],
            "text/plain": [
              "PreparedData(topic_coordinates=              x         y  topics  cluster       Freq\n",
              "topic                                                \n",
              "4      0.041553  0.066478       1        1  82.634568\n",
              "17    -0.244588  0.006691       2        1   2.668893\n",
              "5      0.012644 -0.015353       3        1   0.895551\n",
              "16     0.019290 -0.017483       4        1   0.879577\n",
              "7      0.016105 -0.012166       5        1   0.853275\n",
              "18     0.014569 -0.010273       6        1   0.843102\n",
              "14     0.013715 -0.007284       7        1   0.834690\n",
              "10     0.014000 -0.007665       8        1   0.833276\n",
              "2      0.011207 -0.001621       9        1   0.812430\n",
              "6      0.011409 -0.001497      10        1   0.809485\n",
              "3      0.011006 -0.002901      11        1   0.806301\n",
              "8      0.009740 -0.001153      12        1   0.800547\n",
              "15     0.008680  0.000522      13        1   0.791038\n",
              "0      0.008639  0.000534      14        1   0.791038\n",
              "13     0.008679  0.000501      15        1   0.791038\n",
              "12     0.008677  0.000497      16        1   0.791038\n",
              "11     0.008658  0.000580      17        1   0.791038\n",
              "1      0.008675  0.000553      18        1   0.791038\n",
              "9      0.008683  0.000518      19        1   0.791038\n",
              "19     0.008660  0.000525      20        1   0.791038, topic_info=            Term       Freq      Total Category  logprob  loglift\n",
              "720          edu  21.000000  21.000000  Default  30.0000  30.0000\n",
              "412          com  14.000000  14.000000  Default  29.0000  29.0000\n",
              "2172        soon  11.000000  11.000000  Default  28.0000  28.0000\n",
              "994       gordon  10.000000  10.000000  Default  27.0000  27.0000\n",
              "2298   surrender  10.000000  10.000000  Default  26.0000  26.0000\n",
              "...          ...        ...        ...      ...      ...      ...\n",
              "457   conditions   0.026629   3.719409  Topic20  -7.8558  -0.0997\n",
              "832         face   0.026628   5.148945  Topic20  -7.8558  -0.4250\n",
              "1175     instead   0.026626   5.079767  Topic20  -7.8559  -0.4116\n",
              "289       burned   0.026625   2.458432  Topic20  -7.8559   0.3142\n",
              "851          far   0.026623  10.145821  Topic20  -7.8560  -1.1035\n",
              "\n",
              "[1280 rows x 6 columns], token_table=      Topic      Freq        Term\n",
              "term                             \n",
              "4         1  0.980901  absolutely\n",
              "29        1  0.803998    addition\n",
              "32        1  0.911643   addressed\n",
              "36        1  0.890499       admit\n",
              "37        1  0.471924       adult\n",
              "...     ...       ...         ...\n",
              "2577      1  0.877399     written\n",
              "2581      1  0.961713        year\n",
              "2582      1  0.982600       years\n",
              "2583      1  0.771886       yeast\n",
              "2585      1  0.730850   yesterday\n",
              "\n",
              "[627 rows x 3 columns], R=30, lambda_step=0.01, plot_opts={'xlab': 'PC1', 'ylab': 'PC2'}, topic_order=[5, 18, 6, 17, 8, 19, 15, 11, 3, 7, 4, 9, 16, 1, 14, 13, 12, 2, 10, 20])"
            ]
          },
          "execution_count": 71,
          "metadata": {},
          "output_type": "execute_result"
        }
      ],
      "source": [
        "# Visualizing the models with pyLDAvis, using the tf-idf vectors\n",
        "pyLDAvis.lda_model.prepare(lda_tfidf, dtm_tfidf, tfidf_vectorizer)"
      ]
    },
    {
      "cell_type": "code",
      "execution_count": null,
      "id": "fb9246fe",
      "metadata": {
        "id": "fb9246fe"
      },
      "outputs": [],
      "source": []
    }
  ],
  "metadata": {
    "kernelspec": {
      "display_name": "Python 3 (ipykernel)",
      "language": "python",
      "name": "python3"
    },
    "language_info": {
      "codemirror_mode": {
        "name": "ipython",
        "version": 3
      },
      "file_extension": ".py",
      "mimetype": "text/x-python",
      "name": "python",
      "nbconvert_exporter": "python",
      "pygments_lexer": "ipython3",
      "version": "3.11.4"
    },
    "colab": {
      "provenance": []
    }
  },
  "nbformat": 4,
  "nbformat_minor": 5
}